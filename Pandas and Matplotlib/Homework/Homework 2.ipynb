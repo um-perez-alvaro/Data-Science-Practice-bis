{
 "cells": [
  {
   "cell_type": "code",
   "execution_count": null,
   "metadata": {},
   "outputs": [],
   "source": [
    "# import libraries\n",
    "import pandas as pd\n",
    "import matplotlib.pyplot as plt"
   ]
  },
  {
   "cell_type": "markdown",
   "metadata": {},
   "source": [
    "# Homework 2: Analyzing US baby name trends"
   ]
  },
  {
   "cell_type": "markdown",
   "metadata": {},
   "source": [
    "The SSA has made available data on the frequency of baby names from 1880 through 2018 (at the time of this writing).\n",
    "The raw data can be obtained from [the SSA webpage](https://www.ssa.gov/oact/babynames/limits.html) (there is one file per year)."
   ]
  },
  {
   "cell_type": "markdown",
   "metadata": {},
   "source": [
    "**Part 0:** Download the [National Data](https://www.ssa.gov/oact/babynames/names.zip) file *names.zip* and unzip it."
   ]
  },
  {
   "cell_type": "markdown",
   "metadata": {},
   "source": [
    "**Part 1** Assemble all of the data into a single DataFrame and add a *year* field. \n",
    "You can do this using [pandas.concat](https://pandas.pydata.org/pandas-docs/stable/reference/api/pandas.concat.html)"
   ]
  },
  {
   "cell_type": "code",
   "execution_count": null,
   "metadata": {},
   "outputs": [],
   "source": [
    "years = list(range(1880,2019))"
   ]
  },
  {
   "cell_type": "code",
   "execution_count": null,
   "metadata": {},
   "outputs": [],
   "source": [
    "df_list = []\n",
    "for year in years:\n",
    "    # load the dataset into a dataframe\n",
    "    df = pd.read_csv('names\\yob'+str(year)+'.txt',header=None,names=['name','sex','births'])\n",
    "    # add year column\n",
    "    df['year'] = year\n",
    "    # put dataframe in df_list\n",
    "    df_list.append(df)\n",
    "names = pd.concat(df_list)\n",
    "names.head()"
   ]
  },
  {
   "cell_type": "markdown",
   "metadata": {},
   "source": [
    "**Part 2:** Plot the total births by sex and year"
   ]
  },
  {
   "cell_type": "code",
   "execution_count": null,
   "metadata": {},
   "outputs": [],
   "source": [
    "# use a pivot table\n",
    "names.pivot_table('births', columns='sex',index='year',aggfunc='sum').plot(figsize=(12,5))"
   ]
  },
  {
   "cell_type": "markdown",
   "metadata": {},
   "source": [
    "**Part 3:** Plot the number of babies given a particular name (your own, or another name) by year."
   ]
  },
  {
   "cell_type": "code",
   "execution_count": null,
   "metadata": {},
   "outputs": [],
   "source": [
    "my_name = 'Javier'\n",
    "names[(names.name==my_name)&(names.sex=='M')].set_index('year').births.plot(figsize=(12,5))"
   ]
  },
  {
   "cell_type": "markdown",
   "metadata": {},
   "source": [
    "**Part 4:** Insert a column 'prop' with the relative frequency of each name in each of the years."
   ]
  },
  {
   "cell_type": "code",
   "execution_count": null,
   "metadata": {},
   "outputs": [],
   "source": [
    "def get_prop(group):\n",
    "    # create proportion column\n",
    "    group['prop'] = group.births/group.births.sum()\n",
    "    return group\n",
    "\n",
    "names = names.groupby(['year','sex']).apply(get_prop)\n",
    "names.head()"
   ]
  },
  {
   "cell_type": "markdown",
   "metadata": {},
   "source": [
    "**Part 5**: Create a DataFrame 'top1000_names' that contains the top 1000 names for each sex/year combination.\n",
    "You will use this top 1000 dataset in the following investigations into the data."
   ]
  },
  {
   "cell_type": "markdown",
   "metadata": {},
   "source": [
    "**Part 6**: Plot the number of Johns, Harrys, Marys, and Marilyns by year."
   ]
  },
  {
   "cell_type": "markdown",
   "metadata": {},
   "source": [
    "Looking at your plots, you might conclude that these names have grown out of favor with the American population. \n",
    "But the story is more complicated than that, as you will explore in the next part."
   ]
  },
  {
   "cell_type": "markdown",
   "metadata": {},
   "source": [
    "## Measuring the increase in naming diversity"
   ]
  },
  {
   "cell_type": "markdown",
   "metadata": {},
   "source": [
    "One explanation for the decrease in plots is that fewer parents are choosing common names for their children.\n",
    "One measure of naming diversity is the proportion of births represented by the top 1000 most popular names."
   ]
  },
  {
   "cell_type": "markdown",
   "metadata": {},
   "source": [
    "**Part 7**: Plot the proportion of the top 1000 names by year and sex"
   ]
  },
  {
   "cell_type": "markdown",
   "metadata": {},
   "source": [
    "## 10 most popular 2017 names through the ages"
   ]
  },
  {
   "cell_type": "markdown",
   "metadata": {},
   "source": [
    "**Part 8**: Find the 10 most popular female names in 2017"
   ]
  },
  {
   "cell_type": "markdown",
   "metadata": {},
   "source": [
    "**Part 9**: Plot the proportions of the 10 most popular female names in 2017 by year"
   ]
  },
  {
   "cell_type": "markdown",
   "metadata": {},
   "source": [
    "## Similarity between decades"
   ]
  },
  {
   "cell_type": "markdown",
   "metadata": {},
   "source": [
    "Here, you will explore the similarity between the set of names given in one particular year and the set of names given 10 years previosly."
   ]
  },
  {
   "cell_type": "markdown",
   "metadata": {},
   "source": [
    "The **Jaccard similarity** between sets A and B is the number of\n",
    "elements in both A and B relative to the number of elements in either A or\n",
    "B. \n",
    "If we let |A| denote the number of elements in the set A, then the Jaccard\n",
    "similarity is\n",
    "\n",
    "$$\n",
    "J(A,B)=\\frac{|A \\cap B|}{|A\\cup B|}\n",
    "$$"
   ]
  },
  {
   "cell_type": "markdown",
   "metadata": {},
   "source": [
    "**Part 10**: Find the Jaccard similarity between the following two sets"
   ]
  },
  {
   "cell_type": "code",
   "execution_count": null,
   "metadata": {},
   "outputs": [],
   "source": [
    "set1 = {'John','Daniel','Drogo'}\n",
    "set2 = {'Robert', 'John'}"
   ]
  },
  {
   "cell_type": "markdown",
   "metadata": {},
   "source": [
    "**Part 11**: Compute the Jaccard similarity between the set of male names given in 2017 and the set of male names given in 2007"
   ]
  },
  {
   "cell_type": "markdown",
   "metadata": {},
   "source": [
    "**Part 12**: Plot the Jaccard similarity between the set of male names given in one particular year and the set of male names given 10 years previosly by year"
   ]
  },
  {
   "cell_type": "markdown",
   "metadata": {},
   "source": [
    "##  Extra: The last letter revolution"
   ]
  },
  {
   "cell_type": "markdown",
   "metadata": {},
   "source": [
    "It has been argued (see [here](https://www.babynamewizard.com/archives/2007/7/where-all-boys-end-up-nowadays), for example) that the distribution of boy names by final letter has changed significantly over the last 100 years."
   ]
  },
  {
   "cell_type": "markdown",
   "metadata": {},
   "source": [
    "**Extra part 1:** Extract the last letter from the \"name\" column"
   ]
  },
  {
   "cell_type": "markdown",
   "metadata": {},
   "source": [
    "**Extra part 2**: Plot the proportion of male names by the last letter for the years 1910, 1960, and 2010"
   ]
  },
  {
   "cell_type": "markdown",
   "metadata": {},
   "source": [
    "**Extra part 3**: Plot the proportions of male names ending in \"e\", \"n\", \"d\", \"s\" and \"y\" by year."
   ]
  }
 ],
 "metadata": {
  "kernelspec": {
   "display_name": "Python 3",
   "language": "python",
   "name": "python3"
  },
  "language_info": {
   "codemirror_mode": {
    "name": "ipython",
    "version": 3
   },
   "file_extension": ".py",
   "mimetype": "text/x-python",
   "name": "python",
   "nbconvert_exporter": "python",
   "pygments_lexer": "ipython3",
   "version": "3.8.3"
  }
 },
 "nbformat": 4,
 "nbformat_minor": 4
}
