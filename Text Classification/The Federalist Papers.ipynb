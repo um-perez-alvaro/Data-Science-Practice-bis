{
 "cells": [
  {
   "cell_type": "code",
   "execution_count": 1,
   "metadata": {},
   "outputs": [],
   "source": [
    "import pandas as pd"
   ]
  },
  {
   "cell_type": "markdown",
   "metadata": {},
   "source": [
    "# Project 2: Predicting Authorship of the Disputed Federalist Papers"
   ]
  },
  {
   "cell_type": "markdown",
   "metadata": {},
   "source": [
    "The Federalist Papers are a collection of 85 essays written by James Madison, Alexander Hamilton, and John Jay under the collective pseudonym \"Publius\" to promote the ratification of the United States Constitution."
   ]
  },
  {
   "cell_type": "markdown",
   "metadata": {},
   "source": [
    "<img src=\"images\\the_federalist_papers.jpg\" width=200 height=50 />"
   ]
  },
  {
   "cell_type": "markdown",
   "metadata": {},
   "source": [
    "Authorship of most of the papers were revealed some years later by Hamilton, though his claim to authorshipt of 12 papers were disputed for nearly 200 years."
   ]
  },
  {
   "cell_type": "markdown",
   "metadata": {},
   "source": [
    "| Author | Papers |\n",
    "| :- | -: | \n",
    "| Jay | 2, 3, 4, 5, 64\n",
    "| Madison | 10, 14, 37-48\n",
    "| Hamilton | 1, 6, 7, 8, 9, 11, 12, 13, 15, 16, 17, 21-36, 59, 60, 61, 65-85\n",
    "| Hamilton and Madison | 18, 19, 20\n",
    "| Disputed | 49-58, 62, 63"
   ]
  },
  {
   "cell_type": "markdown",
   "metadata": {},
   "source": [
    "The goal of this project is to use NLP and Naive Bayes to predict the author of the disputed papers."
   ]
  },
  {
   "cell_type": "markdown",
   "metadata": {},
   "source": [
    "Table of Contents\n",
    "\n",
    "- [Getting and processing the data](#1.-Getting-and-processing-the-data)\n",
    "- [Logistic Regression](#2.-Logistic-Regression)\n",
    "- [Naive Bayes](#3.-Naive-Bayes-Classification)\n",
    "- [Disputed Federalist Papers](#4.-Disputed-Federalist-Papers)\n",
    "- [How does Naive Bayes choose between Hamilton and Madison](#5.-How-does-Naive-Bayes-choose-between-Hamilton-and-Madison)\n",
    "- [Parameter tuning using grid search](#6.-Parameter-tuning-using-grid-search)\n",
    "- [Data Visualization](#7.-Data-visualization)"
   ]
  },
  {
   "cell_type": "markdown",
   "metadata": {},
   "source": [
    "## 1. Getting and processing the data"
   ]
  },
  {
   "cell_type": "markdown",
   "metadata": {},
   "source": [
    "Retrieve an electronic version of the Federalist Papers from the [Gutenberg project](http://www.gutenberg.org/). Use the search facility to search for the Federalist Papers. Several versions are available. \n",
    "We'll use the plain text version [1408-8.txt](http://www.gutenberg.org/cache/epub/1404/pg1404.txt)"
   ]
  },
  {
   "cell_type": "markdown",
   "metadata": {},
   "source": [
    "First, we'll build a dictionary that identifies the author of each Federalist paper. We'll use the phrase To the People of the state of New York to identify the beginning of a paper, and the word PUBLIUS to identify the end of a paper (The word PUBLIUS marks the end of all papers except 37; we'll need to insert PUBLIUS at the end of Paper 37 manually)."
   ]
  },
  {
   "cell_type": "code",
   "execution_count": 2,
   "metadata": {},
   "outputs": [],
   "source": [
    "from re import match"
   ]
  },
  {
   "cell_type": "code",
   "execution_count": 3,
   "metadata": {},
   "outputs": [],
   "source": [
    "path = 'Data/papers.txt'\n",
    "Fed_dict = {}\n",
    "opening = 'To the People of the State of New York'\n",
    "closing = 'PUBLIUS'\n",
    "\n",
    "counter = 0\n",
    "paper = ''\n",
    "\n",
    "# build a dictionary with the Federalist papers \n",
    "with open(path) as f:\n",
    "    for string in f: #  iterate over the lines of the txt file\n",
    "        if match(opening, string):\n",
    "            paper = '' # initialize Federalist Paper as an empty string\n",
    "            counter += 1 # increase counter\n",
    "        paper = paper+' '+string.replace('\\n','') # remove end of line simbol \\n; append new line; \n",
    "        if match(closing, string):\n",
    "            Fed_dict[counter]=paper # done"
   ]
  },
  {
   "cell_type": "code",
   "execution_count": 4,
   "metadata": {},
   "outputs": [
    {
     "data": {
      "text/plain": [
       "85"
      ]
     },
     "execution_count": 4,
     "metadata": {},
     "output_type": "execute_result"
    }
   ],
   "source": [
    "len(Fed_dict)"
   ]
  },
  {
   "cell_type": "code",
   "execution_count": 5,
   "metadata": {},
   "outputs": [
    {
     "data": {
      "text/html": [
       "<div>\n",
       "<style scoped>\n",
       "    .dataframe tbody tr th:only-of-type {\n",
       "        vertical-align: middle;\n",
       "    }\n",
       "\n",
       "    .dataframe tbody tr th {\n",
       "        vertical-align: top;\n",
       "    }\n",
       "\n",
       "    .dataframe thead th {\n",
       "        text-align: right;\n",
       "    }\n",
       "</style>\n",
       "<table border=\"1\" class=\"dataframe\">\n",
       "  <thead>\n",
       "    <tr style=\"text-align: right;\">\n",
       "      <th></th>\n",
       "      <th>paper</th>\n",
       "    </tr>\n",
       "  </thead>\n",
       "  <tbody>\n",
       "    <tr>\n",
       "      <th>1</th>\n",
       "      <td>To the People of the State of New York:  AFTE...</td>\n",
       "    </tr>\n",
       "    <tr>\n",
       "      <th>2</th>\n",
       "      <td>To the People of the State of New York:  WHEN...</td>\n",
       "    </tr>\n",
       "    <tr>\n",
       "      <th>3</th>\n",
       "      <td>To the People of the State of New York:  IT I...</td>\n",
       "    </tr>\n",
       "    <tr>\n",
       "      <th>4</th>\n",
       "      <td>To the People of the State of New York:  MY L...</td>\n",
       "    </tr>\n",
       "    <tr>\n",
       "      <th>5</th>\n",
       "      <td>To the People of the State of New York:  QUEE...</td>\n",
       "    </tr>\n",
       "  </tbody>\n",
       "</table>\n",
       "</div>"
      ],
      "text/plain": [
       "                                               paper\n",
       "1   To the People of the State of New York:  AFTE...\n",
       "2   To the People of the State of New York:  WHEN...\n",
       "3   To the People of the State of New York:  IT I...\n",
       "4   To the People of the State of New York:  MY L...\n",
       "5   To the People of the State of New York:  QUEE..."
      ]
     },
     "execution_count": 5,
     "metadata": {},
     "output_type": "execute_result"
    }
   ],
   "source": [
    "# put the Federalist Papers into a DataFrame\n",
    "papers = pd.DataFrame.from_dict(Fed_dict, orient='index',columns=['paper'])\n",
    "papers.head(5)"
   ]
  },
  {
   "cell_type": "code",
   "execution_count": 6,
   "metadata": {},
   "outputs": [],
   "source": [
    "# authorship function\n",
    "def author(paper_num):\n",
    "    'it returns the author of a Federalist Paper'\n",
    "    # papers authored by Jay:\n",
    "    Jay_list = [2,3,4,5,64]\n",
    "    # papers authored by Madison:\n",
    "    Madison_list = [10,14]+list(range(37,49))\n",
    "    # papers authored by Hamilton\n",
    "    Hamilton_list = [1,6,7,8,9,11,12,13,15,16,17]+list(range(21,37))+[59,60,61]+list(range(65,86))\n",
    "    # papers authored by Hamilton+Madison\n",
    "    Hamilton_Madison_list = [18,19,20]\n",
    "    # disputed papers\n",
    "    disputed_list = list(range(49,59))+[62,63]\n",
    "    if paper_num in Jay_list:\n",
    "        return 'Jay'\n",
    "    elif paper_num in Hamilton_list:\n",
    "        return 'Hamilton'\n",
    "    elif paper_num in Madison_list:\n",
    "        return 'Madison'\n",
    "    elif paper_num in Hamilton_Madison_list:\n",
    "        return 'Hamilton+Madison'\n",
    "    elif paper_num in disputed_list:\n",
    "        return 'Disputed'"
   ]
  },
  {
   "cell_type": "code",
   "execution_count": 7,
   "metadata": {},
   "outputs": [
    {
     "data": {
      "text/html": [
       "<div>\n",
       "<style scoped>\n",
       "    .dataframe tbody tr th:only-of-type {\n",
       "        vertical-align: middle;\n",
       "    }\n",
       "\n",
       "    .dataframe tbody tr th {\n",
       "        vertical-align: top;\n",
       "    }\n",
       "\n",
       "    .dataframe thead th {\n",
       "        text-align: right;\n",
       "    }\n",
       "</style>\n",
       "<table border=\"1\" class=\"dataframe\">\n",
       "  <thead>\n",
       "    <tr style=\"text-align: right;\">\n",
       "      <th></th>\n",
       "      <th>paper</th>\n",
       "      <th>author</th>\n",
       "    </tr>\n",
       "  </thead>\n",
       "  <tbody>\n",
       "    <tr>\n",
       "      <th>1</th>\n",
       "      <td>To the People of the State of New York:  AFTE...</td>\n",
       "      <td>Hamilton</td>\n",
       "    </tr>\n",
       "    <tr>\n",
       "      <th>2</th>\n",
       "      <td>To the People of the State of New York:  WHEN...</td>\n",
       "      <td>Jay</td>\n",
       "    </tr>\n",
       "    <tr>\n",
       "      <th>3</th>\n",
       "      <td>To the People of the State of New York:  IT I...</td>\n",
       "      <td>Jay</td>\n",
       "    </tr>\n",
       "    <tr>\n",
       "      <th>4</th>\n",
       "      <td>To the People of the State of New York:  MY L...</td>\n",
       "      <td>Jay</td>\n",
       "    </tr>\n",
       "    <tr>\n",
       "      <th>5</th>\n",
       "      <td>To the People of the State of New York:  QUEE...</td>\n",
       "      <td>Jay</td>\n",
       "    </tr>\n",
       "  </tbody>\n",
       "</table>\n",
       "</div>"
      ],
      "text/plain": [
       "                                               paper    author\n",
       "1   To the People of the State of New York:  AFTE...  Hamilton\n",
       "2   To the People of the State of New York:  WHEN...       Jay\n",
       "3   To the People of the State of New York:  IT I...       Jay\n",
       "4   To the People of the State of New York:  MY L...       Jay\n",
       "5   To the People of the State of New York:  QUEE...       Jay"
      ]
     },
     "execution_count": 7,
     "metadata": {},
     "output_type": "execute_result"
    }
   ],
   "source": [
    "# add column author to DataFrame\n",
    "papers['author'] = papers.index.map(author)\n",
    "papers.head(5)"
   ]
  },
  {
   "cell_type": "code",
   "execution_count": 8,
   "metadata": {},
   "outputs": [
    {
     "data": {
      "text/plain": [
       "Hamilton            51\n",
       "Madison             14\n",
       "Disputed            12\n",
       "Jay                  5\n",
       "Hamilton+Madison     3\n",
       "Name: author, dtype: int64"
      ]
     },
     "execution_count": 8,
     "metadata": {},
     "output_type": "execute_result"
    }
   ],
   "source": [
    "papers.author.value_counts()"
   ]
  },
  {
   "cell_type": "markdown",
   "metadata": {},
   "source": [
    "**Step 1:** train/test split"
   ]
  },
  {
   "cell_type": "code",
   "execution_count": 9,
   "metadata": {},
   "outputs": [],
   "source": [
    "papers_train = papers[papers.author.isin(['Hamilton','Madison','Jay'])]\n",
    "papers_test = papers[papers.author=='Disputed']"
   ]
  },
  {
   "cell_type": "code",
   "execution_count": 10,
   "metadata": {},
   "outputs": [
    {
     "data": {
      "text/plain": [
       "(70, 12)"
      ]
     },
     "execution_count": 10,
     "metadata": {},
     "output_type": "execute_result"
    }
   ],
   "source": [
    "len(papers_train), len(papers_test)"
   ]
  },
  {
   "cell_type": "markdown",
   "metadata": {},
   "source": [
    "**Step 2:** extract feature matrix and target vector"
   ]
  },
  {
   "cell_type": "code",
   "execution_count": 11,
   "metadata": {},
   "outputs": [],
   "source": [
    "X_train = papers_train.paper\n",
    "y_train = papers_train.author"
   ]
  },
  {
   "cell_type": "code",
   "execution_count": 12,
   "metadata": {},
   "outputs": [],
   "source": [
    "X_test = papers_test.paper"
   ]
  },
  {
   "cell_type": "markdown",
   "metadata": {},
   "source": [
    "**Step 3:** CountVectorizer"
   ]
  },
  {
   "cell_type": "code",
   "execution_count": 13,
   "metadata": {},
   "outputs": [],
   "source": [
    "from sklearn.feature_extraction.text import CountVectorizer\n",
    "vect = CountVectorizer(stop_words='english')"
   ]
  },
  {
   "cell_type": "code",
   "execution_count": 14,
   "metadata": {},
   "outputs": [],
   "source": [
    "# learn training data vocabulary\n",
    "vect.fit(X_train)\n",
    "# create document-term matrix\n",
    "X_train_dtm = vect.transform(X_train)\n",
    "X_test_dtm = vect.transform(X_test)"
   ]
  },
  {
   "cell_type": "markdown",
   "metadata": {},
   "source": [
    "## 2. Logistic Regression"
   ]
  },
  {
   "cell_type": "code",
   "execution_count": 15,
   "metadata": {},
   "outputs": [
    {
     "data": {
      "text/plain": [
       "LogisticRegression(max_iter=2000)"
      ]
     },
     "execution_count": 15,
     "metadata": {},
     "output_type": "execute_result"
    }
   ],
   "source": [
    "from sklearn.linear_model import LogisticRegression\n",
    "log_clf = LogisticRegression(max_iter=2000)\n",
    "\n",
    "log_clf.fit(X_train_dtm,y_train)"
   ]
  },
  {
   "cell_type": "markdown",
   "metadata": {},
   "source": [
    "**Model evaluation**"
   ]
  },
  {
   "cell_type": "markdown",
   "metadata": {},
   "source": [
    "Problem: we don't have labels for the test set"
   ]
  },
  {
   "cell_type": "markdown",
   "metadata": {},
   "source": [
    "**Option 1** (not recommended): train and test on the same set"
   ]
  },
  {
   "cell_type": "code",
   "execution_count": 16,
   "metadata": {},
   "outputs": [],
   "source": [
    "y_train_pred = log_clf.predict(X_train_dtm) "
   ]
  },
  {
   "cell_type": "code",
   "execution_count": 17,
   "metadata": {},
   "outputs": [
    {
     "data": {
      "text/plain": [
       "array([[51,  0,  0],\n",
       "       [ 0,  5,  0],\n",
       "       [ 0,  0, 14]], dtype=int64)"
      ]
     },
     "execution_count": 17,
     "metadata": {},
     "output_type": "execute_result"
    }
   ],
   "source": [
    "from sklearn import metrics\n",
    "metrics.confusion_matrix(y_train,y_train_pred)"
   ]
  },
  {
   "cell_type": "code",
   "execution_count": 18,
   "metadata": {},
   "outputs": [
    {
     "data": {
      "text/plain": [
       "1.0"
      ]
     },
     "execution_count": 18,
     "metadata": {},
     "output_type": "execute_result"
    }
   ],
   "source": [
    "metrics.accuracy_score(y_train,y_train_pred)"
   ]
  },
  {
   "cell_type": "markdown",
   "metadata": {},
   "source": [
    "The prediction function has an accuracy rate of 1."
   ]
  },
  {
   "cell_type": "markdown",
   "metadata": {},
   "source": [
    "**Option 2** (recommended): use [cross validation](https://scikit-learn.org/stable/modules/cross_validation.html#cross-validation)"
   ]
  },
  {
   "cell_type": "code",
   "execution_count": 19,
   "metadata": {},
   "outputs": [
    {
     "data": {
      "text/plain": [
       "array([0.72222222, 0.88888889, 0.88235294, 0.58823529])"
      ]
     },
     "execution_count": 19,
     "metadata": {},
     "output_type": "execute_result"
    }
   ],
   "source": [
    "from sklearn.model_selection import cross_val_score\n",
    "scores = cross_val_score(log_clf,X_train_dtm,y_train,cv=4,scoring='accuracy') # we'll use a small number of folds (cv)\n",
    "scores"
   ]
  },
  {
   "cell_type": "markdown",
   "metadata": {},
   "source": [
    "## 3. Naive Bayes Classification"
   ]
  },
  {
   "cell_type": "code",
   "execution_count": 20,
   "metadata": {},
   "outputs": [
    {
     "data": {
      "text/plain": [
       "MultinomialNB()"
      ]
     },
     "execution_count": 20,
     "metadata": {},
     "output_type": "execute_result"
    }
   ],
   "source": [
    "from sklearn.naive_bayes import MultinomialNB\n",
    "nb_clf = MultinomialNB()\n",
    "\n",
    "nb_clf.fit(X_train_dtm,y_train)"
   ]
  },
  {
   "cell_type": "markdown",
   "metadata": {},
   "source": [
    "**Model evaluation**"
   ]
  },
  {
   "cell_type": "code",
   "execution_count": 21,
   "metadata": {},
   "outputs": [],
   "source": [
    "y_train_pred = nb_clf.predict(X_train_dtm) "
   ]
  },
  {
   "cell_type": "code",
   "execution_count": 22,
   "metadata": {},
   "outputs": [
    {
     "data": {
      "text/plain": [
       "array([[51,  0,  0],\n",
       "       [ 0,  5,  0],\n",
       "       [ 0,  0, 14]], dtype=int64)"
      ]
     },
     "execution_count": 22,
     "metadata": {},
     "output_type": "execute_result"
    }
   ],
   "source": [
    "# option 1\n",
    "from sklearn import metrics\n",
    "metrics.confusion_matrix(y_train,y_train_pred)"
   ]
  },
  {
   "cell_type": "code",
   "execution_count": 23,
   "metadata": {},
   "outputs": [
    {
     "data": {
      "text/plain": [
       "1.0"
      ]
     },
     "execution_count": 23,
     "metadata": {},
     "output_type": "execute_result"
    }
   ],
   "source": [
    "metrics.accuracy_score(y_train,y_train_pred)"
   ]
  },
  {
   "cell_type": "code",
   "execution_count": 24,
   "metadata": {},
   "outputs": [
    {
     "data": {
      "text/plain": [
       "array([0.72222222, 0.77777778, 0.76470588, 0.76470588])"
      ]
     },
     "execution_count": 24,
     "metadata": {},
     "output_type": "execute_result"
    }
   ],
   "source": [
    "# option 2\n",
    "scores = cross_val_score(nb_clf,X_train_dtm,y_train,cv=4,scoring='accuracy') # we'll use a small number of folds (cv)\n",
    "scores"
   ]
  },
  {
   "cell_type": "code",
   "execution_count": 25,
   "metadata": {},
   "outputs": [
    {
     "data": {
      "text/plain": [
       "0.7573529411764706"
      ]
     },
     "execution_count": 25,
     "metadata": {},
     "output_type": "execute_result"
    }
   ],
   "source": [
    "scores.mean()"
   ]
  },
  {
   "cell_type": "markdown",
   "metadata": {},
   "source": [
    "## 4. Disputed Federalist Papers"
   ]
  },
  {
   "cell_type": "code",
   "execution_count": 26,
   "metadata": {},
   "outputs": [
    {
     "data": {
      "text/plain": [
       "array(['Hamilton', 'Hamilton', 'Madison', 'Hamilton', 'Hamilton',\n",
       "       'Hamilton', 'Hamilton', 'Hamilton', 'Hamilton', 'Hamilton',\n",
       "       'Madison', 'Madison'], dtype=object)"
      ]
     },
     "execution_count": 26,
     "metadata": {},
     "output_type": "execute_result"
    }
   ],
   "source": [
    "# logistic regression prediction\n",
    "y_test_pred = log_clf.predict(X_test_dtm)\n",
    "y_test_pred"
   ]
  },
  {
   "cell_type": "code",
   "execution_count": 27,
   "metadata": {},
   "outputs": [
    {
     "data": {
      "text/plain": [
       "array(['Hamilton', 'Madison', 'Madison', 'Hamilton', 'Hamilton',\n",
       "       'Hamilton', 'Hamilton', 'Hamilton', 'Hamilton', 'Hamilton',\n",
       "       'Hamilton', 'Hamilton'], dtype='<U8')"
      ]
     },
     "execution_count": 27,
     "metadata": {},
     "output_type": "execute_result"
    }
   ],
   "source": [
    "# naive Bayes prediction\n",
    "y_test_pred = nb_clf.predict(X_test_dtm)\n",
    "y_test_pred"
   ]
  },
  {
   "cell_type": "markdown",
   "metadata": {},
   "source": [
    "## 5. How does Naive Bayes choose between Hamilton and Madison"
   ]
  },
  {
   "cell_type": "code",
   "execution_count": 28,
   "metadata": {},
   "outputs": [],
   "source": [
    "# store the vocabulary of X_train\n",
    "X_train_words = vect.get_feature_names()"
   ]
  },
  {
   "cell_type": "code",
   "execution_count": 29,
   "metadata": {},
   "outputs": [
    {
     "data": {
      "text/plain": [
       "7732"
      ]
     },
     "execution_count": 29,
     "metadata": {},
     "output_type": "execute_result"
    }
   ],
   "source": [
    "len(X_train_words)"
   ]
  },
  {
   "cell_type": "code",
   "execution_count": 30,
   "metadata": {},
   "outputs": [
    {
     "name": "stdout",
     "output_type": "stream",
     "text": [
      "['000', '10', '11', '1685', '1688', '1706', '1774', '1783', '1784', '1786', '1787', '1808', '195', '1st', '2d', '30', '3d', '4th', '5th', 'abandon', 'abandoned', 'abandoning', 'abate', 'abetted', 'abilities', 'ability', 'able', 'ablest', 'abolish', 'abolished', 'abolishing', 'abolition', 'abortive', 'abounding', 'abounds', 'abridge', 'abridged', 'abridgements', 'abridging', 'abridgment', 'abroad', 'abrogate', 'abrogating', 'absence', 'absolute', 'absolutely', 'absolves', 'absorb', 'absorbed', 'abstain']\n"
     ]
    }
   ],
   "source": [
    "# examine the first 50 words\n",
    "print(X_train_words[:50])"
   ]
  },
  {
   "cell_type": "code",
   "execution_count": 31,
   "metadata": {},
   "outputs": [
    {
     "name": "stdout",
     "output_type": "stream",
     "text": [
      "['witnesses', 'witty', 'wolsey', 'woman', 'womb', 'won', 'wonder', 'wondered', 'wonderful', 'wood', 'word', 'words', 'work', 'workings', 'works', 'world', 'worn', 'worse', 'worst', 'worthy', 'wound', 'wounded', 'wreaked', 'wreck', 'wretched', 'writ', 'write', 'writer', 'writers', 'writing', 'writings', 'written', 'wrong', 'wrought', 'wyoming', 'xiv', 'yards', 'year', 'years', 'yeomanry', 'yes', 'yield', 'yielding', 'yoke', 'yokes', 'york', 'young', 'zaleucus', 'zeal', 'zealous']\n"
     ]
    }
   ],
   "source": [
    "# examine the last 50 words\n",
    "print(X_train_words[-50:])"
   ]
  },
  {
   "cell_type": "code",
   "execution_count": 32,
   "metadata": {},
   "outputs": [
    {
     "data": {
      "text/plain": [
       "array([[ 2.,  1.,  1., ...,  0., 12.,  6.],\n",
       "       [ 0.,  0.,  0., ...,  0.,  1.,  0.],\n",
       "       [ 0.,  0.,  0., ...,  1.,  9.,  2.]])"
      ]
     },
     "execution_count": 32,
     "metadata": {},
     "output_type": "execute_result"
    }
   ],
   "source": [
    "# Naive Bayes counts the number of times each word appears in each class\n",
    "nb_clf.feature_count_"
   ]
  },
  {
   "cell_type": "code",
   "execution_count": 33,
   "metadata": {},
   "outputs": [
    {
     "data": {
      "text/plain": [
       "(3, 7732)"
      ]
     },
     "execution_count": 33,
     "metadata": {},
     "output_type": "execute_result"
    }
   ],
   "source": [
    "# rows represent classes (Hamilton, Madison, Jay), columns represent words\n",
    "nb_clf.feature_count_.shape"
   ]
  },
  {
   "cell_type": "code",
   "execution_count": 34,
   "metadata": {},
   "outputs": [
    {
     "data": {
      "text/plain": [
       "array(['Hamilton', 'Jay', 'Madison'], dtype='<U8')"
      ]
     },
     "execution_count": 34,
     "metadata": {},
     "output_type": "execute_result"
    }
   ],
   "source": [
    "nb_clf.classes_"
   ]
  },
  {
   "cell_type": "code",
   "execution_count": 35,
   "metadata": {},
   "outputs": [],
   "source": [
    "# number of times each word appears across all Hamilton's papers\n",
    "Hamilton_word_count = nb_clf.feature_count_[0,:]\n",
    "# number of times each word appears across all Madison's papers\n",
    "Madison_word_count = nb_clf.feature_count_[2,:]"
   ]
  },
  {
   "cell_type": "code",
   "execution_count": 36,
   "metadata": {},
   "outputs": [
    {
     "data": {
      "text/html": [
       "<div>\n",
       "<style scoped>\n",
       "    .dataframe tbody tr th:only-of-type {\n",
       "        vertical-align: middle;\n",
       "    }\n",
       "\n",
       "    .dataframe tbody tr th {\n",
       "        vertical-align: top;\n",
       "    }\n",
       "\n",
       "    .dataframe thead th {\n",
       "        text-align: right;\n",
       "    }\n",
       "</style>\n",
       "<table border=\"1\" class=\"dataframe\">\n",
       "  <thead>\n",
       "    <tr style=\"text-align: right;\">\n",
       "      <th></th>\n",
       "      <th>Hamilton</th>\n",
       "      <th>Madison</th>\n",
       "    </tr>\n",
       "    <tr>\n",
       "      <th>word</th>\n",
       "      <th></th>\n",
       "      <th></th>\n",
       "    </tr>\n",
       "  </thead>\n",
       "  <tbody>\n",
       "    <tr>\n",
       "      <th>000</th>\n",
       "      <td>2.0</td>\n",
       "      <td>0.0</td>\n",
       "    </tr>\n",
       "    <tr>\n",
       "      <th>10</th>\n",
       "      <td>1.0</td>\n",
       "      <td>0.0</td>\n",
       "    </tr>\n",
       "    <tr>\n",
       "      <th>11</th>\n",
       "      <td>1.0</td>\n",
       "      <td>0.0</td>\n",
       "    </tr>\n",
       "    <tr>\n",
       "      <th>1685</th>\n",
       "      <td>0.0</td>\n",
       "      <td>0.0</td>\n",
       "    </tr>\n",
       "    <tr>\n",
       "      <th>1688</th>\n",
       "      <td>2.0</td>\n",
       "      <td>0.0</td>\n",
       "    </tr>\n",
       "  </tbody>\n",
       "</table>\n",
       "</div>"
      ],
      "text/plain": [
       "      Hamilton  Madison\n",
       "word                   \n",
       "000        2.0      0.0\n",
       "10         1.0      0.0\n",
       "11         1.0      0.0\n",
       "1685       0.0      0.0\n",
       "1688       2.0      0.0"
      ]
     },
     "execution_count": 36,
     "metadata": {},
     "output_type": "execute_result"
    }
   ],
   "source": [
    "# create a DataFrame of words with their separate Hamilton and Madison counts\n",
    "words = pd.DataFrame({'word' : X_train_words, 'Hamilton' : Hamilton_word_count, 'Madison' : Madison_word_count}).set_index('word')\n",
    "words.head()"
   ]
  },
  {
   "cell_type": "code",
   "execution_count": 37,
   "metadata": {},
   "outputs": [
    {
     "data": {
      "text/html": [
       "<div>\n",
       "<style scoped>\n",
       "    .dataframe tbody tr th:only-of-type {\n",
       "        vertical-align: middle;\n",
       "    }\n",
       "\n",
       "    .dataframe tbody tr th {\n",
       "        vertical-align: top;\n",
       "    }\n",
       "\n",
       "    .dataframe thead th {\n",
       "        text-align: right;\n",
       "    }\n",
       "</style>\n",
       "<table border=\"1\" class=\"dataframe\">\n",
       "  <thead>\n",
       "    <tr style=\"text-align: right;\">\n",
       "      <th></th>\n",
       "      <th>Hamilton</th>\n",
       "      <th>Madison</th>\n",
       "    </tr>\n",
       "    <tr>\n",
       "      <th>word</th>\n",
       "      <th></th>\n",
       "      <th></th>\n",
       "    </tr>\n",
       "  </thead>\n",
       "  <tbody>\n",
       "    <tr>\n",
       "      <th>parliament</th>\n",
       "      <td>9.0</td>\n",
       "      <td>1.0</td>\n",
       "    </tr>\n",
       "    <tr>\n",
       "      <th>deriving</th>\n",
       "      <td>1.0</td>\n",
       "      <td>2.0</td>\n",
       "    </tr>\n",
       "    <tr>\n",
       "      <th>civilized</th>\n",
       "      <td>1.0</td>\n",
       "      <td>1.0</td>\n",
       "    </tr>\n",
       "    <tr>\n",
       "      <th>distinguishing</th>\n",
       "      <td>2.0</td>\n",
       "      <td>0.0</td>\n",
       "    </tr>\n",
       "    <tr>\n",
       "      <th>jointly</th>\n",
       "      <td>1.0</td>\n",
       "      <td>0.0</td>\n",
       "    </tr>\n",
       "  </tbody>\n",
       "</table>\n",
       "</div>"
      ],
      "text/plain": [
       "                Hamilton  Madison\n",
       "word                             \n",
       "parliament           9.0      1.0\n",
       "deriving             1.0      2.0\n",
       "civilized            1.0      1.0\n",
       "distinguishing       2.0      0.0\n",
       "jointly              1.0      0.0"
      ]
     },
     "execution_count": 37,
     "metadata": {},
     "output_type": "execute_result"
    }
   ],
   "source": [
    "# examine 5 random DataFrame rows\n",
    "words.sample(5)"
   ]
  },
  {
   "cell_type": "code",
   "execution_count": 38,
   "metadata": {},
   "outputs": [],
   "source": [
    "# add 1 to Hamilton and Madison counts to avoid dividing by 0\n",
    "words.Hamilton = words.Hamilton+1\n",
    "words.Madison = words.Madison+1"
   ]
  },
  {
   "cell_type": "code",
   "execution_count": 39,
   "metadata": {},
   "outputs": [],
   "source": [
    "# convert the Hamilton and Madison counts into frequencies\n",
    "words.Hamilton = words.Hamilton/words.Hamilton.sum()\n",
    "words.Madison = words.Madison/words.Madison.sum()"
   ]
  },
  {
   "cell_type": "code",
   "execution_count": 40,
   "metadata": {},
   "outputs": [
    {
     "data": {
      "text/html": [
       "<div>\n",
       "<style scoped>\n",
       "    .dataframe tbody tr th:only-of-type {\n",
       "        vertical-align: middle;\n",
       "    }\n",
       "\n",
       "    .dataframe tbody tr th {\n",
       "        vertical-align: top;\n",
       "    }\n",
       "\n",
       "    .dataframe thead th {\n",
       "        text-align: right;\n",
       "    }\n",
       "</style>\n",
       "<table border=\"1\" class=\"dataframe\">\n",
       "  <thead>\n",
       "    <tr style=\"text-align: right;\">\n",
       "      <th></th>\n",
       "      <th>Hamilton</th>\n",
       "      <th>Madison</th>\n",
       "    </tr>\n",
       "    <tr>\n",
       "      <th>word</th>\n",
       "      <th></th>\n",
       "      <th></th>\n",
       "    </tr>\n",
       "  </thead>\n",
       "  <tbody>\n",
       "    <tr>\n",
       "      <th>campaigns</th>\n",
       "      <td>0.000038</td>\n",
       "      <td>0.000043</td>\n",
       "    </tr>\n",
       "    <tr>\n",
       "      <th>opposes</th>\n",
       "      <td>0.000019</td>\n",
       "      <td>0.000043</td>\n",
       "    </tr>\n",
       "    <tr>\n",
       "      <th>malcontents</th>\n",
       "      <td>0.000038</td>\n",
       "      <td>0.000043</td>\n",
       "    </tr>\n",
       "    <tr>\n",
       "      <th>scotland</th>\n",
       "      <td>0.000038</td>\n",
       "      <td>0.000043</td>\n",
       "    </tr>\n",
       "    <tr>\n",
       "      <th>application</th>\n",
       "      <td>0.000192</td>\n",
       "      <td>0.000171</td>\n",
       "    </tr>\n",
       "  </tbody>\n",
       "</table>\n",
       "</div>"
      ],
      "text/plain": [
       "             Hamilton   Madison\n",
       "word                           \n",
       "campaigns    0.000038  0.000043\n",
       "opposes      0.000019  0.000043\n",
       "malcontents  0.000038  0.000043\n",
       "scotland     0.000038  0.000043\n",
       "application  0.000192  0.000171"
      ]
     },
     "execution_count": 40,
     "metadata": {},
     "output_type": "execute_result"
    }
   ],
   "source": [
    "words.sample(5)"
   ]
  },
  {
   "cell_type": "code",
   "execution_count": 41,
   "metadata": {},
   "outputs": [],
   "source": [
    "# calculate the ration of Hamilton-to-Madison and Madison-to-Hamilton for each word\n",
    "words['Hamilton_ratio'] = words.Hamilton/words.Madison\n",
    "words['Madison_ratio'] = words.Madison/words.Hamilton"
   ]
  },
  {
   "cell_type": "code",
   "execution_count": 42,
   "metadata": {},
   "outputs": [
    {
     "data": {
      "text/html": [
       "<div>\n",
       "<style scoped>\n",
       "    .dataframe tbody tr th:only-of-type {\n",
       "        vertical-align: middle;\n",
       "    }\n",
       "\n",
       "    .dataframe tbody tr th {\n",
       "        vertical-align: top;\n",
       "    }\n",
       "\n",
       "    .dataframe thead th {\n",
       "        text-align: right;\n",
       "    }\n",
       "</style>\n",
       "<table border=\"1\" class=\"dataframe\">\n",
       "  <thead>\n",
       "    <tr style=\"text-align: right;\">\n",
       "      <th></th>\n",
       "      <th>Hamilton</th>\n",
       "      <th>Madison</th>\n",
       "      <th>Hamilton_ratio</th>\n",
       "      <th>Madison_ratio</th>\n",
       "    </tr>\n",
       "    <tr>\n",
       "      <th>word</th>\n",
       "      <th></th>\n",
       "      <th></th>\n",
       "      <th></th>\n",
       "      <th></th>\n",
       "    </tr>\n",
       "  </thead>\n",
       "  <tbody>\n",
       "    <tr>\n",
       "      <th>vicinity</th>\n",
       "      <td>0.000077</td>\n",
       "      <td>0.000043</td>\n",
       "      <td>1.801147</td>\n",
       "      <td>0.555202</td>\n",
       "    </tr>\n",
       "    <tr>\n",
       "      <th>condemnation</th>\n",
       "      <td>0.000058</td>\n",
       "      <td>0.000085</td>\n",
       "      <td>0.675430</td>\n",
       "      <td>1.480538</td>\n",
       "    </tr>\n",
       "    <tr>\n",
       "      <th>poorest</th>\n",
       "      <td>0.000038</td>\n",
       "      <td>0.000043</td>\n",
       "      <td>0.900574</td>\n",
       "      <td>1.110403</td>\n",
       "    </tr>\n",
       "    <tr>\n",
       "      <th>imitated</th>\n",
       "      <td>0.000058</td>\n",
       "      <td>0.000043</td>\n",
       "      <td>1.350860</td>\n",
       "      <td>0.740269</td>\n",
       "    </tr>\n",
       "    <tr>\n",
       "      <th>dead</th>\n",
       "      <td>0.000038</td>\n",
       "      <td>0.000085</td>\n",
       "      <td>0.450287</td>\n",
       "      <td>2.220807</td>\n",
       "    </tr>\n",
       "  </tbody>\n",
       "</table>\n",
       "</div>"
      ],
      "text/plain": [
       "              Hamilton   Madison  Hamilton_ratio  Madison_ratio\n",
       "word                                                           \n",
       "vicinity      0.000077  0.000043        1.801147       0.555202\n",
       "condemnation  0.000058  0.000085        0.675430       1.480538\n",
       "poorest       0.000038  0.000043        0.900574       1.110403\n",
       "imitated      0.000058  0.000043        1.350860       0.740269\n",
       "dead          0.000038  0.000085        0.450287       2.220807"
      ]
     },
     "execution_count": 42,
     "metadata": {},
     "output_type": "execute_result"
    }
   ],
   "source": [
    "words.sample(5)"
   ]
  },
  {
   "cell_type": "code",
   "execution_count": 43,
   "metadata": {},
   "outputs": [
    {
     "data": {
      "text/html": [
       "<div>\n",
       "<style scoped>\n",
       "    .dataframe tbody tr th:only-of-type {\n",
       "        vertical-align: middle;\n",
       "    }\n",
       "\n",
       "    .dataframe tbody tr th {\n",
       "        vertical-align: top;\n",
       "    }\n",
       "\n",
       "    .dataframe thead th {\n",
       "        text-align: right;\n",
       "    }\n",
       "</style>\n",
       "<table border=\"1\" class=\"dataframe\">\n",
       "  <thead>\n",
       "    <tr style=\"text-align: right;\">\n",
       "      <th></th>\n",
       "      <th>Hamilton</th>\n",
       "      <th>Madison</th>\n",
       "      <th>Hamilton_ratio</th>\n",
       "      <th>Madison_ratio</th>\n",
       "    </tr>\n",
       "    <tr>\n",
       "      <th>word</th>\n",
       "      <th></th>\n",
       "      <th></th>\n",
       "      <th></th>\n",
       "      <th></th>\n",
       "    </tr>\n",
       "  </thead>\n",
       "  <tbody>\n",
       "    <tr>\n",
       "      <th>kind</th>\n",
       "      <td>0.001482</td>\n",
       "      <td>0.000085</td>\n",
       "      <td>17.336041</td>\n",
       "      <td>0.057683</td>\n",
       "    </tr>\n",
       "    <tr>\n",
       "      <th>intended</th>\n",
       "      <td>0.000693</td>\n",
       "      <td>0.000043</td>\n",
       "      <td>16.210324</td>\n",
       "      <td>0.061689</td>\n",
       "    </tr>\n",
       "    <tr>\n",
       "      <th>readily</th>\n",
       "      <td>0.000481</td>\n",
       "      <td>0.000043</td>\n",
       "      <td>11.257169</td>\n",
       "      <td>0.088832</td>\n",
       "    </tr>\n",
       "    <tr>\n",
       "      <th>community</th>\n",
       "      <td>0.001347</td>\n",
       "      <td>0.000128</td>\n",
       "      <td>10.506691</td>\n",
       "      <td>0.095177</td>\n",
       "    </tr>\n",
       "    <tr>\n",
       "      <th>commonly</th>\n",
       "      <td>0.000443</td>\n",
       "      <td>0.000043</td>\n",
       "      <td>10.356596</td>\n",
       "      <td>0.096557</td>\n",
       "    </tr>\n",
       "    <tr>\n",
       "      <th>nomination</th>\n",
       "      <td>0.000443</td>\n",
       "      <td>0.000043</td>\n",
       "      <td>10.356596</td>\n",
       "      <td>0.096557</td>\n",
       "    </tr>\n",
       "    <tr>\n",
       "      <th>thirds</th>\n",
       "      <td>0.000423</td>\n",
       "      <td>0.000043</td>\n",
       "      <td>9.906309</td>\n",
       "      <td>0.100946</td>\n",
       "    </tr>\n",
       "    <tr>\n",
       "      <th>matters</th>\n",
       "      <td>0.000404</td>\n",
       "      <td>0.000043</td>\n",
       "      <td>9.456022</td>\n",
       "      <td>0.105753</td>\n",
       "    </tr>\n",
       "    <tr>\n",
       "      <th>information</th>\n",
       "      <td>0.000385</td>\n",
       "      <td>0.000043</td>\n",
       "      <td>9.005735</td>\n",
       "      <td>0.111040</td>\n",
       "    </tr>\n",
       "    <tr>\n",
       "      <th>formation</th>\n",
       "      <td>0.000385</td>\n",
       "      <td>0.000043</td>\n",
       "      <td>9.005735</td>\n",
       "      <td>0.111040</td>\n",
       "    </tr>\n",
       "  </tbody>\n",
       "</table>\n",
       "</div>"
      ],
      "text/plain": [
       "             Hamilton   Madison  Hamilton_ratio  Madison_ratio\n",
       "word                                                          \n",
       "kind         0.001482  0.000085       17.336041       0.057683\n",
       "intended     0.000693  0.000043       16.210324       0.061689\n",
       "readily      0.000481  0.000043       11.257169       0.088832\n",
       "community    0.001347  0.000128       10.506691       0.095177\n",
       "commonly     0.000443  0.000043       10.356596       0.096557\n",
       "nomination   0.000443  0.000043       10.356596       0.096557\n",
       "thirds       0.000423  0.000043        9.906309       0.100946\n",
       "matters      0.000404  0.000043        9.456022       0.105753\n",
       "information  0.000385  0.000043        9.005735       0.111040\n",
       "formation    0.000385  0.000043        9.005735       0.111040"
      ]
     },
     "execution_count": 43,
     "metadata": {},
     "output_type": "execute_result"
    }
   ],
   "source": [
    "# top 10 Hamiltonian words\n",
    "words.sort_values(by='Hamilton_ratio', ascending=False).head(10)"
   ]
  },
  {
   "cell_type": "code",
   "execution_count": 44,
   "metadata": {},
   "outputs": [
    {
     "data": {
      "text/html": [
       "<div>\n",
       "<style scoped>\n",
       "    .dataframe tbody tr th:only-of-type {\n",
       "        vertical-align: middle;\n",
       "    }\n",
       "\n",
       "    .dataframe tbody tr th {\n",
       "        vertical-align: top;\n",
       "    }\n",
       "\n",
       "    .dataframe thead th {\n",
       "        text-align: right;\n",
       "    }\n",
       "</style>\n",
       "<table border=\"1\" class=\"dataframe\">\n",
       "  <thead>\n",
       "    <tr style=\"text-align: right;\">\n",
       "      <th></th>\n",
       "      <th>Hamilton</th>\n",
       "      <th>Madison</th>\n",
       "      <th>Hamilton_ratio</th>\n",
       "      <th>Madison_ratio</th>\n",
       "    </tr>\n",
       "    <tr>\n",
       "      <th>word</th>\n",
       "      <th></th>\n",
       "      <th></th>\n",
       "      <th></th>\n",
       "      <th></th>\n",
       "    </tr>\n",
       "  </thead>\n",
       "  <tbody>\n",
       "    <tr>\n",
       "      <th>democracy</th>\n",
       "      <td>0.000019</td>\n",
       "      <td>0.000470</td>\n",
       "      <td>0.040935</td>\n",
       "      <td>24.428877</td>\n",
       "    </tr>\n",
       "    <tr>\n",
       "      <th>justices</th>\n",
       "      <td>0.000019</td>\n",
       "      <td>0.000427</td>\n",
       "      <td>0.045029</td>\n",
       "      <td>22.208070</td>\n",
       "    </tr>\n",
       "    <tr>\n",
       "      <th>reform</th>\n",
       "      <td>0.000019</td>\n",
       "      <td>0.000342</td>\n",
       "      <td>0.056286</td>\n",
       "      <td>17.766456</td>\n",
       "    </tr>\n",
       "    <tr>\n",
       "      <th>assumed</th>\n",
       "      <td>0.000019</td>\n",
       "      <td>0.000342</td>\n",
       "      <td>0.056286</td>\n",
       "      <td>17.766456</td>\n",
       "    </tr>\n",
       "    <tr>\n",
       "      <th>indirectly</th>\n",
       "      <td>0.000019</td>\n",
       "      <td>0.000299</td>\n",
       "      <td>0.064327</td>\n",
       "      <td>15.545649</td>\n",
       "    </tr>\n",
       "    <tr>\n",
       "      <th>whilst</th>\n",
       "      <td>0.000038</td>\n",
       "      <td>0.000556</td>\n",
       "      <td>0.069275</td>\n",
       "      <td>14.435245</td>\n",
       "    </tr>\n",
       "    <tr>\n",
       "      <th>thirty</th>\n",
       "      <td>0.000019</td>\n",
       "      <td>0.000256</td>\n",
       "      <td>0.075048</td>\n",
       "      <td>13.324842</td>\n",
       "    </tr>\n",
       "    <tr>\n",
       "      <th>unanimous</th>\n",
       "      <td>0.000019</td>\n",
       "      <td>0.000256</td>\n",
       "      <td>0.075048</td>\n",
       "      <td>13.324842</td>\n",
       "    </tr>\n",
       "    <tr>\n",
       "      <th>enlarge</th>\n",
       "      <td>0.000019</td>\n",
       "      <td>0.000256</td>\n",
       "      <td>0.075048</td>\n",
       "      <td>13.324842</td>\n",
       "    </tr>\n",
       "    <tr>\n",
       "      <th>patient</th>\n",
       "      <td>0.000019</td>\n",
       "      <td>0.000256</td>\n",
       "      <td>0.075048</td>\n",
       "      <td>13.324842</td>\n",
       "    </tr>\n",
       "  </tbody>\n",
       "</table>\n",
       "</div>"
      ],
      "text/plain": [
       "            Hamilton   Madison  Hamilton_ratio  Madison_ratio\n",
       "word                                                         \n",
       "democracy   0.000019  0.000470        0.040935      24.428877\n",
       "justices    0.000019  0.000427        0.045029      22.208070\n",
       "reform      0.000019  0.000342        0.056286      17.766456\n",
       "assumed     0.000019  0.000342        0.056286      17.766456\n",
       "indirectly  0.000019  0.000299        0.064327      15.545649\n",
       "whilst      0.000038  0.000556        0.069275      14.435245\n",
       "thirty      0.000019  0.000256        0.075048      13.324842\n",
       "unanimous   0.000019  0.000256        0.075048      13.324842\n",
       "enlarge     0.000019  0.000256        0.075048      13.324842\n",
       "patient     0.000019  0.000256        0.075048      13.324842"
      ]
     },
     "execution_count": 44,
     "metadata": {},
     "output_type": "execute_result"
    }
   ],
   "source": [
    "# top 10 Madisonian words\n",
    "words.sort_values(by='Madison_ratio', ascending=False).head(10)"
   ]
  },
  {
   "cell_type": "markdown",
   "metadata": {},
   "source": [
    "## 6. Parameter tuning using grid search"
   ]
  },
  {
   "cell_type": "code",
   "execution_count": 45,
   "metadata": {},
   "outputs": [],
   "source": [
    "from sklearn.pipeline import Pipeline\n",
    "from sklearn.feature_extraction.text import TfidfTransformer # term-frequency transformer\n",
    "from sklearn.model_selection import GridSearchCV"
   ]
  },
  {
   "cell_type": "code",
   "execution_count": 46,
   "metadata": {},
   "outputs": [
    {
     "data": {
      "text/plain": [
       "Pipeline(steps=[('vect', CountVectorizer()), ('naive_bayes', MultinomialNB())])"
      ]
     },
     "execution_count": 46,
     "metadata": {},
     "output_type": "execute_result"
    }
   ],
   "source": [
    "pipe = Pipeline(steps=\n",
    "               [('vect', CountVectorizer()),\n",
    "                #('tfidf', TfidfTransformer()),\n",
    "                ('naive_bayes', MultinomialNB())])\n",
    "pipe"
   ]
  },
  {
   "cell_type": "code",
   "execution_count": 47,
   "metadata": {},
   "outputs": [],
   "source": [
    "# parameter dictionary\n",
    "param_dict = {'vect__ngram_range': [(1, 1), (1, 2)], # (1,1) : use 1-grams (words); (1,2) : use 1 and 2 grams\n",
    "              'vect__stop_words' : ['english',None],\n",
    "              #'tfidf__use_idf': (True, False),\n",
    "              'naive_bayes__alpha' : [0.0001, 0.001, 0.01,0.1, 1]} "
   ]
  },
  {
   "cell_type": "code",
   "execution_count": 48,
   "metadata": {},
   "outputs": [],
   "source": [
    "# grid search\n",
    "grid = GridSearchCV(pipe, param_dict, cv=4, scoring='accuracy')"
   ]
  },
  {
   "cell_type": "code",
   "execution_count": 49,
   "metadata": {},
   "outputs": [
    {
     "data": {
      "text/plain": [
       "GridSearchCV(cv=4,\n",
       "             estimator=Pipeline(steps=[('vect', CountVectorizer()),\n",
       "                                       ('naive_bayes', MultinomialNB())]),\n",
       "             param_grid={'naive_bayes__alpha': [0.0001, 0.001, 0.01, 0.1, 1],\n",
       "                         'vect__ngram_range': [(1, 1), (1, 2)],\n",
       "                         'vect__stop_words': ['english', None]},\n",
       "             scoring='accuracy')"
      ]
     },
     "execution_count": 49,
     "metadata": {},
     "output_type": "execute_result"
    }
   ],
   "source": [
    "grid.fit(X_train,y_train)"
   ]
  },
  {
   "cell_type": "code",
   "execution_count": 50,
   "metadata": {},
   "outputs": [
    {
     "data": {
      "text/plain": [
       "0.8284313725490196"
      ]
     },
     "execution_count": 50,
     "metadata": {},
     "output_type": "execute_result"
    }
   ],
   "source": [
    "grid.best_score_"
   ]
  },
  {
   "cell_type": "code",
   "execution_count": 51,
   "metadata": {},
   "outputs": [
    {
     "data": {
      "text/plain": [
       "{'naive_bayes__alpha': 0.1,\n",
       " 'vect__ngram_range': (1, 1),\n",
       " 'vect__stop_words': None}"
      ]
     },
     "execution_count": 51,
     "metadata": {},
     "output_type": "execute_result"
    }
   ],
   "source": [
    "grid.best_params_"
   ]
  },
  {
   "cell_type": "code",
   "execution_count": 52,
   "metadata": {},
   "outputs": [
    {
     "data": {
      "text/plain": [
       "Pipeline(steps=[('vect', CountVectorizer()), ('naive_bayes', MultinomialNB())])"
      ]
     },
     "execution_count": 52,
     "metadata": {},
     "output_type": "execute_result"
    }
   ],
   "source": [
    "best_predictor = grid.estimator\n",
    "best_predictor"
   ]
  },
  {
   "cell_type": "code",
   "execution_count": 53,
   "metadata": {
    "scrolled": false
   },
   "outputs": [
    {
     "data": {
      "text/plain": [
       "array(['Hamilton', 'Madison', 'Madison', 'Hamilton', 'Hamilton',\n",
       "       'Hamilton', 'Hamilton', 'Hamilton', 'Hamilton', 'Hamilton',\n",
       "       'Hamilton', 'Hamilton'], dtype='<U8')"
      ]
     },
     "execution_count": 53,
     "metadata": {},
     "output_type": "execute_result"
    }
   ],
   "source": [
    "best_predictor.fit(X_train,y_train)\n",
    "y_test_pred = best_predictor.predict(X_test)\n",
    "y_test_pred"
   ]
  },
  {
   "cell_type": "markdown",
   "metadata": {},
   "source": [
    "## 7. Data Visualization"
   ]
  },
  {
   "cell_type": "code",
   "execution_count": 54,
   "metadata": {},
   "outputs": [
    {
     "data": {
      "text/plain": [
       "(70, 7732)"
      ]
     },
     "execution_count": 54,
     "metadata": {},
     "output_type": "execute_result"
    }
   ],
   "source": [
    "X_train_dtm.shape"
   ]
  },
  {
   "cell_type": "markdown",
   "metadata": {},
   "source": [
    "We'll use a Linear Algebra technique called Principal Component Analysis (PCA) to reduce the dimension down to 2 and 3."
   ]
  },
  {
   "cell_type": "code",
   "execution_count": 55,
   "metadata": {},
   "outputs": [],
   "source": [
    "from sklearn.decomposition import PCA"
   ]
  },
  {
   "cell_type": "markdown",
   "metadata": {},
   "source": [
    "**2d visualization**"
   ]
  },
  {
   "cell_type": "markdown",
   "metadata": {},
   "source": [
    "PCA identifies the plane that lies closest to the data, and then it projects the data onto it."
   ]
  },
  {
   "cell_type": "code",
   "execution_count": 56,
   "metadata": {},
   "outputs": [],
   "source": [
    "pca = PCA(n_components=2)"
   ]
  },
  {
   "cell_type": "code",
   "execution_count": 57,
   "metadata": {},
   "outputs": [],
   "source": [
    "pca.fit(X_train_dtm.toarray())\n",
    "X_train_dtm_reduced = pca.transform(X_train_dtm.toarray())"
   ]
  },
  {
   "cell_type": "code",
   "execution_count": 58,
   "metadata": {},
   "outputs": [
    {
     "data": {
      "text/plain": [
       "(70, 2)"
      ]
     },
     "execution_count": 58,
     "metadata": {},
     "output_type": "execute_result"
    }
   ],
   "source": [
    "X_train_dtm_reduced.shape"
   ]
  },
  {
   "cell_type": "code",
   "execution_count": 59,
   "metadata": {},
   "outputs": [],
   "source": [
    "X_test_dtm_reduced = pca.transform(X_test_dtm.toarray())"
   ]
  },
  {
   "cell_type": "code",
   "execution_count": 60,
   "metadata": {},
   "outputs": [],
   "source": [
    "import matplotlib.pyplot as plt"
   ]
  },
  {
   "cell_type": "code",
   "execution_count": 61,
   "metadata": {},
   "outputs": [
    {
     "data": {
      "text/plain": [
       "<matplotlib.legend.Legend at 0x1dfd41fb848>"
      ]
     },
     "execution_count": 61,
     "metadata": {},
     "output_type": "execute_result"
    },
    {
     "data": {
      "image/png": "[encoded data removed]",
      "text/plain": [
       "<Figure size 864x360 with 1 Axes>"
      ]
     },
     "metadata": {
      "needs_background": "light"
     },
     "output_type": "display_data"
    }
   ],
   "source": [
    "plt.figure(figsize=(12,5))\n",
    "plt.plot(X_train_dtm_reduced[y_train=='Hamilton',0],X_train_dtm_reduced[y_train=='Hamilton',1],'bo', label='Hamilton')\n",
    "plt.plot(X_train_dtm_reduced[y_train=='Madison',0],X_train_dtm_reduced[y_train=='Madison',1],'ro', label='Madison')\n",
    "plt.plot(X_train_dtm_reduced[y_train=='Jay',0],X_train_dtm_reduced[y_train=='Jay',1],'yo', label='Jay')\n",
    "plt.plot(X_test_dtm_reduced[:,0],X_test_dtm_reduced[:,1],'go', label='Disputed')\n",
    "plt.legend(fontsize=20)"
   ]
  },
  {
   "cell_type": "markdown",
   "metadata": {},
   "source": [
    "**3d visualization**"
   ]
  },
  {
   "cell_type": "code",
   "execution_count": 62,
   "metadata": {},
   "outputs": [],
   "source": [
    "pca = PCA(n_components=3)"
   ]
  },
  {
   "cell_type": "code",
   "execution_count": 63,
   "metadata": {},
   "outputs": [],
   "source": [
    "pca.fit(X_train_dtm.toarray())\n",
    "X_train_dtm_reduced = pca.transform(X_train_dtm.toarray())"
   ]
  },
  {
   "cell_type": "code",
   "execution_count": 64,
   "metadata": {},
   "outputs": [
    {
     "data": {
      "text/plain": [
       "(70, 3)"
      ]
     },
     "execution_count": 64,
     "metadata": {},
     "output_type": "execute_result"
    }
   ],
   "source": [
    "X_train_dtm_reduced.shape"
   ]
  },
  {
   "cell_type": "code",
   "execution_count": 65,
   "metadata": {},
   "outputs": [],
   "source": [
    "X_test_dtm_reduced = pca.transform(X_test_dtm.toarray())"
   ]
  },
  {
   "cell_type": "code",
   "execution_count": 66,
   "metadata": {},
   "outputs": [
    {
     "data": {
      "application/javascript": [
       "/* Put everything inside the global mpl namespace */\n",
       "/* global mpl */\n",
       "window.mpl = {};\n",
       "\n",
       "mpl.get_websocket_type = function () {\n",
       "    if (typeof WebSocket !== 'undefined') {\n",
       "        return WebSocket;\n",
       "    } else if (typeof MozWebSocket !== 'undefined') {\n",
       "        return MozWebSocket;\n",
       "    } else {\n",
       "        alert(\n",
       "            'Your browser does not have WebSocket support. ' +\n",
       "                'Please try Chrome, Safari or Firefox ≥ 6. ' +\n",
       "                'Firefox 4 and 5 are also supported but you ' +\n",
       "                'have to enable WebSockets in about:config.'\n",
       "        );\n",
       "    }\n",
       "};\n",
       "\n",
       "mpl.figure = function (figure_id, websocket, ondownload, parent_element) {\n",
       "    this.id = figure_id;\n",
       "\n",
       "    this.ws = websocket;\n",
       "\n",
       "    this.supports_binary = this.ws.binaryType !== undefined;\n",
       "\n",
       "    if (!this.supports_binary) {\n",
       "        var warnings = document.getElementById('mpl-warnings');\n",
       "        if (warnings) {\n",
       "            warnings.style.display = 'block';\n",
       "            warnings.textContent =\n",
       "                'This browser does not support binary websocket messages. ' +\n",
       "                'Performance may be slow.';\n",
       "        }\n",
       "    }\n",
       "\n",
       "    this.imageObj = new Image();\n",
       "\n",
       "    this.context = undefined;\n",
       "    this.message = undefined;\n",
       "    this.canvas = undefined;\n",
       "    this.rubberband_canvas = undefined;\n",
       "    this.rubberband_context = undefined;\n",
       "    this.format_dropdown = undefined;\n",
       "\n",
       "    this.image_mode = 'full';\n",
       "\n",
       "    this.root = document.createElement('div');\n",
       "    this.root.setAttribute('style', 'display: inline-block');\n",
       "    this._root_extra_style(this.root);\n",
       "\n",
       "    parent_element.appendChild(this.root);\n",
       "\n",
       "    this._init_header(this);\n",
       "    this._init_canvas(this);\n",
       "    this._init_toolbar(this);\n",
       "\n",
       "    var fig = this;\n",
       "\n",
       "    this.waiting = false;\n",
       "\n",
       "    this.ws.onopen = function () {\n",
       "        fig.send_message('supports_binary', { value: fig.supports_binary });\n",
       "        fig.send_message('send_image_mode', {});\n",
       "        if (mpl.ratio !== 1) {\n",
       "            fig.send_message('set_dpi_ratio', { dpi_ratio: mpl.ratio });\n",
       "        }\n",
       "        fig.send_message('refresh', {});\n",
       "    };\n",
       "\n",
       "    this.imageObj.onload = function () {\n",
       "        if (fig.image_mode === 'full') {\n",
       "            // Full images could contain transparency (where diff images\n",
       "            // almost always do), so we need to clear the canvas so that\n",
       "            // there is no ghosting.\n",
       "            fig.context.clearRect(0, 0, fig.canvas.width, fig.canvas.height);\n",
       "        }\n",
       "        fig.context.drawImage(fig.imageObj, 0, 0);\n",
       "    };\n",
       "\n",
       "    this.imageObj.onunload = function () {\n",
       "        fig.ws.close();\n",
       "    };\n",
       "\n",
       "    this.ws.onmessage = this._make_on_message_function(this);\n",
       "\n",
       "    this.ondownload = ondownload;\n",
       "};\n",
       "\n",
       "mpl.figure.prototype._init_header = function () {\n",
       "    var titlebar = document.createElement('div');\n",
       "    titlebar.classList =\n",
       "        'ui-dialog-titlebar ui-widget-header ui-corner-all ui-helper-clearfix';\n",
       "    var titletext = document.createElement('div');\n",
       "    titletext.classList = 'ui-dialog-title';\n",
       "    titletext.setAttribute(\n",
       "        'style',\n",
       "        'width: 100%; text-align: center; padding: 3px;'\n",
       "    );\n",
       "    titlebar.appendChild(titletext);\n",
       "    this.root.appendChild(titlebar);\n",
       "    this.header = titletext;\n",
       "};\n",
       "\n",
       "mpl.figure.prototype._canvas_extra_style = function (_canvas_div) {};\n",
       "\n",
       "mpl.figure.prototype._root_extra_style = function (_canvas_div) {};\n",
       "\n",
       "mpl.figure.prototype._init_canvas = function () {\n",
       "    var fig = this;\n",
       "\n",
       "    var canvas_div = (this.canvas_div = document.createElement('div'));\n",
       "    canvas_div.setAttribute(\n",
       "        'style',\n",
       "        'border: 1px solid #ddd;' +\n",
       "            'box-sizing: content-box;' +\n",
       "            'clear: both;' +\n",
       "            'min-height: 1px;' +\n",
       "            'min-width: 1px;' +\n",
       "            'outline: 0;' +\n",
       "            'overflow: hidden;' +\n",
       "            'position: relative;' +\n",
       "            'resize: both;'\n",
       "    );\n",
       "\n",
       "    function on_keyboard_event_closure(name) {\n",
       "        return function (event) {\n",
       "            return fig.key_event(event, name);\n",
       "        };\n",
       "    }\n",
       "\n",
       "    canvas_div.addEventListener(\n",
       "        'keydown',\n",
       "        on_keyboard_event_closure('key_press')\n",
       "    );\n",
       "    canvas_div.addEventListener(\n",
       "        'keyup',\n",
       "        on_keyboard_event_closure('key_release')\n",
       "    );\n",
       "\n",
       "    this._canvas_extra_style(canvas_div);\n",
       "    this.root.appendChild(canvas_div);\n",
       "\n",
       "    var canvas = (this.canvas = document.createElement('canvas'));\n",
       "    canvas.classList.add('mpl-canvas');\n",
       "    canvas.setAttribute('style', 'box-sizing: content-box;');\n",
       "\n",
       "    this.context = canvas.getContext('2d');\n",
       "\n",
       "    var backingStore =\n",
       "        this.context.backingStorePixelRatio ||\n",
       "        this.context.webkitBackingStorePixelRatio ||\n",
       "        this.context.mozBackingStorePixelRatio ||\n",
       "        this.context.msBackingStorePixelRatio ||\n",
       "        this.context.oBackingStorePixelRatio ||\n",
       "        this.context.backingStorePixelRatio ||\n",
       "        1;\n",
       "\n",
       "    mpl.ratio = (window.devicePixelRatio || 1) / backingStore;\n",
       "\n",
       "    var rubberband_canvas = (this.rubberband_canvas = document.createElement(\n",
       "        'canvas'\n",
       "    ));\n",
       "    rubberband_canvas.setAttribute(\n",
       "        'style',\n",
       "        'box-sizing: content-box; position: absolute; left: 0; top: 0; z-index: 1;'\n",
       "    );\n",
       "\n",
       "    var resizeObserver = new ResizeObserver(function (entries) {\n",
       "        var nentries = entries.length;\n",
       "        for (var i = 0; i < nentries; i++) {\n",
       "            var entry = entries[i];\n",
       "            var width, height;\n",
       "            if (entry.contentBoxSize) {\n",
       "                if (entry.contentBoxSize instanceof Array) {\n",
       "                    // Chrome 84 implements new version of spec.\n",
       "                    width = entry.contentBoxSize[0].inlineSize;\n",
       "                    height = entry.contentBoxSize[0].blockSize;\n",
       "                } else {\n",
       "                    // Firefox implements old version of spec.\n",
       "                    width = entry.contentBoxSize.inlineSize;\n",
       "                    height = entry.contentBoxSize.blockSize;\n",
       "                }\n",
       "            } else {\n",
       "                // Chrome <84 implements even older version of spec.\n",
       "                width = entry.contentRect.width;\n",
       "                height = entry.contentRect.height;\n",
       "            }\n",
       "\n",
       "            // Keep the size of the canvas and rubber band canvas in sync with\n",
       "            // the canvas container.\n",
       "            if (entry.devicePixelContentBoxSize) {\n",
       "                // Chrome 84 implements new version of spec.\n",
       "                canvas.setAttribute(\n",
       "                    'width',\n",
       "                    entry.devicePixelContentBoxSize[0].inlineSize\n",
       "                );\n",
       "                canvas.setAttribute(\n",
       "                    'height',\n",
       "                    entry.devicePixelContentBoxSize[0].blockSize\n",
       "                );\n",
       "            } else {\n",
       "                canvas.setAttribute('width', width * mpl.ratio);\n",
       "                canvas.setAttribute('height', height * mpl.ratio);\n",
       "            }\n",
       "            canvas.setAttribute(\n",
       "                'style',\n",
       "                'width: ' + width + 'px; height: ' + height + 'px;'\n",
       "            );\n",
       "\n",
       "            rubberband_canvas.setAttribute('width', width);\n",
       "            rubberband_canvas.setAttribute('height', height);\n",
       "\n",
       "            // And update the size in Python. We ignore the initial 0/0 size\n",
       "            // that occurs as the element is placed into the DOM, which should\n",
       "            // otherwise not happen due to the minimum size styling.\n",
       "            if (width != 0 && height != 0) {\n",
       "                fig.request_resize(width, height);\n",
       "            }\n",
       "        }\n",
       "    });\n",
       "    resizeObserver.observe(canvas_div);\n",
       "\n",
       "    function on_mouse_event_closure(name) {\n",
       "        return function (event) {\n",
       "            return fig.mouse_event(event, name);\n",
       "        };\n",
       "    }\n",
       "\n",
       "    rubberband_canvas.addEventListener(\n",
       "        'mousedown',\n",
       "        on_mouse_event_closure('button_press')\n",
       "    );\n",
       "    rubberband_canvas.addEventListener(\n",
       "        'mouseup',\n",
       "        on_mouse_event_closure('button_release')\n",
       "    );\n",
       "    // Throttle sequential mouse events to 1 every 20ms.\n",
       "    rubberband_canvas.addEventListener(\n",
       "        'mousemove',\n",
       "        on_mouse_event_closure('motion_notify')\n",
       "    );\n",
       "\n",
       "    rubberband_canvas.addEventListener(\n",
       "        'mouseenter',\n",
       "        on_mouse_event_closure('figure_enter')\n",
       "    );\n",
       "    rubberband_canvas.addEventListener(\n",
       "        'mouseleave',\n",
       "        on_mouse_event_closure('figure_leave')\n",
       "    );\n",
       "\n",
       "    canvas_div.addEventListener('wheel', function (event) {\n",
       "        if (event.deltaY < 0) {\n",
       "            event.step = 1;\n",
       "        } else {\n",
       "            event.step = -1;\n",
       "        }\n",
       "        on_mouse_event_closure('scroll')(event);\n",
       "    });\n",
       "\n",
       "    canvas_div.appendChild(canvas);\n",
       "    canvas_div.appendChild(rubberband_canvas);\n",
       "\n",
       "    this.rubberband_context = rubberband_canvas.getContext('2d');\n",
       "    this.rubberband_context.strokeStyle = '#000000';\n",
       "\n",
       "    this._resize_canvas = function (width, height, forward) {\n",
       "        if (forward) {\n",
       "            canvas_div.style.width = width + 'px';\n",
       "            canvas_div.style.height = height + 'px';\n",
       "        }\n",
       "    };\n",
       "\n",
       "    // Disable right mouse context menu.\n",
       "    this.rubberband_canvas.addEventListener('contextmenu', function (_e) {\n",
       "        event.preventDefault();\n",
       "        return false;\n",
       "    });\n",
       "\n",
       "    function set_focus() {\n",
       "        canvas.focus();\n",
       "        canvas_div.focus();\n",
       "    }\n",
       "\n",
       "    window.setTimeout(set_focus, 100);\n",
       "};\n",
       "\n",
       "mpl.figure.prototype._init_toolbar = function () {\n",
       "    var fig = this;\n",
       "\n",
       "    var toolbar = document.createElement('div');\n",
       "    toolbar.classList = 'mpl-toolbar';\n",
       "    this.root.appendChild(toolbar);\n",
       "\n",
       "    function on_click_closure(name) {\n",
       "        return function (_event) {\n",
       "            return fig.toolbar_button_onclick(name);\n",
       "        };\n",
       "    }\n",
       "\n",
       "    function on_mouseover_closure(tooltip) {\n",
       "        return function (event) {\n",
       "            if (!event.currentTarget.disabled) {\n",
       "                return fig.toolbar_button_onmouseover(tooltip);\n",
       "            }\n",
       "        };\n",
       "    }\n",
       "\n",
       "    fig.buttons = {};\n",
       "    var buttonGroup = document.createElement('div');\n",
       "    buttonGroup.classList = 'mpl-button-group';\n",
       "    for (var toolbar_ind in mpl.toolbar_items) {\n",
       "        var name = mpl.toolbar_items[toolbar_ind][0];\n",
       "        var tooltip = mpl.toolbar_items[toolbar_ind][1];\n",
       "        var image = mpl.toolbar_items[toolbar_ind][2];\n",
       "        var method_name = mpl.toolbar_items[toolbar_ind][3];\n",
       "\n",
       "        if (!name) {\n",
       "            /* Instead of a spacer, we start a new button group. */\n",
       "            if (buttonGroup.hasChildNodes()) {\n",
       "                toolbar.appendChild(buttonGroup);\n",
       "            }\n",
       "            buttonGroup = document.createElement('div');\n",
       "            buttonGroup.classList = 'mpl-button-group';\n",
       "            continue;\n",
       "        }\n",
       "\n",
       "        var button = (fig.buttons[name] = document.createElement('button'));\n",
       "        button.classList = 'mpl-widget';\n",
       "        button.setAttribute('role', 'button');\n",
       "        button.setAttribute('aria-disabled', 'false');\n",
       "        button.addEventListener('click', on_click_closure(method_name));\n",
       "        button.addEventListener('mouseover', on_mouseover_closure(tooltip));\n",
       "\n",
       "        var icon_img = document.createElement('img');\n",
       "        icon_img.src = '_images/' + image + '.png';\n",
       "        icon_img.srcset = '_images/' + image + '_large.png 2x';\n",
       "        icon_img.alt = tooltip;\n",
       "        button.appendChild(icon_img);\n",
       "\n",
       "        buttonGroup.appendChild(button);\n",
       "    }\n",
       "\n",
       "    if (buttonGroup.hasChildNodes()) {\n",
       "        toolbar.appendChild(buttonGroup);\n",
       "    }\n",
       "\n",
       "    var fmt_picker = document.createElement('select');\n",
       "    fmt_picker.classList = 'mpl-widget';\n",
       "    toolbar.appendChild(fmt_picker);\n",
       "    this.format_dropdown = fmt_picker;\n",
       "\n",
       "    for (var ind in mpl.extensions) {\n",
       "        var fmt = mpl.extensions[ind];\n",
       "        var option = document.createElement('option');\n",
       "        option.selected = fmt === mpl.default_extension;\n",
       "        option.innerHTML = fmt;\n",
       "        fmt_picker.appendChild(option);\n",
       "    }\n",
       "\n",
       "    var status_bar = document.createElement('span');\n",
       "    status_bar.classList = 'mpl-message';\n",
       "    toolbar.appendChild(status_bar);\n",
       "    this.message = status_bar;\n",
       "};\n",
       "\n",
       "mpl.figure.prototype.request_resize = function (x_pixels, y_pixels) {\n",
       "    // Request matplotlib to resize the figure. Matplotlib will then trigger a resize in the client,\n",
       "    // which will in turn request a refresh of the image.\n",
       "    this.send_message('resize', { width: x_pixels, height: y_pixels });\n",
       "};\n",
       "\n",
       "mpl.figure.prototype.send_message = function (type, properties) {\n",
       "    properties['type'] = type;\n",
       "    properties['figure_id'] = this.id;\n",
       "    this.ws.send(JSON.stringify(properties));\n",
       "};\n",
       "\n",
       "mpl.figure.prototype.send_draw_message = function () {\n",
       "    if (!this.waiting) {\n",
       "        this.waiting = true;\n",
       "        this.ws.send(JSON.stringify({ type: 'draw', figure_id: this.id }));\n",
       "    }\n",
       "};\n",
       "\n",
       "mpl.figure.prototype.handle_save = function (fig, _msg) {\n",
       "    var format_dropdown = fig.format_dropdown;\n",
       "    var format = format_dropdown.options[format_dropdown.selectedIndex].value;\n",
       "    fig.ondownload(fig, format);\n",
       "};\n",
       "\n",
       "mpl.figure.prototype.handle_resize = function (fig, msg) {\n",
       "    var size = msg['size'];\n",
       "    if (size[0] !== fig.canvas.width || size[1] !== fig.canvas.height) {\n",
       "        fig._resize_canvas(size[0], size[1], msg['forward']);\n",
       "        fig.send_message('refresh', {});\n",
       "    }\n",
       "};\n",
       "\n",
       "mpl.figure.prototype.handle_rubberband = function (fig, msg) {\n",
       "    var x0 = msg['x0'] / mpl.ratio;\n",
       "    var y0 = (fig.canvas.height - msg['y0']) / mpl.ratio;\n",
       "    var x1 = msg['x1'] / mpl.ratio;\n",
       "    var y1 = (fig.canvas.height - msg['y1']) / mpl.ratio;\n",
       "    x0 = Math.floor(x0) + 0.5;\n",
       "    y0 = Math.floor(y0) + 0.5;\n",
       "    x1 = Math.floor(x1) + 0.5;\n",
       "    y1 = Math.floor(y1) + 0.5;\n",
       "    var min_x = Math.min(x0, x1);\n",
       "    var min_y = Math.min(y0, y1);\n",
       "    var width = Math.abs(x1 - x0);\n",
       "    var height = Math.abs(y1 - y0);\n",
       "\n",
       "    fig.rubberband_context.clearRect(\n",
       "        0,\n",
       "        0,\n",
       "        fig.canvas.width / mpl.ratio,\n",
       "        fig.canvas.height / mpl.ratio\n",
       "    );\n",
       "\n",
       "    fig.rubberband_context.strokeRect(min_x, min_y, width, height);\n",
       "};\n",
       "\n",
       "mpl.figure.prototype.handle_figure_label = function (fig, msg) {\n",
       "    // Updates the figure title.\n",
       "    fig.header.textContent = msg['label'];\n",
       "};\n",
       "\n",
       "mpl.figure.prototype.handle_cursor = function (fig, msg) {\n",
       "    var cursor = msg['cursor'];\n",
       "    switch (cursor) {\n",
       "        case 0:\n",
       "            cursor = 'pointer';\n",
       "            break;\n",
       "        case 1:\n",
       "            cursor = 'default';\n",
       "            break;\n",
       "        case 2:\n",
       "            cursor = 'crosshair';\n",
       "            break;\n",
       "        case 3:\n",
       "            cursor = 'move';\n",
       "            break;\n",
       "    }\n",
       "    fig.rubberband_canvas.style.cursor = cursor;\n",
       "};\n",
       "\n",
       "mpl.figure.prototype.handle_message = function (fig, msg) {\n",
       "    fig.message.textContent = msg['message'];\n",
       "};\n",
       "\n",
       "mpl.figure.prototype.handle_draw = function (fig, _msg) {\n",
       "    // Request the server to send over a new figure.\n",
       "    fig.send_draw_message();\n",
       "};\n",
       "\n",
       "mpl.figure.prototype.handle_image_mode = function (fig, msg) {\n",
       "    fig.image_mode = msg['mode'];\n",
       "};\n",
       "\n",
       "mpl.figure.prototype.handle_history_buttons = function (fig, msg) {\n",
       "    for (var key in msg) {\n",
       "        if (!(key in fig.buttons)) {\n",
       "            continue;\n",
       "        }\n",
       "        fig.buttons[key].disabled = !msg[key];\n",
       "        fig.buttons[key].setAttribute('aria-disabled', !msg[key]);\n",
       "    }\n",
       "};\n",
       "\n",
       "mpl.figure.prototype.handle_navigate_mode = function (fig, msg) {\n",
       "    if (msg['mode'] === 'PAN') {\n",
       "        fig.buttons['Pan'].classList.add('active');\n",
       "        fig.buttons['Zoom'].classList.remove('active');\n",
       "    } else if (msg['mode'] === 'ZOOM') {\n",
       "        fig.buttons['Pan'].classList.remove('active');\n",
       "        fig.buttons['Zoom'].classList.add('active');\n",
       "    } else {\n",
       "        fig.buttons['Pan'].classList.remove('active');\n",
       "        fig.buttons['Zoom'].classList.remove('active');\n",
       "    }\n",
       "};\n",
       "\n",
       "mpl.figure.prototype.updated_canvas_event = function () {\n",
       "    // Called whenever the canvas gets updated.\n",
       "    this.send_message('ack', {});\n",
       "};\n",
       "\n",
       "// A function to construct a web socket function for onmessage handling.\n",
       "// Called in the figure constructor.\n",
       "mpl.figure.prototype._make_on_message_function = function (fig) {\n",
       "    return function socket_on_message(evt) {\n",
       "        if (evt.data instanceof Blob) {\n",
       "            /* FIXME: We get \"Resource interpreted as Image but\n",
       "             * transferred with MIME type text/plain:\" errors on\n",
       "             * Chrome.  But how to set the MIME type?  It doesn't seem\n",
       "             * to be part of the websocket stream */\n",
       "            evt.data.type = 'image/png';\n",
       "\n",
       "            /* Free the memory for the previous frames */\n",
       "            if (fig.imageObj.src) {\n",
       "                (window.URL || window.webkitURL).revokeObjectURL(\n",
       "                    fig.imageObj.src\n",
       "                );\n",
       "            }\n",
       "\n",
       "            fig.imageObj.src = (window.URL || window.webkitURL).createObjectURL(\n",
       "                evt.data\n",
       "            );\n",
       "            fig.updated_canvas_event();\n",
       "            fig.waiting = false;\n",
       "            return;\n",
       "        } else if (\n",
       "            typeof evt.data === 'string' &&\n",
       "            evt.data.slice(0, 21) === 'data:image/png;base64'\n",
       "        ) {\n",
       "            fig.imageObj.src = evt.data;\n",
       "            fig.updated_canvas_event();\n",
       "            fig.waiting = false;\n",
       "            return;\n",
       "        }\n",
       "\n",
       "        var msg = JSON.parse(evt.data);\n",
       "        var msg_type = msg['type'];\n",
       "\n",
       "        // Call the  \"handle_{type}\" callback, which takes\n",
       "        // the figure and JSON message as its only arguments.\n",
       "        try {\n",
       "            var callback = fig['handle_' + msg_type];\n",
       "        } catch (e) {\n",
       "            console.log(\n",
       "                \"No handler for the '\" + msg_type + \"' message type: \",\n",
       "                msg\n",
       "            );\n",
       "            return;\n",
       "        }\n",
       "\n",
       "        if (callback) {\n",
       "            try {\n",
       "                // console.log(\"Handling '\" + msg_type + \"' message: \", msg);\n",
       "                callback(fig, msg);\n",
       "            } catch (e) {\n",
       "                console.log(\n",
       "                    \"Exception inside the 'handler_\" + msg_type + \"' callback:\",\n",
       "                    e,\n",
       "                    e.stack,\n",
       "                    msg\n",
       "                );\n",
       "            }\n",
       "        }\n",
       "    };\n",
       "};\n",
       "\n",
       "// from http://stackoverflow.com/questions/1114465/getting-mouse-location-in-canvas\n",
       "mpl.findpos = function (e) {\n",
       "    //this section is from http://www.quirksmode.org/js/events_properties.html\n",
       "    var targ;\n",
       "    if (!e) {\n",
       "        e = window.event;\n",
       "    }\n",
       "    if (e.target) {\n",
       "        targ = e.target;\n",
       "    } else if (e.srcElement) {\n",
       "        targ = e.srcElement;\n",
       "    }\n",
       "    if (targ.nodeType === 3) {\n",
       "        // defeat Safari bug\n",
       "        targ = targ.parentNode;\n",
       "    }\n",
       "\n",
       "    // pageX,Y are the mouse positions relative to the document\n",
       "    var boundingRect = targ.getBoundingClientRect();\n",
       "    var x = e.pageX - (boundingRect.left + document.body.scrollLeft);\n",
       "    var y = e.pageY - (boundingRect.top + document.body.scrollTop);\n",
       "\n",
       "    return { x: x, y: y };\n",
       "};\n",
       "\n",
       "/*\n",
       " * return a copy of an object with only non-object keys\n",
       " * we need this to avoid circular references\n",
       " * http://stackoverflow.com/a/24161582/3208463\n",
       " */\n",
       "function simpleKeys(original) {\n",
       "    return Object.keys(original).reduce(function (obj, key) {\n",
       "        if (typeof original[key] !== 'object') {\n",
       "            obj[key] = original[key];\n",
       "        }\n",
       "        return obj;\n",
       "    }, {});\n",
       "}\n",
       "\n",
       "mpl.figure.prototype.mouse_event = function (event, name) {\n",
       "    var canvas_pos = mpl.findpos(event);\n",
       "\n",
       "    if (name === 'button_press') {\n",
       "        this.canvas.focus();\n",
       "        this.canvas_div.focus();\n",
       "    }\n",
       "\n",
       "    var x = canvas_pos.x * mpl.ratio;\n",
       "    var y = canvas_pos.y * mpl.ratio;\n",
       "\n",
       "    this.send_message(name, {\n",
       "        x: x,\n",
       "        y: y,\n",
       "        button: event.button,\n",
       "        step: event.step,\n",
       "        guiEvent: simpleKeys(event),\n",
       "    });\n",
       "\n",
       "    /* This prevents the web browser from automatically changing to\n",
       "     * the text insertion cursor when the button is pressed.  We want\n",
       "     * to control all of the cursor setting manually through the\n",
       "     * 'cursor' event from matplotlib */\n",
       "    event.preventDefault();\n",
       "    return false;\n",
       "};\n",
       "\n",
       "mpl.figure.prototype._key_event_extra = function (_event, _name) {\n",
       "    // Handle any extra behaviour associated with a key event\n",
       "};\n",
       "\n",
       "mpl.figure.prototype.key_event = function (event, name) {\n",
       "    // Prevent repeat events\n",
       "    if (name === 'key_press') {\n",
       "        if (event.which === this._key) {\n",
       "            return;\n",
       "        } else {\n",
       "            this._key = event.which;\n",
       "        }\n",
       "    }\n",
       "    if (name === 'key_release') {\n",
       "        this._key = null;\n",
       "    }\n",
       "\n",
       "    var value = '';\n",
       "    if (event.ctrlKey && event.which !== 17) {\n",
       "        value += 'ctrl+';\n",
       "    }\n",
       "    if (event.altKey && event.which !== 18) {\n",
       "        value += 'alt+';\n",
       "    }\n",
       "    if (event.shiftKey && event.which !== 16) {\n",
       "        value += 'shift+';\n",
       "    }\n",
       "\n",
       "    value += 'k';\n",
       "    value += event.which.toString();\n",
       "\n",
       "    this._key_event_extra(event, name);\n",
       "\n",
       "    this.send_message(name, { key: value, guiEvent: simpleKeys(event) });\n",
       "    return false;\n",
       "};\n",
       "\n",
       "mpl.figure.prototype.toolbar_button_onclick = function (name) {\n",
       "    if (name === 'download') {\n",
       "        this.handle_save(this, null);\n",
       "    } else {\n",
       "        this.send_message('toolbar_button', { name: name });\n",
       "    }\n",
       "};\n",
       "\n",
       "mpl.figure.prototype.toolbar_button_onmouseover = function (tooltip) {\n",
       "    this.message.textContent = tooltip;\n",
       "};\n",
       "mpl.toolbar_items = [[\"Home\", \"Reset original view\", \"fa fa-home icon-home\", \"home\"], [\"Back\", \"Back to previous view\", \"fa fa-arrow-left icon-arrow-left\", \"back\"], [\"Forward\", \"Forward to next view\", \"fa fa-arrow-right icon-arrow-right\", \"forward\"], [\"\", \"\", \"\", \"\"], [\"Pan\", \"Left button pans, Right button zooms\\nx/y fixes axis, CTRL fixes aspect\", \"fa fa-arrows icon-move\", \"pan\"], [\"Zoom\", \"Zoom to rectangle\\nx/y fixes axis, CTRL fixes aspect\", \"fa fa-square-o icon-check-empty\", \"zoom\"], [\"\", \"\", \"\", \"\"], [\"Download\", \"Download plot\", \"fa fa-floppy-o icon-save\", \"download\"]];\n",
       "\n",
       "mpl.extensions = [\"eps\", \"jpeg\", \"pdf\", \"png\", \"ps\", \"raw\", \"svg\", \"tif\"];\n",
       "\n",
       "mpl.default_extension = \"png\";/* global mpl */\n",
       "\n",
       "var comm_websocket_adapter = function (comm) {\n",
       "    // Create a \"websocket\"-like object which calls the given IPython comm\n",
       "    // object with the appropriate methods. Currently this is a non binary\n",
       "    // socket, so there is still some room for performance tuning.\n",
       "    var ws = {};\n",
       "\n",
       "    ws.close = function () {\n",
       "        comm.close();\n",
       "    };\n",
       "    ws.send = function (m) {\n",
       "        //console.log('sending', m);\n",
       "        comm.send(m);\n",
       "    };\n",
       "    // Register the callback with on_msg.\n",
       "    comm.on_msg(function (msg) {\n",
       "        //console.log('receiving', msg['content']['data'], msg);\n",
       "        // Pass the mpl event to the overridden (by mpl) onmessage function.\n",
       "        ws.onmessage(msg['content']['data']);\n",
       "    });\n",
       "    return ws;\n",
       "};\n",
       "\n",
       "mpl.mpl_figure_comm = function (comm, msg) {\n",
       "    // This is the function which gets called when the mpl process\n",
       "    // starts-up an IPython Comm through the \"matplotlib\" channel.\n",
       "\n",
       "    var id = msg.content.data.id;\n",
       "    // Get hold of the div created by the display call when the Comm\n",
       "    // socket was opened in Python.\n",
       "    var element = document.getElementById(id);\n",
       "    var ws_proxy = comm_websocket_adapter(comm);\n",
       "\n",
       "    function ondownload(figure, _format) {\n",
       "        window.open(figure.canvas.toDataURL());\n",
       "    }\n",
       "\n",
       "    var fig = new mpl.figure(id, ws_proxy, ondownload, element);\n",
       "\n",
       "    // Call onopen now - mpl needs it, as it is assuming we've passed it a real\n",
       "    // web socket which is closed, not our websocket->open comm proxy.\n",
       "    ws_proxy.onopen();\n",
       "\n",
       "    fig.parent_element = element;\n",
       "    fig.cell_info = mpl.find_output_cell(\"<div id='\" + id + \"'></div>\");\n",
       "    if (!fig.cell_info) {\n",
       "        console.error('Failed to find cell for figure', id, fig);\n",
       "        return;\n",
       "    }\n",
       "};\n",
       "\n",
       "mpl.figure.prototype.handle_close = function (fig, msg) {\n",
       "    var width = fig.canvas.width / mpl.ratio;\n",
       "    fig.root.removeEventListener('remove', this._remove_fig_handler);\n",
       "\n",
       "    // Update the output cell to use the data from the current canvas.\n",
       "    fig.push_to_output();\n",
       "    var dataURL = fig.canvas.toDataURL();\n",
       "    // Re-enable the keyboard manager in IPython - without this line, in FF,\n",
       "    // the notebook keyboard shortcuts fail.\n",
       "    IPython.keyboard_manager.enable();\n",
       "    fig.parent_element.innerHTML =\n",
       "        '<img src=\"' + dataURL + '\" width=\"' + width + '\">';\n",
       "    fig.close_ws(fig, msg);\n",
       "};\n",
       "\n",
       "mpl.figure.prototype.close_ws = function (fig, msg) {\n",
       "    fig.send_message('closing', msg);\n",
       "    // fig.ws.close()\n",
       "};\n",
       "\n",
       "mpl.figure.prototype.push_to_output = function (_remove_interactive) {\n",
       "    // Turn the data on the canvas into data in the output cell.\n",
       "    var width = this.canvas.width / mpl.ratio;\n",
       "    var dataURL = this.canvas.toDataURL();\n",
       "    this.cell_info[1]['text/html'] =\n",
       "        '<img src=\"' + dataURL + '\" width=\"' + width + '\">';\n",
       "};\n",
       "\n",
       "mpl.figure.prototype.updated_canvas_event = function () {\n",
       "    // Tell IPython that the notebook contents must change.\n",
       "    IPython.notebook.set_dirty(true);\n",
       "    this.send_message('ack', {});\n",
       "    var fig = this;\n",
       "    // Wait a second, then push the new image to the DOM so\n",
       "    // that it is saved nicely (might be nice to debounce this).\n",
       "    setTimeout(function () {\n",
       "        fig.push_to_output();\n",
       "    }, 1000);\n",
       "};\n",
       "\n",
       "mpl.figure.prototype._init_toolbar = function () {\n",
       "    var fig = this;\n",
       "\n",
       "    var toolbar = document.createElement('div');\n",
       "    toolbar.classList = 'btn-toolbar';\n",
       "    this.root.appendChild(toolbar);\n",
       "\n",
       "    function on_click_closure(name) {\n",
       "        return function (_event) {\n",
       "            return fig.toolbar_button_onclick(name);\n",
       "        };\n",
       "    }\n",
       "\n",
       "    function on_mouseover_closure(tooltip) {\n",
       "        return function (event) {\n",
       "            if (!event.currentTarget.disabled) {\n",
       "                return fig.toolbar_button_onmouseover(tooltip);\n",
       "            }\n",
       "        };\n",
       "    }\n",
       "\n",
       "    fig.buttons = {};\n",
       "    var buttonGroup = document.createElement('div');\n",
       "    buttonGroup.classList = 'btn-group';\n",
       "    var button;\n",
       "    for (var toolbar_ind in mpl.toolbar_items) {\n",
       "        var name = mpl.toolbar_items[toolbar_ind][0];\n",
       "        var tooltip = mpl.toolbar_items[toolbar_ind][1];\n",
       "        var image = mpl.toolbar_items[toolbar_ind][2];\n",
       "        var method_name = mpl.toolbar_items[toolbar_ind][3];\n",
       "\n",
       "        if (!name) {\n",
       "            /* Instead of a spacer, we start a new button group. */\n",
       "            if (buttonGroup.hasChildNodes()) {\n",
       "                toolbar.appendChild(buttonGroup);\n",
       "            }\n",
       "            buttonGroup = document.createElement('div');\n",
       "            buttonGroup.classList = 'btn-group';\n",
       "            continue;\n",
       "        }\n",
       "\n",
       "        button = fig.buttons[name] = document.createElement('button');\n",
       "        button.classList = 'btn btn-default';\n",
       "        button.href = '#';\n",
       "        button.title = name;\n",
       "        button.innerHTML = '<i class=\"fa ' + image + ' fa-lg\"></i>';\n",
       "        button.addEventListener('click', on_click_closure(method_name));\n",
       "        button.addEventListener('mouseover', on_mouseover_closure(tooltip));\n",
       "        buttonGroup.appendChild(button);\n",
       "    }\n",
       "\n",
       "    if (buttonGroup.hasChildNodes()) {\n",
       "        toolbar.appendChild(buttonGroup);\n",
       "    }\n",
       "\n",
       "    // Add the status bar.\n",
       "    var status_bar = document.createElement('span');\n",
       "    status_bar.classList = 'mpl-message pull-right';\n",
       "    toolbar.appendChild(status_bar);\n",
       "    this.message = status_bar;\n",
       "\n",
       "    // Add the close button to the window.\n",
       "    var buttongrp = document.createElement('div');\n",
       "    buttongrp.classList = 'btn-group inline pull-right';\n",
       "    button = document.createElement('button');\n",
       "    button.classList = 'btn btn-mini btn-primary';\n",
       "    button.href = '#';\n",
       "    button.title = 'Stop Interaction';\n",
       "    button.innerHTML = '<i class=\"fa fa-power-off icon-remove icon-large\"></i>';\n",
       "    button.addEventListener('click', function (_evt) {\n",
       "        fig.handle_close(fig, {});\n",
       "    });\n",
       "    button.addEventListener(\n",
       "        'mouseover',\n",
       "        on_mouseover_closure('Stop Interaction')\n",
       "    );\n",
       "    buttongrp.appendChild(button);\n",
       "    var titlebar = this.root.querySelector('.ui-dialog-titlebar');\n",
       "    titlebar.insertBefore(buttongrp, titlebar.firstChild);\n",
       "};\n",
       "\n",
       "mpl.figure.prototype._remove_fig_handler = function () {\n",
       "    this.close_ws(this, {});\n",
       "};\n",
       "\n",
       "mpl.figure.prototype._root_extra_style = function (el) {\n",
       "    el.style.boxSizing = 'content-box'; // override notebook setting of border-box.\n",
       "    el.addEventListener('remove', this._remove_fig_handler);\n",
       "};\n",
       "\n",
       "mpl.figure.prototype._canvas_extra_style = function (el) {\n",
       "    // this is important to make the div 'focusable\n",
       "    el.setAttribute('tabindex', 0);\n",
       "    // reach out to IPython and tell the keyboard manager to turn it's self\n",
       "    // off when our div gets focus\n",
       "\n",
       "    // location in version 3\n",
       "    if (IPython.notebook.keyboard_manager) {\n",
       "        IPython.notebook.keyboard_manager.register_events(el);\n",
       "    } else {\n",
       "        // location in version 2\n",
       "        IPython.keyboard_manager.register_events(el);\n",
       "    }\n",
       "};\n",
       "\n",
       "mpl.figure.prototype._key_event_extra = function (event, _name) {\n",
       "    var manager = IPython.notebook.keyboard_manager;\n",
       "    if (!manager) {\n",
       "        manager = IPython.keyboard_manager;\n",
       "    }\n",
       "\n",
       "    // Check for shift+enter\n",
       "    if (event.shiftKey && event.which === 13) {\n",
       "        this.canvas_div.blur();\n",
       "        // select the cell after this one\n",
       "        var index = IPython.notebook.find_cell_index(this.cell_info[0]);\n",
       "        IPython.notebook.select(index + 1);\n",
       "    }\n",
       "};\n",
       "\n",
       "mpl.figure.prototype.handle_save = function (fig, _msg) {\n",
       "    fig.ondownload(fig, null);\n",
       "};\n",
       "\n",
       "mpl.find_output_cell = function (html_output) {\n",
       "    // Return the cell and output element which can be found *uniquely* in the notebook.\n",
       "    // Note - this is a bit hacky, but it is done because the \"notebook_saving.Notebook\"\n",
       "    // IPython event is triggered only after the cells have been serialised, which for\n",
       "    // our purposes (turning an active figure into a static one), is too late.\n",
       "    var cells = IPython.notebook.get_cells();\n",
       "    var ncells = cells.length;\n",
       "    for (var i = 0; i < ncells; i++) {\n",
       "        var cell = cells[i];\n",
       "        if (cell.cell_type === 'code') {\n",
       "            for (var j = 0; j < cell.output_area.outputs.length; j++) {\n",
       "                var data = cell.output_area.outputs[j];\n",
       "                if (data.data) {\n",
       "                    // IPython >= 3 moved mimebundle to data attribute of output\n",
       "                    data = data.data;\n",
       "                }\n",
       "                if (data['text/html'] === html_output) {\n",
       "                    return [cell, data, j];\n",
       "                }\n",
       "            }\n",
       "        }\n",
       "    }\n",
       "};\n",
       "\n",
       "// Register the function which deals with the matplotlib target/channel.\n",
       "// The kernel may be null if the page has been refreshed.\n",
       "if (IPython.notebook.kernel !== null) {\n",
       "    IPython.notebook.kernel.comm_manager.register_target(\n",
       "        'matplotlib',\n",
       "        mpl.mpl_figure_comm\n",
       "    );\n",
       "}\n"
      ],
      "text/plain": [
       "<IPython.core.display.Javascript object>"
      ]
     },
     "metadata": {},
     "output_type": "display_data"
    },
    {
     "data": {
      "text/html": [
       "<img src=\"data:image/png;base64,iVBORw0KGgoAAAANSUhEUgAAA+gAAAH0CAYAAACuKActAAAgAElEQVR4Xuy9CbRlVX3nvwukhGBwYCqqoIqhAJkFiqmoYixAYyvRFXFIpx3ikG5jo8agTaJpomjQtMM/rQZiVIJtnMUpUswzWExKMYklg0Ixa5wZrf/6HNzl4XDvPfucu+8997332Wu99UreOWfv/dn7Xs93/6ZZa9asWRNsEpCABCQgAQlIQAISkIAEJCABCXRKYJYCvVP+di4BCUhAAhKQgAQkIAEJSEACEigIKNDdCBKQgAQkIAEJSEACEpCABCQggQkgoECfgEVwCBKQgAQkIAEJSEACEpCABCQgAQW6e0ACEpCABCQgAQlIQAISkIAEJDABBBToE7AIDkECEpCABCQgAQlIQAISkIAEJKBAdw9IQAISkIAEJCABCUhAAhKQgAQmgIACfQIWwSFIQAISkIAEJCABCUhAAhKQgAQU6O4BCUhAAhKQgAQkIAEJSEACEpDABBBQoE/AIjgECUhAAhKQgAQkIAEJSEACEpCAAt09IAEJSEACEpCABCQgAQlIQAISmAACCvQJWASHIAEJSEACEpCABCQgAQlIQAISUKC7ByQgAQlIQAISkIAEJCABCUhAAhNAQIE+AYvgECQgAQlIQAISkIAEJCABCUhAAgp094AEJCABCUhAAhKQgAQkIAEJSGACCCjQJ2ARHIIEJCABCUhAAhKQgAQkIAEJSECB7h6QgAQkIAEJSEACEpCABCQgAQlMAAEF+gQsgkOQgAQkIAEJSEACEpCABCQgAQko0N0DEpCABCQgAQlIQAISkIAEJCCBCSCgQJ+ARXAIEpCABCQgAQlIQAISkIAEJCABBbp7QAISkIAEJCABCUhAAhKQgAQkMAEEFOgTsAgOQQISkIAEJCABCUhAAhKQgAQkoEB3D0hAAhKQgAQkIAEJSEACEpCABCaAgAJ9AhbBIUhAAhKQgAQkIAEJSEACEpCABBTo7gEJSEACEpCABCQgAQlIQAISkMAEEFCgT8AiOAQJSEACEpCABCQgAQlIQAISkIAC3T0gAQlIQAISkIAEJCABCUhAAhKYAAIK9AlYBIcgAQlIQAISkIAEJCABCUhAAhJQoLsHJCABCUhAAhKQgAQkIAEJSEACE0BAgT4Bi+AQJCABCUhAAhKQgAQkIAEJSEACCnT3gAQkIAEJSEACEpCABCQgAQlIYAIIKNAnYBEcggQkIAEJSEACEpCABCQgAQlIQIHuHpCABCQgAQlIQAISkIAEJCABCUwAAQX6BCyCQ5CABCQgAQlIQAISkIAEJCABCSjQ3QMSkIAEJCABCUhAAhKQgAQkIIEJIKBAn4BFcAgSkIAEJCABCUhAAhKQgAQkIAEFuntAAhKQgAQkIAEJSEACEpCABCQwAQQU6BOwCA5BAhKQgAQkIAEJSEACEpCABCSgQHcPSEACEpCABCQgAQlIQAISkIAEJoCAAn0CFsEhSEACEpCABCQgAQlIQAISkIAEFOjuAQlIQAISkIAEJCABCUhAAhKQwAQQUKBPwCI4BAlIQAISkIAEJCABCUhAAhKQgALdPSABCUhAAhKQgAQkIAEJSEACEpgAAgr0CVgEhyABCUhAAhKQgAQkIAEJSEACElCguwckIAEJSEACEpCABCQgAQlIQAITQECBPgGL4BAkIAEJSEACEpCABCQgAQlIQAIKdPeABCQgAQlIQAISkIAEJCABCUhgAggo0CdgERyCBCQgAQlIQAISkIAEJCABCUhAge4ekIAEJCABCUhAAhKQgAQkIAEJTAABBfoELIJDkIAEJCABCUhAAhKQgAQkIAEJKNDdAxKQgAQkIAEJSEACEpCABCQggQkgoECfgEVwCBKQgAQkIAEJSEACEpCABCQgAQW6e0ACEpCABCQgAQlIQAISkIAEJDABBBToE7AIDkECEpCABCQgAQlIQAISkIAEJKBAdw9IQAISkIAEJCABCUhAAhKQgAQmgIACfQIWwSFIQAISkIAEJCABCUhAAhKQgAQU6O4BCUhAAhKQgAQkIAEJSEACEpDABBBQoE/AIjgECUhAAhKQgAQkIAEJSEACEpCAAt09IAEJSEACEpCABCQgAQlIQAISmAACCvQJWASHIAEJSEACEpCABCQgAQlIQAISUKC7ByQgAQlIQAISkIAEJCABCUhAAhNAQIE+AYvgECQgAQlIQAISkIAEJCABCUhAAgp094AEJCABCUhAAhKQgAQkIAEJSGACCCjQJ2ARHIIEJCABCUhAAhKQgAQkIAEJSECB7h6QgAQkIAEJSEACEpCABCQgAQlMAAEF+gQsgkOQgAQkIAEJSEACEpCABCQgAQko0N0DEpCABCQgAQlIQAISkIAEJCCBCSCgQJ+ARXAIEpCABCQgAQlIQAISkIAEJCABBbp7QAISkIAEJCABCUhAAhKQgAQkMAEEFOgTsAgOQQISkIAEJCABCUhAAhKQgAQkoEB3D0hAAhKQgAQkIAEJSEACEpCABCaAgAJ9AhbBIUhAAhKQgAQkIAEJSEACEpCABBTo7gEJSEACEpCABCQgAQlIQAISkMAEEFCgT8AiOAQJSEACEpCABCQgAQlIQAISkIAC3T0gAQlIQAISkIAEJCABCUhAAhKYAAIK9AlYBIcgAQlIQAISkIAEJCABCUhAAhJQoLsHJCABCUhAAhKQgAQkIAEJSEACE0BAgT4Bi+AQJCABCUhAAhKQgAQkIAEJSEACCnT3gAQkIAEJSEACEpCABCQgAQlIYAIIKNAnYBEcggQkIAEJSEACEpCABCQgAQlIQIHuHpCABCQgAQlIQAISkIAEJCABCUwAAQX6BCyCQ5CABCQgAQlIQAISkIAEJCABCSjQ3QMSkIAEJCABCUhAAhKQgAQkIIEJIKBAn4BFcAgSkIAEJCABCUhAAhKQgAQkIAEFuntAAhKQgAQkIAEJSEACEpCABCQwAQQU6BOwCA5BAhKQgAQkIAEJSEACEpCABCSgQHcPSEACEpCABCQgAQlIQAISkIAEJoCAAn0CFsEhSEACEpCABCQgAQlIQAISkIAEFOjuAQlIQAISkIAEJCABCUhAAhKQwAQQUKBPwCI4BAlIQAISmH4E1qxZE37729+Ghx56qJjceuutF9Zdd90wa9as4scmAQlIQAISkIAEqgQU6O4JCUhAAhKQQGYCiPNHH320+HnwwQcD/zsKc0R6FOv8e5111sncu4+TgAQkIAEJSGCqElCgT9WVc9wSkIAEJDCRBLCaP/LII4X1nMa/Y4tWdQX7RC6dg5KABCQgAQl0TkCB3vkSOAAJSEACEpgOBKL4juI8WsYffvjhYnpVt3auLwv222+/PWy22Wbh6U9/enjKU55SuMNrYZ8OO8M5SEACEpCABNIJKNDTWXmlBCQgAQlIoCcBhDbC/LHHHlsrxhHk/Pd+Ar36oMsvvzwsXLgwPOMZz3iCSzxiXcHuxpOABCQgAQnMDAIK9Jmxzs5SAhKQgARGRCC6tCPOsZqXLeVNBPp3vvOdQqBvvPHGxUjL1vU4dJ5dFuz824RzI1pYHysBCUhAAhLogIACvQPodikBCUhAAlOfAAIaUY7lnH9XxXkU2fHvdUIagb7ddtuFTTbZpCecsmAvx7BHwR6t7HX9TH3yzkACEpCABCQwfQko0Kfv2jozCUhAAhIYEYF+Lu3V7uJ1UVAPGs6KFSvCNttsEzbddNOkUfcS7BwSVLPEK9iTcHqRBCQgAQlIYCIIKNAnYhkchAQkIAEJTBUC0WqOa3svq3l5Hk0E+hVXXBG23nrrZIHe6zCAMcXkcwhzxleNYVewT5Wd5jglIAEJSGAmElCgz8RVd84SkIAEJNCYQLm2OTfHuuaDHtRUoC9YsKDI5D5so1+agn1Ykt4vAQlIQAISGC8BBfp4edubBCQgAQlMQQLV2uYp4pxpNhHoV155ZZg/f34WgV5FrGCfgpvOIUtAAhKQwIwkoECfkcvupCUgAQlIIIVAr9rmTVzEmwr0rbbaKmy++eYpQxvqmugGz+8HHngg3HXXXWGXXXbRJX4oqt4sAQlIQAISGJ6AAn14hj5BAhKQgASmIYHURHCDpt5EoF911VVh3rx5Yc6cOWOled9994Vbb701LFq0aG1pNwYQY9jXW2+9IvEcsex1MfdjHbidSUACEpCABKYhAQX6NFxUpyQBCUhAAsMRGFTbvMmTp4pAv+2228I+++yzdmplCzssqoI9lnRTsDfZDV4rAQlIQAISqCegQK9n5BUSkIAEJDBDCMTa5o8++miRYG1YAdpEoF999dVhiy22KH7G2bCgVwV6tf9+gj1a1hXs41wx+5KABCQggelMQIE+nVfXuUlAAhKQQDKBHC7tvYTtI488UriO18WuX3PNNYV7+yQK9BTBzmFGtazbsAccyYvnhRKQgAQkIIFpQkCBPk0W0mlIQAISkEB7AtQ2v/POOwsRvemmm9aK6dSeouiP1vhB9yHQSRA3d+7c1MdnuS7Fgl7XUdnCHv+tYK+j5t8lIAEJSEACTyagQHdXSEACEpDAjCVQrm1+4403FonQdtxxx2w8mgj07373u0WJtS4EOkni9t1336zzjhnw40N7JZ1LLVeXbWA+SAISkIAEJDDhBBToE75ADk8CEpCABEZDAKs2seZYz2k33XRT4aL97Gc/O1uHTQU61nsyuY+zxSzuOQV6dfzRqg7z6O4fBTuHIjFTvIJ9nCtvXxKQgAQkMIkEFOiTuCqOSQISkIAERkagXNu8LBYR6PzvnXbaKVvfTQT69773vbDxxhuHLbfcMlv/KQ8ah0DvJ9jvueeecMcdd4Q999yzCCvolXQuZQ5eIwEJSEACEpguBBTo02UlnYcEJCABCdQSKLu0c3HZYvv973+/sKjvsssutc9JvaCJQL/22mvDs571rBkh0CM/BPqPf/zjsPfee6+twV4+NEGwR+s6/8bDwSYBCUhAAhKYzgQU6NN5dZ2bBCQgAQmsJVBX2/wHP/hBeOihh8Kuu+6ajVpTgf7MZz4zbLXVVtn6T3lQFxb0skDHgo5AL7eqSzx/q2aIV7CnrK7XSEACEpDAVCOgQJ9qK+Z4JSABCUigEYHU2uarVq0Kv/nNb8Juu+3W6PmDLm4i0FeuXBme8YxnzCiBfvfddxfZ86sCvcq0Xww78euxBruCPdu29UESkIAEJNAhAQV6h/DtWgISkIAERkugSW3zH/7wh+FXv/pV2H333bMO6uGHHw4pZdYQ6E9/+tPD/Pnzs/Zf97AuLegI9NWrV4e99tqrbphP+HvMI8Dv2AhXKAt2/l1Xe75Rp14sAQlIQAISGAMBBfoYINuFBCQgAQmMnwCiuCyO68QapcZ+9rOfhec85zlZB/vII48UmeLr4qevu+66sNFGG80ogX7XXXcFfpoK9OoClQV7OYY9CvZoZa/bA1kX3odJQAISkIAEWhBQoLeA5i0SkIAEJDC5BKJLO8KYfyOMU4TZbbfdFn76058WGcVztiYC/Q//8A/DggULcnZf+6wuLeiIc6zouZn3Euzsg2rSuZR9UQvQCyQgAQlIQAIZCSjQM8L0URKQgAQk0C2BJi7t1ZHefvvt4YEHHhjamlt9bqpAv/7668OGG24Ytt5667FC7FKg495OJvfcAr0KsJ9gR7STJV4L+1i3nJ1JQAISkMAAAgp0t4cEJCABCUx5Av1qmzeZ2I9+9KOAWK1LWNbkmVybKtBvuOGG8Ad/8AczTqDfe++92cMKBq1RjFsnBOKyyy4r6t4T+98rS7wW9qa73eslIAEJSGBYAgr0YQl6vwQkIAEJdEpgUG3zJgOjHjfu1vvss0+T22qvpbY6P3Ux6Aj0DTbYIGyzzTa1z8x5QZcWdDK433///WGPPfbIOaXkZ1188cVF1n5i/xHsMVs8wlzBnozRCyUgAQlIICMBBXpGmD5KAhKQgATGSyDWNuc3rU4EDxodYpGffffdN+skUi3oN954Y1h//fXHLtARyLfcckv2eadA7FqgX3TRRYX1ntj/2MoWdvZVtKIr2FNW1GskIAEJSGBYAgr0YQl6vwQkIAEJjJ1A2aU9ljAb1h2ZeGis6Pvtt1/W+TQR6E996lPDtttum7X/uod1KdDvuOOO8JOf/CR7abu6Oce/X3jhhUXOgac97Wl9b4lW9bjnuDBa2IlfJ/EcMeypyQhTx+Z1EpCABCQwMwko0GfmujtrCUhAAlOWQEwEd+2114bNNtus+BlWnAODjOIkitt///2zskkV6DfddFORsGy77bbL2n/dw2ayQL/gggvCokWLiuR8qa1OsMeEcwr2VKJeJwEJSEACZQIKdPeDBCQgAQlMGQLRpZ264ldffXXYYostwpZbbpll/MSf4+q9ePHiLM+LD0kV6N///vcLS+xMEuh4LPznf/5nEQfeRTv//PML136S87Vt/QR7tKwr2NuS9T4JSEACM5OAAn1mrruzloAEJDClCPSqbY5A33TTTcP8+fOzzIVs4j/4wQ/CgQcemOV5bQQ6om7hwoVZ+697WJcW9K4F+nnnnVd4TJCcL1dTsOci6XMkIAEJzEwCCvSZue7OWgISkMCUIdCvtjkCfeONNw4LFizIMheymWPFXrJkSZbnNRXoN998cxHHPJMEOqXtfv7zn4ddd901K/OUh7GvEOh4TJCcb1StLNjjv1nnatI5XeJHtQI+VwISkMDUIqBAn1rr5WglIAEJzCgCuLLjIt4rEdx3v/vdon51rrJkWJLJpL506dKsjFNd3BHoxNJvv/32Wfuve1iXFvQuBTp7Chd3PCZIzjeuFkU6/V9++eVFiTlc7BXs41oB+5GABCQw2QQU6JO9Po5OAhKQwIwkkFLb/Hvf+16RfTtXzPYDDzwQrr/++nDQQQdlY848KCX28MMPF9b+Qa7UuNfTZpJAJynfL3/5y7DLLrtkY576IA5/SBKHx8Ts2bNTb8t63bnnnlu42GPBj3XYOaThpxrDHv971gH4MAlIQAISmDgCCvSJWxIHJAEJSGBmE6jWNu8nTFauXFkI3lwu4T/96U8Dov+QQw7JsgCPPvpouO6664oyYowTV24stc985jOLn2c961lPEIYIdAT9DjvskKX/1Id0aUG/7bbbwq9+9atOBDrrQ5k1PCbInj/uFl3sqxb8soWdfyvYx70y9icBCUigWwIK9G7527sEJCABCfyOQNPa5li7EVa5BC3ZxK+55ppw6KGHDr0miHFc8BHmWIdxX+bg4Wc/+1kh2DkMwHJMeS+EOoKd/07LNZ/UScxUgU7owUUXXVR4TJBpfdwt1YI/SLDHOuxY29ljNglIQAISmPoEFOhTfw2dgQQkIIEpT6BfIrhBE7vhhhsKN+Add9wxy/wRz1dddVU47LDDWj+Pedxxxx2BmubExuN+Hz0CqgIKt3cOBaJg/81vflNY1OfOnVsIduLrxyG6uhTot956a2DeO++8c2vmbW+E/8UXXxwOPvjgYh+Nu7U9IKgKdsZdjV9XsI97Ne1PAhKQQD4CCvR8LH2SBCQgAQm0IFCubd4kkzUiGLGy0047tej1ybf84he/CCtWrAiHH354q+fhMo1Vn1h2En8Rc06Lie7qxDYZ5HH3xg0eCzvPe8YznrHWJf4P//APC3fn3A2B/sMf/jDst99+uR9d+7wuBfpDDz0ULrnkkiKkoW5taifS4oJ4QDBs/wr2FvC9RQISkMAEE1CgT/DiODQJSEAC05lArG2OEO2Vpb1u7gha7s2VYAyX88suuywcccQRdV0/6e+Ie1zaEdeI83JW8FSBfssttxTJ5J797GcXBw+IdYR6/EGcx/h1fpP5O4dg71qgP/jgg9kOWZosHP1eeumlRUhDDo5N+ubaUfUfQ0X4HRvzw42fH6zrWtibrpbXS0ACEhgfAQX6+FjbkwQkIAEJ/I5AG5f2KjySqmEFzVVDG0GMRfXII49stE64tFOebeutty4S1lXFHocIuDPXuVEj0JlPL48ADjA4BECs4xJPjDvxx+WEc21LhXUp0AfNudEitLgY13rKnOXIOdCi+/DrX/86fOc73xl5/ymCHeHexSFFG27eIwEJSGC6E1CgT/cVdn4SkIAEJozAoNrmTYaKWzaievfdd29yW99rEUwkDTvqqKOSnsc8iIO/9957C6v5Jpts0vO+VIHexN2bvomZj4Id8Y5FPWaHxzU+NTN51wI9eg0kQc94EetNSEOurP1Nh8bevfLKK4sY+HG2smBfvXp10fWWW25ZHCCVk84p2Me5KvYlAQlI4PcEFOjuBglIQAISGAuBcm1z/t0k3rzXABG0iNTnPOc5WcaPRZW62Aj0OnGCOzwu7QgaxDl1rPu1UQj0al9Y6MsJ5xCfxKzHDPEknOtnwe9SoHPIAp9cif6abISuBHIcI4cqVA0gi3xXjTAR9gUJDWMsO3u/V9K5us9EV3OwXwlIQALTjYACfbqtqPORgAQkMIEEcNFGiGH5pfWrbd5k6NTQxoK85557Nrmt77W4l5933nmFi/ugpGFYHUkGN3/+/LD99tvXJhhLFeg5a4Izl5gdHkYI+I022mitYEe8xznOVIHOIcvVV1/dmUAmTOHaa68NS5YsybJ/2zyE0AxCI7bddtvi9hi3zudVwd6GqPdIQAISGJ6AAn14hj5BAhKQgAT6EIjutD/+8Y+LpFjEaeeyxP3oRz8K9913X9h7772z8MfV+txzzy2SxPWyNnO4gKC55557wm677RY222yzpH67EOjlgbEGeAeUBTv/Lcavsx7E0e+///5J88l50apVq4oEgeOu/c4cYmK/pUuX5pxS8rPweOCg58ADD0y+J/eF9P+0pz0tLFiwoOejFey5ifs8CUhAAvUEFOj1jLxCAhKQgARaECi7tOOOjiDK5Y7OcBD9d999d9hnn31ajO7Jt2BlPuecc8KyZcuKbNflhjs0Lu1YnZnDBhtskNxnqkC//fbbC0a5kt71GyDrEhPOxQzxXMuBQxTtTeaXDKLHhV0K9K4t2ByY4GJ+wAEHDINwqHtXrlxZlPLbaqutkp5TFuwcrMTDNl3ik/B5kQQkIIEkAgr0JExeJAEJSEACTQhUa5sjPhEke+21V5PHDLz2zjvvDPzsu+++WZ6JkD777LOLOujlBGscAlx33XVh3rx5Rax005rZqQIdjwBE46gFehUWSe4QynPmzCnWCPFOTH054dzs2bOzMK4+hEz8NEIFxt3IX8C6dmXBfuCBBwruXdSfj6w5dNp0002Lvd2mRTf46ClTFuwx4RyHXcPmm2gzNu+RgAQkMFUJKNCn6so5bglIQAITSKBfbXPEJ0Jw0aJF2UZ91113BYR/LtdsDhXOPPPMouwVcbn875tuuikQc45L++abb95q7LjG4z5fV2YNRohG+hpnq8agc6CA+3XMEI/3AG7QUbCTcK7qYdB2vF0KdOZIFv7Fixe3Hf5Q9xGegWdJrgOmNoMhBn+LLbYofnK0qmDnmTHpHII91mFXsOeg7TMkIIHpSkCBPl1X1nlJQAISGDOBQbXNiXFG6OYUI1i2ETi5XIQZ//Lly4uyW4hzrIs0XNopYda2pQp0XPYRjV0L9Oo8OVyIYp3fJKArJ5zj3029CmIfN998c3Ev9ePH3ZgLBzC59k/T8XNgxaFMzkOrpmOgzBvJDlPzKTR9voK9KTGvl4AEJBCCAt1dIAEJSEACQxNA0CLk+N3LOpbb2s2AEThYYHO6KJ9xxhlhl112KWKD586dG5797Ge3Fp8RaqpA5xADF/Ncdd1TF7VpFvdqwjnWnDjmGL+OtT01EWCXAh3W9J/LAyOVd7yOAyZCNHIlOWzaP9dTB54M7ptsskmb2xvf00uw4zWCxwp7SAt7Y6TeIAEJTEMCCvRpuKhOSQISkMC4CESXdhKsDaptTuZzal7ndCfGRRgLaK4s3NHFHVd0rNjEZOdoPBerc52LOwKduGTqqo+zNRXo5bGx5rjAxwzxeABwQBPFOr9JONdPsHMQgijbbrvtxjnloq+uY8DxKOFzkatMYBuAl19+eZFB/1nPelab24e+h/1DHgDK/m255ZZrv0OqSed0iR8atQ+QgASmEAEF+hRaLIcqAQlIYJIIDHJpr44TMY0Yy1nzGYFFmaiDDjpoaCxYhXFpx5qHRZPEWblaqkDHmopYHrdAzylUmSuJ7mJ2+GgdjYIdIVhOONelQO86Bryr9S7v60suuaTwGMF63VX73ve+V1jwSVQXLezso9hiDDsHOVrYu1ol+5WABMZJQIE+Ttr2JQEJSGAaEIgZm6PVnBfoOpfmnGI6IkQE8nJPzPgwDVd5yk1hMceqicszFr1cLbr/18VpI9gQjTlL0aXMIadAr/aHe3854dwvf/nLsOGGG65NOAd7MsbjZj3uRt8kGcxVpq/p+Mk5wB4ed0hDeZwXXXRRcSBEHoGu2qBEdb0EO4dpL33pS8M3v/nNQMJCmwQkIIHpRkCBPt1W1PlIQAISGCGBcm1zukkR51yXS0yXp4Z1lpd7sq63aQhnYthJ1IUVkZhz6qAj2HIKllSB3pXL8ygFenVdONSJ1nXc4hFbxB9zOIJ1HcFVd5DRZq173YN7OSK5qyRt46p7P4jXBRdcUMyfQ5Ou2hVXXBEWLFiQlKiO7x9i9yl3SGjFMMkbu5qv/UpAAhKoI6BAryPk3yUgAQlIoCAQa5tH99MmQgoxfdVVV4XDDjssG01cqXm5p2550/bggw8W1ncEIxZrEpvRzj333MLFPadlToHef3WIP4YP8fkId0q8wR6xjls8ngx13hlN1z5e33WStttuuy38+te/DjvvvHPbKQx933nnnVd4jJAnoKtGHPz2228fNt5446Qh3HLLLcVnNCWvQ9IDvUgCEpDAhBFQoE/YgjgcCUhAApNGoOzS3i9Le92Yf/GLX4TvfOc7YdmyZXWXJv8dd+nLLrssHHHEEcn3cCFu5Ndee21hsUMclZO3nX/++YXLL+IwV0sV6GS652evvfbK1XXSc8NSvBcAACAASURBVMZpQa8OiDrkiMNtttmmiD9GsJYTznF9OeEcFtNcgr0r3pEBQhORudNOOyWtU+6L2Jfsd6og4MXQVWsaB89n94/+6I+K0Ilce6GruduvBCQggV4EFOjuCwlIQAIS6EugSSK4QRhxR+VF/Mgjj8xGm2defPHF4aijjkp6JnNZtWpVwHKJMCcpVbXh8ksG95xZrRXo/ZenLNCrV8GNQ5go2PHCWG+99dYKdtZoGGHZVUhBnCd7kRh93LW7aHgrXHjhhUUVBLh21YiDx4slNe/DpZdeGl7zmtcEqh4o0LtaNfuVgARGSUCBPkq6PlsCEpDAFCYQXdoREcOWOSLWGPGLmM71Ut3kmbi0Y3nDYjlIDCBYiEdPdbdNWd5Ugd6Vy3WXFnSy8BP/vPXWW9eiZB8i0mMMOyEOWNSxsCPWyUTeRGh2nUWd/Ac03Lu7aA8//HBxwHXwwQfXlgAc5fiw4pP3ITUO/uyzzw5vf/vbi6oQub5LRjk/ny0BCUigKQEFelNiXi8BCUhgmhNIrW3eBAPCmHhXLOhNYtcH9ZH6TARoLOWE5ZxSTf0a1jxcjin7lKulCnSSlmEVJL52nG2qCPQqE/IHlDPE4x6PFTYKdmLZB9WehzXW+a6yqCMwGd/ChQvHudxr++LQCms0SRa7Erp81/C9sHjx4iKbf0r72te+Fv7xH/+xKItok4AEJDAdCSjQp+OqOicJSEACLQnwwoxbMS/siIfULO113SGmyJBODPoggVz3nPLfsQCS1I0Y9F5CjLn88Ic/DLfeemt49rOfHbbccstaIYJFcYcddkjKKJ061iYCvYus4l0LdBL0kcV72MaBDdb16BLP/kCkR8GOeC8fDsEagU9IQxftxhtvLFz0uygxx3w50FixYsXQZQqHYdfGzf7//b//Fz7zmc8U1n+bBCQggelIQIE+HVfVOUlAAhJoQQAXYoQ0VrXtttuuKH2Vq/Hss846q8jiPnv27CyP5eUed1eyuFddmxFruLTjBo9Le2rZtDj3zTffPMsYeUiqQKcuNyXfxl32q0uBThZ31mb+/PnZePMgDmdY+7Jg57+VE84xb5IX7rrrrln7Tn3YoPj71GcMcx0HcZQpPOigg4Z5zFD3Rjf7Qw45JNmz5pRTTglnnnlmWL58+VB9e7MEJCCBSSWgQJ/UlXFcEpCABMZEoFrbHKsagom64LkaffBCzYt4qitrXd8IX17UcdEtJwvDgopLO2IM8dXEYk9WeDKK5zycSBXoZJcngR3xuONs01GgV/lFz5Byhni8QzjYIf6dvTLuUmMcTmDVz+E90Ga/EM+/cuXKsGTJkja3Z7mHQxTKrPEZTm0f+tCHCvf2r3zlK6m3eJ0EJCCBKUVAgT6llsvBSkACEshLoFrbHNFy5ZVXhi222KJwCc/ZEOhkjCaxV45WFf38b0pX8UNm7K222qrWpb06DsQCgon552pNBDru+Pvuu2+urpOeg0AnYRn1sMfdEIgkd2OtxtlYE2LASTTHAQ6/OTgqW9hzeXr0m1dXc4/jwbsAN3viv7tqWPGvuuqqIlFdanvPe95TlCP8t3/7t9RbvE4CEpDAlCKgQJ9Sy+VgJSABCeQhMKi2OW6vZDHPbdnDxR0RmFpOKWWmUfQjsnBpp/QaLu3EHrdp1GrnYKJXCbY2z+OeVIF+//33F4cLCvS2pJvdx2EIidJICki4REw4h3BFOBIbHwU7hwhNPDFSRoKXB5+z3AdhKX1zTZeeE3GMbaz4/+t//a/iM/Wxj30sdapeJwEJSGBKEVCgT6nlcrASkIAEhidQV9sc91EELq7eORtJ4oivbiuee40F0U9ZtJtvvrl4Li7tTUptVZ95xRVXZPceaCLQSWq333775cRe+6wuLegcqlAirQuRymEIMdAkEKw2/nss54ZbPDkNiJWPCef497DVCK655ppAroOcoSS1i126oKuQivIYYYsnwwEHHJA89P/5P/9nUWXhAx/4QPI9XigBCUhgKhFQoE+l1XKsEpCABIYkkFLbHNGEG3ru8k+UU8K6jcjJ0ThoQKDTyLyOxX/YclG49yOacrpcpwr0riyaM1WgcxiC5ZxwiLpWTTjHmnIgxOEC+xlre9O9h6cKoRQ5wynq5lH++9133x2oBT/usn7lMbTxGvnzP//z4lDu7/7u75pM12slIAEJTBkCCvQps1QOVAISkEB7ArG2OYIEcYH1r5+guP766wsrNKI3Z7vgggsKCzduvcM2ss0Tw0vmc56ZywJLPOymm26aNat4E4HeRSx4lwI91qfPGVKQurdWrVpVfBaa7nM+S4RSxAzxuMbzeSrHr5Nwrk6wcxjEQVDOigGpc+e61atXh3vuuSfsueeeTW7Lei39U4++ySHBy1/+8iLZ5Nve9rasY/FhEpCABCaFgAJ9UlbCcUhAAhIYEYE6l/ZqtySOohGbm7NRtxhrJQJ4mEbcKm74WC35NwIjl1Uet2OeRWbvXI14ZoQIz91www37CjfcfXHVH3eytpkq0DkMoW2//fZDLTUin3JtMUM8e5IEc9G6zrqXqwzEzginYJ8N+3loO3iEMWu/xx57tH3E0Pe1OSR4wQteEF72speFv/iLvxi6fx8gAQlIYBIJKNAncVUckwQkIIFMBGJt8zqrebk7RCIWatxIc7Zha4xz0HD77bcXGcdxv0fcXHjhhWG33XYrxFCOljv+Hgt/DBnA6rruuuuujWNmzNXycE3jcXPMuUuBDu/NNtuskzhs9jmW79yhHHzmygnnEO8czJQt7CScIyHhdtttV8RTd9F+9KMfFdnru6oDz5x//OMfF54Iu+++ezKCww8/PBCH/l//639NvscLJSABCUwlAgr0qbRajlUCEpBAIoFybXP+PcilvfpIXH9//etfN3ppThkWNcYR1W1ibjkwoG40wqccx37RRRcVlv5cIgeXa7LMb7vttilT6nsNzDlI4ECBg454gIB1NVpaEUcIN/7GD/cgGsdd9qpLgd5lojQOQxDKiORRNvZuTDjHb+LZ2WN8xsibQHgGBzfjbrfddlsxhp133nncXa/tjzFwcNXkMBAPE0qtvehFL+ps3HYsAQlIYJQEFOijpOuzJSABCXRAAGs5seZY8mjEwtbFw5aHSfkphCRCOGdrW8KMsSCcSVyHpa1cnzqX23ycJ9ZuRPMwoo0M4IyXEl4w5Hn8t2rW7yjcEOwxUzjrxCEGgh0R12Td2q5V1wJ9zpw5rQ5t2s433kcoBx4Mwx7GNB0H+wKhzgEBwpzPKQnnYob4ca07SfLYg72y2DedU9vrB2XS7/VMDrH4DvjEJz4Rli1b1rZb75OABCQw0QQU6BO9PA5OAhKQQDqBcm1z/t1UmMeesPqSXblJ4qaUUTbNkM4ccIFFyCCi+KkK1mHd5qvjxkqPaGsbl8xhAlZhBBeu91hoU5PEEafOXBFqCDhajGPmN4nHRtG6FOhdZjK/4YYbCqa5ywmmrhGHS7EsYDnhHPdTdz2uPQdToziowcODz1jTJHmp80u5rmkeAMZLSMLXv/71sedqSJmP10hAAhLIQUCBnoOiz5CABCTQMYGySztDaSvOuZfkUXfddVfYZ599ss4KMUYGd9x66xoeAIjlGJ/aL/P75ZdfXjyvjdt8rzG0zWBfPkyI8fFRVKUKdMQ9cz7wwAMLUR8Tj2Fdxx1+/fXXX+sOj4hH/OdoXQt06oBjRR93Y63xbsiZELDJHMifQIJDLOaxsY+qCedY53LCOfZBjhYt+Llj8JuM7aabbioqRqR6rMCHzzqfew7AbBKQgASmIwEF+nRcVeckAQnMKAIptc2bACGzMgmkcmcTT03AhkDBCo11E3fWXhmw43xwm6dUFSIvR8OqittxSm3s2B8uyog9vA5waa8mrIvrU2cFRYTjYr9kyZInTYUDC+Lvozt8jGOO8esbbbTRk1zoU3l0KdApa0eJtS4EOochcJs/f34qqqzXUXZw0aJFxSFBv8be4uAmxrDz2eBzUU44h8Bt03DxR+x35UHAmJsekvA5YM/jGt/luNvw9h4JSEACqQQU6KmkvE4CEpDAhBFoUtu8ydBxtSY+NXeysrr4buZz5513BoQDL99Y1epELaWqsKjlqoNO3/SZGpdLki0OExD1iPNe1s1oQa/zakCgE7u+dOnS2uUijjkmm+M3fcQYZn43cYueqQJ95cqVhSs5BzxdtPPOOy/st99+xVqlNgRqOeEcCdawwEfBznxSE84hjilVmOLRkjq+ptfxncDYU9eAwwquve+++7Ilhmw6Zq+XgAQkMGoCCvRRE/b5EpCABEZAADHLyzm/cYGtE39NhsDLL+6vvSy5TZ5TvXZQfDfCA+s1Vmis5qlZ2bHAUkc6lxUUl1vEbkpm61hCDQswFvdqErg4/1SBjnUUL4MUgV5myx6g1nq0riNisKpG6zoCqJxYr7ouXdVfZxzkJUBwbb755sNsrVb3Ig5hlOtwp8kgWDMEOodgw7isP/TQQ2sFO+tIMsJqwrl++7KpOG4yv9Rrm2bxJ/SGzxoeJMNwSx2f10lAAhLogoACvQvq9ikBCUhgCAJR8GE9xrU7t8DgRR/r4sEHHzzEKJ98az/3ccQlwhRRucceezR68W4S154ymZQa8IgrStFRIoryUHXu9U0EOoLloIMOShlq32vKdbhZS/hGKyuCFCtrWbR1LdA5XKEW+rgb3gocBHHAMu7Gnjj//POLQ7BBhydNxsW+RLiWLez0U044hzt99ErhM8fhVhfzj/NqGuLA5w6vAzxI+h08NGHmtRKQgAQmkYACfRJXxTFJQAIS6EEgurRTGol/84KNwMjtokqsM0Lx0EMPzboOWKcZN3XLY8OlHeHOHEhW1fSlOzWuPXUiZJXGKkl27V4tllBDCFUTfPXrI1WgI6Q5cBhWoFfHwZijdZ3feCtE0YZgZ77MO3fOgRTmHDKx9l0IdPYO/dYdsKTMo+k1rAFJ4vCWaBtDXtdn9KwoZ4jH/T2GQvDZ43AvV4LFuvH0+vuKFSuKcBYOClIaa/bCF76w2M914S8pz/MaCUhAApNIQIE+iavimCQgAQlUCPCyjTAv1zbHAkiSq9x1nHG1Jvla7jrDZes08yDem3h3XNpTX9CrG6Murr3pRsJCh/julSG6Vwm1lOc3EehYFHN7LpTHyD4ibj4Kdg5jEDqx3BaCfVBSvpT5NrkGgU4W9bbr36Sv6rUcQnVVg53P8kUXXVSsdWrM+DBz5V72IXkOYu6CGAoB+xjDnsuanzrWyy67rHBZryZW7Hf/JZdcEl772tcW5RcV6KmUvU4CEphqBBToU23FHK8EJDDjCCBmo9W8HGuOGzpxmG1rdvcDSWw7L8JHHnlkVtZR/GIxwxJG7Dwu7cPU94YB9+cqFUVyPObPoUFsiFdKz+EBUC2hlgKI+7FS1+UJoF9iskcp0KvjRbQxN9z1SVaGgMMNOsavN0k6lsKiek1TC2qbPvrdg7dCVyXe2A98xg455JDGXiO5GHAIhzjn+wUrOx4cJI0rJ5zLVcqv35ipBc9hGHHzKe3MM88Mxx9/fJEjwyYBCUhguhJQoE/XlXVeEpDAlCdQV9sc13BcwlMzjqcCIb6T+Nijjjoqq5WK0kgkVsNCT2KwHXbYYWhx0rZueT8Wt956a1HWiozsNMQLnEmcx2FCv3rsg9iyjriZ0wZZ/RDoWJQRbeNs5Rh0DoKiSzT/HSGJeIqCnVj2nJZLBDoeIKlJAXNywVsBF+8uEtThpYH1mDCSnDyb8KGWOJ/BaL1mj8b49bj2eOhEwc4+aBqCUjce3Pz32muv4mAgpX31q18NH/7wh4tQEJsEJCCB6UpAgT5dV9Z5SUACU5pArJ3Nb1qvF2OsSAjIlIzjTWDwon7uueeGI444Ipv7LeNEfCJ+id3OFXOc+5ACSzIihTHiCo6lHwHF/26bNTpVoNMfVs3csf91az8oSRxjioKd3zQEXYxjHsb7gWd1KdDxVugqQR1cmfu4D2PKewELPkkO8ZLo1aoJ52Lugrj2iOphDxfIZE/ug9R9dNppp4XPfe5zRfy+TQISkMB0JaBAn64r67wkIIEpSQAxVxbnCPN+L8GD4qWHmTxi+qyzzgqHHXZYlgzTWIaJl0f440a97777DjO8J9zbK/HcMA+//fbbA3XBsfAT304CLTwUhrEcpgp0BBFWzUkS6GWW7Eu8H2L8Ou7wHFqUy7k1dYnmQIKwgTaeCcOsM/d2Gf+OO/mo8w3U8SEGHk8RvCLqWizrWM4Qz2einCEekd1EsMdM9gceeGBy3oOTTz45nHPOOeHb3/523ZD9uwQkIIEpS0CBPmWXzoFLQALTjUCvRHCDXnir7ti5eDCO5cuXF9a9tlbjOJa77747UP+cUk7ENpMUbp999sk11JBSFq1JZwh0fnDtTimhlvLsJgIdt2cORsbZ2pZZw6JKkrko2DlgQOxFwY57dN3BRpcCvUvrfdua9zn3xQUXXBAWLVpUfC6btvJhDaIdzxgSzEXrOr/rkg3GRHlULUg92PngBz9YlID80pe+1HTIXi8BCUhgyhBQoE+ZpXKgEpDAdCYQreZYrwdZzcsMfvSjHxWx0XvvvXd2NAh0ajS3eXlnMMwHF3xKOVGyjGzZq1evLrIvU8c4V6sri9akHyz8iDbcjw844IAky2LK81MFOrH/l1566ZQR6NW5M/6YIZzf7IGyYMN7onrgVI2DTuGZ65ouDwcQtAhNPmNdtabu5YPGyfcWc4rrzwEE3x0xfp3fVREeE+U1icP/+7//++I779Of/nRX2OxXAhKQwMgJKNBHjtgOJCABCfQnEGubY41E0KSKc56I+OUnp8t4HOnZZ59dCOkU99fq7BC4uLQzN1xoEWY0rOkkilu8eHG2LdEr63qbh8cSalgBWYOcNcFTBXobwdJmrtV72lrQB/Uda3BH63os6VV2h4d1lwK9y76xOlNmMOdnocleaONe3uT5MdlgdImP3hXlhHPs96Zx+O94xzuKYXz0ox9tMhyvlYAEJDClCCjQp9RyOVgJSGA6EWjq0l6dO4IXN3esvbkb1jUSo/VLINWvP7K0Yxkkdpv6xuUaz/wNl/ScVsMcbv6UGUMsbbfddoVbLv87p5W/qUAfd+ktRDTeDqPYR3GflC2s9EcMNoc/CDfqoBMCMa564HFMeCvstNNOhZV33G0UhyJN5sCBIInWli5dGtZbb70mt7a6Fu+Kcvw6Ap4kc+wDsrinVgd405veVGTdP+mkk1qNw5skIAEJTAUCCvSpsEqOUQISmHYEYm3zplbzMghcPRFWOQVvfD7xqdQnjiWY6haAeSC+cWHHpR2BXm33339/UbKMmNNcrZx1vekzWQOEOQcHsYTaXXfdVdQEzylWUwU6LvbUhZ6OAr26Nsw1HgzgscBaxIRj7Dnco5skHGu69lxfl8W8zTNT7+GzgPdHzoOg1L65Lu61gw8+eOwHI3we8LIh5AUPoJinoJxwrlc4BON+zWteE3bffffwzne+s8l0vVYCEpDAlCKgQJ9Sy+VgJSCBqU6grrZ5k/mRbZwEbLxk525keCZ7+aabblr7aKyguLQjsnBp7xe3jiAjM3rO0lJt4/D7lVAjiR3CKafrcVOBPm7RNA4Ler9NFK3YuLtHd3gSz2FNj/HrCPa6hGO1m7THBRyGcAhFfe9xNw6FSEaYM2FikznEfAdN4r+bPD/lWr6/yCHBIQUx67GcH+EQxKuX8xfEZJUvfelLw7Jly8Jb3/rWlC4aXfO+970vHH/88eHYY48taq3T+OyecMIJ4ZRTTinGx1hxryeBpE0CEpDAqAgo0EdF1udKQAISqBCo1jbHQjiMlZAXWUo1jSLrN8IJl2/cSQc1rPiIbq7DXXiQm/Ioxos7OlbvJkInjrlXCTWEE6KB0k+5WqpAj1mtZ5JA72XF5nNSTjhGOTcOfWL9dYRbDnd4DqHwnCDb/LgbB0Hs3VEkeEyZC6UPKTOX87Aspd/yNXwO8VapfnY56GPNywnn8OiJJRBf+MIXhre85S1Nuxt4PSyOOeaYYi9waBEFOq70J554YpGUbocddgjvec97itAAPJfa5OfIOmgfJgEJTFsCCvRpu7ROTAISmBQCTWqbNxkzVicSXR1xxBFNbku6lufOnz8/zJ07t+f1iCiELBbs1HJkjJfM2VjAcrUmifJYB6zjxK3vvPPORdxztY0ibKCpQG9SdioHxy4t6Ah0QiIGWbFjwrFoYSe5GNfHhHOp8ctVVggt4p+JhR5341CJH/rvovFZvOaaa7KGmzSdBzk0cHOvY0C8/Lnnnhu+/OUvB5JXEh5AfozDDz+8+DnyyCOHOuiMcfAf+9jHCgGOFxACnc8t339vfvObw9vf/vZieuy9GAP/hje8oemUvV4CEpBAEgEFehImL5KABCTQjsCwieAG9YqbNlbAYV9Qe/WBRQkL85ZbbvmkP+Mei0s7womX2VSBw4swlnnGm6shcrCs1WVdJ+aW5HVYDnm572f94uWfuHSSZ+VqcQ/we5DHREzcNZMEehs3c/Z9dIfmN63sDr/BBhskLd0wdcCTOhhwEQdLHAbx+emiTUKZNxjwecOLIbVRsQKxTEjEOeecUxwQnnXWWam397zula98ZXHY86EPfajwKIgCnYoTeBFdffXVxXdGbEcffXSRL+HUU08dql9vloAEJNCPgALdvSEBCUhgRASwMvMCijvr9ttvP5SVp9cQseaQbR3BGxMt5ZoKrvObbLJJWLBgwRMeyXxwaedvWKGrtY0H9U+sOqLoqKOOysYipXQb7rJYCxHlxBwPylo9irj+pgJ9XJm141p1aUFHoJP0q62bOZ8xrMHRus5aE68cresIqX7rff755xclCmMZwFyfnZTn4N7OmJl7F63rMm/MGXHNQQGfyZTG5whvC9zNc4X1fO5znyus5ldeeWWxb8oCncNEQl04SCh7Er3+9a8vDgWXL1+eMmyvkYAEJNCYgAK9MTJvkIAEJDCYQLm2OeJ81apVI8m0jsUVl0/cPHOXSvrud79buBFvs802xWSZE/MgZpRY816W9bp9MYoDhbqY8VhCbdtttw381MX8I1zwDsgZm5sq0Im95QCDrPxYCMfVuhTouePA+UyQZC4K9lh/Owp2DgLiYRaHW3hepFrcc65HU3Gas2+exUEUn+eussgzBkJNWB8O+lIanyM+w//xH/9RHKwM26g4sWjRonDmmWeuteL3Eui44ZerUrzuda8rqlWcccYZww7B+yUgAQn0JKBAd2NIQAISyEig6tKO4BtVpnX6worDS2XMcpxrKljJScyFiyfCGtHKb9w/2yZHwiUet1Ri0JtY3gfNqZ9LeiyhxgEJLrRY/FMa4g5rO4micrVUgY41GKvuTBPow+ypujUiHCMmG+M3jKM7PGUBKafXhUDHAkvIR1fZwPslaKvjmfPvHBDwOd1xxx2THsvniPhvrN05uJ1++unhRS960RMSDjIeDvE4xCER3MKFC3VxT1odL5KABHISUKDnpOmzJCCBGU0gJgPjJY8XPF70RpG5vAwZ6w9umP1Km7VdkOuvv76wym+88caFSzsWSF6KhxHWcCFeFPfUXBZiLIGMtVxbHascIhv+iL8mAmwU69VUoLOeoygr1m8vdGlBJ1HboJwAbfdvr/tYB0RxtK5zeMY+ZI/HDPG59mXduJtaj+ue1/TvhIbgut1VFnnGywEJ35OI4JSGdwTrhBdPNfQm5f7qNYRGcFBSbq9+9auL8pLEucfkl2SMP+6444rLyGWx2WabBbK7mySuDXXvkYAEUggo0FMoeY0EJCCBRAJYmcvJwEaRGK08FCzSlClqG8Pbb1o33HBDcbjA+LFwbbXVVrXu4XWIRmHxr7qkY1HH2j9nzpzCFb9pbP4oMs2nCnSuw+16pgn0LjKpR28FRFiMYWev4x0SLeyEeOQo59brc0E1ATxKEINdNNy28S4pJz8b9zhIxshBFG7rKQ3vFipLcCiHUB9FK7u483yEOPXRP/WpTxV5RN773vcWXi6WWRsFfZ8pAQlEAgp094IEJCCBjAR46eblPzZcbHmhy5kYrTxcno0LN6IiV8NKdNlllxUCgljPnOIfl3ySoOVKzBUt3rik15VQS+GDSGPuOUvXNRXoixcvzh6yMGjuXVrQibnHiptaCSBlDVOuifH+5YR87PuydZ39T5K5GL+Ol0pdDoOUvrkG926+J6it3UXrOkkdcyb0hwORVGs4Fn8O3TgEHZWnQ1Wg89k94YQTwsknn1xUDiBm/6Mf/WiRrM4mAQlIYFQEFOijIutzJSCBGUmgKtBHEXddBkuSLV5aU2Os6xaFl1ASxOHKjjBvUgKp7tn8HRd34n5zCTKydq9YsaI4oEBcYxEc5kCBMmzU5s5ZCi5VoMOHes/jjovuWqCTqCt3iEbdXqwraceaUc4tCnast1jTy+XchglDwL0bsY9VtotGkjo+O10KTTxdCC9ITTgJM7xLWJemnjFdMLZPCUhAAm0JKNDbkvM+CUhAAj0IVAU6VjLixEeRyI3uKQVEIjeSJw3TECTExWKFxqqHhZEX+Nx1mnO75BNLy4HCpptuWpSsGjabfawtj8dDrhZzE/C8OgtsF5nFOZS56aabioOBcTc8QAjRGLdA53PK4dbBBx+c5MbO5xhvjVh/nc8GY46x6wj3Ju7wuEhzCMZnt4vWdQw8c6a+ONnRyxnSB7Hg+he/+MVF6cq6z1EXTO1TAhKQQC4CCvRcJH2OBCQggRACljnEbbmNKpEbfXznO98p4sPLdXqbLgSuvStXriws0AhyYm9JnkSsJ/HBORsCFCs3rsPDNlxeSRCHeMoVQjCKkARifXHnxeIaE5LBuJcVED640eYKAUhh3LVA76IWOXueGuwcnLWxxiLwo1jHyo7bNWsa3eFx3R4kIpvGX6esY5Nruo6BZ6xkYyemnKRrKY0Dlb/4i78ovpsUqZimCQAAIABJREFU6CnEvEYCEpiqBBToU3XlHLcEJDCRBHoJdKzGuPHyAp+7XXHFFUVCNER6m4brLhZo3MJ32223tRZo6vxinca6mbMRc0w/wyR5QpAjcBgfSbY4XMgl0HPWasdyHuPiY6xxFHUc4pTdpaMgx6I8bsE6EwU660woA7kLcog9KgeU49f5zJTXt1pJgIMlLPBbb711zo9X8rN+8IMfFMksu4qBj4eLeBCkhudQd/xd73pX8dm3SUACEpjOBBTo03l1nZsEJDB2Ar0Eeg5R2m8iuH0idpu+6PNyjiWKF3XKHHF/WaiQ5RmRjjU3Zxs2Zh4hxIEC48cSj/UTqzMx420sodW5YVklDpwkcU1clqvPYR9Qno4M4YyTOvUcLDDGarkvDkn4O+sId5KmDRNH33S9uhToXbj0w4d9RDJASv7lbqwvLvCx/jqu8XF9WWO8R3BxZ42xIHfRunaxZ86E55A/IzXB5Ze//OXwf//v/y0s7zYJSEAC05mAAn06r65zk4AExk4AyyjirNxwpaVUGXHSuRuJlnCnTS1VRP+45+JyjXDolwEe6/Qtt9wSyCies2G1JDFWqltrue9eJdSioF62bNlQNdpjPzmS+hEqQB12RBl8iYuPuQl6HSKwXxDpCDqya3NQEt2lcYknoV4OK2+/dZyJAp1cA4SHYEEfdSuvL2vM4QCHPwh0Dsb4neNwqck8sEKzP7fZZpsmt2W9lsM6Ph+ph1H/9m//Fr74xS8WVTFsEpCABKYzAQX6dF5d5yYBCYydQC+BjqWOF/HUZEhNBh1jm1OzQSPKsUAj+nA171eu6L777iusfEuWLGkynNprYYEowC0/tWGR5LCAHyxu5azPiJ+zzz47HH744UMniGM8rB+Z5rGstinldO+99xaWc0IOcB9GWMcs7tGCPmjeeFuQWZtYeHIAIJ4RczG2md9txjWoT/pAsOU+jElZX7wVxl1WjnGRrZ/wEGLQx91YWw7WEOX8m30R3eH5TbjDKA9kmG/TEmejYMReb5LB/+Mf/3jgnm9961ujGI7PlIAEJDAxBBToE7MUDkQCEpgOBHoJdIQA4jy1nFATDggrXuaJxR7UEImUVqJUEXGfiORBIgBxyEs8Wa5ztqZJ7bA8I3j7lVCLWfKxhA5T9irOse3zyvHmCOzyYUwTgX7hhRcWLvF4RdBi9vAY34zLPH+Lgr1fsrkma9aVQIcLLu5dCHT201VXXZV9f6dyx8OCQyp+GEtcXw7Q8LiI64tgz30gwxj5TPHstrkrUufZ77o2a/+P//iPxUHSF77whWG7934JSEACE01AgT7Ry+PgJCCBqUYAQYWoLLe2ceIpc0dw098uu+zS93KszIhthBgupSkJ2nC5RkTkdgFuclhBHC/WfpJp9Suhxov+8uXLs5Wxa/O8crw5We+juI4L0kSg4/ZLJv3qM+KzcOmPYo7f5WRzuMNXk5Gl7KGuBTq1rXMcrqTMNV7DQQf7+6CDDmpyW7ZrORyYN2/ekzxJWE9EelxjxDt7IVrYOZAZJjdCnEAsTcgYumjME2v40qVLkz1fTjjhhILLJz/5yS6GbJ8SkIAExkZAgT421HYkAQnMBAK9BDrWKkTmKGoekyUcd10EbK8WRS7CjWtShRD3IaZxHc/ZECZkbV6wYMHAx1JC7YYbbigs/XAbZO1HoPOin6s0Gdmi8RxIEbuw5wAmxpv3snY2FeipcbnlZHN4PMRkZLGUG8nIqLVd17oS6HxWiCfuQqCzv3EzZ9900fhs8Rmoy8VQPpBhnTiMY12jhZ3vlTbu8E1rkOdmFMvcpdahp//jjjuu2M//9E//lHs4Pk8CEpDARBFQoE/UcjgYCUhgqhPoJdApqYTb6ihKGt12222FZRy36HJDvJFw7KabbioSyPHT5EUe4UlCN7Kj52xYLREY/ZJTlUuocaCQkliPmPEDDjigiKvP0RD8xN4jfga1crw5OQAGJfpCkKTEoJNQkHmnJs4qjy8mI0OsY2kkvhmLaxTs/ZLNdS3QYT0KN+5Ba8dhBl4lHA500VasWFF8JlNLjDFGPtMkt4vWdbxcsKaXy7mlHsA1rUGem1HMot+kzN0b3/jGMHfu3PAP//APuYfj8yQgAQlMFAEF+kQth4ORgASmOgFeohFj5YZIRpztvPPO2adHKbR77rmnSLYUG0KNQwGEGtZYBFrTxgs0Lqi56ovH/rFaIhR7eROUS6jh5p1qESdJHOXg+rmFN517neAvJ62rxpv36wvLJ269ddm6Eegk70NYD9vKYm5QsrmuBHp0c+5CoCNu8dDoIjEe63r55ZcX1QzafDbjvoj5CVg/RDtu+3xmsK4j2vnp5w5PLogmNciH3YvV+zkA5JCgSY6LV73qVcVB5N/+7d/mHo7Pk4AEJDBRBBToE7UcDkYCEpjqBHoJ9FWrVhWllRBeuVu1Xjkv6cSXYklDnKda1KrjylUPvPrcflnnOUxg3JtvvnmRqb1JnC2ZwKkdnkPUMt5Bgp/Dj5UrVxZ1rhELqZbuVIGO1wKiP9dcqmIOIQfrGNscs8KTQHDc1uQ2cci5Pj9dlpZjDlQzILFjag3wlHmzx6JYZ50feuihteX6WGcOsKIXDf1T+jElH0VK302v4fND6E+TKhHHHHNMeO5znxuOPfbYpt15vQQkIIEpRUCBPqWWy8FKQAKTTqCXQL/11luL+GCswrlbuV45Lu1kOaak28KFCxu5tFfHlbt8WXw+VkvEN+KANqiEWior4pj71XNPfUb5unPOOSfss88+TxLfWP1w0Y+HH03cspsIdBL+EQYwyhZjmxHr/LDeuFtHd/iU+Pthx0efZK1vkihs2D7j/QhYEizuv//+uR7Z6DmjOogpD4JDwegOj3CnRXd4vpM4CBr1PusHpY3Xxh/90R+FV77yleG1r31tI9ZeLAEJSGCqEVCgT7UVc7wSkMDEE8ByVW5YJ4lXLruh55oE9cpxoedFmz4Qqk3iWvuNo00285Q5cYBAw0qOaMUajdWfw4u2VmNc8fFOyGUNpPQX2djL44Ez7vmUyiOXQJ2repVFqkC/9NJLCzY5Lat164KI4+CEufFvDpMQ6OVSX008Gur6i3+PAp1M6inJ7FKfm3IdhxJ4thAa0UUjW39qMsAc4+PzjNWa9UUc4+LPQRPfFawz3x/kyRhXu//++wMJLpvwp2b9X//1X4eXvexl4xqm/UhAAhLohIACvRPsdioBCUxnAlWBXnVDzzl3sp3jNs4LNi/8ZBPP1XJnR2dc3//+9wtr7fz58wtrNDGzJEVrYo2uzg+xg6jNcTDBs8sW+bKFH8s2SaraNObMT52wH4Xrc914q9ZMxhldpRGy7OeYORwLe9vM4b0OLVi7LgQ6AvGWW24J++67bx2ekfwdzwEOgXIlNmw6SPY4XjYxTwHWdlzg46EMoRt1e7Vpn+XryZtB/owmh5ZcSy30F7zgBcN07b0SkIAEJp6AAn3il8gBSkACU40A7sMIu9h4GcValDshFcIfcU5btmxZ9hdqkqXhApwr+RrjxGqJ6MOal1JCLWXtSayGVbuuZFXKs7gmWuQRKVj4sSgjplLjzXv1k2pB7yI2uM7dOIo41i1mDkfIRXf4tpZXmCDQm5TaSl3DuuvwiKACAqEMXTQEMn3XVQoY1djwEuGzHUMZyPhfjl8nAV1MNMdac5DWpApE3bj57uJ7sVp9ot99fJ9yQHbaaacFLOk2CUhAAtOZgAJ9Oq+uc5OABDohUBXoCBuyqmMpzNFIroWrOC+4ZILGKn3EEUfkePQTnpE7+Rov/WSPRpwjeFNKqKVMCrdwMlKTYC5Hw7rJ84jTxbKP+/0wFn7GlCrQye7NYUMud/0UHnUCvfyMmDk8lnKLyeaiWG9ieW1TCztlPinXEA5C6EkTC27Kc1OvqQrk1PtyXFdXfx4xzLrG+HUOqDiEKYc8DPt5IF8Gz8d7JqUxJnJr4NXT1aFKyji9RgISkEAOAgr0HBR9hgQkIIESgapAx+qIOzc1f4dtJCoj2znupzHp3CjKoTFOrHy8QOcQi1joYMBvLPI5hRGidsGCBWGLLbYYFm9xP/NGUBOTTTK7HK6+TQT6sOW3mkJoItCrz8b9PQo5fiOkynW5ByWbiwIdi2gOxk3mTXJFwkPI/j/uBiMEOlnz21ZZGGbMTZPzcSCISI/rjHjHNT8KdnI1NM1RcPvttxe5J0hUl9JgxoEe332Es9gkIAEJTGcCCvTpvLrOTQIS6IQAYgwrVWy8iGI5xg19mHbXXXcVlvhyorJRlUNjnLliu7G2kmANF3Re7PnfOYURbLfaaqvW8eFxTRABWM3J7o3gzykEUgV6F/WphxHo5f0MP/Z6LOWGp0RMNoeFnTj2spBD3JPNvAuBzmeJHzw5xt26rP/OXIc9GIkVAKJLPHs75ijgcIbPeJ07PPH/rH/qZ4w+yTFB3DrffzYJSEAC05mAAn06r65zk4AEOiFQFegkYBrGyo3YJ1M7cZtkKy+7cvOyT6z4YYcdNrQbdhXWsK7jUfASf0/NZ0Q0rq0Io5xuqldccUVhPR/mxR2rIvH8McYaN/NcLvNwTRXoK1asCNtuu222hHcpH4BcAr3aVzXZHCILa2t0hydzO3sMz5I6QZcyjybXNI2BbvLsumu7zF7P2Pg+ItdBDu58xmOOAg5m4uen7EXRy0vgBz/4QeFtwecspfFsXNzZq12VhksZp9dIQAISyEFAgZ6Dos+QgAQkUCJQFejDWLl5+cWtk4ZLO8mayi2WQyPRVu7a1cO4jsMAwYtrLImgYsmyUWS0v+qqqwr3VzLDt2kwvvrqq9fGm/M8EtjNmTOnzeN63tNEoNN3rvj8lAmMSqBX9ynCMMau0ycCnc/GzjvvXIj2tsnmUuZYvQb3dhLFxTCRNs9oe0+XsfeMmTAZDrVGkWwt5iiI1nU8KvjOwh0+Jp3Di4K8Gaw/uR5SGpZzksTBbpz7JGVsXiMBCUggNwEFem6iPk8CEpjxBLCQYdmOjZfWM888s7GVmyRwZBGntBcW6H5xuljQDzjggOwlm7Dm0ndTyzQv5f1KqBH7ixs5483VENcIACxsTRvltnC/Z54x3pyDCcR+25JqvcaQKtARTsxjugn0KhM+EwhkQjZwiSaumQRzMTs8eQpGGZeOJweHBZQmHHcjD0NXngPMNX4+cyWtHMSPfY9Y5yeW7OOwju9I1pvPXIr3BB5EHEKyT0a5L8a9F+xPAhKQQC8CCnT3hQQkIIHMBKoCHSs3An3p0qVPsoD36hrxgoUJKx9JlOosubmzrccxtbFMYyFHdCEyqbNcffkmezburSTIytXwMOClH8tzamNNKLNF2TcsuPPmzVt7KwcT/O/yf0t9br/rUuugI9CJf89VMi5l3OOwoPcaR3S1JjxjULI5rOvrr79+ylSSr8Eiy7xTs4gnPzjhQubNIVCOpJEJ3T3pErxaOPhbsmRJm9uHuoe5467OIR2fCcR2SlJBvote8pKXBL4/UgT9UIP0ZglIQAIdE1Cgd7wAdi8BCUw/AlWBzgzPPvvssN9++9XWFOcFFsGJSMf9NqVOcs5s6+XVwApOvGeK8I1x8sSXI3r6WYCxWFMijsOKXO3aa68tOKW6y5bjzcvu93E8OWLaq3NLFehXXnllYb2fKQK9l1CNyeaiO3xMNhdj16vJ5trsI0qsIVTJ6TDuNkoX85S5cDCBRTqnF0tKv+Vr+I4j6RueEgh2xsR6cBATs8OzztGdndKHb3zjGwthP6xAf9/73he+8pWvFAwIC1q8eHE46aSTCmt+bOzBE044IZxyyinF2Pju/uhHP1q42dskIAEJjJqAAn3UhH2+BCQw4wj0EuiIaNxpsRb1a1iHsGxhMcelPbV0EdnWuT63W3Sq8MVllxdu3PoRvNU4+fJ8eRlnjrir5mo8jxdtLPZ1jXhzDh6If+UApFcCK0QyCeJIaperNRHo9JszQV3dHEjsdcMNNxRCZZyNtSBrfZ0lOSabi4KdOOSYNRwxx+FMU9HWtMxXTi7jdDHvNW444jmC6OyqYRHHQ6XsHcQ6sxdjOTcOK/lcI6a57otf/GKR12LY9tznPje87GUvKxJV0uff/M3fFN9JfAbigSiC/cQTTwyf/vSni0R273nPewKHBHg2cahgk4AEJDBKAgr0UdL12RKQwIwkgFDlxa/cBpUsw/qM2zdWPSw0TWOfiWcl83edK3zTxeBlePbs2QMzLccSahwO4Cped6iQsyZ8nA8u9Vja6jJCx3hzMr4Piulv49pfx5Y9QTxuXfxsL+FS9+xh/96lQCecoEmysmrWcKybrH20uvI7JYkY4Q1YsruwiOIRwOFXFy7m7BUOAjmgyFlJoekeTMm1wMEfFSDe9a53FQc5HOggro888shwxBFHJMev142NXAh4rFBpg7h89hjfwW9+85vD29/+9uJ2QjA4NEO4v+ENb6h7pH+XgAQkMBQBBfpQ+LxZAhKQwJMJ9BLo/UqWReszgh6LLgmzmrZcdcCr/eKKjmUSMVtt5Rhu/k4iuRQrJuKEl/PDDz+86TT7Xo/lC+Hba5zcVB4rdZfrkt5hYcfToU3SuX6DTBXoJLxDHOQ+bBkEuyuBnsPVG664Rsfa64g4LJwx2RyJyHrtS1ylsdByqDTuBm8OlXLmYWgyBxI1kt9i7733bnJb1msJbeBAjXVKaZ/85CfDZz7zmXDMMccUZSU58PzSl74Unv/856fcPvAavAm23377wopOzg9qtBMuw2cRj6DYjj766MJz49RTTx26Tx8gAQlIYBABBbr7QwISkEBmAr0EOiIaYVhOPIblBksa1psU63O/YY7CJZu+cOdkLlURw2ECL7PVEmopGMnCTA1mLGC5GrGkiHDEd7UxfjwBsLT2ijfvNYY2Sefq5tJEoGPh52dcrUuBzt7NGe6ApTO6wiPaaWXrekw2hwjj2l57ZtTcu44B77IGfGR7ySWXFGI4ll+sY078N/d84xvfKC7lYJNDOTx8hml8byC8WRNEP43DVA5POMQoezO9/vWvLzwPli9fPkyX3isBCUigloACvRaRF0hAAhJoRgCXddyZy63sNs3fsdrwslfNIN6sp8evHoXFl+cyRqyM5URaMX6W2FBi6pu+IGPh5EX4qKOOajPVnvfcfPPNBe+qu3JKvHmvB1J2DSssYQO5GocajLEuBIC1xHo+EwQ6hzV8LnIK9PJ69Uo2F2tyI87JQ9DP6yLXuvd6Ttcx4JSY4/Ciiwz2kQfx3ByYpcZzv//97y/CgD73uc9lXRoSz33rW98KF1988VrPmijQOcgofw5f97rXBbL/n3HGGVnH4MMkIAEJVAko0N0TEpCABDIT6CXQo1WWFz4EIImucGlPfUEdNMTUZG5Np4mVEZd0xkkjQzvW6H4l1FKej+WLhHnEkdbFY6c8j2t4cUdwYZGLDREE87p48159jIJnE4FOrGvTPASprHpd15XLNQIdN+Jx1ONm3rEmN+L0nnvuKbxDonWdDPGI95QwjWFYcy+eM7jY77vvvsM+qtX95Lrgc13+vLR60BA38R3A/AcllCw//n//7/9deOx84hOfGKLXJ976pje9KZx++ulF8rdypQpd3LMh9kESkEBLAgr0luC8TQISkEA/Ar0EOsIWQYBwpLwQlnMseDlaapK0pn2RSAsxg0CPddmxug1TAoyDCeq2L1u2LNv8SSRFPDNjaxpv3osJa0V2d+JSc7VUgc6hAgn3ctZgr5tDVwK9y2zmeF2wJhyQ8Zl84IH/DDffvHl46KFnhW233SAceeQGYf3116tD1+rvJGlDJC9atKjV/cPe1GX8PWPnM3reeecVbuS9qij0mt/b3va2IqP7hz/84WGnX/SPOP/qV79aHBZWP+cxSdxb3vKWcNxxxxX98b3F955J4obG7wMkIIEEAgr0BEheIgEJSKAJAV7weKGLjf9NUiSsVgjz1IRqqX0OisFOfUav63DnxM2T8aeUUEvpC1FETfjDDjussXt8v+cjOGJNa8Q1hwq4z5LQqU0bxYFHqkDHu4IDnJki0DmQWLp0aZtlGuoeBDoeHJTm+/rXnxKOO+6pYfXqddY+c+ONfxPe9KZV4UUvWlNY2fslm2sziK6TtHGghTdBF+798OKzgNUaz4nUQ8r//t//e5g/f35473vf2wb5E+75H//jf4TPfvaz4Wtf+9oTap8TD88hAA0hTr30T33qU4WAp1/EvGXWhsbvAyQggQQCCvQESF4iAQlIoAmBskDH9RqXacQ5mcH32muvJo9KuraXi3fSjTUXIWIQv7iJE99dFz+d0ifeBWeeeWZRWism7Eq5b9A1WPopocahCGPsV988tR+ywvOcHXfcMfWW2usYGz91MfsIdNyt6zLN13bY4IKuLOh8JphvFwIdoYU4vP76HcOf/dn6Yc0agM1aS23WrOI/hBNPvDnsvvuq4t9ld/hUy2+vZeg6SRvfF7ScHiINtlsRjkLCN74DUsNc/tt/+29FWbjjjz++SVc9r+0XxoAYf9WrXlXcw3f4CSecEE4++eQigRw140lU12VYwNAT9wESkMCUIaBAnzJL5UAlIIGpQiAKdCy5CBCE+YYbbljU8SWxWu5GzCTuwrmeHd3EeZFHUJLEK2dsLlmQEWWp8ad1vCgHh8swopas3Kkv/f2ey/NouTJ8435PMjQS7rEXEOD8YK2rcuUwByE4UwR6V/XA8TpZd93Z4QUv2C2sXo0w/704j/sCkT537pqwcuUvw69+9fO1pdz4rMVkc6wjltcmh1dkB+dAKdfnte7zUf17PJyglFgXje9Bqloceuihyd3/yZ/8Sfgv/+W/FK7pNglIQALTnYACfbqvsPOTgATGTgCBi8hDOGOF3WqrrQoBSazrKCzoMVY8x7PLJdQWLFhQlBpasmRJVobUMT7ggANa1XwvDwTOZMJHcCCYclli+5WXawMBIYYbNy7rxJbjis8+wGrN4UcU6wh3RB6ClX+zZ8bVurKgw4Jyfbn3Vwo3Pp8rV24cXvvaepH6rW/9Oixd+tjax8Zkc7GcG/+bcArWksOVumRzhI5gle0qizoeIhwOlROjpTDLdU2b5IDPe97zwmte85rixyYBCUhguhNQoE/3FXZ+EpDA2AngykzMOTGesc4vpY1wbR1F5mZe+IlrxQV0mMaLM2W+cD3HuoelkHjs3Fm2zznnnGKsxPW2bcTEMzZEEtZmBE8utv3KtjUZazw8wAuBvAOUTosu+DyH8TPmxxOUPVD8DZGH+y8x6JR4y+m1MGjsXQp0cgaQLGzcDZF6/vlbhHe8Y35t1//6r78JL3nJoz2vY52xCEexDsv11ltvrVjnsIX/XW5dZ1GHOcnxOIDronEw03TdOXzDvf2YY47pYsj2KQEJSGCsBBToY8VtZxKQwEwhgODi5T02BDTx3FiOczeEPyKdOMm2LZZQ46Wd2FTEIQIS628TV9SU/sngPEwSN1zFOUjAlZ14c8aJJX3//fdP6b72mmFj+omzRwBSTivOE0FeFujlQUSRR0gE3hBYZDkkqVrXawfe8oKuBHpX/YIJgXjTTXPCa16zTS21qgV90A2sM/NiLflBvHMQhWWd9UQYs1cJeyCvQxetCy+N8jzhwiFY6ueVzwcZ7z/0oQ+F5z//+V0gs08JSEACYyWgQB8rbjuTgARmCoGqQEes4To9CndeajqTmXnx4sWN8SIm+5VQI4nXFVdcEQ4//PDGzx10wwUXXBB22223QrQ0bbzcc2hArfAYbz7M/Hv1v2rVqkJYtXFBxgLO+BBqhBzERHiDBHp5DAjHpz3tacVP1bo+KHa9Kcfy9V0JZfrlIKPNvh1mvtyLa/3Tnvb08Lzn7RTuumtWWLOmfwz6ddf9Kqy7brseH3zwwbWx6xwk0QhtwKpOwrFhks21G1Eo9ue4S/mVx9q0DjwCnc/6v//7v2f35mnL0PskIAEJjJKAAn2UdH22BCQwYwlUBTov5ySMI3Nx7kacMzG1TWOwEQ+MibhzLNEksis3XN4vvfTScOSRR2Yd8kUXXVS8cOPKndrKLuOEDpRjtKkrjdU7l6t026R7HGhcffXVhas6BxDlxGEchCDe65KJ4baPOI/ux2UX6hi7jqjLaV3vSqDzmWDfdiHQoxX5mmu2KbK408oiPWZxP+20B8MLX9jbvT1178br2AOEjcQDIDwl+MzF2HX2zbAJDlPGxB6dO3duEXbRRWtaZo7PACXWKM/YVe34LjjZpwQkMHMJKNBn7to7cwlIYIQEePnmhTy2UVmjeX4b8R8zzCMO+pVQw5Uca/dRRx2VNR6aEku40W+22WZJK1CON+cggbjecmt7QNGv81hXnb5SG1Z8RB+x473ix5sIdETb1ltv3bPrfrHrw1jXuxToZFMfRdhH3bqVy9n1qoM+b95vw0knPZRNnJfHw2ESopMkbdEVnt98Z7C3Yzm3umRzdXPs93e8YjgASv38te2n330knsSKnvr5ghX7G++SnKUPc8/L50lAAhLIRUCBnoukz5GABCRQIlAV6MScXnzxxYXYzd2aiP+yJTpmmO+XjAyLL/HiWNBzWvYuu+yyQpykWPCq8ea9aqdjWeblnXJwORpx4Bx6ED9e1+BJeAGiHpd4XO97NQQ6XhV1HHH5Rpj1E+jlZ/ezruOZgMiLmeHr5tCVQEeUEl7RhUCvunk/9lgIl166brj77llhzpw1YfHix1q7tdfxZs54UixcuHDtpawl3xEwYT+TSA1X+CjW+U3d9hyNEmeUWGviwZKj3/gM8mWw5/AySWl8D+GSj7DH8m+TgAQkMN0JKNCn+wo7PwlIoBMCVYE+KrHL5Hixxypd54qOKztClpdjrFe41A5qXI9bKTHo1UzUw0BFIOCiXveyHePNsfSRCb2fuG3jQTBo/CTxSimJhzWbWGZ47r333kUCsH6tiUBvWwKrrXW9TVbtYdY/3ts0WViOPuMzSDJ89cvTAAAgAElEQVTIYUrdHszZZ3wWXgOIbzwt+rVysjn2IgdV1WRzbbP8c0DG4VybHBA5eHAA1iRJHvPnQI99Okzlhxxj9xkSkIAExkFAgT4OyvYhAQnMOAKIW16yYxuV2OX5xJKff/75A13RYwk14pcR5wiEuoaoPPPMM4u4+V6W67r7+/0dF9stttiiKI/Wq2FNpBQVmZ4REsSfDmq8uF911VXhsMMOazukJ9xH38S1D4p3jZZ9LKFY2ut4pgp0YrJhPWyN6ibW9a4EOsILd+/UbN5ZFvd3DyEOmz3Iz7hbmzrkfMZjKTcOpBDnZet6k2RzHOaRoC6WgBz3/PE44QCTXBIpjQMzrO3ck8uLIKVfr5GABCTQFQEFelfk7VcCEpjWBKoCHcG0fPny7GIXiLy4Ult82bJlPV9gScqEpRehS+x3nZt1eWEYM8nncLvO1RDTuKz2Et4caiBgiCvvFW/eawxNXPxT5kDNesrO9asrj0DCAltn2S/31USgI7YGWVdT5lC9ZpB1ncMFEpflSrKXOj4EJ/0OUx4wta/qdezBefPmJYVZtO2j333VRIBNn89eYs/H+HX+TWLBKNjrks2RpJHP1iCPj6ZjanI9B28cMPBdlNI4tOLwjXk2+e5KebbXSEACEphEAgr0SVwVxyQBCUx5AlWBzoTOOuusIt6Wl+mcLVq6qVdetqTx33kZRnBigeoXHz1oLIwZC2fOl3nELfHR1ThrrIT8jYZVOtVqj3cAbrtHHHFEFqzEuvKz7777Pul5/HcOEHbYYYfigCHVzThVoOP+TDgBMcKjar2s6/w3PBqaxK4POz4OYbCmdiHQr7zyymL9ukiUxmEZIrpciWAYlhzQRbHOoQffPTHZHMnVCJko71O8bTh8qlZtGGYMTe5FcDc5hMLj5uUvf3ngoDH189ZkPF4rAQlIYNIIKNAnbUUcjwQkMC0IYLHkRbnczj333CJWObdrKeIKV/SypTvW4+blHbHb9mV8FGMmgzaCv2wlTo0377U5qFmOVTBXAr7Vq1cHElmVhSOMY734PfbYo3GCrVSBTh+48Y5SoFcZwp7cBBzgIPBIZoeAjJnhc3pPlPtGoFPSrtdByKi/BBB9HBDhyTHuVs4gn7vvarI58iPEsnwcvrCufFY4KES4d9GaehBwoHDssccWhzkK9C5WzD4lIIFxE1Cgj5u4/UlAAjOCQC+BfuGFFxYlzRA+uVvZ0o0LNlmqeSGnv2HiNnk5RpBWS5sNM34siIgDslgjKBDDCNO6rPL9+sxdDg5LHVnZY3ZxDjkQVfSz1157tTrsaCLQqxm+h2Gdcm85Br2XdR1PhlirOzUzfEq/lNqCcxcCfcWKFcUBUReZzPlsYrkfR4K6GNoQLezs4VhXnDFwUDZu0Us5Qr6b+uWgqO6db37zm+HEE08sDpFsEpCABGYCAQX6TFhl5ygBCYydQC+B3rT+d5NBY+lGPGIxI/FWUxfsfn1xqEAG9ZxCBgsabtwIdNzFSciGlb/tIUDuDPnUNMdat3jx4iLbNAnFOFDgoKJtNvtUgU5IAnG25RJcTfZBm2sHJYmryww/jHUdgU5G736x/m3mknoPlQRgPIrDsroxdJmgjnAQDieYN98V7LW2yebq5tnv700z6H/hC18I//Iv/xIuv/zytl16nwQkIIEpRUCBPqWWy8FKQAJThQCCDMtrufGCuWDBgpFkjsbSjVhCUKYmV0thOYpDBWJQcf9HLNCaxJv3GnNdkryUeZav4cCAQw4s+ljOSSbGv4exNDYR6E0SaDWdW6/rU7O457auw5kM3V0IdD6LHGJ1UWqM+Hfiz9vkhBh2vQlfuPjii4tklbSYbI7Qhl/84hdrk80h4AnFGUVStqbz/+QnPxm+/vWvF4kwbRKQgARmAgEF+kxYZecoAQmMnUAvgc6LKS/luZJDxUkhdC+99NLC9ZrSYE1KLtWBIfkasbo5y1EherFS80ys87h0D9Nyl7BDOOJOi/WY8SHQh22pAp2DAVpqhuthx8X9qQK92hfcscIi7trErsOZknaDytnlmF+vZ7CvKfPV1mtjmHF1Gf+OiztzJ6Fk9cAJ8R5d4fnN/o+5CDjIGMZbosyraXjBP/3TPxXWc0S6TQISkMBMIKBAnwmr7BwlIIGxE+gl0PtlLx9mcMRLIyaxdO20005ZhTTj4mUagZpDpMZ4cyzoWOdIwjaMVTpy65fFvg1XnsU64X7N+HIJuFSBTtkxrsW6O67WVqCXx9fGus4hDfkHuhDoHGhx+IIAHXfDvZ4kgDnDRlLngIcNBwTRgt7vvphsLtZeryab43PRNrdF08ORk046qUgm+NnPfjZ1ml4nAQlIYEoTUKBP6eVz8BKQwKQS6CXQSY6ElTtHhu5qCTVchXMJ6TLTQTXLm7BnvDHenORUWOeI6c7RYo35gw8+eKjM1FgQEefEtDM+rIy5WhOBTt+41I+r5RDo1bGmWNcR6JQApLLBuBuhG7vuumv2igop8+jSvR43dvb4QQcdlDLUtdf0SjbHIRuWddzhKR2ZetiGi/3uu+8eNtpoo6QxvPOd7wxUajjllFOSrvciCUhAAlOdgAJ9qq+g45eABCaSAKIRwVduCFTcuYcVXwhI3MR5fiyhlktIV2HmsPrH+uYwYbxY/bHI8e9cbfny5U8oM9f0uQgXknchOsgujVdCnZWxSR8IdDjUWR1JToe4HXaPNBkbAp3M+kuWLGlyW/K1/azrZIdnLxODPmyYQ/JgfndhU5HY9PmDrsd6j7dLLu+MJmPLdRiDqzxu8FjYqRoRk83FbP+zZ8/uO6wLLrigOJRB1Ke0t771rUW2+Q9+8IMpl3uNBCQggSlPQIE+5ZfQCUhAApNIoJdAp5RYjGtuO+Z+JdQo3YS43Gabbdo+uud9HATwIt3W6h/Hy4s7Jd8QYlj7qYGd03JKmTnKoqW+9JcniyUX7wbYMU9EDAcTuSzo7AXWHYFOw9KIoIm/y2NBoJP0jvjocbVRC/TqPKJ1Hfd2+qaNo+56eRzUAieZIsJv3I3Dgd12260T6z2imu+hWEIwx9w5fCLZXHSHj8nmolgvJ5vjs0BCy/333z/Z2+UNb3hD8bl897vfnWO4PkMCEpDAxBNQoE/8EjlACUhgKhLoJdARX8SA4t7ZtPE8EmpRhqtXCbVybfGmzx50PZZkks61SVqGALvpppueNF7+O1b0nNm7yfBMPe0mggumxLbyg2CaM2dOgQLRSEK/ww8/fGiUUZwjYvg3v+O/48MR6/GHseAZMZ0Fepz3XXfdFVavXl3MNSaaw7Mi1l1H4CHcR2Fdb2rFHXojlB7Q5eEAB2N8D5FfYVStV7I5vAVwh+c3Mfh4awyyspfH9md/9meFoH/HO94xqiH7XAlIQAITRUCBPlHL4WAkIIHpRAD33XKj5jMW5aau3VgcqR2O9atfCbVc7vNV/jwX8dhEMJbjzRlvtZQVogyRnlMkUAceizzWupSGRZtDDQQh9ePL8bBYABERy5YtS3lU32vK4jxazLm4l1jnWhqHMFGgj6LEVa/BPsGC/thjYd1LLw2z7r47rJkzJzy2eHEIQ2bZ7wcIgc5BTfnzkBK7PtSi/O5mrLgcEJETYtyty8OBcZe2Y19TZSK6w7PX+G9z584tkuRxAFMX9vHiF784HH300eEv//Ivx71U9icBCUigEwIK9E6w26kEJDATCFQFOqIUd+omWauxuONuvd566xXivF8JNSzVCD8yU+dsTd3ycePG3Z6xILxmz94gXHzxrHD33bPCnDlrwpIla8J9990dbr311qxutgguks6lxPUyRuLNscz2YoqgINP0EUcc0QolAqRsLS+L814PhBUHBiTC4tAA4bJgwYLi0rJ1vdVgEm6KAv2Qn/wkPPW448I6q1evveu3c+eGh97//vDoC1+Y8KRml3BQw+eh34HVoMzww1rXzzvvvOKAKFfpsCYz77JvDkTuvPPOrOElTebO9xmHXyS0RLTzWaxLNnfUUUeF17/+9eFVr3pVk668VgISkMCUJaBAn7JL58AlIIFJJ4AlNFpGGSuCBAsp7popDfGCYKNuOi7mgyyq1M/mZRdX7ZytyXOxRnOYEOPNv/GN9cJf/dVTwp13zlo7pHnz1oR3veuBsHDhteHAAw/MNlSskmTlpu9BLY5x0003LQ4zejFFRJDl+8gjj2w8vrIw52bizFOyWzMuDjY233zzsHDhwmLfxGfFQUSh3yt2vfFASzcg0O/9538Oe773vSGsWRN+v1ohrJn1+P968LTTsot0Pg9YdDkkSWk5ret4XBCHvcEGG6R0ne0a1hSBvnjx4sKVf9yt7lBk1OOplnkj2VyMXce7iEMzPG74wboOo6VLl4a/+Zu/CS95yUtGNryPfexj4QMf+EDAq4NcGR/+8IeLfm0SkIAEuiCgQO+Cun1KQAIzgkBVoCNGELx1whSLKtdhcUd0xtjoQdCIXSZRU6rYSV0AnovLd11JtBhvzkEC1t+vfW3d8PKXPwW9h0xd292sWY+7cr/zndeG44/PlwiNuF4yYw+qLY04IVQgjrGfcMaSzfOw3DVp0aU9HsqkuqgjCgglILcAhzHlFq3r0S0+PntQorkmY+ban/3kJ2HjRYvC+vff/wRxHp+DSF8zd2741XXXZXV3x5JLvfk2e3YY63oUyXwO+3mkNGWYej3riLdHF30zRsraYblukwcjdY6DruM7isSTvcQvbDgsYnz8UP+csCBE+p/+6Z+Gt7zlLYUnUe72+c9/PhDnjkhnXU4++eTwiU98ovhMzp8/P3d3Pk8CEpBALQEFei0iL5CABCTQjkBVoGMpQiAOqkFcLqGGcEnNSk5mdJ5PPHXOVhc3z0v1jTfeWMQSM14s2I89FsIOO8wOd975RHEex4VI32STB8Ntt62TLbwZizfCmxrr1YYgI7kehwiMcZCI5148ERBRCPQU6zf39Is3H7QWMUkdXhV4PtSNK4p03OF7JZqL1vrUg4E4tgfPOCNseswxtdvm19/6Vngso1URgU7SsrrDn9qBhVCUpsMCG2Od+ez1ywwfRXKTRGUpY0i5hrXD2wOBOgqxWTcGvic4cOPgr4vGGvF9gQdBXWN/fPOb3wwf+chHiuSarPFhhx0WjjnmmPCKV7yi7vbkvxPqwPfmxz/+8bX3cNj3x3/8x+F973tf8nO8UAISkEAuAgr0XCR9jgQkIIEKAcplIQZiwzpEvXJeMnu1WJKMOGpeoOuSJ5WfgWUMS2zOzOg8f1DcPIcJuLTHePPoLnzBBbPCUUf1r4Mcx718+cPh4IMft6gP26gtTSkmXMTLjZd6LHa84JNELiUpGPPCDRkX9xSxi9CmH1qqSztCjcMa9gQx2KkHMeW55bKuP3zqqWHjN72pdgl+86//Gh7N6GbMnuVQKYdALw++zrpOpn9KnXUhkvlOwDvj4IMPHkl2+rpFJPcDbuW5c1XU9Rv/znqvWrUqOUEka7nlllsWn0c+i8uXLy+4/fVf/3VqlwOv4yCHPARf/OIXw4te9KK11x577LFFyAmHKTYJSEAC4yagQB83cfuTgARmDIGqQO+XfKxcQq3O/bofPMQ51rHU+PbURcCKhZCqZlyvxpuXS2F9/vPrhFe+st4V9dRTHwkvfenvDzBSx9Trussvv7xwrd9iiy3W/hlRTjI4Dg4QgakWS17aiVEmSdygEl9Nk8HFgUUvCf43Fv3UclOD+MTybXVl3Ho9oysL+rjcrXtZ1+HEgQ65CMaZKI61x9vjkEMOSTr8GeYz0eteSqzxvdSkKkPOMTTNIs864ZWD1b1Nqce6sRP2QsI61qRs1X/ve98bTj311KJmvE0CEpDAuAko0MdN3P4kIIEZQ6Aq0LFcYZEpu06nlFBLAZYa397vWbilV7OtU10L1/VqxnWEVXxhRhRX3cC7sKCTGRpLGy/bNCx1WMAo57Tjjjs2EkOsydlnn12UWevnxdA2GRzuxYwL92usmKOo8R29Nsqu8INi19fGoD/wQJj1u3Jv5X0yqhh0vDPwGhlnPDQciIPGk4U1wINhHHXXI0/CJ/D2OPTQQ5PDJ1I+/6nXkNuCNgqxmzIGDhL5SQ3FIR8EOTi4JyUXR8oYytdEgc6akDQwthNPPDGcdtppgeoYNglIQALjJqBAHzdx+5OABGYMAYQeIik2BPs555yzVvilllBLAZYS397vOaefvk7PbOv/5/88GhYvvnttYjuEHy+svCzvtttzwo03bvKE8mmxXHZdDHoIj7u1f/azj4YXv7jegt7v8KA8nyuuuKKwniPSienG8kUcKf+7aWPNzjrrrCIUoZd1u20yOBKiXXfddYWlf5ttthmbQKuzruPZcd/JJz+exR03/ZJIH2UWdwQ6nhi5Kw/UrTceEri4Y8WGTTV2nRATsohjuc1tXUdwrlixoui7i8bngkMnvAe6aE3DGvjMMFYOttqEgdTNURf3OkL+XQIS6IKAAr0L6vYpAQnMCAJVgY4YOPPMMwvrGcKEEmoISLJ3p8Q6D4IWXc55dpOGOB+Ubf2UU34aFiy4qnBxx/LLnO64Y99w/PEbPql8GoL+j//4ccH9la+sE17xiqf8bijlwl1xdMSWhvD97z88MFHcoMOD2BdPxCJKkjXEZqytnVITvRer8jpVs3xHyzkivq6++dqZrllTxPITe4vVfBSWwNQ1Lyeaiy76MS54yb33hg2PP/6JddDnzQsPnXRS9hJrjJeDFCzY4xbo0c28asWui13H4j6sxwP7k71KDHoXjczkhHxwQNRFY83xYEhNUkeSSsJTONwcln2/+fLdRn4KsrjHxuf06KOPNklcF5vEPiUgAQ7Ke/izCUYCEpCABIYmUBXoPPCMM84oRPnjVujdsok1LEy4eeOWndpSLN0bb/zb8K//emZ46lNnFVbFH/5wj/Cnfzq7b/m0f//3x0V6Djf3usOD2FcU6IgfrIO4zw5T35r/WyQZFVbOcq3qNpnaEcRYLQlBQGgg8iapYaHkoAirPuEBax59NDzlssvCOvfcE8IWW4TfHnhgWGcEpa2iQG8i1nJxi27m/ZI1xn7Ksetkm0ckDmtdjyEOXdXYxoODJHmsdxeNcBn4492S0kikSLJGDiCHPcTs118ss/bP//zPhZv7KaecEv7lX/6lSOLYFacUNl4jAQlMXwIK9Om7ts5MAhLomABW1pjdm6FguaN8F6IPi01Ol802tbtTRfRGGz0U3v3u+8Kf//kmYccdnzqwfBoh4FjFv/Sl4RLF1R0eUKot9vXrX/8ikCQOUU6SvCbZ7/ttEQ5SKIcXXZzLbuKplnMEHeKXdScZ3DCHBqPYyrgbc3iAtZDwgFGVces39q5KfpELgv3SxNskl3UdjwH2BCXeumjXXnttcciw1VZbddF94UXCPsNrKKVx6EiNcmLFU0sepjy3eg3W8/e///3FwSnW/Q996EMDy2G26cN7JCABCaQSUKCnkvI6CUhAAg0JlAU6FiBcxIl5xMJbV/O6YVdra3enlgbj+anZ1okZnzUrhL/920fDu99dn52d8mm0YUqtpR4efP7z94Y/+IMVhZCmxNrChQubout5PaEIBx54YPHcaDnnwtQyaohAStBxGEMStByHBk0mxgHHJZesszZHwIEH/nZtKAHzIZt3rAvfLxQgVxm3QQIdr4dddtmlydSGvjZHHHhb63qTOuBDT7THA/gO2myzzYrkiV00DoRwVU/9nFJN4a1vfWsh7Ecp0LtgYZ8SkIAE+hFQoLs3JCABCYyIAAIdKypCiBdTMifzb0ocUd4pZ6smoEt5dqoILp61zqNh/R0vCg+ue3cIv9wihNuXhrBm3Z7dUD4Nr+i6GPR589aEm28mtvTJj0k9PHjb264Of/mXGwdctRHDubJTkyQOazxW7xgJlupiGw9jiDXPkV8gZS3L13zta9SJXi/ceec6a//zvHm/DR/4wCPhBS94pHDdZYwcFKXUhechddb1yCaVEc8kvphEieMW6PR55ZVXZosDb2Jd/8lPfhJuvvnm7OUQU/cI8e+EMnSVB6FpDPw3vvGN8A//8A8By79NAhKQwEwhoECfKSvtPCUggbETwFr+ve99ryj5RfwxMdyXXXZZkaAp9wtyTGxWjZtm0mvWPBZ+/vOLwyOP3B3WW29O2GijJWHWrHVDdCNfvZpreiVy+x2ynb4SwnOPDeHpd/ye4c+2DOGMj4Rw44ufxPU//uPh8LrXIRD5U+8Ecfzlk5/8ZXjFK2b3XJfUw4OvfvU/w/Oet0EhOqlznuo6W7cZKLO2aNGiwoKe6tLOM3GRjSXounAjRpwPyhFwwgk3hCVL7i1c7qsJ8OqYlP+ew7qOQMeajYv9OBtW+6uvvnpkLszRus7nnp9y7Dp7idACEpN10ah2QFw1VvQuGjHwG220UZg/f35S95/73OfCpz71qaI0nU0CEpDATCGgQJ8pK+08JSCBsRMgbhLXTMR5TDZGiSUsWLFed85BkdiM5FPl0lAPPHB6uO22vwoPP1yo5aLNnj0vbL31/wkbb/zHoV8itrUXI86P+RNk/hO1dhT0X/hSWOf7R4fddrsobLIJcaJbhL/6q/0L0VzXTj/9Z+G5z12/52UpWeDLFnhEMS6weCcM27CInnfeeUWsLrHZHKzUZZAuu42T/C93CEPKnDhw2Wmn9X+XXb/3wchmmz1c5AiYPbu390NKP9Vr6sq4IUp7WdZJGEYowLgF+jgTtfWyrsOPzz9l3HJkhm+yZsR0U7asi/3JODmwpO/U779PfOIT4dvf/nZR/cImAQlIYKYQUKDPlJV2nhKQwNgJIFywopdjJ7Hc8WI+iuzAWH2xzJGlmYY4v/nmlz8urp/QHhdvO+zw74VI/8pXQnjjG9cJP/1pJb581mMhvHnrEDa6o48hfFZ46kPPCp9+zvphzua/PwB49NF54e///v8LF130ZOt6eRgf//jPwqtf/WSBXpcgrlcddeqzI4ZSs0P32wxRbOKKTOZ1snezhoh0whIQF+XM7jyHUAYs+CQA23PPPbMm/2uyaS+8cJ3wvOf1PvAoP+fb334wHHRQff35Jn3Ha6MrfOQYS7nxdz4H0RuB300zercZT697yByPy3QXido4tCM5Hoc/Zes63wnssdx116vzx4Nnxx13LPrqovH9x6EXPyntIx/5SBGOcPrpp6dc7jUSkIAEpgUBBfq0WEYnIQEJTCIBxAnirtywICGgt9122+xDxuqLQMQqh1v71Vfv8ATL+RM7nFVY0nfddWX47nevDb/61SPhZS87NPz857+PWw5bnx/Cq+rrqn9w9xD2fObvnx7d5f/u7740UKR/+cs/Cc9//oZP4pDq3k4yuoMPfvzwgbheXInbxjNHIYnYjmISQcl/J2YZoU6cOyKc7PsIdQQ7buIxPha38dmze7vsZ1/sHg/8whfWDa9+9VNru/rUpx4Kxxzz+DxH3QZZ16mJzZoNe6jSdA6sIa7WJAEcdyMEgh/i/5vEruca5yWXXFJkKX/605+e65GNntPUxf5973tfYJ985jOfadSPF0tAAhKYygQU6P8/e2cCXVV1vfGdIEq1aOuIJIhaFGkd2jpQQVAQRRRB1KKAVGkdKk44oHWo1CoOoH+1jrVanBCnKmgVUWQGB7CrioKKsyRgHVrrUFCT/NfvhB1uHu+9e+599w1J9lkrK0rucO53znvrfnt/+9tNefVs7oaAIVDSCKQj6BADSF1SZmZBAObMmeMIKtm4zz+fLUuW9A3F55tvrpJNNtnXvbSff/4GcsMN6609Z+dJIkcODb3GRV1E9k8paa2tLZOPP66UoUPfldraxnJqWqRtvvkqWbToM9lqq83Xub6vQRxmdEcdVZ8JXrZsmXOyR14edahLu5rBZXNqh1BC1pWwQ+gxkkM2DGEvtFt74/UvfgY9G/ZBozlw1J7ceDKkZtejrmGU44vppE4GHWUGwZzUkal2PcnsOt8RBPFUZRMFtySORWKPgzvP5DMuvPBCF+SkR7kNQ8AQMARaCgJG0FvKSttzGgKGQMERSEfQk5Jip3sYsmMQfwygPvnkAVm27NjQZ27bdrx8+unprh3XRx+JnHtuQObumUG/djeRn/4g/a1GjZopL7+8X8MfIeeMiy9eLL/5zQ/TmlVFyqDv852UzZsn/3r5ZfmybVvZ7le/krS28BmQUHIOeYxiBkc2nX7WtHbDnA7CjuEZ0mXNrudbrpz6SFqDXl1N5n/dGvT63vF1smTJqigQhe6hqAfQF54WdOBG/Tn1/Ure9Vpatx7FFd53HsV0UscgTk0js803X9n1WbNmyZ577unt3u+Lqe9xmL2x5qh8fMaoUaPcZ+rqq6/2OdyOMQQMAUOgWSBgBL1ZLKM9hCFgCJQiAukIOpleCAoZ66TH888/72rbqe/0zaCPHTtDpk9fK2MvL6+TWpeULhNpqEGvEllDrFPnvMUGIpO6irTKYAJ/6aX3yYwZ1MHXj802q5ObbvpOttxynpP5p3Ozh2jusENrgWimK36vJ5oib417UNYffbaU1dvFu1FXUSHfXXONfHvoYTJvXllDH/B99qlbh5TGIeecQ6s8zP8gGsH5Q9A1uw4JJLOudesQknyQzdT1ePTRMjnmGK1DX7soGhiZOPEbGTiwMPL2dPubcgHqkCFd4KeYhLVxU1VDEhhCkFm/Yjips3docRdV6ZFEdl3ND/fee2+3N4sx5s6d69QDvhn8k046yQUdL7nkkmJM1+5pCBgChkBREDCCXhTY7aaGgCHQUhCAjAcHxljUwKaTuOaKCfWdkPPKyspADXp1GpO4+rZqSNCHDHlHamsDsvZGhnJlIg0u7nDlgNkc/1kmcsmPRXpmaeneOINeT6zffPMbWbToBaENWfv27dd5bAjUTTetkCuu+Hk96Q5kg5VozjnzIel+7dH8sVEjt7qyMuchd+KmD8ntnx3RcG0yx9dc850cdli9JD5YG9xy3GMAACAASURBVO2bOecc+tkjUcaZP1sWEEIFSSfTDmnnXGS9ZNf5yUetOlJgMtPz5m0pt97aRaqr1/oJVFbWyrhx3xaVnLPvmR8O3sicg+aJqZsgiTZumT5PrMc777wje+21V64fucjnYxBHm7e4Xgn1n4d6XwT2F58VCD/GheyvbM7wYEoGHXO8fOw/HzCiZvCHDRvm5nvuuef6XN6OMQQMAUOgWSBgBL1ZLKM9hCFgCJQqApAmrW1mjhgeQdp23333xKec6hC/1sXdvdYH7ocEWmTMmIdk7ty1JHbtAWvYt/5Dmj7om7aqlNM7fy37bvFvd+2aOpHFn4t8+o3IZuuL/KStyGefdEhbg46524YbvtgQTAgCAT6QYIzDFi3aRs4+e701bcPqj6qsrJNrxq2WX47uJDRaT5e4r5UyWS6Vsp28K7VSX/+uxP6+++pJaqoZXNhiUDONpJ2AC8GVKBlI1h/ncK1bh6DRC1qz65jOZSOrYXPj7xA2yC/XrSd/rWT+/PIGBUH37rVFlbVrSQDE3LcHtj53WHY9Uxu3TLgxF3qwI/Uu9MhHaznf7DrHUYPes2fPonglaAa/W7du63RCyLQOhx12mBxxxBEycuTIQi+V3c8QMAQMgaIhYAS9aNDbjQ0BQ6AlIJBK0KuqqoSffGTv/vnPfzqCFnSIh6S//fYoqalZ2QB3XV2ljBlzfWgbtEbrg9y941yR76+Q4YO2kFvP7yb/+ffjro3bnI/r5Ma3RD4OGNZvsb7I5otGy9JHxq2zzJi7deq00BFUJWuQMOrzV65c6QiwtoFC7p4qVV9v3mxZv2+4Ad5+MlNmS+P6dzLpixd/JeutV+ZIsQ8xRroOtmQpd91115zJDSRfyTpZUGqxNbPu03M9FVBMz5gfyomwzHQxPnPsd4IuBA6o2c915JpdRwFBIGiPPfbIdSqRzydzz3fCTjvtFPlcnxOyZddxbqcd4H777VeQcovU+WqAoEePHm7P+4wDDjhATj75ZDn22HA/DZ/r2TGGgCFgCDQFBIygN4VVsjkaAoZAk0UglaB/9NFH8vbbbwtZpKQHGV5IpDrEQ2RoP7Z8+fuyww6rZaON/ietW7eTp57qKcceG94vO9P8Nt2UOuxvXEb2noW/kxOevW7dQ13CvkzkwYdFljbuh04GfeON6+uQt912W0dYIJhkqWk/FZadLn/gAWnt8cI+RO6T+2Vt/btO8skn/9fQni1sDZAPMzdqzXfcccfEiQ2ZfAi2Evawnuup86Vl15IlS1xvawh6KQ3IIhljZN2UBOSj93a2Nm6ZjOb4DGLWlg8VSxj+1L4zZ/ZSIUYwu84e0/1FQKgQfdeDz8i9582bFylAQCu8MWPGuCy6DUPAEDAEWgoCRtBbykrbcxoChkBREIB08kKug5fkpUuXClmkpAdEDUdsyBovw/RcJ1tLW6WNNlrbb9zXJT3b/CDZPT/7m+zw0jGyfKPadF5uItSO/7dS5Lp3RepaOZk5NehvvPGNvPpqfT94suhI88n8Y5zl06asbHa8DLo+j28fcCW/kCnq5fM9wnqug5Fm/DkWmTYEmKw+hKuUBvNDEYGcvFBtvVQKr6Rde9u7UFFZWYNLPxl02p0RDCr0IGDGXPLRZjHsWSitwKeCloBau04wDKKerXY97Lq+f//f//4nGFmSwfdRrrB+7J1bbrlFDjzwQN/b2HGGgCFgCDR5BIygN/kltAcwBAyBUkYglaCTLYU485Ka9EBGTEaWTCqkF0lrOtKLbHzHHdeX6urGBmxR5jN95INS/uRR0vs4j7PunCll7+/rDpw0qd6ojWw/RAoCh/N8JGl2TY2sTwayulrKKKZPGelq0IOHTJ26Snr2XBs0ST0fYoDKAcdt8CsW+Q32XCewQ0ZYM58QLOTxhSK/HqvccAh7kPWlNID5hSkiolw7yrEqhWc9g23cyKCz7yilSMIVPsqc+IwShIIkF3p88cUXzqeAGnSGb+16UvMkQPDSSy/JvvvWfxeEDdaN4NgjjzySF8VR2P3t74aAIWAIFAsBI+jFQt7uawgYAi0CgVSCzkvyCy+8IH369En8+ZHPQtwwJKMOnZ9MmarJk8tl2LAy2WWXubLppivl00+3lsWLe0htbb2pWrZRLjXyQdm2Musny+WYI8OOFpGH75MtPjpabrihnpzz4k0mjXmS/cV5PuoonzxZ1htSL18PknTIOeNIeVgelcbSep8+4JBL6nSZGwQOA7dSGBBMXNDJ/lLTzTxxkafnPSqEQvdcz4QJ+52SAAb4+dYa5xtjJehkcV955RWn2FCSrC7+mmXP51xQz2ywwQaNfCLyeb/gtdk/r776qiAbTx3pateTzq5zfwI3uLL7DOaE4z+yeEokbBgChoAh0FIQMILeUlbantMQMASKgkAqQSerSC9gJJs+Mk/fSUNAkK9SM410F9KWbWAet3Tp2dKq1doe4v/6V6XceOO65nEQ8h4yV7aWFbJCthb+f4b0kVnbivTyzKBPGNNdhgypdcQSAkwWE3KZy4s3JL3m1LOlzSdrn+ED6SCj5Lp1yDlO83Rgy9YHnHIA1A1KLovViirTuq1atcplQJkXEmnWmsx6sXqup84T8sv8CBagPKDcopQG8yODS2ADkzaVwAez68F+6/nIrrP3KTfBe6HQg31CBp8+6GEjW3YdOXwcVUSU+zM/1gWfimXLlhVFcRCGkf3dEDAEDIF8IWAEPV/I2nUNAUPAEFgjI9WWXgBCbfiMGTMcQU+KAGi9Odl5Xv67du0aSs5xX2/ceo0XYlzNab/2cIPD+yB5RK6XM6SDLG+45qeyqWwmn0lNmci2o0SqNq4vN19noD7/bwdXgz7tqRrp2rWewDG0nvrHP/5xTvvkwUl1cseI5xuCB3OlR0NrteCFN920Vm68MXMfcLAj8wt5Y06lRi5Vngw5ogVdcO8Uo+d66qLp/AgMQX6TDD7ltEHWnMz8KPtQs7/g/MLauAVJe65zIYPN3o/aai7X+3I+wRxKN8K+H1LvFcyucw0y4XGy61H7zyOJb9++fUMwLwkM7BqGgCFgCDQFBIygN4VVsjkaAoZAk0UA8hQk6Pz3M888I71793aZ0FwHUmztfw15o01ZthZudXU18o9/7CjffLM26xycAyT9448rXf/ygbVT5GFBw14n5YGDqN7W/3+ki8iRg+v/GCTpZXVr6P+DD0vlF4fLiy9+LC+//A9nRkW7LdpNkbHeeeedc4LA1/DuiSdWyX77pa871x7dZDW32267kiOXlC0gy6ZWP2x+hei5nrpgZEZRHvjML6fFjnkySgM+I77zy7WNW7Zpso5khQthOpg6D8ojcNTPtf973Ox6VPd8jkcp8tVXX5VMCUfMLWinGQKGgCEQCQEj6JHgsoMNAUPAEIiGQCpBh0BNmzbNGSXFkYkG747LOBk5rTfnhRZX72wS1s8/ny1LloT3ED9r1HSZ8vJxUiHLG5Fzvb9as5E4h6SfcZDI8k3Wzm7rz1vJyqcmibx+pNx007+kQ4eFzggOEkxGkkweL97UoOcywgzvstWdsxYYwVG7T9ac7GqpDerNcUNnfnFq9ZPuuZ6KD3sO2TadA6gXLrVB1hZSDNGLQ4rDsuvays33uQlkYPRXDKwI3rGfkmwvp9l1gkj8ZMuu45zPfsE40GcQxGOu7OFSU7T4zN+OMQQMAUMgLgJG0OMiZ+cZAoaAIeCBABlzSHpwkEH/xS9+4dqMxRm8FNOuCXIJwaWWm0EmmBrTbCZMn3zygCxbdmzobR++9CK5ccZlocdpNh25+9yOIlXfF9n6S5Eb3n9QJtf9UjbZ5Fs55ZRX5OSTt2pUF08ggZd5jMRyGWDx6KNlMmxYvRqhLpDGh5wz0tWdQ7zAiqwidfBI20tpBJ3kk+ohnmvP9VR8PvjgAxfcoN48zPOgGNhqmzwUG0kEX7RdIjgqcWedGME2btlKV8jkb7XVVk66XegBQWa/5/qZyzbvbNl1SnGQrfsG5TCU69evn/NaKLWSiUKvnd3PEDAEWhYCRtBb1nrb0xoChkCBEUhH0GfOnOmySHFIodabYxjGNYIu42SwyKhna2Pkm0Ff+NcjZPQ9fwtFS+vR9cB1Tdrqzdm0vZoeh9SW+ebSi1rbZ0GWpkxpJeedt4FUVa0V42+55Sr59a8Xy/77f+4IJD+0noNE8PJPZg6ykquSIRSkiAfwPGSlISapaxzxUhkPj9JzPfUinAsxJxvL/MC01AbBK8zFCG5QVpGPof3Wg33X9T6aWU8l65jUkT1PImAQ9ZnAhDaPvgQ56vXT7RNUMppdZz+TCUcJ4tN3/bnnnpMRI0bI8uXLjaDnuhh2viFgCDQpBIygN6nlsskaAoZAU0MgHUGfM2eOq8OOShzU6IrMOy/Z9FMODjLSEADq2zONsBp0ziMp+N9/bS4Dhn4iZRnahWvG/JTvXyCtv9xCOr+/hXxUVyHpTNrqZeYib7zxjaixN2QBuesee+wRa0khiWCrGUyIEHL3+fPLZeXKMmnXrk66d6el23eOIKAuQO6sx0PKIedt2rSJdf98nYTrPzJoggiQX1pyFWJk6rmOHJt9qnsNMrpkyZKG4AGmhKU0WF+k0ewv1jdOECzO82hGPUjW02XXMarDIE5VL3HuFfccgmJ8h+Tq+xD3/gR1uD+fPT6T7Dnq8dlf6Zzhn332WRk9erRTCyWdQX/vvffk0ksvdYadSP9RNBxzzDFy4YUXNvIGQSVyyimnuOOY99ChQ+Xqq69OxD8kLo52niFgCDR/BIygN/81tic0BAyBIiLACzsvosGxYMEC1zYIqavv0HpzTMI4N90LKy+/9Bc/4IADsl72ww/HyvLll4beuv2ozaXTy59KuWjFef0p6WrO5fMKkZdOFPlsB5EvtxZ5v4dIXeM2W9OmfSP77lt/LbKv/GQztMs0QSXnYKs9rEMfRsRlD7UNGOSetlubbrqpy6xDRIudSdc2ZcyDAEyx6m615zoBDQIbtAaESIEV/wZ2hQwe+Kwtx7AvtGwBZUYxe9ir0ZyqPJSsQ9D5DLPnkuri4IsPZSXssVw7J/jeL/U4FA0M/AAy1a5D1NlntOqjFGj8+PGuu0LS46mnnpIHHnhAhgwZ4rwxUB6dcMIJMnz4cEfAGexzgjys1TXXXOOCCscee6wcfvjhcsMNNyQ9JbueIWAIGAINCBhBt81gCBgChkAeEUhH0F944QVnWOVTh5qp3jzdlH17rPvWoT916Si5fMb17lZK0tW13dHsYGs1/iH4/59Xijx1vcjSwxumetdd38pRR9Wn5Ak4kMXy6ckcfNZg5lzbX/ksn9Yj77jjjg1mYchvlYQivyUbrFJ4bQPnc+0kjkH9ABEhaIPhWtIZw1zmyL4iy8h6QVogTxrUIENdaKKZ7lm0LICuBpDzYgdbgnPU7Dr4kcUmuKHKDQ0waQ17LusUdi7GjCgz2F/FGJgdtm7dOm1P82DtOsdBlgkkUNLz2GOPOSPMfA+CAbfccotTYDCmTp0q/fv3d2oM/a6+//775bjjjnO1/HxH2DAEDAFDIB8IGEHPB6p2TUPAEDAE1iCQjqAvWrTISVzDeiGr3Jmsl08tMjXV1LeH9Vj3rUMfNWqmbP/yZ64PemX5cvl0F5FdDxZZgR9bur7njZj0mgMefFjk9YEiHefK78Z+KL322Er26bCPfPJxfU/mbt26ubOQp8+bV9YgT99nn7oGObxeNljz65s5D5qtYWZGpjzdUIk3GWMyZVyfYyGiZPXymc3mZZ8MHsoI9kQpkXOwgqCT+aXWHHJHMENLBlgT8AErfpJoHRj1y4OgAWUBkDnIeTHmkG3OQdm9ZvZzMZqLio8eH8xgx71GLufhq0AQjE4O2QZ7iv0GWUZaTtAFgo5hHJJ3n8BmnHledNFFQmad72fGxRdfLFOmTHF7SwcqHDL8zKtXr15xbmPnGAKGgCEQioAR9FCI7ABDwBAwBOIjwMs5xCE4yJRCdpC6ZhrI1ZFj80KL3JnMU9ggCzV9+nTZf//9sx6vdeirV1eLOp0Hr6290I8Z+pZ0r10g3XtMln1OvVPeWP9zOXPtu2rYdOobo3+9qch3bUQ2Wdt3vaJthYzZa4xsv3p75zg/eXK5nH32elJVtZb1V1TUyTXXfCeHHUYdeZ1zzVYXbd/MOSQIUsALPlJVX8kz91ESChEl8BGUwidZt65O6HgSRCl5CAc/mSPI7LMPIUVIk4PBg2L0XE99KgIrzI+ACoZwPp+TZJDxu4oqYFAg0DIsdQ/6tHHjTkmoFLJlsP2eJrejMGZEceHb7u66665za3vXXXcJ9ehktC+77LK8dAwgWEjwBCn78ccf7x70xBNPdKqRp59+utGD4wtx5513Onm8DUPAEDAE8oGAEfR8oGrXNAQMAUNgDQLpCDovqkhwqX1MN3iZ5xgyTRzjm1HVHuv77bdfqPnZp59OljfeGOIM4crL19aYQ85xXX9yzDly+txJ0qbHcnntkvpZPvuxyGVLYyxtivy9bE36/fedfy8/LrtIhgxZz80jmJbXwMF9930rhx76bSMzOJ8ZQKoJhIAd5DxuVjWT27lK4THs812f4LyVuCG9L6SZmQ92eoz2ECez37Fjx9BT891zPXUC3I9MK58l1BH5VDmEPnyaA1jjpUuXOkUG5JzSgLChtetx27hluz7mfmCVLTAYNr9c/s7nEeWQbwZ87NixQmu4u+++2/u2f/jDH+SSS9Z8YWU4a+HChY3MKbkHnS/4uf322xvOgqBTkjBt2rRGV+K7hDkdffTR3vOyAw0BQ8AQiIKAEfQoaNmxhoAhYAhERCAdQedFmYzYTjvt1OhqHIsMlawqhCNORpVsT/fu3V3mPWzMmTNF/v3vs2XLLZc3HPrRRx1k0U1Hy1Vzr5a68jp5cZLI6i3qufM//yPRMuhZJgBJ36z15rL+LdVSvRwzuXU18/Xu73WyePFX0rp1uTcRRn0AGcDYrEuXLokSN9QQWrcO8cLdXOuxybL7kEQy+0ja6QlN6YIPcQtby6T/DmmBXMbtIZ50z/XU51PZva5xEhnmJDEM1sRDzuOoLuK0ccv2DOw5Ako+wZYksdBrRW0xd8EFFzjPg5tvvtl7Onw2+ck2CHzqerDPkap37drVZcWD+8gk7t6w24GGgCGQMAJG0BMG1C5nCBgChkAqAmT6goO2QUhzIT86tN4c4pGLAzVS0D333NPLwIi6786dW8lmm82VzTZbKZ9+urW8tribvFP7I6mQ5fL5biIvX7d25jV1IkOeF/m4sWI/twW/c6bIe/tlvcaTT/6vwf097GZI0lV9QKYwTnY77B76dwgUNanckx/IO/XYStjTtUjjGM3sI8mOm9n3nWPU4wgSIevlh/kRdMh15NJzPd29td0g/bRTZfe5zjWJ89kXr7zyinNM57OcRKs83zZu2QIVzIn1rKysTOIxI1/jxRdfbHCw9zn5jDPOcJ8nzNvyMegiATkngHLvvfeuE1xTkzj6sLPXGDi/4+RuJnH5WBG7piFgCCgCRtBtLxgChoAhkGcEUgk69Y44iFNbzohTb55pyrNmzXLEisyiz6D+Oygx31dmySypNz/6qLfI0t83vsqcj0XGLPG5sucxD98n8mr2Ws4JE1bL4ME161ww2Pd8q61qZZtt3pd3333LuT+3a9fOcwLJHAYJJSOu5mnUvePyrEZz1B4TfKGmln8nOOOTbU9mdn5X4RmoU4Z8QCzJtuZj+PZcT3dvAiIEOMiC8pPPAEycZ1fDOp4RDPNVEx8nu87eQ5XjKzGP8/zZzqEFJF0UfIM+1ILzWR4zZkzSU3HSeSTtmDIiVw9+FvW7Q9usgRlBgs8++8w5uB922GHWZi3xFbELGgKGQBABI+i2HwwBQ8AQyDMCZE21DzK3IjsJ0UDeHLfePNOU586d62TdmdzK050XNGk7WibJJBnqDvt3SgZdz531scilS0TqG6blODwy6FOnrpKePRvfbcqUVjJ6dGupqipvmMDmm/9PrrxylQwZskGOk8r99GA9tkrhMfEju16K5Dwouy9km7JMPdc1sBGU/6s6ApJXrCxwtp3B+kKCGXy2KX8oxAgazfE9oz/cW9u38Zu5VVRUFDx4pRjMnz9fdt55Z2eQ6TOGDh3qSPQ555zjc3ikY5CzjxgxIu05we9qyo1GjhzpXNup32dO9ElPQhURacJ2sCFgCLQoBIygt6jltoc1BAyBYiCQStCRTJLBwdEYEyIy6XHqzdM9y4IFC1y7rqjX0zZntTPmyEFXHeAuXVcu8jw16HQmW8uDE6lFpwZ909abyQa3rJAVVa2kDsf3lKE16EuWrGrUcg1yPmzY+hmN5SZO/EYGDlw3416MteeerDW+AxATZM8QuaAUvtgyd7K9ZKUhJrkY6iWBLyoDrSMmYwkpIqgBweSzEtebIYm5ZbsGn3EIMBlzFCzFVEeo0Zx2P1DCyRrjoM53QzFq9ufMmROpfGfAgAFy1FFHyW9/+9t8L59d3xAwBAyBkkLACHpJLYdNxhAwBJojAukIOlJiiFku9ebpsEJGimwztoy1pkbW33FHkapqKZM6+biH1Lu447K+hqQ/+6+Ybu5rJqwu7udue67stv4ljmy7gECApKuLeyrZJpDQpUubNS3Z/El9MfaV1nO/++67jlhCNPk3Shq0bh1ZPMRd69Yx9yukbHvVqlXOCZ1Mdak5oRPIgKSjOKHdG6Q32Ju+2IEN3VPqJq8YFoP8Ztrfml3/8MMP5Z133nEBGIIeDOapLQsLMeeZM2c6MzZfU8Q+ffrIqaeeKsOHDy/Gx9fuaQgYAoZA0RAwgl406O3GhoAh0FIQIEOpPbwhZLT5gXzQDi3pGlWuTQ2lb6/hdGtQPnmyrEeP3zq81etJ+luniqzesv7oXN3cK9tWylW9rpKNPthIevfuLY8/3lpGj15fqqvXpukrK2tl3Lhv18mEz5lTLv36tQndOulk8aEnJXgA6/3GG2+4em7kztSdpxsQZHWFh4windUWbigs8kmc2IuQc0gvHQXyea840BLMwK8BxQnEEjKpWDF3MNXABjX+hQxs6POgiABDgizUS5cahswTmTY46j6knCEfbdyyrTH3wx+DDhO+8vC9995bLr30Uhk0aFCc7WPnGAKGgCHQZBEwgt5kl84mbggYAk0FASXoH330kXN3RmIKGYOgJz0gC5gwYaAVdxA8WH7DDdLxmmukzZqWRcjd39xlC5mw2TCZ+ml/eaX3cSIbV4mUre2hHna/7m2HyMA9fyZbbLiFbP39reWrpV/Jfj3rgxR1deWyYEErWbmyTNq1q5Pu3Wsbydr12g8+2EpGjAivMc9kLBc2xyT+Dn44yUPeIEWasQy7NsSJenUloZCaoBQ+yWCOmq2htth+++2LQm6z4aGGdSgN0qlMNLABVmBGNl2z6xgkFkJijtEjnzfWCN+HYgQIwvYUZQFkzsEwtfY7WLuu/63XI9CgP2H38Pk734H4Y/Ts2dOrNp/1p1TgL3/5i5BJt2EIGAKGQEtCwAh6S1pte1ZDwBAoCgJI3GmthlQXGTGEjZ7AZI+THi+//LJz34Z0xRnqNA4Z/Okuu8gGL74oZStXygNzvpRj7zhJaoWe5SLS5RGRwUfW/7cvSf/6hyIb/rthWpu13kxO63SaHN7lcNlyyy0lLAvKS/v996+U44//UeijFSuDDnGk1hf88BaIS6p5VpzgVQoPGSSjHpTCh4KQ4QACRfTE7ty5c0marUEWmR+lAD6GdfnuuZ4ORjL4fIZLtdUbc+b7hvKKdOQ83TNp7Xo+suuUAWASR1szn0AG+58WelOmTJFf/OIXcbe6nWcIGAKGQJNEwAh6k1w2m7QhYAg0JQR4kSdjTjYV8gzZ4mX1wAMPTPwxIDZISHm5jTqYI0ZXkI5UyfP06TPlhBMOkJUry9fWikPSDzpDZJPlfrci2R4oG9da9LG7jZVd1tvFkVkIKGQ9Vd4NCXvttdfk3//+r/zmN/s3nkfg7pmM5fwmmNtRkDbwI4ObtNyZbHxQCq/maeBFZtRXWo3c+a233mqoic/tiZM/W9uUEdSCWEatM9ee69rujtp1Aj+aXUcW70MQsz0ZgRMy55SRlKL6gLmTNWetwTBTeUW2Z4zTxi3b9Qj80QfdVzXEOuKj8dxzz7m9asMQMAQMgZaEgBH0lrTa9qyGgCFQFAQgVm3atGnIppJlpR6zb9++OZOF1AdaunSpuyYEO8rARArjOrKqyJ5TBw7M77+/u5x44g8bu6d3eVhk8C/rD1/Xs63+31UFn+bvkPSKthWy+DeL5fP/fN6QMYYgKKkiqEHgARKK7HXq1O9FMpaLgkPcY5FZU75QCMk4EnrupySUOQfN09K190qt5yYAUmoDGTQBDtaZmvMk2pRB9LVsgM8h1wYrfpCmR72HlgZst912OZWR5At71hlyzud59913T6SXvWbUlbRnauOWLUiEGgJlSY8ePbwenUANgS6eBaxtGAKGgCHQkhAwgt6SVtue1RAwBIqCAISKF04d/P/06dNdbWVUghD2AEjpITr02vYZamZGKzBIEaQl3Zg3b57Qf3rBgnZy1lnrSXV1mUhZjciobUU2Xp6dnGci7oEbTT1qqvTcpmc9nw/Iu+kTT/aYTCp19dTvE+xI1wc9k7GcDw65HAN2BEaoQ47tnh9zAmBFllil8GQqITZqNEemnTVmfigkyKjiFF9qQ93kmRu9svNRQ6491zWwEcQKwh7mLg7Rp4SkVPuwaxCmqqrKkXOUA/kYmdq4ca9Mtev/+c9/nAIGkzifgUqBXvesFWtjwxAwBAyBloSAEfSWtNr2rIaAIVAUBFIJOi/S06ZNc3JPyGaSA7dmJPTUP4cN7X9NfSjELRtBQWpKJguHeGINxx67njy8aI7IccnU0U/oP0EGdxncaMq8nGO2VlFR4WT7ZEB50Yd4QEA322xLefnljeWjTEqM6wAAIABJREFUj8qzGsuF4RD375qtREpMZh9zvmIP7SMOdmR7WVPtIABp8zWsK+RzqNka+BHk8JXr5zrHTD3XIYSpJRa48bMXKV2gBKTUBnuR0gWCRfkk56nPHTSa077regxKHm3lxl5ctmyZdz05gTkCIaxRKe7ZUlt/m48hYAg0LwSMoDev9bSnMQQMgRJEgOw5JD04nn76aZdNSjqbiTEUL8PUu2cb2mKL+0MuwzL5L7zwgstoQZYnTy6XIUPWk7qfTBI5clgiiKdm0JHoQjggRAQFdCBZ1lpsMppatw5hJ3NcKHIHMVmyZEkD1vnKVuYCLuSGWmltq6XybrCCDIeteS739j2XTCmydpQHnTp1Srzkw3ce2nNds+tBB33+hjKFWmj8EUptQIyZH+Z/kPOkv1OiPG+m7DqfVT7Te+yxh9dnlEDjXnvtJSgrCvWZjvKcdqwhYAgYAvlEwAh6PtG1axsChoAhIOIIUipBnzFjhnuZTm19lCtgvATzos6LcKYBCUGqS700ZnI+plmLFi1y8vL27TvIjjuuL1VVIrLtbJHjeoVP+cvNRTb6JIMMvkwq21bIkhOXSKvyVi7bq/3Dkdxnw0fdu8lu8kxKqiBRSPXjOqiHPRDKA+rN+U0gxLevc9h1k/y7knMMwpCMM1AfaHAD4hOUwiet5PB5llKt59YSC7AiIw1WkF4y52TXw7oN+Dx7UscwVz4v7H++T8Jk+knd1+c6ml0nqIaHBJ9HPC4YmlnXLHvq9fh+OvTQQ11Zhs/3k8987BhDwBAwBJoKAkbQm8pK2TwNAUOgySKQjqDPnj3bZeSSlkVDKCDpXbt2XQcvXubJsJOZpkY9Sr209ld///3tpG/f9euv3VCDnqEfel2ZyNeb1rdh2/CzddePv4vIvQMmyoAdBsrs2bWycOFy2Xjjr2T48G3l+9//nveap2tLllqL7X2xLAdSD0/GF9kt61cKWejU6WpWGuUBMuF0BAdZudat58PpPAxrLV+AsKHKKMWhPcRRcRCMKWbP9XT4aK945kVArhSl4OrKz2+UOuxFnzZudLk4/vjj3XeZEfRS/HTYnAwBQyCfCBhBzye6dm1DwBAwBETcCykv+MGB6RrkBLlxkoPaTZyPu3Xr1uiyzAGTJl7mffsiBy+AAzPZ2IULO8mxx7Ze+6dM/dAd+Vb79gwO719tJvL32+SiI/rLX//aSqqr1/RYF5GKiloZP/5bGTiwBgmClM+f7/qx17VrJ7UYTbVae2w6/MggKwEN1q2DN67wcV76lfiSoWftSlF6y/qS3af9F6Z6PkPJJ3ghRea51GSOAFLShm0EkegYQGa/VCXj9A/HWwCFRFDFUYye65nIuRr/laq3AN85fG+gHuI7JxjMCtau63/rc7L/UBhdcMEFTh1gwxAwBAyBloaAEfSWtuL2vIaAIVBwBNIR9Oeff146duyYuOEUJIuX2n322afhOTGBI+tLxg3CEUfOjEEW51VX77g2g653SNMPfROplFU1X8vq8s/SS9vh7v+tFLnuPZG68jVXWmv3Tj9zxuwzHpTuD50t5U5TXz9qKyrk2/HjpWbgQK+1DBJQCGycunXN+EJ8Wbc4BN9rsjkcpG7yuRiZsVeRnqsUnr0DSVfCnqucX7PSpWKqlwp30GwNUkkwJ9MoRM/1TOQc/wMCT5DzOJ/nHLaZ16nsI2TqfPZSyXk6zMFSvRL478suu0zuvPNOFzAqxc+aFwh2kCFgCBgCMREwgh4TODvNEDAEDAFfBNIR9IULFzpyjvFakoOaTTKoOMQzyPoiT0funUv7KggBmdROnTq7GvTqatqhBfqnIXfvOFekbbVs3qad/HXC/2TAw/3DH+3OmSLv7Zs2xX64/E0ekl9KmdQ1arFeV1Z/328mTvQm6ToR1gKMNLsOKaBeHQJKfXG6unVktphwURYQNKwLf7jCHKGlC5Qv4N6fqVVe1NkECSh4sZcgrErWo9RiB/uwp2alo84rX8cHJeNx2tEl3XM93XOqOSFrwRxLlZzzHaTdIaJ6QWCgOXToUDn99NPlyiuvzNdy23UNAUPAEChZBIygl+zS2MQMAUOguSDAiz8v78GhNd2+MmRfLKgnfumll6R3796C3J3M949+9CPXIi2XTBSSZJ6DNljq4s6cgiRds94TJ34jq3ecJCP+PiJ82g/fJ/LqkHWOK5caeU+2lQpZLppfDx4ESa+rqJBVS5aEyt0zTYLn+eKLL0RN5qjLTjVOozWU9oin9VapDTUJwxgwLOOb69zTOegT1FAH/UxSeOaIHJtsaBzim+u8fc5X4qtZ6VzruXPtuZ6JnGO2RgcGMue5qhl8cIl6DM/Ndw5eDcwxKjmfNWuWDB48WG6++WYZPnx4Tt9ZUeduxxsChoAhUCoIGEEvlZWweRgChkCzRSAdQSfDhDM05DnJwcv7ggULHCEno4qUOIk6X4gqGTF1BIekn332elJVtTaLXllZK+PG1deNz/lgjvR7oF/4o7kMen22Pzj2lVkyS8Id4ldNnSq1PXuG38fjCEiFZtaReSvhRDIOhrkEODxuH/kQsv9K2CC+uZLKKBNQJYJK4ZEyk7lXwr7++vVGghwXnGOpZnwhlQRo8kV8o/Rcz0TOmSPXYY6Kb5Q1y/exuZJzfDmOOOIIufbaa+U3v/lNyX3e8o2fXd8QMAQMAUXACLrtBUPAEDAE8oxAOoKOYRvZJVy2kxwQdF50IWtJZlTpSwyBQULNqH+mGpk3r0w++qhctt5apHv32gbvtpraGuny5y5S/WW11AXN4vRh68qkrVTIF3+kBn1dw7ejZZJMkqGh0KyeMEFqBg8OPS7KAWSKqdmHdCLjRhKPwVXQOK3YBnHMjRpfSBHt6IpJ2NgL7DsNbqBKwFAQwg6B5+/sxWLOMdP6q8s4a16oOWbruQ5mqTixxgT0aPdWqDlG+bwEAzEa5Ii61nhyDBo0SC6//HIZOXKkkfOoC2DHGwKGQLNCwAh6s1pOexhDwBAoVQTIPgcHknFevMnOJjXIACNvhyztu+++iWZUcbVG/kv9sBo68ZuscqbM8pQ3p8iwKcPqCX0jkl7masrvOXSinDfgKKmuLmtczy4ixcigM0/tH06ttdbsq3GaSuEhWJopzlS3ntSaprsORI0AAtloAiZJu6znOnf2unYTACvmqcENSgiKHdzQ52NuuIyzjwlyRJVj54qTBrqoJ1clAp9dghvqiUBfc63njiMZT2KOYdcAv6D0Pio55zuLnueXXHKJqzsvNaVK2PPb3w0BQ8AQSBoBI+hJI2rXMwQMAUMgDQKpBJ1e5BBqemknMZBkQ9qQYi9fvtzVoEd9Uc42D1pOQVDJ4EFY+YFohb1MQ9JHPztaqr5c68Je2bZSxvUeJwN3HChTprSSYcPq5dDBevZW8p28K9tJpSxvZBCnc0yiBj31eQlAQNjoD7/DDjukfTatW9dsMYSK2nRwh1TlW2bO/VhnnNXxAygVshvEkgACHguUcBCAAlfwgoQGTfnSZYuT+Cz4XAMFAjgS3ICcl0qQA+zASXuu8yzMbaeddnL7q1Tm2fA5rKtz7RsJMtCLPep3DiqQQw45RM4//3w555xzQr9PfNbWjjEEDAFDoKkjYAS9qa+gzd8QMASaBAJIaCF3OshIY+gGOch1QMgx4aI3d4cOHWTatGmJZ9C5B2ZpZNAZ2TLnwefhmd997115/JXH5Xtbfk92qthJuld2l1bla2XtkPTRo1tLVdVaOzjq2af9dLR0+fv/rUPQHYplZbFc3DNhjckaRANiDoa+I7VuHVKq2WIyoWEBDN/7cBxEF1LJ/PAuSPLaUeaR7VgkzpBzyDcBhOAc0wU36DGueIFdIQafRbK2BFMIkJUa6QUDAhmsNYE9VAcY7DFvrfNHuVHsen7WU8l5nNp9su4HH3ywjBo1Si688MKS3M+F2I92D0PAEDAEUhEwgm57whAwBAyBAiCQStA1I03WKe4gi03Pc3UZ1/ZazzzzjOy9996ufjqJwYu4OsKTKeYHghBGbHR+ZN4JREDGMo2aGpH588tl5coyadeuTvb99FFpM3wYafW0BP27UaPk27Fjc348nk17c0PWIItxR7DfOoQKfJKqWwdDCA2eBUm35ov7vKnnaUu/iooK6dSpUyjhIlusmXXq/CGcWjqAKiEf6gDuCTkneELbvHzcI1c8lZyzNwmI4X9QrJ7rmZ6F+Wgvdr7DojrKE1CEnJ900klO2l6KwaZc19HONwQMAUMgLgJG0OMiZ+cZAoaAIRABgVSCDqmmv3bXrl0jXGXtoZBB5NgQDrJX1KrqmDFjhvu3bITY96a8iEO0qdfF/AvpLWSR+yKzVml3qrSV+VE7y3NDzjNJv1OJuTOakxppQ/a1qiqv8vYoAQRfvPQ4rVtXKby6nCthj1LvzD7BRZ+a+CQc+aM+i8/xEGzkynQPiNM6EFJKUEMJO/gpWSfwFAWvTPPFXwByni677/OMhTiGzxmZcwgr5DxTEKwQPdezkXMINmsOOY+ayWcvH3TQQfKrX/1KrrjiipIMkhRire0ehoAhYAhkQsAIuu0NQ8AQMAQKgAAEDdKhA0k1zujdunWLfHfqkLXGlzZqZNiCg17CmIdBoHMZagaXWm8ezOZB1iHuBAOUrHNPggcqIU6dn84pnbS9oqJW7hoxXfa/rG/o1HNpsQYhJICARB0ilM/acXU5V5M5rVtXsh4MrgQfmvPYIxB05liKfdiZr2b3qZOmfj/XwXOTjdfghvanV8KeCa9s99XPzFZbbeVUCKWYsYWc87mOWhefj57r2cg5BpcEU+KQc0p7IOdHHnmkXHPNNUbOc/2w2PmGgCHQLBEwgt4sl9UeyhAwBEoNgVSCzgsu9Zs9I/bwhrSQqaQOORPRmDt3boOpVFwc1AjOxwxOpcrMjawaBAsJMYQtUx22msPVl+Wv7aVeVlYnR9dNkvuk3v0924jbYo26XrKUBA4IcCSRnQ2ba/DvihfEFnO/dHXr4K5ZSsh5UuUKUebpc2xVVZUrs8hndj+1zh+CrsENAkNhZFul95QGlGrtvprW6Z4MKx/JtjapPdfBi+AGP7mUDvC5Zq1R0aDQiRrUoqynb9++0r9/f7nhhhuMnPt8wOwYQ8AQaJEIGEFvkctuD20IGAKFRiCVoKvhV69evbymorXSyEOpnc2WqVywYIFsv/320q5dO69rBw/iPpo5d9Q5Sxu11Isj26culftCMHmRh/xCpsiuKzlA1t6lSxupqoKYryXner39ZKbMlN6hc4+TQVcXdIy3cBgvdg0y+yIo7WY+ECnmSZYf1/yoEuJQ4BI64L333hMyogQ5clVr+E6JLHMQL84LSuFT1Rr6OYsrvfedVy7HsQfInFMmknTbvKg91zM9B98Jb775plNLkDmPSs75bjjwwAOlT58+cuuttxb9c5fLetm5hoAhYAjkGwEj6PlG2K5vCBgChoCIq+GGcOlAFv7CCy+4F9awAdkl2w7h9ZE6c10y7FHlxsH+5szJl7wGpdgQDDWr43nJqKtUmeMgU++8s40MGZI5eFAuNfKebCuVQg36Wud7xSluizWtky5VF3TWGayQELNfguQT3KK2sArbV3H/zjrSJpDsOQEEVBLFGMwDAq49xMkcEyhQwk7mnVKLqM78hXwWaskh59rT3vczF2eOWjoQ7LmOAkGz66g00qkRciXnGEwia6ec54477gg1l4zzbHaOIWAIGALNCQEj6M1pNe1ZDAFDoGQRSCXokIfZs2c7yWc2ia7KsSFvvtnURYsWCbW2UdqFqRkcpNqnv7kCzfHaagkzuExSbK5PWzkycA88UC5XXrlr1rUaJI/I3+RIl2AvC7Sng5wzvpk4UWoGDvRebzJ4SMaR3eMyXoqDPQFZa9u2rVNJQDiDdevBOv84ddhJPDPrCI5ksdmPhWqN5jN38NJgEKUDGuBATZJ0yzuf+YQdo+3eWEs6COSTnKebS2rPdQJAGtxAYYLMnvVGtQPJJnMedd+xf3Fr57vh7rvvXscvIwwj+7shYAgYAi0RASPoLXHV7ZkNAUOg4AikEnReznFbP+CAAzJmlLR2Fml4lH7N1Ffzgu3rpp3JDC4MJIIHZCghFsicfTO8s2eXycEHfy/s8vKPi+6X3SacI+VVVQ3H1lZWyrfjxnmTc57tnXfeEepfg9n90JsX+ADWmnWjPCCdt0BqnX/UOuwkHocg0eLFiwXTNt9gURL3jXoNyCQt6ag519Z3WjpAuQUKj1xqvKPOJ93xfHZwlCegRf1+ocl56pwItBHU0Ow630+oEbR3PeQ8ajCGIM4hhxzi9vOkSZMK7vWQxDrZNQwBQ8AQKAYCRtCLgbrd0xAwBFocArwAq2yZh4fsPP3009K7d++0xFb7jpP94yfMCCsIKO7kvExjiBU2opjBBa+FRB9yHqeWW2vQq6vLpK5u3Rp0kTpp1+5beemlf8sm3/+etFqwQMpWrpQ6atu7dxdp1Srssdzf1WgNokBpAJnpUhzMD+M/1rljx46ha80+UiLFb8hdsN96Psgn92SO7GOyob7BmELjraZ1wZ727AOk8JpdhxxDPsGMjHGha/yVnKtSotjkPHWNtOsAhnDgxv8zV82u+6gRIPuHHnqoU/E89NBDJbtfCr0/7X6GgCFgCPggYATdByU7xhAwBAyBHBFIJei89ELQe/To0Ug2qvXcmG+R8UWqHnUgOcecjcxVppGLGRxEh0wqGXrMt6IED3Q+6uLO/wdJOi7ujLFj35RddlnmXuyDJnO+99I+7PyGUBaahPmu2YoVK5yxXpcuXSJ7BmgQQskncmIyn0qkkqpb55pB1/tMbfN8nzlfx6GSoDae9c5kWse+D0rhKbsgi60BDoio7x6L8xwoIcico4rBpDCf94ozPz2H9n7Lly93sna+SwgiEQzSgJDWraNGSN0PYDpw4ECnVJg8ebJssMEGuUzFzjUEDAFDoMUhYAS9xS25PbAhYAgUA4FUgs4cpk+fLl27dm3I7JKlhPgid0ZCHDfji8kYRATSl26kmsH5OrVzHiSIl3fIRRyX+OB80vVBr6yslXHjvpWBA2tcthZjN63D5lwlUtlkypAgCCXEgCBHKRJKdeVHfk95gBrr5bI3NfOpmWLtT6+YRZUoMxcllOzFUpBiZ8KHgBau8j4misFrEHxQ4slv9ooGOCD5SaoR8BiAnHNdPpulSs61JARynuopkannOqScYOI222wjgwYNckHHxx9/PLLbey773841BAwBQ6C5IGAEvbmspD2HIWAIlDQC6Qj6rFmzHDlDJs7LO6QSQgDJyEVCjKkTMloIVeqIW2/OiznEH/JHhhLDsiQGcvf588tl5coyadeuTrp3r02rYFfHbiXrPJ8SKQio9jLXWm7+DUO4UpMPg5m6YlPGwFrnywU917p1as0xrSN4UKqEUhUnZHvpzR03qMW6sMeRZmuAA/LOs6sUPpdMMJ9vzBvZs+zLUiXnBDref/99lznPZPgY/Nxrz/Wrr75a7rrrLvddBk633Xab61Chn8skvivsGoaAIWAItBQEjKC3lJW25zQEDIGiIsDLP3Lr4Jg7d64jPpByyDm9wpPozU2Gmz7akP/giEvOVS4OYYGcR+2BnDTwwUwxhJ1nhRgwLyTj1HIjvy9FEsQ+wMBMVRJRXbHjYhnsHw4BVdM09ly6TDEZUfYkRmt4GZQiluwD6qTZA5DzOAqBTHhybQIUStZZL8i/qhEytSRLdz1ILJlzzu3cuXNJYsm8USDwEyfQQQDiqKOOcp0aCEA888wzTn1x4oknyrhx4+JuWzvPEDAEDIEWiYAR9Ba57PbQhoAhUGgE0hH0BQsWuFpUjK2oF0cemgQR4iUbaTgyeR1xzeAgF5jBQX4x3ipFuTjkANXARx995B4XIgXxhBBFIVKc65vRj7N/CHSo0VquKok49w/uhVTTNM0UgxkBj6BpXS73yte5EGhq98l4QyjzHTQiOAVZVzm8eiOQESfAkUmpAcmHnCP/TufOny98ol6XrDnZ8zjkHDXLkCFDnKHctGnTnLqG7xuem9p1eqDbMAQMAUPAEPBHwAi6P1Z2pCFgCBgCsRFIJegQDPqgQ9oga7zoJzU+/PBD17d4zz33dHJqzZxzfd96c46F/EDUtt5665IlFzwbxmAEOVAMbNSmjXz11FPy1VtvySetW8uXP/uZbLn11o6sEwzJFgBJVxNfUVEr48fX18TnMkq1Lj6YKSYTTaaYAaEkc55kVjoX/ILnqgqBQEIx2r1pSzLNrqNOCErhtTwFco6svX379tKpU6dEgm9JYRi8DuScunPIedRyCwIXw4cPl+rqauepgZLFhiFgCBgChkBuCBhBzw0/O9sQMAQMAS8EIEK8zDI0kwoBRoq9ww47eF3D9yBeliHpe+21l8tkQSiUmPtm6LnG0qVLHTGnVVIpDp4Lx3pIpavlnj5dWo8e3ahv+nft2sl7Z54pb66px1dH+FRZt7rK1zkT+bWt39RVfuLEb2KTdK3lVnOwUqyL56mp40YyDqEkoIAKA/d7VSOQGfXdP/naL6w5bQTJ2kLOc/FqSGKOWm5BcIPsuhrzQXQpt6ioqChpcq6mj2AZ1VeC77HjjjvOkftnn3020SBjEmtj1zAEDAFDoKkiYAS9qa6czdsQMASaFAJK0JWsIcmFqJFxolVZkgOpN1llHOIh6JAqX1KoplsQfBzQk3AXD322mhopnz8/Uq9zgh1k95mvq4ufOlXWHzYMB7YAvRapK6sn26vuuUc+228/V6/MD+SCZ4N8/vCHm8uuu7aVqiqOXbcvOyS9ogJJ9SrfFuwNj4zslxKBUq7lZrKURSBxBkvNggbr1iGfDB8X/dD1jnlAsBc7AZlSNCAjsEGgAzwZBDgUMxQcvp/DmBBFOo3PON8Tccg5a3HCCSc4P4WZM2e6z5ENQ8AQMAQMgWQQMIKeDI52FUPAEDAEsiIAkSQrrWQNsyiyvzgeJ51BR3rLizMv3kiUfbOewYw0RM3HxTnXZW81Zco6We/aigr5dvx4qRk4MO3lqYvHwIz54VTfCiJE26qqqjT0up6k11VUyKolSwSGHcx6gtVzz20gF13UPfRRpk5dJT171oYepwcQCGAdWN9SVSGABfX7ZHuztfbT9lpBF/2kHM59ACWgwppDcNmbpeiFwHOg5sD5Hj+Jjh07OhWCSuHBMIhZMQMMBBFY96ht6XhGvidOPvlkWbhwodCJghIYG4aAIWAIGALJIWAEPTks7UqGgCFgCGREgMwaMlBc25G9MpCQQ55xPU5qQLi4F8QQcgBBJ7vFTzbDNCTDBA8gQNRy50U6nJIpL/v0U1l/+PCMWe9vJk5ch6RrRjpYF18+Z4606dcvFMJVU6dKbc+e6xx37701ctJJbUPPnzBhtQwe7FeLDgF688035Sc/+Ymr5y7FAWFkD7JPqD/2dZRP53COpFvLB5KuW0ctAenVvvZJ9iZPcl0g5xijoYihdCU4wIy/q9Ec9fNk1LVVYNKYZXsu/BooZYCcR60ZZ8+cdtppQgcKMuelGnhKcl3tWoaAIWAIFBoBI+iFRtzuZwgYAi0WAepTg8Q3W7/yqCClM4NDhoo0WetjITiQRYhUsJ6YeUHOeVlPos1burmny5TXlZfTfNor6801ke6jOsBwiwyljlYPPigbjBgRCtnqCROkZvDgdY6bM6dc+vVrE3r+lVeulpEja7LK3FkHanKp7Q3KxUMvXuADyIIuXrxYcMCHqCHFjjsI7miWWOvWg7JuXwVHuvsTbIKcq1qilCTiwfnSXox50uKPzHnYAHc+m+AGZpS8KGZ8NvP1nKh4Xn/99djk/Oyzz5ann37akfPUIETYM9vfDQFDwBAwBPwQMILuh5MdZQgYAoZAzgiQCYTA6YDIQY5T+5VHvRHX1DZqnJvOqR1CRssjlSiThSSrTsCA2mOyfvzkQqYyzRtynq4+3Oc5yXrX9OjhCC/93ZG0p9a75ppBp7Valy5tpLq6TOrq1q1BD85zyy2/kT/+8T8ydOj3XP/64GANID8QL+TihSgR8MEw9RgCNwRkmG/StdzBfZZr3Tokloy0Bo7ysTfj4Jd6DqoO5Pe43gcDR77XZj2CUnjOI7POD5L4pKTwSs4JHGFYGGWwV84//3yZPHmyk7XzrDYMAUPAEDAE8oOAEfT84GpXNQQMAUNgHQRSCTrtjSDNwX7lUWHTFmpK/H0yb7xsQwgIEJD5g2hqZh1CkKiEuKYma3142POu+utfZcluu7nsOcQirdO03qO6WsoCARC9dmoNerp7qos7f2tM0gmoBEl7fYDl/PNfkgEDvnNZT4gUuOMuDqksRuuvMBz17yoXJzBDYCjRtU6ZBHsy2G+dbDjEUDPFKDoyDe0fTjAGv4ZSJed0YoCcJ+UzAGZ8JlWRgN8CAQrFLG6/dzwGKGdgzaMaP/J9MWbMGJk0aZIj53R2sGEIGAKGgCGQPwSMoOcPW7uyIWAIGAKNEEgl6NSC8kM7tDhDyTkv0BBEXxKjmV5IgGbv1d2cOWpdLKQgVzMu3+x2pud/9YYbZEXnzo70ZiMnDVl66HSApKuLe7p69tR7puuDnm5euLpvvXWtPPHEEvn0038JZBKiS6azUOZ6cfYLwQNk2G3btnVKBJ9gTpz7pDsnW906+yxoZoiqhHmWev9wglwoESCsuPTnY7BmStYJBuATEJTC+3zmV65cKUuWLIlFzlm3sWPHyh133OFk7ZTA2DAEDAFDwBDILwJG0POLr13dEDAEDIEGBHCihhzr4MUZefnee+8dGaW45Jw5kOmFiLv2ZN/7XsO9g+7mEHaIp7pOqxw+6kR968NTrwuxXr355vLiAw/Ibj//uZfMN60jfGWlfDtuXEZH+NT7Ine/5Zb15Lzz1g99VFzd99zzK1m0aJELZEDSMQKDAKsxXyHNv7JNGFMySC/kDlNCH2IXCkAOB1B5tEyNAAAgAElEQVS3rv4IEF2y6WDGfsSbQUsucrhFXk9F+UKbP7AkkFCIwWeX+4JbsHxApfDpgmnq20DLRI6LMvg+GD9+vNx4440yY8YM13bRhiFgCBgChkD+ETCCnn+M7Q6GgCFgCDgEUgk6mTHclPfZZx9vhNQMTmvOo2TOkcuS8YME7bLLLqHZcY7XzDrEE9dpSBQkz1dqGyeD7rLetP+64gppf+qp0TK9MXqqp4L/4IOtZMSIzPJrPf6WWz6Xjh0XuPIAlWET+GBdwU0N0xSzoDGf94IncCCSaWTYOG5jYlZscr5uUKTeHwHne36rPwL7jABRriqOBCBsdAnIMUEuOjIUq8WYtr3T7DqZ9mD5AKZ/kHO6OUCswTLK4HvmT3/6kyPozzzzjHP5t2EIGAKGgCFQGASMoBcGZ7uLIWAIGALrEHQkq2Th9ttvPy90fMzgMl1I7xVsT+Z10zUHUT+sxJNreWeJw+rDuX6rVlJG6nrN+N/mm8tH558vW5x0UlHIpK+r++WXPycDBmzs3KzTkV7MvyCcSqIIpmgrMshUISTmmulNdb6PsvaFOFZJL3JxzPXUzDBK3Xoh5slaQs5pn9euXbtC3NLrHqhd1BWeun8UCWAHnhjXRQnK8D1zyy23OGn7tGnTYpfgeE3cDjIEDAFDwBBYBwEj6LYpDAFDwBAoEAIQNlyudZCVXrhwoey///6hM4hjBqcXxb0Zgyhe1pPoW4wSQMk6BJBsukq6Ie6pZCC0Pvyee6Rus83k89dfl7e//lo2HzRIKj1aVYWCFvOAMFd3atA32+x/Mm9etXTo4CdvJuNJYENxYx+QHQY3pMf5yBJrBpW64WJlen2WQOeZjvRCPBWzYPlAat26z31yPYagAa3pqN8v1d72PCOGcLQjRLFBaYMGhsCMwFA2Y0C+Z6g3//3vfy9PPvmkdO/ePVfY7HxDwBAwBAyBiAgYQY8ImB1uCBgChkBcBFIJOuRj3rx50rdv36yXjFtvznm0Jvvwww+dzDWqe7PPc2qWWHutQzSVrCOJV7KerT78uwEDXC0+rvZI76PWyvrMM+oxmVzdIed40N166ycyfPhGUS/rjmddMELTLDH7AOKkUvhs7ua+N0Qu/uabbzo8o8qbfe+RxHEaPPKRYWv5AISdwBA4Bfut51ORoEEE8Ext85cEDkldQzP8GkQgMBR00qf2X6XwfM6QwutgX959991y3nnnyeOPPy777rtvUtOy6xgChoAhYAhEQMAIegSw7FBDwBAwBHJBIJWg87KMM/KBBx6YUe4czJyn62+eaT5kaKk/hQgWyllc27dp3TpzU7LuJN11dVI+f76UrVwpde3aSW337lJbVuay+xAuenKTgS+Vkc7VffPN/ydXXrlKhgwJr1H3fQ6t9YdcUS++8cYbN5D1qCZz7Jf33nvP/bDutOgq1UHgCEO4OK2/tN+6lg/wjNp9IOm6dcwcyUj7BBGKibWWCaBESJfhDzrpcyx7jc/b9OnTHRknQHbmmWfKlClTvFQ9xXxWu7chYAgYAs0ZASPozXl17dkMAUOgpBCAVEDSdfDfvBwjcadFV+pQI7iobdQg/pjBkVGE/NDzutBDe2ArWedZIVAQdiVQ/Bv1vMwXch7M5hV6vpkDHSLz5pXJokVV0qbNv+VXv9pO2rbdMG/TAwslnZjMUT6gdesQ92y1xGBO1hxCSVu6Ugp2pAJGAAHVBOuO0iKXka53uCoSUrPEUe+j/cPjuKBHvVcux6vXAOUMvrXxKBJo83jqqafK888/75Qdffr0kVNOOUV69epVkp/HXDCycw0BQ8AQaCoIGEFvKitl8zQEDIEmj0AqQeeFGBMmslep7c6UnPPQUTLnZMwh52ROeVnPp+zXd0GCkm4IO47TkDKk3fR1JtObjxps3/llO44gAkZ+1N1DJpOQn/vOK7V8gNphJeusb3Bt2S/0ukbODDkH11Ic7IV33nnHlV0wT4IOSQ+tW1dFAoEKlcJjQOdrmIb8/vXXX4+V4U/6mbJdT/uxx3WVJ2N+0kknyVlnneWULMjbybAjdz/88MPz8ijs7T/84Q8yceJEF1DCI+G4446Tiy66qGFfs1cuueQSue2225x/Q9euXeWmm25yBn02DAFDwBBozggYQW/Oq2vPZggYAiWFQCpBZ3K0MKIPOsSBkYsZHIQEEytcxekj7UtECg0SJB35PQSTF3XIptZfl1IWnWw27clQIJBBLWYQQU3mtG6dvaSKBIIdlAkQ+ID0FjKIEGXvBDP8tO3SPR/lGlGPJUus/daj1K1rDT/BI7LxpTqUnMftx/7EE084YgwZP+KIIxq+g/h8EtTwzcZHxQeH+GuvvVbuuusuR7gXLVokI0aMkMsuu0zOOOMMd7mrrrrKOcnfeeedzuCSv82ZM8e1pixldUhULOx4Q8AQMARSETCCbnvCEDAEDIECIQDJIhMbHDNmzHA9hnFc1jZqkK8o/c0574MPPnCGcFEkrgV67Ea3gSxpEIFAQrB9G9lfrb+GsBczC0wW9h//+EdJKREUSNYbR3MCMpiXUcNO8IAe5xCqUiTozFm9BtjvxVhbPlcQWi0h4POomfVg3brWxqOYKOUafrLKBJDiknOCg8OGDZPbb79djj766IJ+HfTv39/VyeMYr4MAAfviHro61NVJ+/btZdSoUc60jkHAjHMg7mT8bRgChoAh0FwRMILeXFfWnssQMARKDoF0BJ2MEBkksnQQiKj15hyPDBfSQbYPol+qg6wk2a9Mbb/IdmqGmGwnBmlqMhdFmpzr82OeBfGpqKgQ+oeXqhJBM/xI3yGYBD8g7uwBlcIXgwin4s8exWSNuUHOS0ElkaluHSzZeygRcq2Nz3UfZjufYBYBpM6dO7t9GnXMmjVLBg8eLDfffLMMHz684Hv8yiuvlFtvvVWefvpplx2njASzzOuuu06GDBniyiB+9KMfuWckUKJj4MCBbl3IvNswBAwBQ6C5ImAEvbmurD2XIWAIlBwC6Qj6/PnzHQmEYEUl52TjMVmD2ELOg3XspfTwwXZvmNb5SIZ5NggngQd+IzNXsg4BdaQZpUGKK7y0apXTo2uZAGuyzTbb5HStfJ6MnP2ll15yZJwAj9ajq8kcgQ6yxRB0LR8IM5nLx3zZ0+zRUpffo5jAYI+9xkBCrbgVMjjkswaQcwJIO+ywg1RWVvqc0uiYuXPnypFHHunI8K9//euCk3Mmw3fCBRdc4LLhBEUITiJnP//8891cFyxY4HqwY2JHJl3HiSee6Nzm8e6wYQgYAoZAc0XACHpzXVl7LkPAECg5BFIJOi+pL7zwgiOsHTt2dC+qvtlaZM2YwUHK6c1czProbEBr9hRSQSYsTt1xakstMNrx1Vel47XXynorVjTcvraiQr4dP15qBg6MtfaQAdQI2kM61kUKcNKXX37pMosQSDKomfYM9f3BIAf7S0lnqslcPqbNuqnBHhnpdJ0K8nHfONdUV3nmyWdKcSObzrxVkUD2tpjGi6g7WHsCSB06dIj8qLi1Dxo0SK644go5+eSTvb9vIt8o5IT7779fRo8eLePHj3cBJr7LkLP/3//9nxx77LENBB2jPgzkdJxwwgnOYPCpp55Kekp2PUPAEDAESgYBI+glsxQ2EUPAEGjuCEDIyXYz1AwOUoicEzIDCaDGEsIOmco0qD2F+PDiijzUl9QXGl+y4Lx4Q9LJ8CdRG821Vt13n2y2pga1LPBQdWTVReSbiRMjkXTWgpZfZOZchn+TTRLPzCeFvWZPye5Tc+679tqjHoUA2fVM9ddJzVPXnusRmCnVABLz4/OHh0M6V/l0devab53fhXwuJedIv+OoOzBiGzBggHNGP/300733TlJ7Ingdggu/+93vXEs3HZjA3XvvvS5IZhL3fKBu1zQEDIGmgoAR9KayUjZPQ8AQaPIIKEFPNYPjwXj5hjhh+gW50YwdJCBI1skoYbYFMY+TQSsUiGT4keFSR06GP1vAIdKcamqkTZcuUlZVJUFyrteoE5Hv2rWTr197TVq3aRN6aTUvI2PqenLPmCGtR4+W8qqqhnNzzcyHTsLzAOaIXBxpcy5rryZzWu+P/Fz7hrPvKCfIZRCEIsvLdQh4JLb2uUwqzbnBlm/Uxoc5g6fixh4HNzWay2dtPfX7lDQQlEFtE3UQKDvkkEOcrPycc84pKjln7pT0QMjJ4usgqz9hwgRXaqAmcWeeeaace+657hD2FQoQM4mLuvp2vCFgCDQ1BIygN7UVs/kaAoZAk0WAl05qhLOZwQV7hkPWcTnXdlr0OCfjTssvXnBLdRBsgBCgBsgmwY4z//I5c6RNv36hpy4dMkQ+HTmyQdKdLnvPOuAoD9Fy8vunn5b1hw1D3tCI/MfNzIdOMsIB9IrGaC2TwV6ES61zKPXXStbVZE6l8FFN5tjfkHPOIzBTTDl4NkzUF4HPU9yWb+wbdYRH2UD5hgbWkqxb53NP9pvWiXQ+iDpomXbwwQcLZBeC7qu6iHqfKMfT2m369Ony5z//2UncCeZRX05NPAScwW8l7QSlLr/8csHcztqsRUHajjUEDIGmiIAR9Ka4ajZnQ8AQaJIIYM4EyTrooIMc6Q4jL5AIyBPkDAkuhJLaYUyTIAKlWNOrPc6R4cbJ9IUtbKsHH5QNRowIO0zIpC+/7jp5e7fdGpzN1WSOGmNUCpACyAry+9bl5dkz82VlUldRIauWLJFcjehCJ59ygLb9IjDDvsnn0LZ3EE9M5lBAKOkkw5yN3KlxHXXaBBLC9nc+nyOMnL/11luCGmWPPfZwz5jr0H7r4BasWwe7XOr9IedkziHmccg5apt+/frJb3/7WydtLwVyDtY81+9//3t59NFHXXCI7zTc2y+++OIGBQfff8wZEk9ZT9euXeWmm25yHhE2DAFDwBBozggYQW/Oq2vPZggYAiWFwJQpU+SPf/yjy9r26NFDDjvsMDn00EMdAcr04kxGkmw0ZIcsEi+qZNYxClNZMsQzV1lyEkARRID4kBEje56P4ZtBh6DXVVY6Qr36u+8cCeAH/MjuQqjIckLOqSP2ve6qqVOltmfPfDzaOtcM1sY7+f0PflCQ++pNCGJANsENeX02szTtG08Agb7cpUIEUwEDUyTUfIbInCdBzlPvQSCNfaaqBOr9tW4d5YtvYI3POJlzAl1kz6OOZcuWuWAgpmtkn0s1YBL1uex4Q8AQMASaOwJG0Jv7CtvzGQKGQEkhoHWvf/vb3+SRRx5x2bG9997bkXUMnDB+U3JD33DMy8jApWYkyVZCMiAByJIhb5ohzmctbDowlfSsWLHCScXz2os9pAY9dX6phBriRMADUg5JBytw22b+fPlhwLAq06ZZPWGC1AwenPc9pZiinsC8LKw+Ot8TUpM5JZ3MT0svKB8AU/YuQaRSJufIo8lyQ86jyvfjYKx16yqFJ5DB51nr1jO1RlRyrmaAUe+NyRqZc9qpXXPNNUbOowJoxxsChoAhUEQEjKAXEXy7tSFgCLRsBHh5J+sMUefnueeek7322ksGDhzoMuJIQB966CHp2bNnVtKDLFkzxNTC0u+aDDbEM9+90ckWUuMKoYCcF4L0tJoyRdYfOjStSVzqjgoSaiTbuN9rRhLSSWbYuZrPmCF7X3BB6IYsRAadeS1ZskRYS4hkvtcw9KFTDmDf4jMA6SQog8qDdUeCnYTJXNT5+BzPnHEHZ72RtRcL00x16+CmJQSQeDLn9DinVCTqoBsBmfP+/fvLDTfcYOQ8KoB2vCFgCBgCRUbACHqRF8BubwgYAoYACEAgqImFqF9//fWu5Ve3bt3kgAMOcITdt6UWWWEl6xBSZNxK1pOW83IvMqdkTHHrLqTMfr0rrpD1L7ssdPMooUZtQP0/pnUVFRXrnFf77beuBr3VihXp3eELVINOwAOndoIuZM6TaE0XClLMA1AjUMcPkUS2zb6jthg1h9atF4sIBx9Jnfr5PJRSwIMSgmCfejAEO/4NTOl1HlWNgOld3759pU+fPnLrrbcaOY+5t+00Q8AQMASKiYAR9GKib/c2BAwBQyCAAC/sp512mkyePNm1GyK7jhQe52Ik7hB1pPC+vc+5HllOyCm1xBB0suoQdv476st/cLHI8kHOyNZTc17wVlpI3al1rq4OJdQfVFW52nhcxSGOmYbLzOPiLiJldVSx1w/9r49uvlk2HDYsb72vg73DnXFd69Yl+/lgP6FGYC9CJnWoyZzW++ueY98l6WzuCwzknMAMGX/IeaHLP3zniWqCAB0SfP1cBvut++wFyiHInBPYu+OOOwr/mfR9WDvOEDAEDAFDICsCRtBtgxgChoAhUCIIzJgxQ8466yx57LHHhNpTRw7r6pybNgZzZNdpTYTsFbI+aNAg6dKli1eW7LvvvnNkXQ2/ICqaWQ9z506FR+u442b5koI7I6Euq++Qvvree+WNn/zEtabzrY3nmql90Gvat5cPzz5b3tp1V0m6Z7hioe3JWBfc2gse8IiwKOwhjA7DWr6lyxBr+zYyxfk2LYP0Qs7J6qNGKFVyDvRI35G1t2vXzmXOmXOUunXWhFZq7PO77rorb0GkCNvEDjUEDAFDwBCIiYAR9JjA2WmGgCFgCOQDAYg0BmaZBnXJjz/+uCPr06ZNc9lLJesQOx/Sg4waGS2ZdX4jTVeDOQzesmXWtR83UvFg5jQfWPhcMx2hrq2slNVXXimL17jeQ84iyftraqR8/nwpW7lS6tq1k9ru3Rtaq2nPcJVzq+EX+MUlgJAzeoeXensy1oOac+rjUSPwzL6DPUegSUkngSc1SsPZPOmABORcvRHInJdyqQBBH8g5eKZTx/B3xY3gmLa+IwDC55B/O+SQQ9x/33fffSWtvPDdL3acIWAIGAItGQEj6C159e3ZDQFDoEkjQJbtySefdDL4qVOnOldtlcFjhOVL1iFOkHVIAERJZfAQRiXrEKr33nvPucoXoh93pIVJIdTfdO0qr7z2mnNpJ6OYL3KWzpxPa699AwKsIeSczKlv6UIkbBI8mK4CtCjDbwBSHXeoyZx6JaAe4HrsO/Zwrl4GkHMy/AQ+IOe5Xi/uc/qcp+ScfQPBDis7UVUC2B1xxBHC/9NukZ9nnnnGlRHYMAQMAUPAEGjaCBhBb9rrZ7M3BAwBQ8AhABl56qmnHFl/4oknXG04bdsg7L/4xS+8MpTBVloQAMiCZjn5f+qOqY3m2qU6IHvUxlOzC5HMpkZI8hkIBmgJgdb7gx1lBJlqr1FDMFd1lQ8jZ0nON+q1MC2kdRfrj2ogqQFZD6oS6AagLQPBL6rJHHs4aLJX6uScNosEJXzIeSrmqFlGjBjhVA18/mm3SGu1E088Ufbff/+klmid61Ayct5557mgIAEGAkvUvBMMYbCml1xyidx2220uu9+1a1e56aabnFeFDUPAEDAEDIFwBIygh2NkRxgChoAh0KQQILNLNg2yTj07GeRDDz3U1ax3797di7RCdCCQkADMq3jphmzS65psp092vtCgqXEdMn3IQLHmSJmCtm/jN8ECVSVoCQH/DpGkb3iHDh0KDZX3/Vh3VBMYFvrW8XtfPM2Bqkog2AG5I7ihqoQwkzn2LMZ1BGkgiz7GarnMNZdzeU5k7XyWdsLscI1vgu81UV7weUapQckLn3GCPXhV4A1w1FFH+V4q0nGsCfugV69ecvLJJ7t9/fbbb7sWe9oS7qqrrpKxY8fKnXfe6cj7ZZddJnPmzHEGePhd2DAEDAFDwBDIjoARdNshhoAhYAg0YwTI7M6cOVMefvhh9/LOoF6Vl3v6q2fLMEIiaKNGFpoXcDLDZNIhoGT9IOz5qB+Osxy4dENQ2rdv70hvVMIT554+52jtNbhBOpkXpIrgB0SK+ZbqgJwvW7bMZWip4y80uQrKuQloQEKVrAfLL8APnCHn7E0IZFMg58jSMXmMulcJRCFvJwCFWsa3nCKJffa73/1O5s+fL3Pnzk17OfYMe3rUqFEuy84gYMJ3BcT9pJNOSmIadg1DwBAwBJo1AkbQm/Xy2sMZAoaAIbAWAcgLmSzIOq3cIOCQdVq3kRELmpxBiDADg4AHneJ5AUdKC+Gkbp2XbyVNkPZCScqD66rZaDJ4yMVjjSzGcLGul+YkMrzUcFPLDU5qlEYWslQCHTpt5vb66687JUBkk72kAAtcJzXQwZ9036FKoOacY5hrMfag7yPzeSFzroaAUck5kvJf/vKXzl8BiXmhgyYEleizzh6ePXu2VFRUyMiRI+WEE05wEFAGwecQXwUCJTooteGZcZi3YQgYAoaAIZAdASPotkMMAUPAEGiBCEBmyIQhg3/00Uddn2jqVyHrkIBzzz3X/Q2pcCYSAYmjZljJOuep2RfkqRBZTOT3S5cudZJ2jNbijLRO8BUV8u348VIzcGCcS65zDlhBXoJScQ10gB/BEgIcapRWCOwyPRiBBIIzZPlZ/6h14IkAluUiYMnc1GQO7MCL9mRkaouJXbZnh5xTc46HA/s1KjnnOYcMGeI+q3RwIDBR6KFBPNpBEih48cUXXbb8z3/+s/zqV7+SBQsWuDIa6tSD6hDq4vExYN42DAFDwBAwBIyg2x4wBAwBQ8AQyIIAhIwXbTLrZLggPwceeKCrYz3ooIO8naGR3pJVhzhB3JHwavu2pM26tDaal37M4LhXnNHQS72uTuq7p9ePujU1wd9MnJgzSWeu1N+CCxneVKftdEZpih2Bjny50KfDSx3QWctSb0+GIoRMLfgRGCLbz75LovVdnL2U7Rwy3mTO45Jzzj/mmGNcucH06dMTNeqL8qx8jukQARHXcfrpp8vChQvlueeeayDoBM7wq9BBhv3DDz90RpY2DAFDwBAwBIyg2x4wBAwBQ8AQCEEAknPxxRfLjTfeKFdeeaVrqUavdV6q+/Tp49zgDz74YEcwfDJ/uEprhpNMMaRJyXquhFPl10p4Y8t8a2qkDTXAVVWNyHmQpNdVVMiqJUsa+qBH3UgQ3tdee82VBUDOfbLRKBEUO7KlZEoVO5/zo85Rj9c6bsggc006qBJ3XunOU3JOW0Cc5bWPuvYMBz8CTQRDFDtqtX32bpLz5FrgSeacuey8886R50At/nHHHecUGDNmzMipxV2uz0YJyQEHHCC33357w6VuueUWZwRH1twk7rkibOcbAoaAISBiEnfbBYaAIWAIGAKuJh2pKn3VqTNlQIRfffVVeeihh5wMnvrp3r17O7Lev39/R7p9CI86c5Ndz5VwQiKZE5lSX8KbaXnL58yRNv36ha7+qqlTpbZnz9DjUg8IEt64/diRRWv7NvrV54twQngxBGTNIbylKhMHYwgrmXNtpafkPBV/iLG66WNwSGBIybq66Ude1IgnKDknOAA5j9pZgHU5/vjjXZAHs0fmX8wxdOhQF7QLmsSdeeaZ8sILL7jsuZrE8W+UyWiAgnmbSVwxV87ubQgYAk0JASPoTWm1bK6GgCFgCOQJAa3rzdTjWrPWyOAh65BkXOCpWYesI8X2IesQTs0O07KJ7Dd1w7zAb7jhhlmfDmIWJJG5ZnhbPfigbDBiRCiiqydMkJrBg0OPCx7AXHGVB5OkCG+qqzn1wEo4fZUN6R5CCS/masFsdKQHLtDBzJVsNGR71113bcich92eYAkknWCHuumzZ/mhnCATyQ+7bra/61xRPeyyyy6RyTlzppUZ8nEM2eJ6LOTyDKnnMpdu3bq5PueDBw92pTHI1+l5PmzYMHc4RPyKK66QCRMmuI4Kl19+ucyaNcvarCW5EHYtQ8AQaNYIGEFv1strD2cIGAKGQPIIQNbpfYyJHDJ4spm8tJNZHzBggKs99SHrZBc1Owx5IsuoZD21TpssPPeBxEN2kiBU+cqgE4RgrkrMkphr6ioq4dT2bdxDyTpu2b6Z2kLMNakdyH4BVwITkHPfZ0y9P2UHyN9170GkMeiDrPM7CfWAkvO4c2WOp512msybN89lzisrK5OCMefr/P3vf5fzzz/fteDbbrvtBMM4dXHn4nw/QOAxjiMI17VrV7npppucgsCGIWAIGAKGQDgCRtDDMbIjDAFDwBAwBDIgwMs4zuRK1pG67rXXXo6oQ9g7dOjgRdY1O4wMHrIOuYVwQtgZZKMhTzvttFNsYrbOI2gNenU19V7r/BmjuKg16NTeQyK1jVZcEhllw0HmIEKqTAi2b8uWHSboEXQVL8RcozxX8FiVimuAJqm5BjsRgB/meOqXAGEPth70nbsqEjTLH3WurOfZZ58tTz/9tMs8x24d6DthO84QMAQMAUOgpBAwgl5Sy2GTMQQMAUOg6SIA2cG9maw6hJ02btReQ9T5Idvmk1mn7lZrh8lyQlioGd5xxx3db59r+KLY4OIuzpSl4bQ4Lu5ffPGFI+dIkZlrkvP0fR7WgDp/JesQ22D7Nu0RTiABcq597osxV99n0vZkarIWlfD63ofj1KCPfUeWnRIMAkWQdR+TOTWv0/r4qHNlr5OdnjJlisuc01PchiFgCBgChkDLQsAIestab3taQ8AQMAQKggBEkWw45nOQdWpo6f2sZN2HwHL+4sWLpaKiQpB0Q5ogmEEpdxLEMm0f9MpK+XbcOO8Wa2SwqY/fdttt3U8S88p1odJlhyHk1Ktj9EUpgs865DqPXM4vZpY/1WROa/4h6+kCRUrO2aO0/ota2gA5HzNmjNx///2OnLM2NgwBQ8AQMARaHgJG0FvemtsTGwKGgCFQUAQgijiQQ9bJrtPHGfMoyPqgQYOkC63O1vQd14khm3/rrbdcvTmEiAGB4ToQdzX6Uhl8lLrrtA9fUyPl8+dL2cqVUteundR27+7dWo25EEiAUJVSrXDqcyLfhpgvX77c1QkHW9/FkXLnexMpOddygWIGPVJr/smMsy/Zf5QRsDcpw+Df4xjtsR5jx46VO+64w5Fz7aSQb4zt+oaAIWAIGAKlh4AR9NJbE5uRIWAIGALNFgGVYKQRfWsAACAASURBVD/22GOOrFNnS506ZB1HeIykMJ1CJj5y5EhXy51uZKq7pmYdwhRVWhwX8BUrVsiSJUvcvLVePu618n0ekm1IJKUG4KsmaeqmH+wXnu+5hF0fqTkSfNYyXQAn7Px8/l1N5tSgj5pz9htdBXbffXfnMB9l8JkYP368M1KjzzlBKRuGgCFgCBgCLRcBI+gtd+3tyQ0BQ8AQKDoC1G0/8cQTTgZPD3YIGZlTCMuRRx7pRbS1RRyEiew62U7NbiLpjio19gVFs/zImblPKQ+M915++WWnXCAgEhwq5QY7FApq0Adhpwa70JlryPmiRYsaTAELff8o64isnblC0tln1Pazh3X/hZF19u71118vV199tVOW/PznP49yezvWEDAEDAFDoBkiYAS9GS6qPZIhYAgYAk0NgS+//FKOOOIIefPNN2WPPfZwmXXqfHGDJ7NOqyYfog3h+e9//+uIOoRdTdLIbkOi1SQtF3y0zRxScUzwmGcpDzLlr7zyistEt2/fPutUIZyQefDDqA+zs6Rr/rNNQM3rILidO3cueHAgyjoSCMJ3gIw6xFoJuioTMOuj3l/JOiZzwcE+uvnmm12f8GnTprnuBzYMAUPAEDAEDAEj6LYHDAFDwBAwBIqKAKRwn332cS7ZyN4hvGRRn3nmGZdZf/zxx127q0MPPdTVrNNz3Ydoq0maknWuCUmHrMftd801X3/9dScPh5Sl9msvKpBpbr5y5Up57bXXYknwIZ6QdZVyk8kO1l0nXUZAjTyydtan1M3rguScIE26/UhwSMm6KhPIqKMaYb9PmDBBLr74Ypk6darb0zYMAUPAEDAEDAEQMIJu+8AQMAQMgTwj8N5778mll17q6kshTGQxjznmGLnwwgtd3aoOJNOnnHKKOw6Z8dChQ530NXhMnqdatMuTQdxvv/3S1u9CdMDk4Ycfdu2nIIr9+/d3ZL1Hjx7e+JClVxk8ZBCyri20fDCGsL766quOYEHOWaNSHlVVVfLGG280MtqLO99g3TUYQlCD7dt81A3Z7s16IBXns9GpU6eSz5xTLkBgiX3gEyxSZQLKEHqcQ9RpH/eHP/xBTj/9dO89HHf97DxDwBAwBAyBpoOAEfSms1Y2U0PAEGiiCDz11FPywAMPyJAhQxz5gOSdcMIJMnz4cEfAGRAe3J/JUF5zzTUuc3nsscfK4YcfLjfccEMTffLkpw3RoWUbZB1XeEgOZB2Tud69e3sbdCGl1sw6hDvoaJ6ubpj1gZQRLICU+RD65J/e/4paH8+eoiY6yaFlBNprHc+AYLADWXyUQeCEzDnt9Oj7Xco15wQq2AfUnPuS8yAWYHfPPffItdde60oOCEqw/w455BC54oorpGPHjlGgi30s97rgggvkjDPOkOuuu85dh7ldcsklcttttwnGgZSVYFxHe0QbhoAhYAgYAoVDwAh64bC2OxkChoAh0IAAJmi33HKLvPPOO+7fkLlCNGmDpXXC9EM+7rjjXNaXWlYbjRGANM+fP9+R9UcffdQRnX79+jmy3qdPH9lwww29IEP6rmSTumEk9sisya4jrYeMBVto+WRMvW6cp4PeffddQbUBgSxEfbwqE8CQ/w4LdgQfmzWDnGNcBzkv5aHkXIM0UQMRPBt7le4E/D7ooIMcKeb52b/nnHOOwy7fY+HChTJ48GD3ndKrV68Ggn7VVVe5Vm933nmnKzG47LLLZM6cOU6FgVmgDUPAEDAEDIHCIGAEvTA4210MAUPAEGiEwEUXXSRk1smgMahFRb5Ndk4HWSyyn8i7eZG2kRkByNMLL7zQQNap/T3wwAOdwVzfvn29a8XJBnMu2XXaklFjTpae33H6WxdyzSB79I5H2k67r2KQqtRgByRQTeZSAyaY+f3jH/+QbbbZRrbffvtCQhX5XuwvjPbYH2Abh5zz+UY5M2nSJOenUIxBAIXADeZ0EHD2NBl09g6BwVGjRsl5553npsa+J1AFcT/ppJOKMV27pyFgCBgCLRIBI+gtctntoQ0BQ6CYCLz99tvuJRkp+/HHH++mcuKJJ7qsJzWqwYHcmowW8ngbfghApiB+ZCkxncNtnYw6ZJ0MO6TRR0atfcOpryZrCkmHbEJaUh25/WaWv6MgWGQ6yWJDIEthfhC8oEkac1KyjvpBe7Jvu+22+QMmgSuznxYvXuyMC+OSc1oJjhgxQu6++25XtlKsQdkMQT8k9ng+KEFHyYOCgc8Npnc6UKP84Ac/kLvuuqtYU7b7GgKGgCHQ4hAwgt7iltwe2BAwBJJCAIMnajazDeSktA3TUV1dLfvuu6/7uf322xv+HYL+/vvvu3ZLwUGtMy/1Rx99dFLTblHXUWM3JetkmKlVh3hQ94ukOB1ZJ7sLgdx6661d73Bq35Vs4g+AQZzK4CHuPoQ/X8BDzpcsWeLqhiGQpWheR5kAbdsIIPCbdQF7PBmQ4RcTv2zrovsHEzuwjeM9QDeCYcOGyR133CFHHXVUvrZB6HUpmSFrjmqH0o0gQV+wYIF0797dqS+CrfgyfS+F3swOMAQMAUPAEIiNgBH02NDZiYaAIdDSEYBo8JNtkB3kZZgBOUeqjvkSWfFgmyqTuOd/N2mLNCXrtB8jUEJmnfp/XMkhis8++6yTMmOOlS67C1ln3bVXOOurmWHf7HxST6sEUqXLuteSun7S10GVQJaW4AbrQdCDz4HiB2lPun1b3GdIgpzPnDnTkXL8JujcUKxABN4WBApR6Oy2224OknQEne8oglI6kORzLuU4NgwBQ8AQMAQKg4AR9MLgbHcxBAyBFo4AmSnIOVm4e++9V1LbUqlJHHJsfUHG+R1JqpnEJb95tF6bPuvI4MmWk0HEWZvgyfXXX+8IVdhAqq2ZYcgmtckqg893Zph7UxeNlLwpOMuT4QdnFAmYwjEgwfy7mvTx/9prHWf4XNu3ha1fpr+zP7SlHsQ2TuZ87ty5cuSRR7oa71//+tdFI+c8Ix0PaEsYxJP9Q8CAgAjlEagZTOIed8fYeYaAIWAIJIeAEfTksLQrGQKGgCGQFgGVtWOGhVw9+JLcrl07d462WSOziMP7Z5995hzcye5am7X8bizIGOUF559/vjz00EOuFheSOGDAACeFr6ys9CJXkEvk70o2WedgZjjJ7ClZfAwF2TfUDMcxLcsvqo2vzn7+5z//6dzBwTPdYB1w0Vf8qPvX9m2oGwr1jMwDdQVlDgTU0rXdC8Puueeec4QYg7Xf/va3Xvsn7Jq5/B23fPZ4cFATv9NOOzlTONQiSNvPPPNMOffcc91h4M/+NZO4XJC3cw0BQ8AQiI6AEfTomNkZhoAhYAhEQoCMLC/DmUiJ/ju9q2nBhGs7dcRDhw51fdLjEIRIE7SDnWnWmDFjXLurzp07u6w6P7RxgwATKIGsI3n3IdqaGUYGT2Yd0qeZ9Vxl3Nr2jQAAcuVSb/tG0IJgAmQwWN+cbduBV7B9GzXgmJtpwCNORttnm2s9P1J8MudxPnvUeBPc+eMf/yinnXaa137xmVvSxwQl7lwbIk5/9AkTJjiVw+WXXy6zZs2yNmtJA2/XMwQMAUMgBAEj6LZFDAFDwBAwBFo0AtSbYxh35ZVXyp577tmABWQNgg1ph6zPnj3bZRqVrENifMg61wnKuMl6k6FHLQHpjCLjJquJDBniuOuuu0Y6txiLjPwfGT6lA8Ha5qhz+frrrxsy62S2tVc9OCZlisc6LV26tMFsL049PyoB9tKFF14oZ599ttf+iIpFUsenEnSeH9PLP//5zw4DvDJuuukm2XnnnZO6pV3HEDAEDAFDwAMBI+geINkhhoAhYAg0ZQToeYxsfsWKFY5gUhPbo0ePpvxIBZ875IVMML2sqVvHSA65Nll1CDsE1Jesq4wb8k82XGuukXFnI+sEEiDnuMZDmkrFTC3TYqAcgJyz57SUI4mF0171SOEhkuBBsAMc+e84Q8k5Unwy53HIOTXrBx98sJx11lmuXMJnP8SZq51jCBgChoAh0LwRMILevNfXns4QMARaOAIYzQ0fPlwg6ZigkR2jvRttuaiJtxEdAa2VfuyxxxxZxxm7Y8eODWR9l1128SLPXIfaYIg6ZBPiCUlHxg3ZDErX6cH90ksvudZkP/7xj0ue/PE89A4nkAB5ztcgwJHa/k7x83XUV3d/AjBxyTmZ9379+snJJ58stF80cp6vFbfrGgKGgCHQ/BEwgt7819ie0BAwBFowAshUcfimzZMOsr1kfak3tZE7Akiun3jiCUfWaUcFIaUGGZMwsPfJdEMSqbNWso6kG/k719poo41cDTfEk/r4Uid/PAPZZAIVzLlQA+M8NelDWk+AQ8l6pn734I6DOSQfch5HLv/mm286co6pI3Xbpb4+hVoPu48hYAgYAoZAPASMoMfDzc4yBAwBQ6DkEaBeecMNN3TO5JBFHWeccYZz1Kam2kayCECyaZkHWX/yySflBz/4gSPrBET22msv75pxrkMWmrIE/hvJNQZ1EPZ8GaQlgcTKlSudOgNyjgqgWAOTPuTq6gjPPJSs4wxP0ARyDrnmmLjk/J133pGDDjpIBg8e7AwdfYIxxcLE7msIGAKGgCHQNBAwgt401slmaQgYAoZAZARo71ZRUeGcyLt169ZwPlm+u+66y2UObeQPAWTpyN8xmHv88cdddvbQQw91ZJ31CHNfp1admnPWEFIOkSRbD+lXN/M4tdL5emKCCUi9Ma9Dql8qAyKOK7uSdWTxzA+zPvDEGJBAVtRB2zLIOWv6pz/9ych5VADteEPAEDAEDIG0CBhBt41hCBgChkAzRUAJ+oIFC2TvvfdueMqxY8fKPffcI6+//nozffLSeyzUDNOnT3dkHaM5ZNAQO5QNGPal9vjWvuGdOnVq5BVAnboSTUgnddZk1SHsceTZSSHFXmM/0faNDHWpDsg6pJzgFL8ZWvfPb191QlVVlfTt21cOOOAAVz5imfNSXXGblyFgCBgCTQ8BI+hNb81sxoaAIWAIeCFgEncvmAp+EBncOXPmuNIDyDrr1L9/f2cy16tXL8F87sEHH3Ru+2TPM43Vq1e72mlqvoNu5pB16tYLNZYvX+6k4j/96U9d3XwpDwj622+/LRBsZO0MDXhg2EetukrhM6kTkPGTOcd0EcPFKG3yShkbm5shYAgYAoZAaSBgBL001sFmYQgYAoZAXhDAJG733Xd3Lu46cAGHDJpJXF4gj3RRZNbz5s2Thx9+WCZPnuxc3cmS4wZ+0UUXeWfF1c0cso5RGgQdoqkmc/kyLvvwww9l2bJl8rOf/cyR21IfkHMCCpDz1CAGJQnqCK/qBC0lUAk8ZB5DOMz/KBMJK1ModTxsfoaAIWAIGAKlh4AR9NJbE5uRIWAIGAKJIaBt1m699VYnc7/tttvkL3/5i7z22muuNZiN0kHgzjvvlJEjR7rsLCZ+kEVk1NSs89s3Kw5Zx8UcMslvMsEqg2/btm1iLuMffPCBy0ZDzqmLL/Wh5JyAVVi/dFQNStYXLlwo119/vfTu3VtefPFF56Q/adKkdcoSSv35bX6GgCFgCBgCTQMBI+hNY51sloaAIWAIxEaA7Pm4ceOcIzh9qa+99lrp2bNn7OvZickjADk/7bTTXBZ9//33F1zI6XtOZv3RRx91kuw+ffo4sk4Gl9pzn0GGHpJOZp3f1FhrVniTTTaJTdYxSMPBnEwy1yn1wVwJKJA5DyPnqc9CNn3ixInOtwETvMrKSvn/9u40tqpq7+P4EpRJJAhhKCqC0DoAgoIioihBwAhGQ8MoyCBggERagZZJQpXBy6ymTELKJEN44cCMiAgBBwZBwCCDzEOUQQFBiCZPfv/n7nNLpXjO4bTd7f6uhNx74Zx91v6sfV/89lrrv1q1amV/9NIrp/efa6WLahdoj7/qDKjA4H/+8x97UeA1Ld1PS0uzF3Da7qCVM+np6a5GjRp+Hxr6hwACCCCQRYCAziOBAAIIIBATAYJE9IwKfgpWmavte1dTWP/hhx/s6DYFNc0EK8Rrm0KLFi1s9jqcJewK69454Zod1t5pbxl8uNdQnw4ePOgOHTqUb8K5+qsXCpo51wqCSJuq6euoPFnNnz/f6gfopYnqB8yZM8fGICebVlS0a9fOqs3rrPchQ4a4nTt32nF23qoKBXYVf9SLnoSEBDdixAjrp4rhRXPPOXk/XBsBBBBA4MYCBHSeEAQQQACBmAgQJGLCeMOLaKZUYV4z6wrrCmnPPvuszayr0JwqqIcT1rOeE67veDPr2kue3aywNxOtmfNwZ/FzXiX7X9CLBAV0zZxHE1RVE0CV9jXrruJ9mQvHKSyr5fY+dL1c0Vh99dVXthJGz0SlSpVcUlKSS01NtT6pgKC2NSi4v/7663k5BPw2AggggECEAgT0CMH4OAIIIIBAeAIEifCcov2Ugtn+/ftDYV371p966imbWdeMrwJauGFdy7i1DF771nXdcuXKWQhU4FdY198pnKsoXLQz0dHeZ7Tf85bhq7/RvEz4448/XGJioq00WLp0adg1AKLtb7jf05jHx8fbLLq2rGhcqlWr5rZt22b1ALym50ArI1TMjoYAAgggkH8ECOj5Z6zoKQIIIJCvBAgSuTdcCtCaLdYyeC2/VjGzJ554woK6gpqOawsnrOs6WtLthXXNEut8cM24awl+NHu4c0/hf7/kFbCLdo+8Krq3bt3aqeDe8uXLo5p9z4n71vhoPDUWGzZssJ/YtGmTHfmmOgWaSfdaz549bWn/qlWrcqIrXBMBBBBAIIcECOg5BMtlEUAAgSALECTybvRlr6PEtARefxTgFFS1DF7hTtX7Iwnr2sd8/vx5m0n3ZtYV2nN7aXe4oprl18uhaMO5jrlr3769vahQuPVTEbw+ffq4ZcuW2dF8KlaXOaCfOHHCxcXFhZh69OhhKx5WrlwZLh2fQwABBBDwgQAB3QeDQBcQQACBgiZAkPDHiCqsnzp1ymbVFda1b7lWrVqhsF69evVsw7q+u3fvXptNV9jV//Zm1jXDrOXvWgav0H7bbbf54ob1YsI7lz2ao990vFrHjh3N7PPPP/fV2e5elX8Vf6tatWrImyXuvnj06AQCCCAQMwECeswouRACCCCAgAQIEv58DhSwVcVd1cdVZG7t2rV2VJdm1fXnwQcfDIV1r3K8iqRpD3eJEiWuuamLFy/afnX90X8vU6aM7XlXWNdRbnnRFM71QkEvE6IJ51rO3rlzZ9sq8MUXX9gLCD80jZv+P6WXLOvWrbP955mbVyQuOTnZpaSk2D/pRYNenlAkzg8jSB8QQACByAQI6JF58WkEEEAAgWwECBL559HQWKkwnCqTa9+6ZourVKliQf3FF190EydOdGfPnnWLFy+2s7dv1C5dumRBXbPrCvSqAu9VhC9atGiuoGj/tZbiq0iafj/Spr323bt3t6r4enGh/vul9e7d245304uVzGefa+m9NzYK4jrmMCMjwwL8qFGjLMxzzJpfRpF+IIAAAuELENDDt+KTCCCAAAI3ECBI5N/HQ3vMValcM+vas6wZ8zZt2thebIXe7I5dy3rH2r/thXXt4VaI9ML6vwX9aPW093rPnj2uTp06NpMfadP58L169XJbt251X375patYsWKkl8jRz2dXL0BhvEuXLvbbeuGSlpbmpk2bZgXk6tev79LT063KOw0BBBBAIH8JENDz13jRWwQQQMC3AgQJ3w5NWB1TUH3ttdesAFn//v1tv7oKkin0alZd54E/9thjduxYOE1ncXvL4BUadQ65lsErsGddMh/O9a73mZMnT9q58NGGcy3l1/Jx3bNmnFXtnoYAAggggEBeChDQ81Kf30YAAQQQQMAnAsOHD3eLFi2y/dfecV0qBqdK5iowt2TJEgvWOrpNFeEbNGgQdiV37Yn+9ddfbRm8ls7ffvvtobBesmTJqAS8cF67du2o9osrnPfr18+W92vmXNXtaQgggAACCOS1AAE9r0eA30cAAQQQiLmA9uMOHjzY9e3b102aNMmu7y0Dnj59+jXLgGvUqBHz38+PF1QBORVKy26Jt5avK7wrrGs/tGbSNbOusP7000+HXcldv6Gwrtl1/aaWvmtWXbPrCuvhHAGnKuu7d+92Cuc68i3SpnA+aNAguw/NnN93332RXoLPI4AAAgggkCMCBPQcYeWiCCCAAAJ5JbB582bbP12qVCnXuHHjUEBXIa2RI0e6WbNmuYSEBDdixAinI6sopBX5SClkawm89qx/8sknFuwV1lVk7tlnn3XhFodTcbbTp09bWNd/qgK8twxe43e9sK5Z+F27drmHH37YqsZH2hTOhw0bZqsFNHOuZ4GGAAIIIICAXwQI6H4ZCfqBAAIIIHDTAjryS8dsTZ482QK49iZrBt07iiopKcmlpqba72iPtMIgR1HdHLtCtvZwe2FdY/DCCy/YzHqTJk3+tQq89+vaA68ZdYV1zbDfeuutoQJzOjZNYV3/tnPnzqjDuZ4DPRcqsKZwrqPlaAgggAACCPhJgIDup9GgLwgggAACNyWgc6xV1EzHhGkm1wvoP//8s6tWrZrbtm2bVSX3mmZ8Ff5mz559U7/Ll/9fQCH7m2++saPbdG63Anfz5s0trDdr1sz2nofTNMudOawrnKvInPav16pVy16sRNoUzseMGWMvb3SUmq5DQwABBBBAwG8CBHS/jQj9QQABBBCISmDhwoU2O7plyxZXrFixawL6pk2bXMOGDZ3Oy/YKoOlHevbs6Q4fPmyF0GixFVDI1lgorGvfuo5Da9q0qYX1559/3rYghNN0nUOHDrkDBw7YrLrCupa2K6TrZUw4R8ApnL/33ntu3Lhxbs2aNbbKgoYAAggggIAfBQjofhwV+oQAAgggEJHA0aNHXb169dzq1autcJha5hl0L6ArJMbFxYWu3aNHD6fv6uxvWs4JKGTv2LEjFNa1ouG5556zPestWrSw89KzKw6nven6rs70VjG53377zarBa7m7ZuwV1vX3ZcuWve4RcArnmjVX4UCN8+OPP55zN8qVEUAAAQQQuEkBAvpNAvJ1BBBAAIG8F1ChMp3TnfmMboU3hT7NsKoQXPXq1VninvdDZfUAfvzxR9uzrpl1nWOuYn4K6y1btrSg7YX1vXv3umPHjrmHHnroH9XldZ3z58+HwrqOclNFd82s6xqabddnZsyYYUXhVqxY4Z588kkfCNAFBBBAAAEEshcgoPN0IIAAAgjke4ELFy7YUvXMrWvXru6BBx6wonA6Sk1L25OTk11KSop9TIFOM68Uicu74VeA3rdvXyisa6ZcR7YprOv4NY2XgrVWR9yo6Tp6BjSrrtn1t99+217M3H///W7BggVu2bJlrlGjRnl3o/wyAggggAACYQoQ0MOE4mMIIIAAAvlLIPMSd/VcQVzLnFXBOz4+3o0aNcrOwOaYNX+Mq0L2wYMHbRm8jsLTuCisawm8ArtesIRzRrqus3XrVvf+++/bfvNLly5ZgbrExES7jvat51XTUvuxY8e6kydP2ksjnTCge6QhgAACCCDgCRDQeRYQQAABBAqkQNaAruCWlpbmpk2b5s6dO+fq16/v0tPTbW8zzT8COl9dS901VtqyoGXwqiFQt25dC9gqMle5cuUbhvXFixe7Pn362My8qvcr9OuPjoDTkvq8aDp3vVOnTrYfXgUL9Rxq+b2W++t+aAgggAACCEiAgM5zgAACCCCAQIwEVCVeS+q1LPvy5csuISHBzZw508KlmveSYPr06de8JNBsKs3Z0WqqFTB+/HjXrVu3kNmpU6fs2DaF7PXr19s56ArqCuwK4Jln1lWPQNX5VdVfQT9zU0AvWbJknlDrhZCqx0+ZMiX0+zqHXfehlR00BBBAAAEECOg8AwgggAACCMRIQLPyOmNdBc969epl+9t1NFiVKlUsRKppmf3IkSNtCbfCu46FU+Bkmf3/BkFmnlfWodELDlV1VwhXWNd55qoz4IV1fVe1B+bNm2dFA/3SVO+gRIkSTjP7mfvVt29ft337dqdVAzQEEEAAAQQI6DwDCCCAAAIIxEhg4MCBbuPGjW7Dhg3XvaLCpfZRJyUl2Sy72pUrV6zqOIXqIh8EeeqlyGeffWZhXWfZq3L//PnzXdu2bSO/YA5+Q8f73XXXXfZ8ZK4krzoIs2fPthc0NAQQQAABBAjoPAMIIIAAAgjESEBHgTVv3tyOBdOMqAJZ7969nc5aV9PZ35oZ3rZtm820e03LtEuXLm1BjRa9gJbHa5+3Vi+EU0wu+l+K/JteQNde+gYNGoQuoNUUc+fOdXv27In8onwDAQQQQKBACrAHvUAOKzeFAAIIIJDbAsWKFbOffPPNN13r1q3dd999Z7PlKgb26quvWqEzFQfTPnXNpHtN+6V1RJxmgGkFU4Al7gVzXLkrBBBAICcECOg5oco1EUAAAQQCJ1CkSBE7r1tB3GtvvPGG27x5s/v6669DAV2zqXFxcaHPaIb96NGjbuXKlYEzC9INq0icigWqirvXtOpCKygoEhekJ4F7RQABBG4sQEDnCUEAAQQQQCAGAvfee69r2rSpHZ3lNVXsViE4zZqzxD0GyPn4Et4xa1OnTrVl7qrk/+GHH7rdu3c7PTs0BBBAAAEEJEBA5zlAAAEEEEAgBgIdOnSwmfDMReKSk5Pdt99+a7PnXpE4/V1KSor9opY+q9o7ReJiMAD54BKaPR8zZow7efKkq1mzpps4caJr1KhRPug5XUQAAQQQyC0BAnpuSfM7CCCAAAIFWkBL2VWhOy0tzbVp08b2oGv5umZKX3nlFbt3BXEtZ87IyHDx8fFOVbzXrVvHMWsF+sng5hBAAAEEEAhfgIAevhWfRAABBBBA4IYCS5cudYMGDXL79u1zVatWtYJxXhV3fVGz6ArwKhynI8K0Lzk9Pd1mU2kIIIAAAggggAABnWcAAQQQQAABBBBAAAEEEEAAAR8IENB9MAh0AQEEEEAATmjYhAAAC/RJREFUgVgI/PXXX2748OHuo48+cqdOnbJq8V26dHFDhw51hQoVsp/wZvG19D7zLH6NGjVi0QWugQACCCCAAAI3IUBAvwk8vooAAggggICfBEaOHGmFx2bPnu0UuLds2eK6du1qleT79u1rXdU+eH1u1qxZLiEhwf5t/fr17IP300DSFwQQQACBwAoQ0AM79Nw4AggggEBBE2jZsqWrUKGCmzlzZujWEhMTXYkSJdzcuXNDleSTkpJcamqqfebKlSv2HSrJF7SngftBAAEEEMiPAgT0/Dhq9BkBBBBAAIHrCLz77rtO52yvXr3aZsd37NjhmjVr5iZNmuTat2/PWew8NQgggAACCPhcgIDu8wGiewgggAACCIQroP3lgwcPttnwwoULu7///tuWs6uyvJrOY2/YsKE7fvy4q1SpUuiyPXv2dIcPH3arVq0K96f4HAIIIIAAAgjkgAABPQdQuSQCCCCAAAJ5IbBw4UI3YMAAN3bsWNuDvn37dqfl7BMmTHCdO3cOBfQTJ05YATmv6Si4o0ePupUrV+ZFt/lNBBBAAAEEEPivAAGdRwEBBBBAAIECInDPPfe4gQMHuj59+oTuSEXg5s2b5/bs2cMS9wIyztwGAggggEDBFSCgF9yx5c4QQAABBAImULZsWavK3qtXr9Cdjx492mVkZLi9e/eGisQlJye7lJQU+8zVq1dd+fLlKRKX5Vk5dOiQe+edd9zatWvtyDptCejYsaMbMmSIK1KkSOjTR44csRci+lzx4sVdhw4d3Lhx4675TMAeQ24XAQQQQOAmBAjoN4HHVxFAAAEEEPCTgM48X7NmjZs2bZotcf/++++d9pd369bNAria/tML7fHx8W7UqFFu3bp1HLOWZSC13H/RokVWXK969epu165dTlsBOnXqZAFcTXv869Sp48qVK+fGjx/vzpw5Y1sJWrVq5T744AM/PRr0BQEEEEAgnwgQ0PPJQNFNBBBAAAEE/k3gwoUL7q233nIff/yx++WXX2zWVwFz2LBhoRldFZJLS0uzEH/u3DlXv359l56e7mrWrPlvlw/8v2tv/5QpU2yrgNqKFSucjrbT/n2v6J7qAOhFifxLlSoVeDMAEEAAAQQiEyCgR+bFpxFAAAEEEEAgoAJDhw61QnpbtmwxAb34+PTTT+04O6/ppUeZMmVsyXvjxo0DKsVtI4AAAghEK0BAj1aO7yGAAAIIIIBAYAQOHDjgHn30UVvK3r17d7tvbR/QXnWdO5+5FS1a1M2aNctWL9AQQAABBBCIRICAHokWn0UAAQQQQACBfwisX7/ejnbbunWrO3nypC2xf/nll0Of85bVT58+/Zpl9don77UrV664/v37uwULFrjLly+7Jk2auMmTJ7u77747puLDhw+3Jf43aps3b3b16tULfUTH0j3zzDP2Z8aMGaG/z+78eBWRmzNnjmvXrl1M+87FEEAAAQQKvgABveCPMXeIAAIIIIBAjgpoL/bGjRtthjkxMfEfAV2F6UaOHGmzygkJCVZpXqH+p59+cnfccYf1TZXnlyxZYp9RNfp+/fq5s2fPWugvXLhwzPp/+vRppz83alWqVHHFihWzjyica6m69uqrb4UKFQp9lSXuMRsWLoQAAggg8F8BAjqPAgIIIIAAAgjETOCWW265JqBr9lwF1JKSklxqaqr9jmbLK1SoEDra7ffff7dK6HPnznVt27YNBWOd6758+XLXvHnzmPUvkgsdP37cwnndunXtLPmsLwq8InHHjh1zcXFxdmlVflcld4rERSLNZxFAAAEEPAECOs8CAggggAACCMRMIGtAV8XzatWquW3btrlHHnkk9DsvvfSSK126tJs9e7YVVNOSds2Y33nnnaHP1K5d25bK/9uS9Jh1PtOFvGXtlStXtuXqmcN5xYoV7ZPeMWt62aAl/uq/KrirzxyzlhOjwjURQACBgi9AQC/4Y8wdIoAAAgggkGsCWQP6pk2bXMOGDZ1mo72jyNSZzPu358+f77p27Woz65lbs2bNXNWqVe1IuNxuWs6uPl2vaVWA144cOeJ69+5tLxmKFy/uOnToYOekq1AcDQEEEEAAgUgFCOiRivF5BBBAAAEEEMhWILuArhlpbxm4vtyjRw87P1zHlmUX0Js2bWqz71OnTkUcAQQQQACBQAgQ0AMxzNwkAggggAACuSNQUJa4544Wv4IAAggggMC1AgR0nggEEEAAAQQQiJlAdkXikpOTXUpKiv3O1atXXfny5f9RJE6F2Nq0aWOf0XFtOmItL4vExQyFCyGAAAIIIBCmAAE9TCg+hgACCCCAAALXF7h48aLbv3+//aMKwU2YMMGqn5cpU8apyJqOWRs9erTLyMhw8fHxbtSoUW7dunX/OGZt6dKldpSZvqcz0c+cORPzY9YYQwQQQAABBPwsQED38+jQNwQQQAABBPKBgMK2AnnWpuPGFLhVVE2V2FXs7dy5c3ameHp6uqtZs2boK3/++acbMGCA7Ue/fPmyVXWfPHmy01FrNAQQQAABBIIiQEAPykhznwgggAACCCCAAAIIIIAAAr4WIKD7enjoHAIIIIAAAggggAACCCCAQFAECOhBGWnuEwEEEEAAAQQQQAABBBBAwNcCBHRfDw+dQwABBBBAAAEEEEAAAQQQCIoAAT0oI819IoAAAggggAACCCCAAAII+FqAgO7r4aFzCCCAAAIIIIAAAggggAACQREgoAdlpLlPBBBAAAEEEEAAAQQQQAABXwsQ0H09PHQOAQQQQAABBBBAAAEEEEAgKAIE9KCMNPeJAAIIIIAAAggggAACCCDgawECuq+Hh84hgAACCCCAAAIIIIAAAggERYCAHpSR5j4RQAABBBBAAAEEEEAAAQR8LUBA9/Xw0DkEEEAAAQQQQAABBBBAAIGgCBDQgzLS3CcCCCCAAAIIIIAAAggggICvBQjovh4eOocAAggggAACCCCAAAIIIBAUAQJ6UEaa+0QAAQQQQAABBBBAAAEEEPC1AAHd18ND5xBAAAEEEEAAAQQQQAABBIIiQEAPykhznwgggAACCCCAAAIIIIAAAr4WIKD7enjoHAIIIIAAAggggAACCCCAQFAECOhBGWnuEwEEEEAAAQQQQAABBBBAwNcCBHRfDw+dQwABBBBAAAEEEEAAAQQQCIoAAT0oI819IoAAAggggAACCCCAAAII+FqAgO7r4aFzCCCAAAIIIIAAAggggAACQREgoAdlpLlPBBBAAAEEEEAAAQQQQAABXwsQ0H09PHQOAQQQQAABBBBAAAEEEEAgKAIE9KCMNPeJAAIIIIAAAggggAACCCDgawECuq+Hh84hgAACCCCAAAIIIIAAAggERYCAHpSR5j4RQAABBBBAAAEEEEAAAQR8LUBA9/Xw0DkEEEAAAQQQQAABBBBAAIGgCBDQgzLS3CcCCCCAAAIIIIAAAggggICvBQjovh4eOocAAggggAACCCCAAAIIIBAUAQJ6UEaa+0QAAQQQQAABBBBAAAEEEPC1AAHd18ND5xBAAAEEEEAAAQQQQAABBIIiQEAPykhznwgggAACCCCAAAIIIIAAAr4WIKD7enjoHAIIIIAAAggggAACCCCAQFAECOhBGWnuEwEEEEAAAQQQQAABBBBAwNcCBHRfDw+dQwABBBBAAAEEEEAAAQQQCIoAAT0oI819IoAAAggggAACCCCAAAII+FqAgO7r4aFzCCCAAAIIIIAAAggggAACQREgoAdlpLlPBBBAAAEEEEAAAQQQQAABXwsQ0H09PHQOAQQQQAABBBBAAAEEEEAgKAIE9KCMNPeJAAIIIIAAAggggAACCCDgawECuq+Hh84hgAACCCCAAAIIIIAAAggERYCAHpSR5j4RQAABBBBAAAEEEEAAAQR8LUBA9/Xw0DkEEEAAAQQQQAABBBBAAIGgCBDQgzLS3CcCCCCAAAIIIIAAAggggICvBQjovh4eOocAAggggAACCCCAAAIIIBAUAQJ6UEaa+0QAAQQQQAABBBBAAAEEEPC1AAHd18ND5xBAAAEEEEAAAQQQQAABBIIiQEAPykhznwgggAACCCCAAAIIIIAAAr4W+D/zghI6FZZMYgAAAABJRU5ErkJggg==\" width=\"1000\">"
      ],
      "text/plain": [
       "<IPython.core.display.HTML object>"
      ]
     },
     "metadata": {},
     "output_type": "display_data"
    },
    {
     "data": {
      "text/plain": [
       "[<mpl_toolkits.mplot3d.art3d.Line3D at 0x1dfd42c6948>]"
      ]
     },
     "execution_count": 66,
     "metadata": {},
     "output_type": "execute_result"
    }
   ],
   "source": [
    "# 3d plot\n",
    "%matplotlib notebook\n",
    "plt.figure(figsize=(10,5))\n",
    "plt.axes(projection='3d')\n",
    "plt.plot(X_train_dtm_reduced[y_train=='Hamilton',0],X_train_dtm_reduced[y_train=='Hamilton',1],X_train_dtm_reduced[y_train=='Hamilton',2],'bo')\n",
    "plt.plot(X_train_dtm_reduced[y_train=='Madison',0],X_train_dtm_reduced[y_train=='Madison',1],X_train_dtm_reduced[y_train=='Madison',2],'ro')\n",
    "plt.plot(X_train_dtm_reduced[y_train=='Jay',0],X_train_dtm_reduced[y_train=='Jay',1],X_train_dtm_reduced[y_train=='Jay',2],'yo')\n",
    "plt.plot(X_test_dtm_reduced[:,0],X_test_dtm_reduced[:,1],X_test_dtm_reduced[:,2],'go')"
   ]
  },
  {
   "cell_type": "code",
   "execution_count": null,
   "metadata": {},
   "outputs": [],
   "source": []
  }
 ],
 "metadata": {
  "kernelspec": {
   "display_name": "Python 3",
   "language": "python",
   "name": "python3"
  },
  "language_info": {
   "codemirror_mode": {
    "name": "ipython",
    "version": 3
   },
   "file_extension": ".py",
   "mimetype": "text/x-python",
   "name": "python",
   "nbconvert_exporter": "python",
   "pygments_lexer": "ipython3",
   "version": "3.8.3"
  }
 },
 "nbformat": 4,
 "nbformat_minor": 4
}
