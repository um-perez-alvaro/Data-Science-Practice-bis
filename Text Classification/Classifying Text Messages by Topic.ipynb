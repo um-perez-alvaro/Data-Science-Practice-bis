{
 "cells": [
  {
   "cell_type": "code",
   "execution_count": 8,
   "metadata": {},
   "outputs": [],
   "source": [
    "import pandas as pd"
   ]
  },
  {
   "cell_type": "markdown",
   "metadata": {},
   "source": [
    "## The 20 newsgroups dataset"
   ]
  },
  {
   "cell_type": "markdown",
   "metadata": {},
   "source": [
    "The [20 Newsgroups data set](http://qwone.com/~jason/20Newsgroups/) is a collection of approximately 20,000 newsgroup documents, partitioned (nearly) evenly across 20 different newsgroups.\n",
    "The 20 newsgroups collection has become a popular data set for experiments in text applications of machine learning techniques, such as text classification and text clustering.\n",
    "\n",
    "The data is organized into 20 different newsgroups, each corresponding to a different topic:\n",
    "\n",
    "- 'atheism',\n",
    "- 'comp.graphics',\n",
    "- 'comp.os.ms-windows.misc',\n",
    "- 'comp.sys.ibm.pc.hardware',\n",
    "- 'comp.sys.mac.hardware',\n",
    "- 'comp.windows.x',\n",
    "- 'misc.forsale',\n",
    "- 'rec.autos',\n",
    "- 'rec.motorcycles',\n",
    "- 'rec.sport.baseball',\n",
    "- 'rec.sport.hockey',\n",
    "- 'sci.crypt',\n",
    "- 'sci.electronics',\n",
    "- 'sci.med',\n",
    "- 'sci.space',\n",
    "- 'soc.religion.christian',\n",
    "- 'talk.politics.guns',\n",
    "- 'talk.politics.mideast',\n",
    "- 'talk.politics.misc',\n",
    "- 'talk.religion.misc']"
   ]
  },
  {
   "cell_type": "markdown",
   "metadata": {},
   "source": [
    " we will work on a partial dataset with only 7 categories out of the 20 available in the dataset"
   ]
  },
  {
   "cell_type": "code",
   "execution_count": 5,
   "metadata": {},
   "outputs": [
    {
     "data": {
      "text/plain": [
       "['alt.atheism',\n",
       " 'soc.religion.christian',\n",
       " 'rec.autos',\n",
       " 'sci.electronics',\n",
       " 'comp.graphics',\n",
       " 'sci.med',\n",
       " 'sci.space']"
      ]
     },
     "execution_count": 5,
     "metadata": {},
     "output_type": "execute_result"
    }
   ],
   "source": [
    "categories = ['alt.atheism', 'soc.religion.christian', 'rec.autos', 'sci.electronics',\n",
    "               'comp.graphics', 'sci.med', 'sci.space']\n",
    "categories"
   ]
  },
  {
   "cell_type": "code",
   "execution_count": 31,
   "metadata": {},
   "outputs": [],
   "source": [
    "from sklearn.datasets import fetch_20newsgroups"
   ]
  },
  {
   "cell_type": "code",
   "execution_count": 32,
   "metadata": {},
   "outputs": [],
   "source": [
    "data = fetch_20newsgroups(categories=categories)"
   ]
  },
  {
   "cell_type": "code",
   "execution_count": 33,
   "metadata": {},
   "outputs": [],
   "source": [
    "X = pd.DataFrame(data.data, columns=['text'])\n",
    "y = pd.Series(data.target)\n",
    "X['label'] = y"
   ]
  },
  {
   "cell_type": "code",
   "execution_count": 34,
   "metadata": {},
   "outputs": [
    {
     "data": {
      "text/plain": [
       "4035"
      ]
     },
     "execution_count": 34,
     "metadata": {},
     "output_type": "execute_result"
    }
   ],
   "source": [
    "len(X)"
   ]
  },
  {
   "cell_type": "code",
   "execution_count": 35,
   "metadata": {},
   "outputs": [
    {
     "data": {
      "text/plain": [
       "['alt.atheism',\n",
       " 'comp.graphics',\n",
       " 'rec.autos',\n",
       " 'sci.electronics',\n",
       " 'sci.med',\n",
       " 'sci.space',\n",
       " 'soc.religion.christian']"
      ]
     },
     "execution_count": 35,
     "metadata": {},
     "output_type": "execute_result"
    }
   ],
   "source": [
    "data.target_names"
   ]
  },
  {
   "cell_type": "code",
   "execution_count": 36,
   "metadata": {},
   "outputs": [],
   "source": [
    "X.label = X.label.replace({0:'atheism',\n",
    "                           1:'computer graphics',\n",
    "                           2:'autos',\n",
    "                           3:'electronics',\n",
    "                           4:'medicine',\n",
    "                           5:'space',\n",
    "                           6:'christianity'})"
   ]
  },
  {
   "cell_type": "code",
   "execution_count": 37,
   "metadata": {},
   "outputs": [
    {
     "data": {
      "text/html": [
       "<div>\n",
       "<style scoped>\n",
       "    .dataframe tbody tr th:only-of-type {\n",
       "        vertical-align: middle;\n",
       "    }\n",
       "\n",
       "    .dataframe tbody tr th {\n",
       "        vertical-align: top;\n",
       "    }\n",
       "\n",
       "    .dataframe thead th {\n",
       "        text-align: right;\n",
       "    }\n",
       "</style>\n",
       "<table border=\"1\" class=\"dataframe\">\n",
       "  <thead>\n",
       "    <tr style=\"text-align: right;\">\n",
       "      <th></th>\n",
       "      <th>text</th>\n",
       "      <th>label</th>\n",
       "    </tr>\n",
       "  </thead>\n",
       "  <tbody>\n",
       "    <tr>\n",
       "      <th>0</th>\n",
       "      <td>From: keith@cco.caltech.edu (Keith Allan Schne...</td>\n",
       "      <td>atheism</td>\n",
       "    </tr>\n",
       "    <tr>\n",
       "      <th>1</th>\n",
       "      <td>From: rcg1597@zeus.tamu.edu (GUYNN, RICHARD CA...</td>\n",
       "      <td>autos</td>\n",
       "    </tr>\n",
       "    <tr>\n",
       "      <th>2</th>\n",
       "      <td>From: henry@zoo.toronto.edu (Henry Spencer)\\nS...</td>\n",
       "      <td>space</td>\n",
       "    </tr>\n",
       "    <tr>\n",
       "      <th>3</th>\n",
       "      <td>From: wjhovi01@ulkyvx.louisville.edu\\nSubject:...</td>\n",
       "      <td>christianity</td>\n",
       "    </tr>\n",
       "    <tr>\n",
       "      <th>4</th>\n",
       "      <td>From: tholen@galileo.ifa.hawaii.edu (Dave Thol...</td>\n",
       "      <td>space</td>\n",
       "    </tr>\n",
       "    <tr>\n",
       "      <th>...</th>\n",
       "      <td>...</td>\n",
       "      <td>...</td>\n",
       "    </tr>\n",
       "    <tr>\n",
       "      <th>4030</th>\n",
       "      <td>From: scott@psy.uwa.oz.au (Scott Fisher)\\nSubj...</td>\n",
       "      <td>autos</td>\n",
       "    </tr>\n",
       "    <tr>\n",
       "      <th>4031</th>\n",
       "      <td>From: markm@bigfoot.sps.mot.com (Mark Monninge...</td>\n",
       "      <td>autos</td>\n",
       "    </tr>\n",
       "    <tr>\n",
       "      <th>4032</th>\n",
       "      <td>From: steinly@topaz.ucsc.edu (Steinn Sigurdsso...</td>\n",
       "      <td>space</td>\n",
       "    </tr>\n",
       "    <tr>\n",
       "      <th>4033</th>\n",
       "      <td>From: dje@bmw535.NoSubdomain.NoDomain (Don Eil...</td>\n",
       "      <td>autos</td>\n",
       "    </tr>\n",
       "    <tr>\n",
       "      <th>4034</th>\n",
       "      <td>From: mike@starburst.umd.edu (Michael F. Santa...</td>\n",
       "      <td>space</td>\n",
       "    </tr>\n",
       "  </tbody>\n",
       "</table>\n",
       "<p>4035 rows × 2 columns</p>\n",
       "</div>"
      ],
      "text/plain": [
       "                                                   text         label\n",
       "0     From: keith@cco.caltech.edu (Keith Allan Schne...       atheism\n",
       "1     From: rcg1597@zeus.tamu.edu (GUYNN, RICHARD CA...         autos\n",
       "2     From: henry@zoo.toronto.edu (Henry Spencer)\\nS...         space\n",
       "3     From: wjhovi01@ulkyvx.louisville.edu\\nSubject:...  christianity\n",
       "4     From: tholen@galileo.ifa.hawaii.edu (Dave Thol...         space\n",
       "...                                                 ...           ...\n",
       "4030  From: scott@psy.uwa.oz.au (Scott Fisher)\\nSubj...         autos\n",
       "4031  From: markm@bigfoot.sps.mot.com (Mark Monninge...         autos\n",
       "4032  From: steinly@topaz.ucsc.edu (Steinn Sigurdsso...         space\n",
       "4033  From: dje@bmw535.NoSubdomain.NoDomain (Don Eil...         autos\n",
       "4034  From: mike@starburst.umd.edu (Michael F. Santa...         space\n",
       "\n",
       "[4035 rows x 2 columns]"
      ]
     },
     "execution_count": 37,
     "metadata": {},
     "output_type": "execute_result"
    }
   ],
   "source": [
    "X"
   ]
  },
  {
   "cell_type": "code",
   "execution_count": 38,
   "metadata": {},
   "outputs": [],
   "source": [
    "X.to_csv('messages.csv', index=None)"
   ]
  },
  {
   "cell_type": "code",
   "execution_count": 39,
   "metadata": {},
   "outputs": [],
   "source": [
    "# import the 20newsgroup\n",
    "data = pd.read_csv('messages.csv')"
   ]
  },
  {
   "cell_type": "code",
   "execution_count": 40,
   "metadata": {},
   "outputs": [
    {
     "data": {
      "text/html": [
       "<div>\n",
       "<style scoped>\n",
       "    .dataframe tbody tr th:only-of-type {\n",
       "        vertical-align: middle;\n",
       "    }\n",
       "\n",
       "    .dataframe tbody tr th {\n",
       "        vertical-align: top;\n",
       "    }\n",
       "\n",
       "    .dataframe thead th {\n",
       "        text-align: right;\n",
       "    }\n",
       "</style>\n",
       "<table border=\"1\" class=\"dataframe\">\n",
       "  <thead>\n",
       "    <tr style=\"text-align: right;\">\n",
       "      <th></th>\n",
       "      <th>text</th>\n",
       "      <th>label</th>\n",
       "    </tr>\n",
       "  </thead>\n",
       "  <tbody>\n",
       "    <tr>\n",
       "      <th>0</th>\n",
       "      <td>From: keith@cco.caltech.edu (Keith Allan Schne...</td>\n",
       "      <td>atheism</td>\n",
       "    </tr>\n",
       "    <tr>\n",
       "      <th>1</th>\n",
       "      <td>From: rcg1597@zeus.tamu.edu (GUYNN, RICHARD CA...</td>\n",
       "      <td>autos</td>\n",
       "    </tr>\n",
       "    <tr>\n",
       "      <th>2</th>\n",
       "      <td>From: henry@zoo.toronto.edu (Henry Spencer)\\nS...</td>\n",
       "      <td>space</td>\n",
       "    </tr>\n",
       "    <tr>\n",
       "      <th>3</th>\n",
       "      <td>From: wjhovi01@ulkyvx.louisville.edu\\nSubject:...</td>\n",
       "      <td>christianity</td>\n",
       "    </tr>\n",
       "    <tr>\n",
       "      <th>4</th>\n",
       "      <td>From: tholen@galileo.ifa.hawaii.edu (Dave Thol...</td>\n",
       "      <td>space</td>\n",
       "    </tr>\n",
       "  </tbody>\n",
       "</table>\n",
       "</div>"
      ],
      "text/plain": [
       "                                                text         label\n",
       "0  From: keith@cco.caltech.edu (Keith Allan Schne...       atheism\n",
       "1  From: rcg1597@zeus.tamu.edu (GUYNN, RICHARD CA...         autos\n",
       "2  From: henry@zoo.toronto.edu (Henry Spencer)\\nS...         space\n",
       "3  From: wjhovi01@ulkyvx.louisville.edu\\nSubject:...  christianity\n",
       "4  From: tholen@galileo.ifa.hawaii.edu (Dave Thol...         space"
      ]
     },
     "execution_count": 40,
     "metadata": {},
     "output_type": "execute_result"
    }
   ],
   "source": [
    "data.head()"
   ]
  },
  {
   "cell_type": "code",
   "execution_count": 41,
   "metadata": {},
   "outputs": [
    {
     "data": {
      "text/plain": [
       "christianity         599\n",
       "autos                594\n",
       "medicine             594\n",
       "space                593\n",
       "electronics          591\n",
       "computer graphics    584\n",
       "atheism              480\n",
       "Name: label, dtype: int64"
      ]
     },
     "execution_count": 41,
     "metadata": {},
     "output_type": "execute_result"
    }
   ],
   "source": [
    "# topics\n",
    "data.label.value_counts()"
   ]
  },
  {
   "cell_type": "code",
   "execution_count": 18,
   "metadata": {},
   "outputs": [
    {
     "name": "stdout",
     "output_type": "stream",
     "text": [
      "From: wjhovi01@ulkyvx.louisville.edu\n",
      "Subject: Re: Hebrew grammar texts--choose English or German?\n",
      "Organization: University of Louisville\n",
      "Lines: 37\n",
      "\n",
      "Phil Sells writes:\n",
      "\n",
      "> Probably a tired old horse, but...  maybe with a slightly different\n",
      "> twist.  I wanted to know if there are any good English-language texts\n",
      "> for learning ancient Hebrew, and how these compare with German\n",
      "> educational texts qualitywise, if anybody has an idea.  I can't figure\n",
      "> out if I should buy one here for later study or wait until I get back to\n",
      "> the U.S.\n",
      "\n",
      "My impression is that *for advanced work* you will be much better off with\n",
      "German reference works (lexicons, concordances especially).  For a first-time\n",
      "encounter, my *personal* preference would be to deal with a textbook written in\n",
      "my native language.  But if you know German and are in Germany, pick up all the\n",
      "reference books you think you can handle.  (I only know these works by\n",
      "reputation, since my German is most rusty, but I'd look at the following books:\n",
      "Koehler's lexicon, Mandeldern's concordance, the Jenni & Westermann theological\n",
      "dictionary of the OT.)\n",
      "\n",
      "> What's it like at divinity schools or seminaries in the States?  Is\n",
      "> there a lot of language instruction done?  I really don't have a basis\n",
      "> for comparison.\n",
      "\n",
      "The amount of language instruction available at US seminaries varies widely,\n",
      "mostly depending on the denominational heritage of the school.  Presbyterian\n",
      "and Reformed seminaries probably place a lot more emphasis on the biblical\n",
      "languages than others.  (Of course, any divinity school that has a doctoral\n",
      "program in biblical studies is going to have extensive language resources!  But\n",
      "there are quite a few masters-degree-granting seminaries here at which the\n",
      "attitude seems to be more, \"Well, if you're *really* interested we'll give you\n",
      "a semester-long course, but we don't understand why . . .\")\n",
      "\n",
      "The pattern here at the Louisville Presbyterian Seminary is for first-year\n",
      "students to take intensive five-week introductory language courses in each\n",
      "language, followed by semester-long exegesis courses.  (That is: Hebrew in\n",
      "August, OT exegesis in the fall; Greek in January, NT exegesis in the spring.) \n",
      "These courses are required for graduation, a third or a half of the students,\n",
      "I'd say, take advanced biblical work that requires language work.\n",
      "\n"
     ]
    }
   ],
   "source": [
    "# display one example of each topic\n",
    "print(X[X.label=='christianity'].iloc[0].text) "
   ]
  },
  {
   "cell_type": "code",
   "execution_count": 19,
   "metadata": {},
   "outputs": [
    {
     "name": "stdout",
     "output_type": "stream",
     "text": [
      "From: geb@cs.pitt.edu (Gordon Banks)\n",
      "Subject: Re: Need Info on RSD\n",
      "Reply-To: geb@cs.pitt.edu (Gordon Banks)\n",
      "Organization: Univ. of Pittsburgh Computer Science\n",
      "Lines: 13\n",
      "\n",
      "In article <1993Mar27.004627.21258@rmtc.Central.Sun.COM> lrd@rmtc.Central.Sun.COM writes:\n",
      ">I just started working for a rehabilitation hospital and have seen RSD\n",
      ">come up as a diagnosis several times.  What exactly is RSD and what is\n",
      ">the nature of it?  If there is a FAQ on this subject, I'd really\n",
      ">appreciate it if someone would mail it to me.  While any and all\n",
      "\n",
      "Reflex sympathetic dystrophy.  I'm sure there's an FAQ, as I have\n",
      "made at least 10 answers to questions on it in the last year or so.\n",
      "-- \n",
      "----------------------------------------------------------------------------\n",
      "Gordon Banks  N3JXP      | \"Skepticism is the chastity of the intellect, and\n",
      "geb@cadre.dsl.pitt.edu   |  it is shameful to surrender it too soon.\" \n",
      "----------------------------------------------------------------------------\n",
      "\n"
     ]
    }
   ],
   "source": [
    "print(X[X.label=='medicine'].iloc[0].text) "
   ]
  },
  {
   "cell_type": "code",
   "execution_count": 20,
   "metadata": {},
   "outputs": [
    {
     "name": "stdout",
     "output_type": "stream",
     "text": [
      "From: rcg1597@zeus.tamu.edu (GUYNN, RICHARD CARL)\n",
      "Subject: Re: MGBs and the real world\n",
      "Article-I.D.: zeus.5APR199321160020\n",
      "Distribution: world\n",
      "Organization: Texas A&M University, Academic Computing Services\n",
      "Lines: 34\n",
      "NNTP-Posting-Host: zeus.tamu.edu\n",
      "News-Software: VAX/VMS VNEWS 1.41\n",
      "\n",
      "In article <1993Apr5.181056.29411@mks.com>, mike@mks.com (Mike Brookbank) writes...\n",
      ">My sister has an MGB.  She has one from the last year they were produced\n",
      ">(1978? 1979?).  Its in very good shape.  I've been bugging her for years\n",
      "\n",
      "\tLast year produced: 1980.\n",
      "\n",
      ">about selling it.  I've said over and over that she should sell it\n",
      ">before the car is worthless while she maintains that the car may\n",
      ">actually be increasing in value as a result of its limited availability.\n",
      "> \n",
      ">Which one of us is right?  Are there MGB affectionados out there who are\n",
      ">still willing to pay $6K to 8K for an old MG?  Are there a lot out in the \n",
      ">market?\n",
      ">-- \n",
      "\n",
      "\tYes, there are still alot of MGBs out there.  The earlier cars (pre\n",
      " 74-1/2) are usually more desirable due to certain things that went with having \n",
      "chrome bumpers (ride height, generally more power).  The older cars are \n",
      "appreciating... slowly.  The newer ones seem to be at a stable level at the \n",
      "moment.  $6 to $8k would require extremely good condition and low miles.\n",
      "If the car is in good shape and regular maintenance is kept up on it, the car \n",
      "should last for a long time.  There are still plenty of parts sources ouththere. \n",
      " The MGB is a great, fun little car.  If she is keeping it solely in the hopes \n",
      "that it is going to appreciate, tell her to sell it.  It is not worth waiting \n",
      "the time it would take to appreciate to a real profitable level.\n",
      "\n",
      "***************************************************************************\n",
      "*Rick Guynn -MG driver soontobe.  *  MGA 1600 MkII                        *\n",
      "*RCG1597@zeus.tamu.edu            *  Rebuild (complete) to be finished ?? *\n",
      "*Texas A&M University             *                                       *\n",
      "*Keeper of the eternal octagon    *  `69 MGB Roadster                     *\n",
      "* a.k.a. The marque symbol that   *     I'll have it registered soon,     *\n",
      "*        refuses to die.          *        honest!                        *\n",
      "***************************************************************************\n",
      "\n"
     ]
    }
   ],
   "source": [
    "print(X[X.label=='autos'].iloc[0].text) "
   ]
  },
  {
   "cell_type": "code",
   "execution_count": 86,
   "metadata": {},
   "outputs": [
    {
     "name": "stdout",
     "output_type": "stream",
     "text": [
      "From: steinly@topaz.ucsc.edu (Steinn Sigurdsson)\n",
      "Subject: Re: Commercial mining activities on the moon\n",
      "Organization: Lick Observatory/UCO\n",
      "Lines: 26\n",
      "\t<1993Apr20.204838.13217@cs.rochester.edu>\t<STEINLY.93Apr20145301@topaz.ucsc.edu>\t<1993Apr20.223807.16712@cs.rochester.edu>,<STEINLY.93Apr20160116@topaz.ucsc.edu>\n",
      "\t<1r46j3INN14j@mojo.eng.umd.edu>\n",
      "NNTP-Posting-Host: topaz.ucsc.edu\n",
      "In-reply-to: sysmgr@king.eng.umd.edu's message of 21 Apr 1993 19:16:51 GMT\n",
      "\n",
      "In article <1r46j3INN14j@mojo.eng.umd.edu> sysmgr@king.eng.umd.edu (Doug Mohney) writes:\n",
      "\n",
      "   In article <STEINLY.93Apr20160116@topaz.ucsc.edu>, steinly@topaz.ucsc.edu (Steinn Sigurdsson) writes:\n",
      "\n",
      "   >Very cost effective if you use the right accounting method :-)\n",
      "\n",
      "   Sherzer Methodology!!!!!!\n",
      "\n",
      "Hell, yes. I'm not going to let a bunch of seven suits tell\n",
      "me what the right way to estimate cost effectiveness is, at\n",
      "least not until they can make their mind up long enough\n",
      "to leave their scheme stable for a fiscal year or two.\n",
      "\n",
      "\n",
      "Seriously though. If you were to ask the British government\n",
      "whether their colonisation efforts in the Americas were cost\n",
      "effective, what answer do you think you'd get? What if you asked\n",
      "in 1765, 1815, 1865, 1915 and 1945 respectively? ;-)\n",
      "\n",
      "*  Steinn Sigurdsson   \t\t\tLick Observatory      \t*\n",
      "*  steinly@lick.ucsc.edu\t\t\"standard disclaimer\"  \t*\n",
      "*  If you ever have to go to Shoeburyness\t\t\t*\n",
      "*  Take the A-road, the ok road, that's the best!\t\t*\n",
      "*  Go motoring on The A13!\t- BB 1983\t\t\t*\n",
      "\n",
      "\n",
      "\n"
     ]
    }
   ],
   "source": [
    "print(X[X.label=='space'].iloc[0].text) "
   ]
  },
  {
   "cell_type": "code",
   "execution_count": 42,
   "metadata": {},
   "outputs": [
    {
     "name": "stdout",
     "output_type": "stream",
     "text": [
      "From: schaefer@imag.imag.fr (Arno Schaefer)\n",
      "Subject: Re: CView answers\n",
      "Nntp-Posting-Host: silene\n",
      "Organization: Institut Imag, Grenoble, France\n",
      "Lines: 32\n",
      "\n",
      "In article <C5LErr.1J3@rahul.net>, bryanw@rahul.net (Bryan Woodworth) writes:\n",
      "|> In <1993Apr16.114158.2246@whiting.mcs.com> sean@whiting.mcs.com (Sean Gum) writes:\n",
      "|> \n",
      "|> >A stupid question, but what will CView run on and where can I get it? I\n",
      "|> >am still in need of a GIF viewer for Linux. (Without X-Windows.)\n",
      "|> >Thanks!\n",
      "|> > \n",
      "|> \n",
      "|> Ho boy. There is no way in HELL you are going to be able to view GIFs or do\n",
      "|> any other graphics in Linux without X windows!  I love Linux because it is\n",
      "|> so easy to learn..  You want text?  Okay.   Use Linux. You want text AND\n",
      "|> graphics?  Use Linux with X windows.  Simple.  Painless.  REQUIRED to have\n",
      "|> X Windows if you want graphics!  This includes fancy word processors like\n",
      "|> doc, image viewers like xv, etc.\n",
      "|> \n",
      "\n",
      "Sorry, Bryan, this is not quite correct. Remember the VGALIB package that comes\n",
      "with Linux/SLS? It will switch to VGA 320x200x256 mode *without* Xwindows.\n",
      "So at least it is *possible* to write a GIF viewer under Linux. However I don't\n",
      "think that there exists a similar SVGA package, and viewing GIFs in 320x200 is\n",
      "not very nice.\n",
      "\n",
      "Best Regards,\n",
      "\n",
      "Arno\n",
      "\n",
      "-- \n",
      "--------------------------------------------------------------------------------\n",
      "Arno Schaefer\t\t\t\tENSIMAG, 2e Annee\n",
      "Email: schaefer@silene.imag.fr\n",
      "Tel.: (33) 76 51 79 95\t\t\t:-)\n",
      "--------------------------------------------------------------------------------\n",
      "\n"
     ]
    }
   ],
   "source": [
    "print(X[X.label=='computer graphics'].iloc[0].text) "
   ]
  },
  {
   "cell_type": "code",
   "execution_count": 43,
   "metadata": {},
   "outputs": [
    {
     "name": "stdout",
     "output_type": "stream",
     "text": [
      "From: keith@cco.caltech.edu (Keith Allan Schneider)\n",
      "Subject: Re: <Political Atheists?\n",
      "Organization: California Institute of Technology, Pasadena\n",
      "Lines: 25\n",
      "NNTP-Posting-Host: lloyd.caltech.edu\n",
      "\n",
      "livesey@solntze.wpd.sgi.com (Jon Livesey) writes:\n",
      "\n",
      ">> The probability that the \"automobile system\" will kill someone \n",
      ">> innocent in an accident goes asymptotically close to 1, just \n",
      ">> like the court system.\n",
      ">However, anyone who doesn't like the \"automobile system\" can\n",
      ">opt out, as I have.\n",
      "\n",
      "This isn't true.  Many people are forced to use the \"automobile system.\"\n",
      "I certainly don't use it by choice.  If there were other ways of getting\n",
      "around, I'd do it.\n",
      "\n",
      ">Secondly, we do try to make the \"automobile system\" as safe\n",
      ">as possible, because we *do* recognize the danger to the \n",
      ">innocent, whereas the US - the current example - is not trying\n",
      ">to make the \"Court System\" safer, which it could fairly easily\n",
      ">do by replacing fatal punishments with non-fatal punishments.\n",
      "\n",
      "But I think that the Court system has been refined--over hundreds of\n",
      "years in the US, Britain, and other countries.  We have tried to make\n",
      "it as fair as possible.  Can it be made better (without removing the\n",
      "death penalty)?  Besides, life imprisonment sounds like a fatal punishment\n",
      "to me.\n",
      "\n",
      "keith\n",
      "\n"
     ]
    }
   ],
   "source": [
    "print(X[X.label=='atheism'].iloc[0].text) "
   ]
  },
  {
   "cell_type": "code",
   "execution_count": 44,
   "metadata": {},
   "outputs": [
    {
     "name": "stdout",
     "output_type": "stream",
     "text": [
      "From: Mike Diack <mike-d@staff.tc.umn.edu>\n",
      "Subject: Anyone know about DATA I/O device proggers ?\n",
      "X-Xxmessage-Id: <A7F5DAE6E6026550@dialup-slip-1-80.gw.umn.edu>\n",
      "X-Xxdate: Sat, 17 Apr 93 16:03:50 GMT\n",
      "Nntp-Posting-Host: dialup-slip-1-80.gw.umn.edu\n",
      "Organization: persian cat & carpet co.\n",
      "X-Useragent: Nuntius v1.1.1d7\n",
      "Lines: 9\n",
      "\n",
      "I keep finding these programmers in local junk shops. This may\n",
      "mean that they are indeed junk - but i'd like to hear from anyone \n",
      "else that may have met up with them. The basic device is a\n",
      "\"Data I/O 29A universal programmer\", and the usual pod is a \n",
      "\"LogicPak 303A-Vo4\" with a \"303A-001\" programming tester/\n",
      "adapter. I'd really like to hear from anyone who knows whether\n",
      "these monsters are worth bothering with. All i want to do is blast\n",
      "PALCE22V10s. - Ideas, folks\n",
      "Mike.\n",
      "\n"
     ]
    }
   ],
   "source": [
    "print(X[X.label=='electronics'].iloc[0].text) "
   ]
  },
  {
   "cell_type": "markdown",
   "metadata": {},
   "source": [
    "**Goal**:  classify text messages from the dataset by their topic"
   ]
  },
  {
   "cell_type": "code",
   "execution_count": 45,
   "metadata": {},
   "outputs": [],
   "source": [
    "X = data.text\n",
    "y = data.label"
   ]
  },
  {
   "cell_type": "code",
   "execution_count": 46,
   "metadata": {},
   "outputs": [],
   "source": [
    "from sklearn.model_selection import train_test_split\n",
    "X_train,X_test,y_train,y_test = train_test_split(X,y)"
   ]
  },
  {
   "cell_type": "code",
   "execution_count": 48,
   "metadata": {},
   "outputs": [],
   "source": [
    "# initialize the vectorizer (with default parameters)\n",
    "from sklearn.feature_extraction.text import CountVectorizer\n",
    "vect = CountVectorizer(ngram_range=(1,1))"
   ]
  },
  {
   "cell_type": "code",
   "execution_count": 49,
   "metadata": {},
   "outputs": [],
   "source": [
    "# learn training vocabulary, then use it to create a document-term matrix\n",
    "vect.fit(X_train)\n",
    "X_train_dtm = vect.transform(X_train)"
   ]
  },
  {
   "cell_type": "code",
   "execution_count": 50,
   "metadata": {},
   "outputs": [],
   "source": [
    "# transform testing data (using fitted vocabulary) into a document-term matrix\n",
    "X_test_dtm = vect.transform(X_test)"
   ]
  },
  {
   "cell_type": "code",
   "execution_count": 51,
   "metadata": {},
   "outputs": [],
   "source": [
    "from sklearn.linear_model import LogisticRegression\n",
    "log_clf = LogisticRegression(max_iter=1000) \n",
    "log_clf.fit(X_train_dtm,y_train)\n",
    "y_test_pred = log_clf.predict(X_test_dtm)"
   ]
  },
  {
   "cell_type": "code",
   "execution_count": 52,
   "metadata": {},
   "outputs": [],
   "source": [
    "# evaluate the model\n",
    "from sklearn.metrics import accuracy_score, confusion_matrix"
   ]
  },
  {
   "cell_type": "code",
   "execution_count": 53,
   "metadata": {},
   "outputs": [
    {
     "data": {
      "text/plain": [
       "array([[109,   0,   3,   0,   0,   1,   0],\n",
       "       [  1, 135,   1,   2,   7,   2,   0],\n",
       "       [  0,   1, 132,   3,   3,   4,   0],\n",
       "       [  1,   2,   0, 134,   3,   1,   1],\n",
       "       [  0,   8,   4,  10, 135,   1,   1],\n",
       "       [  1,   3,   1,   6,   4, 138,   1],\n",
       "       [  0,   1,   1,  10,   5,   1, 132]], dtype=int64)"
      ]
     },
     "execution_count": 53,
     "metadata": {},
     "output_type": "execute_result"
    }
   ],
   "source": [
    "confusion_matrix(y_test,y_test_pred)"
   ]
  },
  {
   "cell_type": "code",
   "execution_count": 55,
   "metadata": {},
   "outputs": [
    {
     "data": {
      "text/plain": [
       "array(['atheism', 'autos', 'christianity', 'computer graphics',\n",
       "       'electronics', 'medicine', 'space'], dtype=object)"
      ]
     },
     "execution_count": 55,
     "metadata": {},
     "output_type": "execute_result"
    }
   ],
   "source": [
    "log_clf.classes_"
   ]
  },
  {
   "cell_type": "code",
   "execution_count": null,
   "metadata": {},
   "outputs": [],
   "source": []
  }
 ],
 "metadata": {
  "kernelspec": {
   "display_name": "Python 3",
   "language": "python",
   "name": "python3"
  },
  "language_info": {
   "codemirror_mode": {
    "name": "ipython",
    "version": 3
   },
   "file_extension": ".py",
   "mimetype": "text/x-python",
   "name": "python",
   "nbconvert_exporter": "python",
   "pygments_lexer": "ipython3",
   "version": "3.7.6"
  }
 },
 "nbformat": 4,
 "nbformat_minor": 4
}
