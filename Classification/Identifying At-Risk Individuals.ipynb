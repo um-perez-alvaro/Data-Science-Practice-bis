{
 "cells": [
  {
   "cell_type": "code",
   "execution_count": null,
   "metadata": {},
   "outputs": [],
   "source": [
    "import pandas as pd\n",
    "import matplotlib.pyplot as plt\n",
    "import numpy as np"
   ]
  },
  {
   "cell_type": "markdown",
   "metadata": {},
   "source": [
    "# Diabetes in America"
   ]
  },
  {
   "cell_type": "markdown",
   "metadata": {},
   "source": [
    "Diabetes is an enormous public health problem as it probably affects more than 9% of U.S. adults"
   ]
  },
  {
   "cell_type": "markdown",
   "metadata": {},
   "source": [
    "The goal of this project is to build a machine learning model that estimates the risk of having diabetes based of a few simple variables (income, education, age, bmi, etc)."
   ]
  },
  {
   "cell_type": "markdown",
   "metadata": {},
   "source": [
    "## The BRFSS survey"
   ]
  },
  {
   "cell_type": "markdown",
   "metadata": {},
   "source": [
    "The Behavioral Risk Factor Surveillance System (BRFSS) survey asks the participants a number of questions regarding health and health-related behaviours.\n",
    "Of the many questions asked of the participants, one asks whether the respondent has diabetes."
   ]
  },
  {
   "cell_type": "markdown",
   "metadata": {},
   "source": [
    "Navigate to the [Behavioral Risk Factor Surveillance System data portal](https://www.cdc.gov/brfss/annual_data/annual_Data.htm), and download the 2019 BRFSS Survey [Data](https://www.cdc.gov/brfss/annual_data/2019/files/LLCP2019ASC.zip).\n",
    "Unzip the file LLCP2019.ASC, and place it in your data folder."
   ]
  },
  {
   "cell_type": "markdown",
   "metadata": {},
   "source": [
    "The following cell will display the first row of the data file:"
   ]
  },
  {
   "cell_type": "code",
   "execution_count": null,
   "metadata": {},
   "outputs": [],
   "source": [
    "path = r'Data\\LLCP2019.ASC'\n",
    "with open(path) as file:\n",
    "    first_line = file.readline()\n",
    "    print(first_line)"
   ]
  },
  {
   "cell_type": "markdown",
   "metadata": {},
   "source": [
    "Each record in the BRFSS file is a string without delimiters to identify variables (i.e., the file format is *fixed-width*).\n",
    "Variables are located at established positions in the string.\n",
    "The [codebook](https://www.cdc.gov/brfss/annual_data/2019/pdf/codebook19_llcp-v2-508.HTML) describes the variables and field positions."
   ]
  },
  {
   "cell_type": "markdown",
   "metadata": {},
   "source": [
    "The following table contains the positions for several variables"
   ]
  },
  {
   "cell_type": "markdown",
   "metadata": {},
   "source": [
    "| Variable | Start | End |\n",
    "| :- | :-: | :-: |\n",
    "| Diabetes | 127 | 127\n",
    "| General Health | 101 | 101\n",
    "| Education Level | 174 | 174\n",
    "| Employment Status | 188 | 188\n",
    "| Income Level | 191 | 192\n",
    "| Weight (in Pounds) | 193 | 196\n",
    "| Height in (ft/inches) | 197 | 200\n",
    "| Frequency of  Smoking | 209 | 209\n",
    "| Alcohol Consumption | 217 | 218\n",
    "| Body Mass Index (BMI) | 1998 | 2001"
   ]
  },
  {
   "cell_type": "markdown",
   "metadata": {},
   "source": [
    "Don't forget that Python uses zero-indexing to reference characters in a string, so you will have to adjust the values in the table accordingly."
   ]
  },
  {
   "cell_type": "markdown",
   "metadata": {},
   "source": [
    "# Step 1: Create a Dataframe"
   ]
  },
  {
   "cell_type": "code",
   "execution_count": null,
   "metadata": {},
   "outputs": [],
   "source": [
    "'diabetes dictionary'\n",
    "diabetes_dict = {}\n",
    "with open(path) as file:\n",
    "    for counter,line in enumerate(file): #(0, line 1), (1, line 2), (2, line 3),....\n",
    "        # education (ordinal)\n",
    "        education = line[173]\n",
    "        if education in ['9',' ']:\n",
    "            education = np.nan\n",
    "        else:\n",
    "            education = int(education)\n",
    "        # income level (ordinal)\n",
    "        income = line[190:192]\n",
    "        if income in ['77','99','  ']:\n",
    "            income = np.nan\n",
    "        else:\n",
    "            income = int(income)\n",
    "        # Reported age (ordinal)\n",
    "        age = line[1980:1982]\n",
    "        if age == '14':\n",
    "            age = np.nan\n",
    "        else:\n",
    "            age = int(age)\n",
    "        # Computed body mass index (numerical)\n",
    "        bmi = line[1997:2001]\n",
    "        if bmi == '    ': # 4 blanck spaces\n",
    "            bmi = np.nan\n",
    "        else:\n",
    "            bmi = float(bmi)/100 #  2 implied decimal places\n",
    "        # diabetes\n",
    "        diabetes = line[126]\n",
    "        if diabetes == '1':\n",
    "            diabetes = 1 # yes\n",
    "        elif diabetes in ['2','3','4']:\n",
    "            diabetes = 0 # no\n",
    "        else:\n",
    "            diabetes = np.nan\n",
    "        diabetes_dict[counter] = {\n",
    "                             'education' : education,\n",
    "                             'employment' : employment,\n",
    "                             'income' : income,\n",
    "                             'age': age,\n",
    "                             'bmi' : bmi,\n",
    "                             'diabetes' : diabetes}"
   ]
  },
  {
   "cell_type": "code",
   "execution_count": null,
   "metadata": {},
   "outputs": [],
   "source": [
    "# put data into a dataframe\n",
    "diabetes = pd.DataFrame.from_dict(diabetes_dict, orient='index')\n",
    "diabetes.head(20)"
   ]
  },
  {
   "cell_type": "code",
   "execution_count": null,
   "metadata": {},
   "outputs": [],
   "source": [
    "# save dataframe\n",
    "diabetes = df.to_csv('Data/diabetes.csv')"
   ]
  }
 ],
 "metadata": {
  "kernelspec": {
   "display_name": "Python 3",
   "language": "python",
   "name": "python3"
  },
  "language_info": {
   "codemirror_mode": {
    "name": "ipython",
    "version": 3
   },
   "file_extension": ".py",
   "mimetype": "text/x-python",
   "name": "python",
   "nbconvert_exporter": "python",
   "pygments_lexer": "ipython3",
   "version": "3.7.6"
  }
 },
 "nbformat": 4,
 "nbformat_minor": 4
}
