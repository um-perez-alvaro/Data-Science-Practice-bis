{
 "cells": [
  {
   "cell_type": "code",
   "execution_count": 1,
   "metadata": {
    "scrolled": true
   },
   "outputs": [],
   "source": [
    "import pandas as pd"
   ]
  },
  {
   "cell_type": "markdown",
   "metadata": {},
   "source": [
    "There is considerable linguistic variety in Singapore road names: Malaysians names (Jalan Besar), British names (Northumberland road), Chinese names (Keong Saik Road), Indian names (Veerasamy road), Jewish names (Belilios road), and the usual generic sorts of names that describe either area landmarks or other common noun."
   ]
  },
  {
   "cell_type": "markdown",
   "metadata": {},
   "source": [
    "![Image](Images/streets.png)"
   ]
  },
  {
   "cell_type": "code",
   "execution_count": 2,
   "metadata": {},
   "outputs": [
    {
     "data": {
      "text/html": [
       "<div>\n",
       "<style scoped>\n",
       "    .dataframe tbody tr th:only-of-type {\n",
       "        vertical-align: middle;\n",
       "    }\n",
       "\n",
       "    .dataframe tbody tr th {\n",
       "        vertical-align: top;\n",
       "    }\n",
       "\n",
       "    .dataframe thead th {\n",
       "        text-align: right;\n",
       "    }\n",
       "</style>\n",
       "<table border=\"1\" class=\"dataframe\">\n",
       "  <thead>\n",
       "    <tr style=\"text-align: right;\">\n",
       "      <th></th>\n",
       "      <th>name</th>\n",
       "      <th>tag</th>\n",
       "      <th>classification</th>\n",
       "    </tr>\n",
       "  </thead>\n",
       "  <tbody>\n",
       "    <tr>\n",
       "      <th>0</th>\n",
       "      <td>Saiboo</td>\n",
       "      <td>Street</td>\n",
       "      <td>Indian</td>\n",
       "    </tr>\n",
       "    <tr>\n",
       "      <th>1</th>\n",
       "      <td>Merchant</td>\n",
       "      <td>Loop</td>\n",
       "      <td>Generic</td>\n",
       "    </tr>\n",
       "    <tr>\n",
       "      <th>2</th>\n",
       "      <td>Hill</td>\n",
       "      <td>Street</td>\n",
       "      <td>Generic</td>\n",
       "    </tr>\n",
       "    <tr>\n",
       "      <th>3</th>\n",
       "      <td>Ophir</td>\n",
       "      <td>Road</td>\n",
       "      <td>Malay</td>\n",
       "    </tr>\n",
       "    <tr>\n",
       "      <th>4</th>\n",
       "      <td>Buona</td>\n",
       "      <td>Vista Road</td>\n",
       "      <td>Other</td>\n",
       "    </tr>\n",
       "    <tr>\n",
       "      <th>5</th>\n",
       "      <td>Sengkang</td>\n",
       "      <td>Avenue</td>\n",
       "      <td>Chinese</td>\n",
       "    </tr>\n",
       "    <tr>\n",
       "      <th>6</th>\n",
       "      <td>Ang Mo Kio</td>\n",
       "      <td>Avenue</td>\n",
       "      <td>Chinese</td>\n",
       "    </tr>\n",
       "    <tr>\n",
       "      <th>7</th>\n",
       "      <td>Brickland</td>\n",
       "      <td>Road</td>\n",
       "      <td>British</td>\n",
       "    </tr>\n",
       "    <tr>\n",
       "      <th>8</th>\n",
       "      <td>Choa Chu Kang</td>\n",
       "      <td>Road</td>\n",
       "      <td>Chinese</td>\n",
       "    </tr>\n",
       "    <tr>\n",
       "      <th>9</th>\n",
       "      <td>Woodlands</td>\n",
       "      <td>Avenue</td>\n",
       "      <td>Generic</td>\n",
       "    </tr>\n",
       "  </tbody>\n",
       "</table>\n",
       "</div>"
      ],
      "text/plain": [
       "            name         tag classification\n",
       "0         Saiboo      Street         Indian\n",
       "1       Merchant        Loop        Generic\n",
       "2           Hill      Street        Generic\n",
       "3          Ophir        Road          Malay\n",
       "4          Buona  Vista Road          Other\n",
       "5       Sengkang      Avenue        Chinese\n",
       "6     Ang Mo Kio      Avenue        Chinese\n",
       "7      Brickland        Road        British\n",
       "8  Choa Chu Kang        Road        Chinese\n",
       "9      Woodlands      Avenue        Generic"
      ]
     },
     "execution_count": 2,
     "metadata": {},
     "output_type": "execute_result"
    }
   ],
   "source": [
    "street_names = pd.read_csv('Singapore_street_names')\n",
    "street_names.head(10)"
   ]
  },
  {
   "cell_type": "markdown",
   "metadata": {},
   "source": [
    "- Chinese (all dialects including Cantonese, Hokkien, Mandarin, etc)\n",
    "- Malay\n",
    "- Indian (all languages of the subcontinent)\n",
    "- British\n",
    "- Generic (Race Course Road, Sunrise Place)\n",
    "- Other (generally other languages)."
   ]
  },
  {
   "cell_type": "code",
   "execution_count": 54,
   "metadata": {},
   "outputs": [
    {
     "data": {
      "text/plain": [
       "Malay      927\n",
       "British    798\n",
       "Generic    497\n",
       "Chinese    403\n",
       "Other      167\n",
       "Indian      42\n",
       "Name: classification, dtype: int64"
      ]
     },
     "execution_count": 54,
     "metadata": {},
     "output_type": "execute_result"
    }
   ],
   "source": [
    "street_names.classification.value_counts()"
   ]
  },
  {
   "cell_type": "code",
   "execution_count": 64,
   "metadata": {},
   "outputs": [
    {
     "data": {
      "text/html": [
       "<div>\n",
       "<style scoped>\n",
       "    .dataframe tbody tr th:only-of-type {\n",
       "        vertical-align: middle;\n",
       "    }\n",
       "\n",
       "    .dataframe tbody tr th {\n",
       "        vertical-align: top;\n",
       "    }\n",
       "\n",
       "    .dataframe thead th {\n",
       "        text-align: right;\n",
       "    }\n",
       "</style>\n",
       "<table border=\"1\" class=\"dataframe\">\n",
       "  <thead>\n",
       "    <tr style=\"text-align: right;\">\n",
       "      <th></th>\n",
       "      <th>name</th>\n",
       "      <th>tag</th>\n",
       "      <th>classification</th>\n",
       "    </tr>\n",
       "  </thead>\n",
       "  <tbody>\n",
       "    <tr>\n",
       "      <th>5</th>\n",
       "      <td>Sengkang</td>\n",
       "      <td>Avenue</td>\n",
       "      <td>Chinese</td>\n",
       "    </tr>\n",
       "    <tr>\n",
       "      <th>6</th>\n",
       "      <td>Ang Mo Kio</td>\n",
       "      <td>Avenue</td>\n",
       "      <td>Chinese</td>\n",
       "    </tr>\n",
       "    <tr>\n",
       "      <th>8</th>\n",
       "      <td>Choa Chu Kang</td>\n",
       "      <td>Road</td>\n",
       "      <td>Chinese</td>\n",
       "    </tr>\n",
       "    <tr>\n",
       "      <th>12</th>\n",
       "      <td>Nanyang</td>\n",
       "      <td>Walk</td>\n",
       "      <td>Chinese</td>\n",
       "    </tr>\n",
       "    <tr>\n",
       "      <th>15</th>\n",
       "      <td>Kee Sun</td>\n",
       "      <td>Avenue</td>\n",
       "      <td>Chinese</td>\n",
       "    </tr>\n",
       "    <tr>\n",
       "      <th>21</th>\n",
       "      <td>Boon Tat</td>\n",
       "      <td>Link</td>\n",
       "      <td>Chinese</td>\n",
       "    </tr>\n",
       "    <tr>\n",
       "      <th>26</th>\n",
       "      <td>Binkiang</td>\n",
       "      <td>Lorong</td>\n",
       "      <td>Chinese</td>\n",
       "    </tr>\n",
       "    <tr>\n",
       "      <th>28</th>\n",
       "      <td>Sims</td>\n",
       "      <td>Avenue</td>\n",
       "      <td>Chinese</td>\n",
       "    </tr>\n",
       "    <tr>\n",
       "      <th>29</th>\n",
       "      <td>Hougang</td>\n",
       "      <td>Avenue</td>\n",
       "      <td>Chinese</td>\n",
       "    </tr>\n",
       "    <tr>\n",
       "      <th>44</th>\n",
       "      <td>Whampoa</td>\n",
       "      <td>Drive</td>\n",
       "      <td>Chinese</td>\n",
       "    </tr>\n",
       "    <tr>\n",
       "      <th>60</th>\n",
       "      <td>Yishun</td>\n",
       "      <td>Avenue</td>\n",
       "      <td>Chinese</td>\n",
       "    </tr>\n",
       "    <tr>\n",
       "      <th>67</th>\n",
       "      <td>Toh</td>\n",
       "      <td>Heights</td>\n",
       "      <td>Chinese</td>\n",
       "    </tr>\n",
       "    <tr>\n",
       "      <th>72</th>\n",
       "      <td>Bishan</td>\n",
       "      <td>Road</td>\n",
       "      <td>Chinese</td>\n",
       "    </tr>\n",
       "    <tr>\n",
       "      <th>74</th>\n",
       "      <td>Hong San</td>\n",
       "      <td>Walk</td>\n",
       "      <td>Chinese</td>\n",
       "    </tr>\n",
       "    <tr>\n",
       "      <th>77</th>\n",
       "      <td>Choa Chu Kang</td>\n",
       "      <td>Way</td>\n",
       "      <td>Chinese</td>\n",
       "    </tr>\n",
       "    <tr>\n",
       "      <th>82</th>\n",
       "      <td>Yishun</td>\n",
       "      <td>NaN</td>\n",
       "      <td>Chinese</td>\n",
       "    </tr>\n",
       "    <tr>\n",
       "      <th>83</th>\n",
       "      <td>Kang Ching</td>\n",
       "      <td>Road</td>\n",
       "      <td>Chinese</td>\n",
       "    </tr>\n",
       "    <tr>\n",
       "      <th>85</th>\n",
       "      <td>Boon Lay</td>\n",
       "      <td>Drive</td>\n",
       "      <td>Chinese</td>\n",
       "    </tr>\n",
       "    <tr>\n",
       "      <th>89</th>\n",
       "      <td>Defu</td>\n",
       "      <td>Lane</td>\n",
       "      <td>Chinese</td>\n",
       "    </tr>\n",
       "    <tr>\n",
       "      <th>94</th>\n",
       "      <td>Tay Lian Teck</td>\n",
       "      <td>Road</td>\n",
       "      <td>Chinese</td>\n",
       "    </tr>\n",
       "  </tbody>\n",
       "</table>\n",
       "</div>"
      ],
      "text/plain": [
       "             name      tag classification\n",
       "5        Sengkang   Avenue        Chinese\n",
       "6      Ang Mo Kio   Avenue        Chinese\n",
       "8   Choa Chu Kang     Road        Chinese\n",
       "12        Nanyang     Walk        Chinese\n",
       "15        Kee Sun   Avenue        Chinese\n",
       "21       Boon Tat     Link        Chinese\n",
       "26       Binkiang   Lorong        Chinese\n",
       "28           Sims   Avenue        Chinese\n",
       "29        Hougang   Avenue        Chinese\n",
       "44        Whampoa    Drive        Chinese\n",
       "60         Yishun   Avenue        Chinese\n",
       "67            Toh  Heights        Chinese\n",
       "72         Bishan     Road        Chinese\n",
       "74       Hong San     Walk        Chinese\n",
       "77  Choa Chu Kang      Way        Chinese\n",
       "82         Yishun      NaN        Chinese\n",
       "83     Kang Ching     Road        Chinese\n",
       "85       Boon Lay    Drive        Chinese\n",
       "89           Defu     Lane        Chinese\n",
       "94  Tay Lian Teck     Road        Chinese"
      ]
     },
     "execution_count": 64,
     "metadata": {},
     "output_type": "execute_result"
    }
   ],
   "source": [
    "street_names[street_names.classification=='Chinese'].head(20)"
   ]
  },
  {
   "cell_type": "code",
   "execution_count": 67,
   "metadata": {},
   "outputs": [],
   "source": [
    "'malay_tag columns'\n",
    "malay_prefix_tags = [\"Jalan\", \"Lorong\", \"Bukit\", \"Lengkok\", \"Taman\", \"Kampong\", \"Lengkong\"]\n",
    "street_names['malay_tag'] = street_names.tag.isin(malay_prefix_tags).astype(float)"
   ]
  },
  {
   "cell_type": "code",
   "execution_count": 68,
   "metadata": {},
   "outputs": [
    {
     "data": {
      "text/plain": [
       "0.0    2367\n",
       "1.0     467\n",
       "Name: malay_tag, dtype: int64"
      ]
     },
     "execution_count": 68,
     "metadata": {},
     "output_type": "execute_result"
    }
   ],
   "source": [
    "street_names.malay_tag.value_counts()"
   ]
  },
  {
   "cell_type": "code",
   "execution_count": 4,
   "metadata": {},
   "outputs": [
    {
     "data": {
      "text/html": [
       "<div>\n",
       "<style scoped>\n",
       "    .dataframe tbody tr th:only-of-type {\n",
       "        vertical-align: middle;\n",
       "    }\n",
       "\n",
       "    .dataframe tbody tr th {\n",
       "        vertical-align: top;\n",
       "    }\n",
       "\n",
       "    .dataframe thead th {\n",
       "        text-align: right;\n",
       "    }\n",
       "</style>\n",
       "<table border=\"1\" class=\"dataframe\">\n",
       "  <thead>\n",
       "    <tr style=\"text-align: right;\">\n",
       "      <th></th>\n",
       "      <th>name</th>\n",
       "      <th>tag</th>\n",
       "      <th>classification</th>\n",
       "    </tr>\n",
       "  </thead>\n",
       "  <tbody>\n",
       "    <tr>\n",
       "      <th>0</th>\n",
       "      <td>Saiboo</td>\n",
       "      <td>Street</td>\n",
       "      <td>Indian</td>\n",
       "    </tr>\n",
       "    <tr>\n",
       "      <th>1</th>\n",
       "      <td>Merchant</td>\n",
       "      <td>Loop</td>\n",
       "      <td>Generic</td>\n",
       "    </tr>\n",
       "    <tr>\n",
       "      <th>2</th>\n",
       "      <td>Hill</td>\n",
       "      <td>Street</td>\n",
       "      <td>Generic</td>\n",
       "    </tr>\n",
       "    <tr>\n",
       "      <th>3</th>\n",
       "      <td>Ophir</td>\n",
       "      <td>Road</td>\n",
       "      <td>Malay</td>\n",
       "    </tr>\n",
       "    <tr>\n",
       "      <th>4</th>\n",
       "      <td>Buona</td>\n",
       "      <td>Vista Road</td>\n",
       "      <td>Other</td>\n",
       "    </tr>\n",
       "  </tbody>\n",
       "</table>\n",
       "</div>"
      ],
      "text/plain": [
       "       name         tag classification\n",
       "0    Saiboo      Street         Indian\n",
       "1  Merchant        Loop        Generic\n",
       "2      Hill      Street        Generic\n",
       "3     Ophir        Road          Malay\n",
       "4     Buona  Vista Road          Other"
      ]
     },
     "execution_count": 4,
     "metadata": {},
     "output_type": "execute_result"
    }
   ],
   "source": [
    "street_names.head()"
   ]
  },
  {
   "cell_type": "markdown",
   "metadata": {},
   "source": [
    "## New Features"
   ]
  },
  {
   "cell_type": "code",
   "execution_count": 178,
   "metadata": {},
   "outputs": [
    {
     "data": {
      "text/html": [
       "<div>\n",
       "<style scoped>\n",
       "    .dataframe tbody tr th:only-of-type {\n",
       "        vertical-align: middle;\n",
       "    }\n",
       "\n",
       "    .dataframe tbody tr th {\n",
       "        vertical-align: top;\n",
       "    }\n",
       "\n",
       "    .dataframe thead th {\n",
       "        text-align: right;\n",
       "    }\n",
       "</style>\n",
       "<table border=\"1\" class=\"dataframe\">\n",
       "  <thead>\n",
       "    <tr style=\"text-align: right;\">\n",
       "      <th></th>\n",
       "      <th>name</th>\n",
       "      <th>tag</th>\n",
       "      <th>classification</th>\n",
       "      <th>malay_tag</th>\n",
       "    </tr>\n",
       "  </thead>\n",
       "  <tbody>\n",
       "    <tr>\n",
       "      <th>0</th>\n",
       "      <td>Saiboo</td>\n",
       "      <td>Street</td>\n",
       "      <td>Indian</td>\n",
       "      <td>0.0</td>\n",
       "    </tr>\n",
       "    <tr>\n",
       "      <th>1</th>\n",
       "      <td>Merchant</td>\n",
       "      <td>Loop</td>\n",
       "      <td>Generic</td>\n",
       "      <td>0.0</td>\n",
       "    </tr>\n",
       "    <tr>\n",
       "      <th>2</th>\n",
       "      <td>Hill</td>\n",
       "      <td>Street</td>\n",
       "      <td>Generic</td>\n",
       "      <td>0.0</td>\n",
       "    </tr>\n",
       "    <tr>\n",
       "      <th>3</th>\n",
       "      <td>Ophir</td>\n",
       "      <td>Road</td>\n",
       "      <td>Malay</td>\n",
       "      <td>0.0</td>\n",
       "    </tr>\n",
       "    <tr>\n",
       "      <th>4</th>\n",
       "      <td>Buona</td>\n",
       "      <td>Vista Road</td>\n",
       "      <td>Other</td>\n",
       "      <td>0.0</td>\n",
       "    </tr>\n",
       "  </tbody>\n",
       "</table>\n",
       "</div>"
      ],
      "text/plain": [
       "       name         tag classification  malay_tag\n",
       "0    Saiboo      Street         Indian        0.0\n",
       "1  Merchant        Loop        Generic        0.0\n",
       "2      Hill      Street        Generic        0.0\n",
       "3     Ophir        Road          Malay        0.0\n",
       "4     Buona  Vista Road          Other        0.0"
      ]
     },
     "execution_count": 178,
     "metadata": {},
     "output_type": "execute_result"
    }
   ],
   "source": [
    "'malay_tag columns'\n",
    "malay_prefix_tags = [\"Jalan\", \"Lorong\", \"Bukit\", \"Lengkok\", \"Taman\", \"Kampong\", \"Lengkong\"]\n",
    "street_names['malay_tag'] = street_names.tag.isin(malay_prefix_tags).astype(float)\n",
    "street_names.head()"
   ]
  },
  {
   "cell_type": "code",
   "execution_count": 181,
   "metadata": {},
   "outputs": [
    {
     "data": {
      "text/html": [
       "<div>\n",
       "<style scoped>\n",
       "    .dataframe tbody tr th:only-of-type {\n",
       "        vertical-align: middle;\n",
       "    }\n",
       "\n",
       "    .dataframe tbody tr th {\n",
       "        vertical-align: top;\n",
       "    }\n",
       "\n",
       "    .dataframe thead th {\n",
       "        text-align: right;\n",
       "    }\n",
       "</style>\n",
       "<table border=\"1\" class=\"dataframe\">\n",
       "  <thead>\n",
       "    <tr style=\"text-align: right;\">\n",
       "      <th></th>\n",
       "      <th>name</th>\n",
       "      <th>tag</th>\n",
       "      <th>classification</th>\n",
       "      <th>malay_tag</th>\n",
       "      <th>len</th>\n",
       "    </tr>\n",
       "  </thead>\n",
       "  <tbody>\n",
       "    <tr>\n",
       "      <th>0</th>\n",
       "      <td>Saiboo</td>\n",
       "      <td>Street</td>\n",
       "      <td>Indian</td>\n",
       "      <td>0.0</td>\n",
       "      <td>6</td>\n",
       "    </tr>\n",
       "    <tr>\n",
       "      <th>1</th>\n",
       "      <td>Merchant</td>\n",
       "      <td>Loop</td>\n",
       "      <td>Generic</td>\n",
       "      <td>0.0</td>\n",
       "      <td>8</td>\n",
       "    </tr>\n",
       "    <tr>\n",
       "      <th>2</th>\n",
       "      <td>Hill</td>\n",
       "      <td>Street</td>\n",
       "      <td>Generic</td>\n",
       "      <td>0.0</td>\n",
       "      <td>4</td>\n",
       "    </tr>\n",
       "    <tr>\n",
       "      <th>3</th>\n",
       "      <td>Ophir</td>\n",
       "      <td>Road</td>\n",
       "      <td>Malay</td>\n",
       "      <td>0.0</td>\n",
       "      <td>5</td>\n",
       "    </tr>\n",
       "    <tr>\n",
       "      <th>4</th>\n",
       "      <td>Buona</td>\n",
       "      <td>Vista Road</td>\n",
       "      <td>Other</td>\n",
       "      <td>0.0</td>\n",
       "      <td>5</td>\n",
       "    </tr>\n",
       "  </tbody>\n",
       "</table>\n",
       "</div>"
      ],
      "text/plain": [
       "       name         tag classification  malay_tag  len\n",
       "0    Saiboo      Street         Indian        0.0    6\n",
       "1  Merchant        Loop        Generic        0.0    8\n",
       "2      Hill      Street        Generic        0.0    4\n",
       "3     Ophir        Road          Malay        0.0    5\n",
       "4     Buona  Vista Road          Other        0.0    5"
      ]
     },
     "execution_count": 181,
     "metadata": {},
     "output_type": "execute_result"
    }
   ],
   "source": [
    "street_names['len'] = street_names.name.str.len()\n",
    "street_names.head()"
   ]
  },
  {
   "cell_type": "code",
   "execution_count": 184,
   "metadata": {},
   "outputs": [
    {
     "data": {
      "text/html": [
       "<div>\n",
       "<style scoped>\n",
       "    .dataframe tbody tr th:only-of-type {\n",
       "        vertical-align: middle;\n",
       "    }\n",
       "\n",
       "    .dataframe tbody tr th {\n",
       "        vertical-align: top;\n",
       "    }\n",
       "\n",
       "    .dataframe thead th {\n",
       "        text-align: right;\n",
       "    }\n",
       "</style>\n",
       "<table border=\"1\" class=\"dataframe\">\n",
       "  <thead>\n",
       "    <tr style=\"text-align: right;\">\n",
       "      <th></th>\n",
       "      <th>name</th>\n",
       "      <th>tag</th>\n",
       "      <th>classification</th>\n",
       "      <th>malay_tag</th>\n",
       "      <th>len</th>\n",
       "      <th>avg_word_len</th>\n",
       "    </tr>\n",
       "  </thead>\n",
       "  <tbody>\n",
       "    <tr>\n",
       "      <th>0</th>\n",
       "      <td>Saiboo</td>\n",
       "      <td>Street</td>\n",
       "      <td>Indian</td>\n",
       "      <td>0.0</td>\n",
       "      <td>6</td>\n",
       "      <td>6.000000</td>\n",
       "    </tr>\n",
       "    <tr>\n",
       "      <th>1</th>\n",
       "      <td>Merchant</td>\n",
       "      <td>Loop</td>\n",
       "      <td>Generic</td>\n",
       "      <td>0.0</td>\n",
       "      <td>8</td>\n",
       "      <td>8.000000</td>\n",
       "    </tr>\n",
       "    <tr>\n",
       "      <th>2</th>\n",
       "      <td>Hill</td>\n",
       "      <td>Street</td>\n",
       "      <td>Generic</td>\n",
       "      <td>0.0</td>\n",
       "      <td>4</td>\n",
       "      <td>4.000000</td>\n",
       "    </tr>\n",
       "    <tr>\n",
       "      <th>3</th>\n",
       "      <td>Ophir</td>\n",
       "      <td>Road</td>\n",
       "      <td>Malay</td>\n",
       "      <td>0.0</td>\n",
       "      <td>5</td>\n",
       "      <td>5.000000</td>\n",
       "    </tr>\n",
       "    <tr>\n",
       "      <th>4</th>\n",
       "      <td>Buona</td>\n",
       "      <td>Vista Road</td>\n",
       "      <td>Other</td>\n",
       "      <td>0.0</td>\n",
       "      <td>5</td>\n",
       "      <td>5.000000</td>\n",
       "    </tr>\n",
       "    <tr>\n",
       "      <th>5</th>\n",
       "      <td>Sengkang</td>\n",
       "      <td>Avenue</td>\n",
       "      <td>Chinese</td>\n",
       "      <td>0.0</td>\n",
       "      <td>8</td>\n",
       "      <td>8.000000</td>\n",
       "    </tr>\n",
       "    <tr>\n",
       "      <th>6</th>\n",
       "      <td>Ang Mo Kio</td>\n",
       "      <td>Avenue</td>\n",
       "      <td>Chinese</td>\n",
       "      <td>0.0</td>\n",
       "      <td>10</td>\n",
       "      <td>2.666667</td>\n",
       "    </tr>\n",
       "    <tr>\n",
       "      <th>7</th>\n",
       "      <td>Brickland</td>\n",
       "      <td>Road</td>\n",
       "      <td>British</td>\n",
       "      <td>0.0</td>\n",
       "      <td>9</td>\n",
       "      <td>9.000000</td>\n",
       "    </tr>\n",
       "    <tr>\n",
       "      <th>8</th>\n",
       "      <td>Choa Chu Kang</td>\n",
       "      <td>Road</td>\n",
       "      <td>Chinese</td>\n",
       "      <td>0.0</td>\n",
       "      <td>13</td>\n",
       "      <td>3.666667</td>\n",
       "    </tr>\n",
       "    <tr>\n",
       "      <th>9</th>\n",
       "      <td>Woodlands</td>\n",
       "      <td>Avenue</td>\n",
       "      <td>Generic</td>\n",
       "      <td>0.0</td>\n",
       "      <td>9</td>\n",
       "      <td>9.000000</td>\n",
       "    </tr>\n",
       "  </tbody>\n",
       "</table>\n",
       "</div>"
      ],
      "text/plain": [
       "            name         tag classification  malay_tag  len  avg_word_len\n",
       "0         Saiboo      Street         Indian        0.0    6      6.000000\n",
       "1       Merchant        Loop        Generic        0.0    8      8.000000\n",
       "2           Hill      Street        Generic        0.0    4      4.000000\n",
       "3          Ophir        Road          Malay        0.0    5      5.000000\n",
       "4          Buona  Vista Road          Other        0.0    5      5.000000\n",
       "5       Sengkang      Avenue        Chinese        0.0    8      8.000000\n",
       "6     Ang Mo Kio      Avenue        Chinese        0.0   10      2.666667\n",
       "7      Brickland        Road        British        0.0    9      9.000000\n",
       "8  Choa Chu Kang        Road        Chinese        0.0   13      3.666667\n",
       "9      Woodlands      Avenue        Generic        0.0    9      9.000000"
      ]
     },
     "execution_count": 184,
     "metadata": {},
     "output_type": "execute_result"
    }
   ],
   "source": [
    "street_names['avg_word_len'] = street_names.name.apply(lambda x: np.mean([len(w) for w in x.split()]))\n",
    "street_names.head(10)"
   ]
  },
  {
   "cell_type": "code",
   "execution_count": 185,
   "metadata": {},
   "outputs": [
    {
     "data": {
      "text/html": [
       "<div>\n",
       "<style scoped>\n",
       "    .dataframe tbody tr th:only-of-type {\n",
       "        vertical-align: middle;\n",
       "    }\n",
       "\n",
       "    .dataframe tbody tr th {\n",
       "        vertical-align: top;\n",
       "    }\n",
       "\n",
       "    .dataframe thead th {\n",
       "        text-align: right;\n",
       "    }\n",
       "</style>\n",
       "<table border=\"1\" class=\"dataframe\">\n",
       "  <thead>\n",
       "    <tr style=\"text-align: right;\">\n",
       "      <th></th>\n",
       "      <th>name</th>\n",
       "      <th>tag</th>\n",
       "      <th>classification</th>\n",
       "      <th>malay_tag</th>\n",
       "      <th>len</th>\n",
       "      <th>avg_word_len</th>\n",
       "      <th>num_words</th>\n",
       "    </tr>\n",
       "  </thead>\n",
       "  <tbody>\n",
       "    <tr>\n",
       "      <th>0</th>\n",
       "      <td>Saiboo</td>\n",
       "      <td>Street</td>\n",
       "      <td>Indian</td>\n",
       "      <td>0.0</td>\n",
       "      <td>6</td>\n",
       "      <td>6.000000</td>\n",
       "      <td>1</td>\n",
       "    </tr>\n",
       "    <tr>\n",
       "      <th>1</th>\n",
       "      <td>Merchant</td>\n",
       "      <td>Loop</td>\n",
       "      <td>Generic</td>\n",
       "      <td>0.0</td>\n",
       "      <td>8</td>\n",
       "      <td>8.000000</td>\n",
       "      <td>1</td>\n",
       "    </tr>\n",
       "    <tr>\n",
       "      <th>2</th>\n",
       "      <td>Hill</td>\n",
       "      <td>Street</td>\n",
       "      <td>Generic</td>\n",
       "      <td>0.0</td>\n",
       "      <td>4</td>\n",
       "      <td>4.000000</td>\n",
       "      <td>1</td>\n",
       "    </tr>\n",
       "    <tr>\n",
       "      <th>3</th>\n",
       "      <td>Ophir</td>\n",
       "      <td>Road</td>\n",
       "      <td>Malay</td>\n",
       "      <td>0.0</td>\n",
       "      <td>5</td>\n",
       "      <td>5.000000</td>\n",
       "      <td>1</td>\n",
       "    </tr>\n",
       "    <tr>\n",
       "      <th>4</th>\n",
       "      <td>Buona</td>\n",
       "      <td>Vista Road</td>\n",
       "      <td>Other</td>\n",
       "      <td>0.0</td>\n",
       "      <td>5</td>\n",
       "      <td>5.000000</td>\n",
       "      <td>1</td>\n",
       "    </tr>\n",
       "    <tr>\n",
       "      <th>5</th>\n",
       "      <td>Sengkang</td>\n",
       "      <td>Avenue</td>\n",
       "      <td>Chinese</td>\n",
       "      <td>0.0</td>\n",
       "      <td>8</td>\n",
       "      <td>8.000000</td>\n",
       "      <td>1</td>\n",
       "    </tr>\n",
       "    <tr>\n",
       "      <th>6</th>\n",
       "      <td>Ang Mo Kio</td>\n",
       "      <td>Avenue</td>\n",
       "      <td>Chinese</td>\n",
       "      <td>0.0</td>\n",
       "      <td>10</td>\n",
       "      <td>2.666667</td>\n",
       "      <td>3</td>\n",
       "    </tr>\n",
       "    <tr>\n",
       "      <th>7</th>\n",
       "      <td>Brickland</td>\n",
       "      <td>Road</td>\n",
       "      <td>British</td>\n",
       "      <td>0.0</td>\n",
       "      <td>9</td>\n",
       "      <td>9.000000</td>\n",
       "      <td>1</td>\n",
       "    </tr>\n",
       "    <tr>\n",
       "      <th>8</th>\n",
       "      <td>Choa Chu Kang</td>\n",
       "      <td>Road</td>\n",
       "      <td>Chinese</td>\n",
       "      <td>0.0</td>\n",
       "      <td>13</td>\n",
       "      <td>3.666667</td>\n",
       "      <td>3</td>\n",
       "    </tr>\n",
       "    <tr>\n",
       "      <th>9</th>\n",
       "      <td>Woodlands</td>\n",
       "      <td>Avenue</td>\n",
       "      <td>Generic</td>\n",
       "      <td>0.0</td>\n",
       "      <td>9</td>\n",
       "      <td>9.000000</td>\n",
       "      <td>1</td>\n",
       "    </tr>\n",
       "  </tbody>\n",
       "</table>\n",
       "</div>"
      ],
      "text/plain": [
       "            name         tag classification  malay_tag  len  avg_word_len  \\\n",
       "0         Saiboo      Street         Indian        0.0    6      6.000000   \n",
       "1       Merchant        Loop        Generic        0.0    8      8.000000   \n",
       "2           Hill      Street        Generic        0.0    4      4.000000   \n",
       "3          Ophir        Road          Malay        0.0    5      5.000000   \n",
       "4          Buona  Vista Road          Other        0.0    5      5.000000   \n",
       "5       Sengkang      Avenue        Chinese        0.0    8      8.000000   \n",
       "6     Ang Mo Kio      Avenue        Chinese        0.0   10      2.666667   \n",
       "7      Brickland        Road        British        0.0    9      9.000000   \n",
       "8  Choa Chu Kang        Road        Chinese        0.0   13      3.666667   \n",
       "9      Woodlands      Avenue        Generic        0.0    9      9.000000   \n",
       "\n",
       "   num_words  \n",
       "0          1  \n",
       "1          1  \n",
       "2          1  \n",
       "3          1  \n",
       "4          1  \n",
       "5          1  \n",
       "6          3  \n",
       "7          1  \n",
       "8          3  \n",
       "9          1  "
      ]
     },
     "execution_count": 185,
     "metadata": {},
     "output_type": "execute_result"
    }
   ],
   "source": [
    "street_names['num_words'] = street_names.name.apply(lambda x: len(x.split()))\n",
    "street_names.head(10)"
   ]
  },
  {
   "cell_type": "code",
   "execution_count": null,
   "metadata": {},
   "outputs": [],
   "source": []
  },
  {
   "cell_type": "markdown",
   "metadata": {},
   "source": [
    "## Machine learning"
   ]
  },
  {
   "cell_type": "code",
   "execution_count": 227,
   "metadata": {},
   "outputs": [
    {
     "data": {
      "text/html": [
       "<div>\n",
       "<style scoped>\n",
       "    .dataframe tbody tr th:only-of-type {\n",
       "        vertical-align: middle;\n",
       "    }\n",
       "\n",
       "    .dataframe tbody tr th {\n",
       "        vertical-align: top;\n",
       "    }\n",
       "\n",
       "    .dataframe thead th {\n",
       "        text-align: right;\n",
       "    }\n",
       "</style>\n",
       "<table border=\"1\" class=\"dataframe\">\n",
       "  <thead>\n",
       "    <tr style=\"text-align: right;\">\n",
       "      <th></th>\n",
       "      <th>name</th>\n",
       "      <th>malay_tag</th>\n",
       "      <th>len</th>\n",
       "      <th>avg_word_len</th>\n",
       "      <th>num_words</th>\n",
       "    </tr>\n",
       "  </thead>\n",
       "  <tbody>\n",
       "    <tr>\n",
       "      <th>0</th>\n",
       "      <td>Saiboo</td>\n",
       "      <td>0.0</td>\n",
       "      <td>6</td>\n",
       "      <td>6.0</td>\n",
       "      <td>1</td>\n",
       "    </tr>\n",
       "    <tr>\n",
       "      <th>1</th>\n",
       "      <td>Merchant</td>\n",
       "      <td>0.0</td>\n",
       "      <td>8</td>\n",
       "      <td>8.0</td>\n",
       "      <td>1</td>\n",
       "    </tr>\n",
       "    <tr>\n",
       "      <th>2</th>\n",
       "      <td>Hill</td>\n",
       "      <td>0.0</td>\n",
       "      <td>4</td>\n",
       "      <td>4.0</td>\n",
       "      <td>1</td>\n",
       "    </tr>\n",
       "    <tr>\n",
       "      <th>3</th>\n",
       "      <td>Ophir</td>\n",
       "      <td>0.0</td>\n",
       "      <td>5</td>\n",
       "      <td>5.0</td>\n",
       "      <td>1</td>\n",
       "    </tr>\n",
       "    <tr>\n",
       "      <th>4</th>\n",
       "      <td>Buona</td>\n",
       "      <td>0.0</td>\n",
       "      <td>5</td>\n",
       "      <td>5.0</td>\n",
       "      <td>1</td>\n",
       "    </tr>\n",
       "  </tbody>\n",
       "</table>\n",
       "</div>"
      ],
      "text/plain": [
       "       name  malay_tag  len  avg_word_len  num_words\n",
       "0    Saiboo        0.0    6           6.0          1\n",
       "1  Merchant        0.0    8           8.0          1\n",
       "2      Hill        0.0    4           4.0          1\n",
       "3     Ophir        0.0    5           5.0          1\n",
       "4     Buona        0.0    5           5.0          1"
      ]
     },
     "execution_count": 227,
     "metadata": {},
     "output_type": "execute_result"
    }
   ],
   "source": [
    "X = street_names[['name','malay_tag','len','avg_word_len','num_words']]\n",
    "y = street_names['classification']\n",
    "X.head()"
   ]
  },
  {
   "cell_type": "code",
   "execution_count": 198,
   "metadata": {},
   "outputs": [],
   "source": [
    "from sklearn.compose import make_column_transformer\n",
    "from sklearn.feature_extraction.text import CountVectorizer\n",
    "vect = CountVectorizer(ngram_range=(1,4), analyzer='char')\n",
    "column_trans = make_column_transformer(\n",
    "    (vect, 'name'),\n",
    "    remainder='passthrough')"
   ]
  },
  {
   "cell_type": "code",
   "execution_count": 228,
   "metadata": {},
   "outputs": [],
   "source": [
    "XX = column_trans.fit_transform(X).toarray()"
   ]
  },
  {
   "cell_type": "code",
   "execution_count": 229,
   "metadata": {},
   "outputs": [],
   "source": [
    "from sklearn.model_selection import train_test_split\n",
    "X_train,X_test,y_train,y_test = train_test_split(XX,y)"
   ]
  },
  {
   "cell_type": "code",
   "execution_count": 230,
   "metadata": {},
   "outputs": [],
   "source": [
    "from sklearn.pipeline import make_pipeline\n",
    "from sklearn.svm import LinearSVC\n",
    "clf = LinearSVC()\n",
    "pipe = make_pipeline(column_trans, clf)"
   ]
  },
  {
   "cell_type": "code",
   "execution_count": 231,
   "metadata": {},
   "outputs": [
    {
     "data": {
      "text/plain": [
       "array([[0., 0., 0., ..., 8., 8., 1.],\n",
       "       [0., 0., 0., ..., 9., 9., 1.],\n",
       "       [0., 0., 0., ..., 5., 5., 1.],\n",
       "       ...,\n",
       "       [0., 0., 0., ..., 5., 5., 1.],\n",
       "       [0., 0., 0., ..., 5., 5., 1.],\n",
       "       [0., 0., 0., ..., 6., 6., 1.]])"
      ]
     },
     "execution_count": 231,
     "metadata": {},
     "output_type": "execute_result"
    }
   ],
   "source": [
    "X_train"
   ]
  },
  {
   "cell_type": "code",
   "execution_count": 235,
   "metadata": {},
   "outputs": [
    {
     "name": "stderr",
     "output_type": "stream",
     "text": [
      "C:\\Users\\javier.perez-alvaro\\Anaconda3\\lib\\site-packages\\sklearn\\svm\\_base.py:947: ConvergenceWarning: Liblinear failed to converge, increase the number of iterations.\n",
      "  \"the number of iterations.\", ConvergenceWarning)\n"
     ]
    },
    {
     "data": {
      "text/plain": [
       "LinearSVC(C=1.0, class_weight=None, dual=True, fit_intercept=True,\n",
       "          intercept_scaling=1, loss='squared_hinge', max_iter=1000,\n",
       "          multi_class='ovr', penalty='l2', random_state=None, tol=0.0001,\n",
       "          verbose=0)"
      ]
     },
     "execution_count": 235,
     "metadata": {},
     "output_type": "execute_result"
    }
   ],
   "source": [
    "clf.fit(X_train,y_train)"
   ]
  },
  {
   "cell_type": "code",
   "execution_count": 236,
   "metadata": {},
   "outputs": [],
   "source": [
    "y_test_pred = clf.predict(X_test)"
   ]
  },
  {
   "cell_type": "code",
   "execution_count": 238,
   "metadata": {},
   "outputs": [],
   "source": [
    "from sklearn.metrics import confusion_matrix, accuracy_score"
   ]
  },
  {
   "cell_type": "code",
   "execution_count": 237,
   "metadata": {},
   "outputs": [
    {
     "data": {
      "text/plain": [
       "array([[163,   3,  16,   0,   1,   5],\n",
       "       [  0, 117,   0,   0,   3,   0],\n",
       "       [ 21,   1,  98,   0,   3,   2],\n",
       "       [  2,   0,   1,   6,   2,   0],\n",
       "       [  5,   3,   1,   0, 218,   2],\n",
       "       [  7,   0,   6,   0,   4,  19]], dtype=int64)"
      ]
     },
     "execution_count": 237,
     "metadata": {},
     "output_type": "execute_result"
    }
   ],
   "source": [
    "confusion_matrix(y_test,y_test_pred)"
   ]
  },
  {
   "cell_type": "code",
   "execution_count": 239,
   "metadata": {},
   "outputs": [
    {
     "data": {
      "text/plain": [
       "0.8758815232722144"
      ]
     },
     "execution_count": 239,
     "metadata": {},
     "output_type": "execute_result"
    }
   ],
   "source": [
    "accuracy_score(y_test,y_test_pred)"
   ]
  },
  {
   "cell_type": "markdown",
   "metadata": {},
   "source": [
    "## Pipeline"
   ]
  },
  {
   "cell_type": "code",
   "execution_count": null,
   "metadata": {},
   "outputs": [],
   "source": [
    "from sklearn.compose import ColumnTransformer\n",
    "from sklearn.feature_extraction.text import CountVectorizer\n",
    "FunctionTransformer\n"
   ]
  },
  {
   "cell_type": "markdown",
   "metadata": {},
   "source": [
    "The features we'll be adding are these:\n",
    "\n",
    "- Number of words in road name: More words => more likely to be Chinese\n",
    "- Average word length in road name: Longer words => more likely to be British or Indian\n",
    "- Are all words in dictionary: If yes => likely to be Generic\n",
    "- Is the road type Malay? If yes => very correlated with being Malay"
   ]
  },
  {
   "cell_type": "code",
   "execution_count": 214,
   "metadata": {},
   "outputs": [],
   "source": [
    "y = street_names['classification']"
   ]
  },
  {
   "cell_type": "code",
   "execution_count": 215,
   "metadata": {},
   "outputs": [
    {
     "data": {
      "text/plain": [
       "0     Indian\n",
       "1    Generic\n",
       "2    Generic\n",
       "3      Malay\n",
       "4      Other\n",
       "Name: classification, dtype: object"
      ]
     },
     "execution_count": 215,
     "metadata": {},
     "output_type": "execute_result"
    }
   ],
   "source": [
    "y.head()"
   ]
  },
  {
   "cell_type": "code",
   "execution_count": 5,
   "metadata": {},
   "outputs": [
    {
     "data": {
      "text/html": [
       "<div>\n",
       "<style scoped>\n",
       "    .dataframe tbody tr th:only-of-type {\n",
       "        vertical-align: middle;\n",
       "    }\n",
       "\n",
       "    .dataframe tbody tr th {\n",
       "        vertical-align: top;\n",
       "    }\n",
       "\n",
       "    .dataframe thead th {\n",
       "        text-align: right;\n",
       "    }\n",
       "</style>\n",
       "<table border=\"1\" class=\"dataframe\">\n",
       "  <thead>\n",
       "    <tr style=\"text-align: right;\">\n",
       "      <th></th>\n",
       "      <th>name</th>\n",
       "      <th>tag</th>\n",
       "    </tr>\n",
       "  </thead>\n",
       "  <tbody>\n",
       "    <tr>\n",
       "      <th>0</th>\n",
       "      <td>Saiboo</td>\n",
       "      <td>Street</td>\n",
       "    </tr>\n",
       "    <tr>\n",
       "      <th>1</th>\n",
       "      <td>Merchant</td>\n",
       "      <td>Loop</td>\n",
       "    </tr>\n",
       "    <tr>\n",
       "      <th>2</th>\n",
       "      <td>Hill</td>\n",
       "      <td>Street</td>\n",
       "    </tr>\n",
       "    <tr>\n",
       "      <th>3</th>\n",
       "      <td>Ophir</td>\n",
       "      <td>Road</td>\n",
       "    </tr>\n",
       "    <tr>\n",
       "      <th>4</th>\n",
       "      <td>Buona</td>\n",
       "      <td>Vista Road</td>\n",
       "    </tr>\n",
       "  </tbody>\n",
       "</table>\n",
       "</div>"
      ],
      "text/plain": [
       "       name         tag\n",
       "0    Saiboo      Street\n",
       "1  Merchant        Loop\n",
       "2      Hill      Street\n",
       "3     Ophir        Road\n",
       "4     Buona  Vista Road"
      ]
     },
     "execution_count": 5,
     "metadata": {},
     "output_type": "execute_result"
    }
   ],
   "source": [
    "X = street_names[['name','tag']]\n",
    "X.head()"
   ]
  },
  {
   "cell_type": "code",
   "execution_count": 51,
   "metadata": {},
   "outputs": [],
   "source": [
    "X.tag.fillna('None',inplace=True)"
   ]
  },
  {
   "cell_type": "code",
   "execution_count": 201,
   "metadata": {},
   "outputs": [],
   "source": [
    "def get_len(X):\n",
    "    'lenght of each name'\n",
    "    return np.expand_dims([len(x) for x in X],axis=1)\n",
    "def get_avg_word_len(X):\n",
    "    'average word length'\n",
    "    return np.expand_dims([np.mean([len(w) for w in x.split()]) for x in X], axis=1)\n",
    "    #return np.X.apply(lambda x: np.mean([len(w) for w in x.split()]))\n",
    "def get_num_words(X):\n",
    "    'number of words'\n",
    "    return np.expand_dims([len(x.split()) for x in X],axis=1)\n",
    "    #return X.apply(lambda x: len(x.split()))"
   ]
  },
  {
   "cell_type": "code",
   "execution_count": 207,
   "metadata": {},
   "outputs": [],
   "source": [
    "def is_malay(X):\n",
    "    malay_prefix_tags = [\"Jalan\", \"Lorong\", \"Bukit\", \"Lengkok\", \"Taman\", \"Kampong\", \"Lengkong\"]\n",
    "    return np.expand_dims([x in malay_prefix_tags for x in X],axis=1).astype(float)"
   ]
  },
  {
   "cell_type": "code",
   "execution_count": 245,
   "metadata": {},
   "outputs": [],
   "source": [
    "transformer1 = FunctionTransformer(get_len)\n",
    "transformer2 = FunctionTransformer(get_num_words)\n",
    "transformer3 = FunctionTransformer(get_avg_word_len)\n",
    "\n",
    "vect = CountVectorizer(ngram_range=(1,4), analyzer='char')\n",
    "\n",
    "\n",
    "name_transform = FeatureUnion([\n",
    "    ('count', vect),\n",
    "    ('get_len', transformer1),\n",
    "    ('get_num_words', transformer2),\n",
    "    ('get_avg_word_len', transformer3)\n",
    "])\n",
    "\n",
    "transformer4 = FunctionTransformer(is_malay)\n",
    "\n",
    "col_trans = ColumnTransformer([\n",
    "    ('name_features', name_transform, 'name'),\n",
    "    ('is_Malay',transformer4, 'tag')\n",
    "])"
   ]
  },
  {
   "cell_type": "code",
   "execution_count": 219,
   "metadata": {
    "scrolled": true
   },
   "outputs": [
    {
     "data": {
      "text/plain": [
       "array([[ 0.,  0.,  0., ...,  1.,  6.,  0.],\n",
       "       [ 0.,  0.,  0., ...,  1.,  8.,  0.],\n",
       "       [ 0.,  0.,  0., ...,  1.,  4.,  0.],\n",
       "       ...,\n",
       "       [ 0.,  0.,  0., ...,  1.,  6.,  0.],\n",
       "       [ 0.,  0.,  0., ...,  1., 11.,  0.],\n",
       "       [ 0.,  0.,  0., ...,  1.,  5.,  0.]])"
      ]
     },
     "execution_count": 219,
     "metadata": {},
     "output_type": "execute_result"
    }
   ],
   "source": [
    "col_trans.fit_transform(X).toarray()"
   ]
  },
  {
   "cell_type": "code",
   "execution_count": 246,
   "metadata": {},
   "outputs": [],
   "source": [
    "from sklearn.pipeline import make_pipeline\n",
    "from sklearn.svm import LinearSVC\n",
    "clf = LinearSVC()\n",
    "pipe = make_pipeline(col_trans, clf)"
   ]
  },
  {
   "cell_type": "code",
   "execution_count": 212,
   "metadata": {},
   "outputs": [
    {
     "data": {
      "text/html": [
       "<div>\n",
       "<style scoped>\n",
       "    .dataframe tbody tr th:only-of-type {\n",
       "        vertical-align: middle;\n",
       "    }\n",
       "\n",
       "    .dataframe tbody tr th {\n",
       "        vertical-align: top;\n",
       "    }\n",
       "\n",
       "    .dataframe thead th {\n",
       "        text-align: right;\n",
       "    }\n",
       "</style>\n",
       "<table border=\"1\" class=\"dataframe\">\n",
       "  <thead>\n",
       "    <tr style=\"text-align: right;\">\n",
       "      <th></th>\n",
       "      <th>name</th>\n",
       "      <th>tag</th>\n",
       "    </tr>\n",
       "  </thead>\n",
       "  <tbody>\n",
       "    <tr>\n",
       "      <th>0</th>\n",
       "      <td>Saiboo</td>\n",
       "      <td>Street</td>\n",
       "    </tr>\n",
       "    <tr>\n",
       "      <th>1</th>\n",
       "      <td>Merchant</td>\n",
       "      <td>Loop</td>\n",
       "    </tr>\n",
       "    <tr>\n",
       "      <th>2</th>\n",
       "      <td>Hill</td>\n",
       "      <td>Street</td>\n",
       "    </tr>\n",
       "    <tr>\n",
       "      <th>3</th>\n",
       "      <td>Ophir</td>\n",
       "      <td>Road</td>\n",
       "    </tr>\n",
       "    <tr>\n",
       "      <th>4</th>\n",
       "      <td>Buona</td>\n",
       "      <td>Vista Road</td>\n",
       "    </tr>\n",
       "  </tbody>\n",
       "</table>\n",
       "</div>"
      ],
      "text/plain": [
       "       name         tag\n",
       "0    Saiboo      Street\n",
       "1  Merchant        Loop\n",
       "2      Hill      Street\n",
       "3     Ophir        Road\n",
       "4     Buona  Vista Road"
      ]
     },
     "execution_count": 212,
     "metadata": {},
     "output_type": "execute_result"
    }
   ],
   "source": [
    "X.head()"
   ]
  },
  {
   "cell_type": "code",
   "execution_count": 251,
   "metadata": {},
   "outputs": [],
   "source": [
    "from sklearn.model_selection import train_test_split\n",
    "X_train,X_test,y_train,y_test = train_test_split(X,y)"
   ]
  },
  {
   "cell_type": "code",
   "execution_count": 252,
   "metadata": {},
   "outputs": [
    {
     "name": "stderr",
     "output_type": "stream",
     "text": [
      "C:\\Users\\javier.perez-alvaro\\Anaconda3\\lib\\site-packages\\sklearn\\svm\\_base.py:947: ConvergenceWarning: Liblinear failed to converge, increase the number of iterations.\n",
      "  \"the number of iterations.\", ConvergenceWarning)\n"
     ]
    }
   ],
   "source": [
    "pipe.fit(X_train,y_train)\n",
    "y_test_pred = pipe.predict(X_test)"
   ]
  },
  {
   "cell_type": "code",
   "execution_count": 253,
   "metadata": {},
   "outputs": [
    {
     "data": {
      "text/plain": [
       "array([[179,   1,  17,   0,   7,   2],\n",
       "       [  0, 104,   0,   0,   7,   0],\n",
       "       [ 21,   3,  83,   1,   2,   9],\n",
       "       [  1,   1,   0,   7,   1,   1],\n",
       "       [  5,   1,   5,   0, 207,   3],\n",
       "       [ 10,   1,   2,   0,   4,  24]], dtype=int64)"
      ]
     },
     "execution_count": 253,
     "metadata": {},
     "output_type": "execute_result"
    }
   ],
   "source": [
    "from sklearn.metrics import confusion_matrix, accuracy_score\n",
    "confusion_matrix(y_test,y_test_pred)"
   ]
  },
  {
   "cell_type": "code",
   "execution_count": 250,
   "metadata": {},
   "outputs": [
    {
     "data": {
      "text/plain": [
       "0.847672778561354"
      ]
     },
     "execution_count": 250,
     "metadata": {},
     "output_type": "execute_result"
    }
   ],
   "source": [
    "accuracy_score(y_test,y_test_pred)"
   ]
  },
  {
   "cell_type": "code",
   "execution_count": 254,
   "metadata": {},
   "outputs": [
    {
     "data": {
      "text/html": [
       "<div>\n",
       "<style scoped>\n",
       "    .dataframe tbody tr th:only-of-type {\n",
       "        vertical-align: middle;\n",
       "    }\n",
       "\n",
       "    .dataframe tbody tr th {\n",
       "        vertical-align: top;\n",
       "    }\n",
       "\n",
       "    .dataframe thead th {\n",
       "        text-align: right;\n",
       "    }\n",
       "</style>\n",
       "<table border=\"1\" class=\"dataframe\">\n",
       "  <thead>\n",
       "    <tr style=\"text-align: right;\">\n",
       "      <th></th>\n",
       "      <th>name</th>\n",
       "      <th>tag</th>\n",
       "    </tr>\n",
       "  </thead>\n",
       "  <tbody>\n",
       "    <tr>\n",
       "      <th>1693</th>\n",
       "      <td>Second</td>\n",
       "      <td>Street</td>\n",
       "    </tr>\n",
       "    <tr>\n",
       "      <th>1618</th>\n",
       "      <td>Eber</td>\n",
       "      <td>Road</td>\n",
       "    </tr>\n",
       "    <tr>\n",
       "      <th>1624</th>\n",
       "      <td>Sinaran</td>\n",
       "      <td>Drive</td>\n",
       "    </tr>\n",
       "    <tr>\n",
       "      <th>346</th>\n",
       "      <td>Canal</td>\n",
       "      <td>Road</td>\n",
       "    </tr>\n",
       "    <tr>\n",
       "      <th>1104</th>\n",
       "      <td>Pitt</td>\n",
       "      <td>Street</td>\n",
       "    </tr>\n",
       "    <tr>\n",
       "      <th>...</th>\n",
       "      <td>...</td>\n",
       "      <td>...</td>\n",
       "    </tr>\n",
       "    <tr>\n",
       "      <th>1633</th>\n",
       "      <td>Keris</td>\n",
       "      <td>Drive</td>\n",
       "    </tr>\n",
       "    <tr>\n",
       "      <th>617</th>\n",
       "      <td>Malacca</td>\n",
       "      <td>Street</td>\n",
       "    </tr>\n",
       "    <tr>\n",
       "      <th>880</th>\n",
       "      <td>Swan Lake</td>\n",
       "      <td>Avenue</td>\n",
       "    </tr>\n",
       "    <tr>\n",
       "      <th>2728</th>\n",
       "      <td>Wallace</td>\n",
       "      <td>Way</td>\n",
       "    </tr>\n",
       "    <tr>\n",
       "      <th>1564</th>\n",
       "      <td>Joan</td>\n",
       "      <td>Road</td>\n",
       "    </tr>\n",
       "  </tbody>\n",
       "</table>\n",
       "<p>105 rows × 2 columns</p>\n",
       "</div>"
      ],
      "text/plain": [
       "           name     tag\n",
       "1693     Second  Street\n",
       "1618       Eber    Road\n",
       "1624    Sinaran   Drive\n",
       "346       Canal    Road\n",
       "1104       Pitt  Street\n",
       "...         ...     ...\n",
       "1633      Keris   Drive\n",
       "617     Malacca  Street\n",
       "880   Swan Lake  Avenue\n",
       "2728    Wallace     Way\n",
       "1564       Joan    Road\n",
       "\n",
       "[105 rows x 2 columns]"
      ]
     },
     "execution_count": 254,
     "metadata": {},
     "output_type": "execute_result"
    }
   ],
   "source": [
    "X_test[y_test!=y_test_pred]"
   ]
  },
  {
   "cell_type": "code",
   "execution_count": null,
   "metadata": {},
   "outputs": [],
   "source": []
  }
 ],
 "metadata": {
  "kernelspec": {
   "display_name": "Python 3",
   "language": "python",
   "name": "python3"
  },
  "language_info": {
   "codemirror_mode": {
    "name": "ipython",
    "version": 3
   },
   "file_extension": ".py",
   "mimetype": "text/x-python",
   "name": "python",
   "nbconvert_exporter": "python",
   "pygments_lexer": "ipython3",
   "version": "3.7.6"
  }
 },
 "nbformat": 4,
 "nbformat_minor": 4
}
