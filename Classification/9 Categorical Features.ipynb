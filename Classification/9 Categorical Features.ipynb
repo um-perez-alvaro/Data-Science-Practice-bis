{
 "cells": [
  {
   "cell_type": "markdown",
   "metadata": {},
   "source": [
    "# Enconding categorical features"
   ]
  },
  {
   "cell_type": "code",
   "execution_count": 1,
   "metadata": {},
   "outputs": [],
   "source": [
    "import pandas as pd"
   ]
  },
  {
   "cell_type": "markdown",
   "metadata": {},
   "source": [
    "## Load the data"
   ]
  },
  {
   "cell_type": "code",
   "execution_count": 5,
   "metadata": {},
   "outputs": [
    {
     "data": {
      "text/html": [
       "<div>\n",
       "<style scoped>\n",
       "    .dataframe tbody tr th:only-of-type {\n",
       "        vertical-align: middle;\n",
       "    }\n",
       "\n",
       "    .dataframe tbody tr th {\n",
       "        vertical-align: top;\n",
       "    }\n",
       "\n",
       "    .dataframe thead th {\n",
       "        text-align: right;\n",
       "    }\n",
       "</style>\n",
       "<table border=\"1\" class=\"dataframe\">\n",
       "  <thead>\n",
       "    <tr style=\"text-align: right;\">\n",
       "      <th></th>\n",
       "      <th>Survived</th>\n",
       "      <th>Pclass</th>\n",
       "      <th>Name</th>\n",
       "      <th>Sex</th>\n",
       "      <th>Age</th>\n",
       "      <th>SibSp</th>\n",
       "      <th>Parch</th>\n",
       "      <th>Ticket</th>\n",
       "      <th>Fare</th>\n",
       "      <th>Cabin</th>\n",
       "      <th>Embarked</th>\n",
       "    </tr>\n",
       "    <tr>\n",
       "      <th>PassengerId</th>\n",
       "      <th></th>\n",
       "      <th></th>\n",
       "      <th></th>\n",
       "      <th></th>\n",
       "      <th></th>\n",
       "      <th></th>\n",
       "      <th></th>\n",
       "      <th></th>\n",
       "      <th></th>\n",
       "      <th></th>\n",
       "      <th></th>\n",
       "    </tr>\n",
       "  </thead>\n",
       "  <tbody>\n",
       "    <tr>\n",
       "      <th>1</th>\n",
       "      <td>0</td>\n",
       "      <td>3</td>\n",
       "      <td>Braund, Mr. Owen Harris</td>\n",
       "      <td>male</td>\n",
       "      <td>22.0</td>\n",
       "      <td>1</td>\n",
       "      <td>0</td>\n",
       "      <td>A/5 21171</td>\n",
       "      <td>7.2500</td>\n",
       "      <td>NaN</td>\n",
       "      <td>S</td>\n",
       "    </tr>\n",
       "    <tr>\n",
       "      <th>2</th>\n",
       "      <td>1</td>\n",
       "      <td>1</td>\n",
       "      <td>Cumings, Mrs. John Bradley (Florence Briggs Th...</td>\n",
       "      <td>female</td>\n",
       "      <td>38.0</td>\n",
       "      <td>1</td>\n",
       "      <td>0</td>\n",
       "      <td>PC 17599</td>\n",
       "      <td>71.2833</td>\n",
       "      <td>C85</td>\n",
       "      <td>C</td>\n",
       "    </tr>\n",
       "    <tr>\n",
       "      <th>3</th>\n",
       "      <td>1</td>\n",
       "      <td>3</td>\n",
       "      <td>Heikkinen, Miss. Laina</td>\n",
       "      <td>female</td>\n",
       "      <td>26.0</td>\n",
       "      <td>0</td>\n",
       "      <td>0</td>\n",
       "      <td>STON/O2. 3101282</td>\n",
       "      <td>7.9250</td>\n",
       "      <td>NaN</td>\n",
       "      <td>S</td>\n",
       "    </tr>\n",
       "    <tr>\n",
       "      <th>4</th>\n",
       "      <td>1</td>\n",
       "      <td>1</td>\n",
       "      <td>Futrelle, Mrs. Jacques Heath (Lily May Peel)</td>\n",
       "      <td>female</td>\n",
       "      <td>35.0</td>\n",
       "      <td>1</td>\n",
       "      <td>0</td>\n",
       "      <td>113803</td>\n",
       "      <td>53.1000</td>\n",
       "      <td>C123</td>\n",
       "      <td>S</td>\n",
       "    </tr>\n",
       "    <tr>\n",
       "      <th>5</th>\n",
       "      <td>0</td>\n",
       "      <td>3</td>\n",
       "      <td>Allen, Mr. William Henry</td>\n",
       "      <td>male</td>\n",
       "      <td>35.0</td>\n",
       "      <td>0</td>\n",
       "      <td>0</td>\n",
       "      <td>373450</td>\n",
       "      <td>8.0500</td>\n",
       "      <td>NaN</td>\n",
       "      <td>S</td>\n",
       "    </tr>\n",
       "  </tbody>\n",
       "</table>\n",
       "</div>"
      ],
      "text/plain": [
       "             Survived  Pclass  \\\n",
       "PassengerId                     \n",
       "1                   0       3   \n",
       "2                   1       1   \n",
       "3                   1       3   \n",
       "4                   1       1   \n",
       "5                   0       3   \n",
       "\n",
       "                                                          Name     Sex   Age  \\\n",
       "PassengerId                                                                    \n",
       "1                                      Braund, Mr. Owen Harris    male  22.0   \n",
       "2            Cumings, Mrs. John Bradley (Florence Briggs Th...  female  38.0   \n",
       "3                                       Heikkinen, Miss. Laina  female  26.0   \n",
       "4                 Futrelle, Mrs. Jacques Heath (Lily May Peel)  female  35.0   \n",
       "5                                     Allen, Mr. William Henry    male  35.0   \n",
       "\n",
       "             SibSp  Parch            Ticket     Fare Cabin Embarked  \n",
       "PassengerId                                                          \n",
       "1                1      0         A/5 21171   7.2500   NaN        S  \n",
       "2                1      0          PC 17599  71.2833   C85        C  \n",
       "3                0      0  STON/O2. 3101282   7.9250   NaN        S  \n",
       "4                1      0            113803  53.1000  C123        S  \n",
       "5                0      0            373450   8.0500   NaN        S  "
      ]
     },
     "execution_count": 5,
     "metadata": {},
     "output_type": "execute_result"
    }
   ],
   "source": [
    "titanic = pd.read_csv('http://bit.ly/kaggletrain',index_col = 'PassengerId')\n",
    "titanic.head()"
   ]
  },
  {
   "cell_type": "markdown",
   "metadata": {},
   "source": [
    "## Select features"
   ]
  },
  {
   "cell_type": "code",
   "execution_count": 7,
   "metadata": {
    "scrolled": true
   },
   "outputs": [
    {
     "data": {
      "text/plain": [
       "Index(['Survived', 'Pclass', 'Name', 'Sex', 'Age', 'SibSp', 'Parch', 'Ticket',\n",
       "       'Fare', 'Cabin', 'Embarked'],\n",
       "      dtype='object')"
      ]
     },
     "execution_count": 7,
     "metadata": {},
     "output_type": "execute_result"
    }
   ],
   "source": [
    "titanic.columns"
   ]
  },
  {
   "cell_type": "code",
   "execution_count": 10,
   "metadata": {},
   "outputs": [
    {
     "data": {
      "text/plain": [
       "Survived      0\n",
       "Pclass        0\n",
       "Name          0\n",
       "Sex           0\n",
       "Age         177\n",
       "SibSp         0\n",
       "Parch         0\n",
       "Ticket        0\n",
       "Fare          0\n",
       "Cabin       687\n",
       "Embarked      2\n",
       "dtype: int64"
      ]
     },
     "execution_count": 10,
     "metadata": {},
     "output_type": "execute_result"
    }
   ],
   "source": [
    "titanic.isnull().sum()"
   ]
  },
  {
   "cell_type": "code",
   "execution_count": 12,
   "metadata": {},
   "outputs": [],
   "source": [
    "titanic = titanic.loc[titanic.Embarked.notna(),['Survived',\n",
    "                                         'Pclass',\n",
    "                                          'Sex',\n",
    "                                          'Embarked']]"
   ]
  },
  {
   "cell_type": "code",
   "execution_count": 19,
   "metadata": {},
   "outputs": [
    {
     "data": {
      "text/plain": [
       "Survived    0\n",
       "Pclass      0\n",
       "Sex         0\n",
       "Embarked    0\n",
       "dtype: int64"
      ]
     },
     "execution_count": 19,
     "metadata": {},
     "output_type": "execute_result"
    }
   ],
   "source": [
    "titanic.isnull().sum()"
   ]
  },
  {
   "cell_type": "markdown",
   "metadata": {},
   "source": [
    "## Cross-validate a model with one feature"
   ]
  },
  {
   "cell_type": "code",
   "execution_count": 15,
   "metadata": {},
   "outputs": [],
   "source": [
    "X = titanic.loc[:,'Pclass']\n",
    "y = titanic.Survived"
   ]
  },
  {
   "cell_type": "code",
   "execution_count": 34,
   "metadata": {},
   "outputs": [],
   "source": [
    "from sklearn.linear_model import LogisticRegression\n",
    "logreg = LogisticRegression(solver='lbfgs')"
   ]
  },
  {
   "cell_type": "code",
   "execution_count": 35,
   "metadata": {},
   "outputs": [
    {
     "name": "stderr",
     "output_type": "stream",
     "text": [
      "C:\\ProgramData\\Anaconda3\\lib\\site-packages\\sklearn\\model_selection\\_validation.py:536: FitFailedWarning: Estimator fit failed. The score on this train-test partition for these parameters will be set to nan. Details: \n",
      "ValueError: Expected 2D array, got 1D array instead:\n",
      "array=[1. 3. 1. 3. 3. 1. 3. 3. 1. 2. 3. 3. 2. 3. 1. 3. 3. 2. 3. 3. 2. 3. 3. 3.\n",
      " 3. 3. 3. 3. 3. 3. 1. 3. 2. 3. 2. 3. 1. 3. 2. 1. 2. 3. 2. 3. 3. 1. 3. 2.\n",
      " 3. 2. 3. 1. 3. 2. 3. 2. 3. 2. 2. 2. 2. 3. 3. 2. 3. 3. 1. 3. 2. 1. 2. 3.\n",
      " 3. 1. 3. 3. 3. 1. 1. 1. 2. 3. 3. 1. 1. 3. 2. 3. 3. 1. 1. 1. 3. 2. 1. 3.\n",
      " 1. 3. 2. 3. 3. 3. 3. 3. 3. 1. 3. 3. 3. 2. 3. 1. 1. 2. 3. 3. 1. 3. 1. 1.\n",
      " 1. 3. 3. 3. 2. 3. 1. 1. 1. 2. 1. 1. 1. 2. 3. 2. 3. 2. 2. 1. 1. 3. 3. 2.\n",
      " 2. 3. 1. 3. 2. 3. 1. 3. 1. 1. 3. 1. 3. 1. 1. 3. 1. 2. 1. 2. 2. 2. 2. 2.\n",
      " 3. 3. 3. 3. 1. 3. 3. 3. 3. 1. 2. 3. 3. 3. 2. 3. 3. 3. 3. 1. 3. 3. 1. 1.\n",
      " 3. 3. 1. 3. 1. 3. 1. 3. 3. 1. 3. 3. 1. 3. 2. 3. 2. 3. 2. 1. 3. 3. 1. 3.\n",
      " 3. 3. 2. 2. 2. 3. 3. 3. 3. 3. 2. 3. 2. 3. 3. 3. 3. 1. 2. 3. 3. 2. 2. 2.\n",
      " 3. 3. 3. 3. 3. 3. 3. 2. 2. 3. 3. 1. 3. 2. 3. 1. 1. 3. 2. 1. 2. 2. 3. 3.\n",
      " 2. 3. 1. 2. 1. 3. 1. 2. 3. 1. 1. 3. 3. 1. 1. 2. 3. 1. 3. 1. 2. 3. 3. 2.\n",
      " 1. 3. 3. 3. 3. 2. 2. 3. 1. 2. 3. 3. 3. 3. 2. 3. 3. 1. 3. 1. 1. 3. 3. 3.\n",
      " 3. 1. 1. 3. 3. 1. 3. 1. 3. 3. 3. 3. 3. 1. 1. 2. 1. 3. 3. 3. 3. 1. 1. 3.\n",
      " 1. 2. 3. 2. 3. 1. 3. 3. 1. 3. 3. 2. 1. 3. 2. 2. 3. 3. 3. 3. 2. 1. 1. 3.\n",
      " 1. 1. 3. 3. 2. 1. 1. 2. 2. 3. 2. 1. 2. 3. 3. 3. 1. 1. 1. 1. 3. 3. 3. 2.\n",
      " 3. 3. 3. 3. 3. 3. 3. 2. 1. 1. 3. 3. 3. 2. 1. 3. 3. 2. 1. 2. 1. 3. 1. 2.\n",
      " 1. 3. 3. 3. 1. 3. 3. 2. 3. 2. 3. 3. 1. 2. 3. 1. 3. 1. 3. 3. 1. 2. 1. 3.\n",
      " 3. 3. 3. 3. 2. 3. 3. 2. 2. 3. 1. 3. 3. 3. 1. 2. 1. 3. 3. 1. 3. 1. 1. 3.\n",
      " 2. 3. 2. 3. 3. 3. 1. 3. 3. 3. 1. 3. 1. 3. 3. 3. 2. 3. 3. 3. 2. 3. 3. 2.\n",
      " 1. 1. 3. 1. 3. 3. 2. 2. 3. 3. 1. 2. 1. 2. 2. 2. 3. 3. 3. 3. 1. 3. 1. 3.\n",
      " 3. 2. 2. 3. 3. 3. 1. 1. 3. 3. 3. 1. 2. 3. 3. 1. 3. 1. 1. 3. 3. 3. 2. 2.\n",
      " 1. 1. 3. 1. 1. 1. 3. 2. 3. 1. 2. 3. 3. 2. 3. 2. 2. 1. 3. 2. 3. 2. 3. 1.\n",
      " 3. 2. 2. 2. 3. 3. 1. 3. 3. 1. 1. 1. 3. 3. 1. 3. 2. 1. 3. 2. 3. 3. 3. 2.\n",
      " 2. 3. 2. 3. 1. 3. 3. 3. 1. 3. 1. 1. 3. 3. 3. 3. 3. 2. 3. 2. 3. 3. 3. 3.\n",
      " 1. 3. 1. 1. 3. 3. 3. 3. 3. 3. 1. 3. 2. 3. 1. 3. 2. 1. 3. 3. 3. 2. 2. 1.\n",
      " 3. 3. 3. 1. 3. 2. 1. 3. 3. 2. 3. 3. 1. 3. 2. 3. 3. 1. 3. 1. 3. 3. 3. 3.\n",
      " 2. 3. 3. 2. 3. 3. 3. 1. 3. 3. 3. 1. 3. 2. 1. 3. 3. 3. 3. 3. 2. 1. 3. 3.\n",
      " 3. 1. 2. 3. 1. 1. 3. 3. 3. 2. 1. 3. 2. 2. 2. 1. 3. 3. 3. 1. 1. 3. 2. 3.\n",
      " 3. 3. 3. 1. 2. 3. 3. 2. 3. 3. 2. 1. 3. 1. 3.].\n",
      "Reshape your data either using array.reshape(-1, 1) if your data has a single feature or array.reshape(1, -1) if it contains a single sample.\n",
      "\n",
      "  FitFailedWarning)\n",
      "C:\\ProgramData\\Anaconda3\\lib\\site-packages\\sklearn\\model_selection\\_validation.py:536: FitFailedWarning: Estimator fit failed. The score on this train-test partition for these parameters will be set to nan. Details: \n",
      "ValueError: Expected 2D array, got 1D array instead:\n",
      "array=[3. 1. 3. 1. 3. 3. 1. 3. 3. 2. 3. 1. 3. 3. 3. 2. 3. 2. 3. 3. 2. 2. 3. 1.\n",
      " 3. 3. 3. 1. 3. 3. 1. 1. 3. 2. 1. 1. 3. 3. 3. 3. 3. 2. 3. 2. 3. 3. 3. 3.\n",
      " 3. 3. 3. 3. 1. 2. 1. 1. 2. 3. 2. 3. 3. 1. 3. 1. 3. 2. 3. 3. 3. 2. 3. 2.\n",
      " 3. 3. 3. 3. 3. 2. 3. 3. 3. 3. 1. 2. 3. 3. 3. 1. 3. 3. 3. 1. 3. 3. 3. 1.\n",
      " 1. 2. 2. 3. 3. 1. 3. 3. 3. 3. 3. 3. 3. 1. 3. 3. 3. 3. 3. 3. 2. 1. 3. 2.\n",
      " 3. 2. 2. 1. 3. 3. 3. 3. 3. 3. 3. 3. 2. 2. 2. 1. 1. 3. 1. 3. 3. 3. 3. 2.\n",
      " 2. 3. 3. 2. 2. 2. 1. 3. 3. 3. 1. 3. 3. 3. 3. 3. 2. 3. 3. 3. 3. 1. 3. 3.\n",
      " 2. 3. 3. 1. 2. 3. 2. 1. 1. 3. 1. 3. 3. 3. 2. 3. 3. 3. 3. 1. 3. 3. 1. 1.\n",
      " 3. 3. 1. 3. 1. 3. 1. 3. 3. 1. 3. 3. 1. 3. 2. 3. 2. 3. 2. 1. 3. 3. 1. 3.\n",
      " 3. 3. 2. 2. 2. 3. 3. 3. 3. 3. 2. 3. 2. 3. 3. 3. 3. 1. 2. 3. 3. 2. 2. 2.\n",
      " 3. 3. 3. 3. 3. 3. 3. 2. 2. 3. 3. 1. 3. 2. 3. 1. 1. 3. 2. 1. 2. 2. 3. 3.\n",
      " 2. 3. 1. 2. 1. 3. 1. 2. 3. 1. 1. 3. 3. 1. 1. 2. 3. 1. 3. 1. 2. 3. 3. 2.\n",
      " 1. 3. 3. 3. 3. 2. 2. 3. 1. 2. 3. 3. 3. 3. 2. 3. 3. 1. 3. 1. 1. 3. 3. 3.\n",
      " 3. 1. 1. 3. 3. 1. 3. 1. 3. 3. 3. 3. 3. 1. 1. 2. 1. 3. 3. 3. 3. 1. 1. 3.\n",
      " 1. 2. 3. 2. 3. 1. 3. 3. 1. 3. 3. 2. 1. 3. 2. 2. 3. 3. 3. 3. 2. 1. 1. 3.\n",
      " 1. 1. 3. 3. 2. 1. 1. 2. 2. 3. 2. 1. 2. 3. 3. 3. 1. 1. 1. 1. 3. 3. 3. 2.\n",
      " 3. 3. 3. 3. 3. 3. 3. 2. 1. 1. 3. 3. 3. 2. 1. 3. 3. 2. 1. 2. 1. 3. 1. 2.\n",
      " 1. 3. 3. 3. 1. 3. 3. 2. 3. 2. 3. 3. 1. 2. 3. 1. 3. 1. 3. 3. 1. 2. 1. 3.\n",
      " 3. 3. 3. 3. 2. 3. 3. 2. 2. 3. 1. 3. 3. 3. 1. 2. 1. 3. 3. 1. 3. 1. 1. 3.\n",
      " 2. 3. 2. 3. 3. 3. 1. 3. 3. 3. 1. 3. 1. 3. 3. 3. 2. 3. 3. 3. 2. 3. 3. 2.\n",
      " 1. 1. 3. 1. 3. 3. 2. 2. 3. 3. 1. 2. 1. 2. 2. 2. 3. 3. 3. 3. 1. 3. 1. 3.\n",
      " 3. 2. 2. 3. 3. 3. 1. 1. 3. 3. 3. 1. 2. 3. 3. 1. 3. 1. 1. 3. 3. 3. 2. 2.\n",
      " 1. 1. 3. 1. 1. 1. 3. 2. 3. 1. 2. 3. 3. 2. 3. 2. 2. 1. 3. 2. 3. 2. 3. 1.\n",
      " 3. 2. 2. 2. 3. 3. 1. 3. 3. 1. 1. 1. 3. 3. 1. 3. 2. 1. 3. 2. 3. 3. 3. 2.\n",
      " 2. 3. 2. 3. 1. 3. 3. 3. 1. 3. 1. 1. 3. 3. 3. 3. 3. 2. 3. 2. 3. 3. 3. 3.\n",
      " 1. 3. 1. 1. 3. 3. 3. 3. 3. 3. 1. 3. 2. 3. 1. 3. 2. 1. 3. 3. 3. 2. 2. 1.\n",
      " 3. 3. 3. 1. 3. 2. 1. 3. 3. 2. 3. 3. 1. 3. 2. 3. 3. 1. 3. 1. 3. 3. 3. 3.\n",
      " 2. 3. 3. 2. 3. 3. 3. 1. 3. 3. 3. 1. 3. 2. 1. 3. 3. 3. 3. 3. 2. 1. 3. 3.\n",
      " 3. 1. 2. 3. 1. 1. 3. 3. 3. 2. 1. 3. 2. 2. 2. 1. 3. 3. 3. 1. 1. 3. 2. 3.\n",
      " 3. 3. 3. 1. 2. 3. 3. 2. 3. 3. 2. 1. 3. 1. 3.].\n",
      "Reshape your data either using array.reshape(-1, 1) if your data has a single feature or array.reshape(1, -1) if it contains a single sample.\n",
      "\n",
      "  FitFailedWarning)\n",
      "C:\\ProgramData\\Anaconda3\\lib\\site-packages\\sklearn\\model_selection\\_validation.py:536: FitFailedWarning: Estimator fit failed. The score on this train-test partition for these parameters will be set to nan. Details: \n",
      "ValueError: Expected 2D array, got 1D array instead:\n",
      "array=[3. 1. 3. 1. 3. 3. 1. 3. 3. 2. 3. 1. 3. 3. 3. 2. 3. 2. 3. 3. 2. 2. 3. 1.\n",
      " 3. 3. 3. 1. 3. 3. 1. 1. 3. 2. 1. 1. 3. 3. 3. 3. 3. 2. 3. 2. 3. 3. 3. 3.\n",
      " 3. 3. 3. 3. 1. 2. 1. 1. 2. 3. 2. 3. 3. 1. 3. 1. 3. 2. 3. 3. 3. 2. 3. 2.\n",
      " 3. 3. 3. 3. 3. 2. 3. 3. 3. 3. 1. 2. 3. 3. 3. 1. 3. 3. 3. 1. 3. 3. 3. 1.\n",
      " 1. 2. 2. 3. 3. 1. 3. 3. 3. 3. 3. 3. 3. 1. 3. 3. 3. 3. 3. 3. 2. 1. 3. 2.\n",
      " 3. 2. 2. 1. 3. 3. 3. 3. 3. 3. 3. 3. 2. 2. 2. 1. 1. 3. 1. 3. 3. 3. 3. 2.\n",
      " 2. 3. 3. 2. 2. 2. 1. 3. 3. 3. 1. 3. 3. 3. 3. 3. 2. 3. 3. 3. 3. 1. 3. 1.\n",
      " 3. 1. 3. 3. 3. 1. 3. 3. 1. 2. 3. 3. 2. 3. 2. 3. 1. 3. 1. 3. 3. 2. 2. 3.\n",
      " 2. 1. 1. 3. 3. 3. 2. 3. 3. 3. 3. 3. 3. 3. 3. 3. 1. 3. 2. 3. 2. 3. 1. 3.\n",
      " 2. 1. 2. 3. 2. 3. 3. 1. 3. 2. 3. 2. 3. 1. 3. 2. 3. 2. 3. 2. 2. 2. 2. 3.\n",
      " 3. 2. 3. 3. 1. 3. 2. 1. 2. 3. 3. 1. 3. 3. 3. 1. 1. 1. 2. 3. 3. 1. 1. 3.\n",
      " 2. 3. 3. 1. 1. 1. 3. 2. 1. 3. 1. 3. 2. 3. 3. 3. 3. 3. 3. 1. 3. 3. 3. 2.\n",
      " 3. 1. 1. 2. 3. 3. 1. 3. 1. 1. 1. 3. 3. 3. 2. 3. 1. 1. 1. 2. 1. 1. 1. 2.\n",
      " 3. 2. 3. 2. 2. 1. 1. 3. 3. 2. 2. 3. 1. 3. 2. 3. 1. 3. 1. 1. 3. 1. 3. 1.\n",
      " 1. 3. 1. 2. 1. 2. 2. 2. 2. 2. 3. 3. 3. 3. 1. 3. 3. 3. 3. 2. 2. 3. 2. 1.\n",
      " 1. 1. 3. 3. 2. 1. 1. 2. 2. 3. 2. 1. 2. 3. 3. 3. 1. 1. 1. 1. 3. 3. 3. 2.\n",
      " 3. 3. 3. 3. 3. 3. 3. 2. 1. 1. 3. 3. 3. 2. 1. 3. 3. 2. 1. 2. 1. 3. 1. 2.\n",
      " 1. 3. 3. 3. 1. 3. 3. 2. 3. 2. 3. 3. 1. 2. 3. 1. 3. 1. 3. 3. 1. 2. 1. 3.\n",
      " 3. 3. 3. 3. 2. 3. 3. 2. 2. 3. 1. 3. 3. 3. 1. 2. 1. 3. 3. 1. 3. 1. 1. 3.\n",
      " 2. 3. 2. 3. 3. 3. 1. 3. 3. 3. 1. 3. 1. 3. 3. 3. 2. 3. 3. 3. 2. 3. 3. 2.\n",
      " 1. 1. 3. 1. 3. 3. 2. 2. 3. 3. 1. 2. 1. 2. 2. 2. 3. 3. 3. 3. 1. 3. 1. 3.\n",
      " 3. 2. 2. 3. 3. 3. 1. 1. 3. 3. 3. 1. 2. 3. 3. 1. 3. 1. 1. 3. 3. 3. 2. 2.\n",
      " 1. 1. 3. 1. 1. 1. 3. 2. 3. 1. 2. 3. 3. 2. 3. 2. 2. 1. 3. 2. 3. 2. 3. 1.\n",
      " 3. 2. 2. 2. 3. 3. 1. 3. 3. 1. 1. 1. 3. 3. 1. 3. 2. 1. 3. 2. 3. 3. 3. 2.\n",
      " 2. 3. 2. 3. 1. 3. 3. 3. 1. 3. 1. 1. 3. 3. 3. 3. 3. 2. 3. 2. 3. 3. 3. 3.\n",
      " 1. 3. 1. 1. 3. 3. 3. 3. 3. 3. 1. 3. 2. 3. 1. 3. 2. 1. 3. 3. 3. 2. 2. 1.\n",
      " 3. 3. 3. 1. 3. 2. 1. 3. 3. 2. 3. 3. 1. 3. 2. 3. 3. 1. 3. 1. 3. 3. 3. 3.\n",
      " 2. 3. 3. 2. 3. 3. 3. 1. 3. 3. 3. 1. 3. 2. 1. 3. 3. 3. 3. 3. 2. 1. 3. 3.\n",
      " 3. 1. 2. 3. 1. 1. 3. 3. 3. 2. 1. 3. 2. 2. 2. 1. 3. 3. 3. 1. 1. 3. 2. 3.\n",
      " 3. 3. 3. 1. 2. 3. 3. 2. 3. 3. 2. 1. 3. 1. 3.].\n",
      "Reshape your data either using array.reshape(-1, 1) if your data has a single feature or array.reshape(1, -1) if it contains a single sample.\n",
      "\n",
      "  FitFailedWarning)\n",
      "C:\\ProgramData\\Anaconda3\\lib\\site-packages\\sklearn\\model_selection\\_validation.py:536: FitFailedWarning: Estimator fit failed. The score on this train-test partition for these parameters will be set to nan. Details: \n",
      "ValueError: Expected 2D array, got 1D array instead:\n",
      "array=[3. 1. 3. 1. 3. 3. 1. 3. 3. 2. 3. 1. 3. 3. 3. 2. 3. 2. 3. 3. 2. 2. 3. 1.\n",
      " 3. 3. 3. 1. 3. 3. 1. 1. 3. 2. 1. 1. 3. 3. 3. 3. 3. 2. 3. 2. 3. 3. 3. 3.\n",
      " 3. 3. 3. 3. 1. 2. 1. 1. 2. 3. 2. 3. 3. 1. 3. 1. 3. 2. 3. 3. 3. 2. 3. 2.\n",
      " 3. 3. 3. 3. 3. 2. 3. 3. 3. 3. 1. 2. 3. 3. 3. 1. 3. 3. 3. 1. 3. 3. 3. 1.\n",
      " 1. 2. 2. 3. 3. 1. 3. 3. 3. 3. 3. 3. 3. 1. 3. 3. 3. 3. 3. 3. 2. 1. 3. 2.\n",
      " 3. 2. 2. 1. 3. 3. 3. 3. 3. 3. 3. 3. 2. 2. 2. 1. 1. 3. 1. 3. 3. 3. 3. 2.\n",
      " 2. 3. 3. 2. 2. 2. 1. 3. 3. 3. 1. 3. 3. 3. 3. 3. 2. 3. 3. 3. 3. 1. 3. 1.\n",
      " 3. 1. 3. 3. 3. 1. 3. 3. 1. 2. 3. 3. 2. 3. 2. 3. 1. 3. 1. 3. 3. 2. 2. 3.\n",
      " 2. 1. 1. 3. 3. 3. 2. 3. 3. 3. 3. 3. 3. 3. 3. 3. 1. 3. 2. 3. 2. 3. 1. 3.\n",
      " 2. 1. 2. 3. 2. 3. 3. 1. 3. 2. 3. 2. 3. 1. 3. 2. 3. 2. 3. 2. 2. 2. 2. 3.\n",
      " 3. 2. 3. 3. 1. 3. 2. 1. 2. 3. 3. 1. 3. 3. 3. 1. 1. 1. 2. 3. 3. 1. 1. 3.\n",
      " 2. 3. 3. 1. 1. 1. 3. 2. 1. 3. 1. 3. 2. 3. 3. 3. 3. 3. 3. 1. 3. 3. 3. 2.\n",
      " 3. 1. 1. 2. 3. 3. 1. 3. 1. 1. 1. 3. 3. 3. 2. 3. 1. 1. 1. 2. 1. 1. 1. 2.\n",
      " 3. 2. 3. 2. 2. 1. 1. 3. 3. 2. 2. 3. 1. 3. 2. 3. 1. 3. 1. 1. 3. 1. 3. 1.\n",
      " 1. 3. 1. 2. 1. 2. 2. 2. 2. 2. 3. 3. 3. 3. 1. 3. 3. 3. 3. 1. 2. 3. 3. 3.\n",
      " 2. 3. 3. 3. 3. 1. 3. 3. 1. 1. 3. 3. 1. 3. 1. 3. 1. 3. 3. 1. 3. 3. 1. 3.\n",
      " 2. 3. 2. 3. 2. 1. 3. 3. 1. 3. 3. 3. 2. 2. 2. 3. 3. 3. 3. 3. 2. 3. 2. 3.\n",
      " 3. 3. 3. 1. 2. 3. 3. 2. 2. 2. 3. 3. 3. 3. 3. 3. 3. 2. 2. 3. 3. 1. 3. 2.\n",
      " 3. 1. 1. 3. 2. 1. 2. 2. 3. 3. 2. 3. 1. 2. 1. 3. 1. 2. 3. 1. 1. 3. 3. 1.\n",
      " 1. 2. 3. 1. 3. 1. 2. 3. 3. 2. 1. 3. 3. 3. 3. 2. 2. 3. 1. 2. 3. 3. 3. 3.\n",
      " 2. 3. 3. 1. 3. 1. 1. 3. 3. 3. 3. 1. 1. 3. 3. 1. 3. 1. 3. 3. 3. 3. 3. 1.\n",
      " 1. 2. 1. 3. 3. 3. 3. 1. 1. 3. 1. 2. 3. 2. 3. 1. 3. 3. 1. 3. 3. 2. 1. 3.\n",
      " 2. 3. 3. 3. 1. 3. 2. 1. 1. 3. 1. 1. 1. 2. 2. 2. 2. 1. 3. 2. 3. 2. 3. 1.\n",
      " 3. 2. 2. 2. 3. 3. 1. 3. 3. 1. 1. 1. 3. 3. 1. 3. 2. 1. 3. 2. 3. 3. 3. 2.\n",
      " 2. 3. 2. 3. 1. 3. 3. 3. 1. 3. 1. 1. 3. 3. 3. 3. 3. 2. 3. 2. 3. 3. 3. 3.\n",
      " 1. 3. 1. 1. 3. 3. 3. 3. 3. 3. 1. 3. 2. 3. 1. 3. 2. 1. 3. 3. 3. 2. 2. 1.\n",
      " 3. 3. 3. 1. 3. 2. 1. 3. 3. 2. 3. 3. 1. 3. 2. 3. 3. 1. 3. 1. 3. 3. 3. 3.\n",
      " 2. 3. 3. 2. 3. 3. 3. 1. 3. 3. 3. 1. 3. 2. 1. 3. 3. 3. 3. 3. 2. 1. 3. 3.\n",
      " 3. 1. 2. 3. 1. 1. 3. 3. 3. 2. 1. 3. 2. 2. 2. 1. 3. 3. 3. 1. 1. 3. 2. 3.\n",
      " 3. 3. 3. 1. 2. 3. 3. 2. 3. 3. 2. 1. 3. 1. 3.].\n",
      "Reshape your data either using array.reshape(-1, 1) if your data has a single feature or array.reshape(1, -1) if it contains a single sample.\n",
      "\n",
      "  FitFailedWarning)\n",
      "C:\\ProgramData\\Anaconda3\\lib\\site-packages\\sklearn\\model_selection\\_validation.py:536: FitFailedWarning: Estimator fit failed. The score on this train-test partition for these parameters will be set to nan. Details: \n",
      "ValueError: Expected 2D array, got 1D array instead:\n",
      "array=[3. 1. 3. 1. 3. 3. 1. 3. 3. 2. 3. 1. 3. 3. 3. 2. 3. 2. 3. 3. 2. 2. 3. 1.\n",
      " 3. 3. 3. 1. 3. 3. 1. 1. 3. 2. 1. 1. 3. 3. 3. 3. 3. 2. 3. 2. 3. 3. 3. 3.\n",
      " 3. 3. 3. 3. 1. 2. 1. 1. 2. 3. 2. 3. 3. 1. 3. 1. 3. 2. 3. 3. 3. 2. 3. 2.\n",
      " 3. 3. 3. 3. 3. 2. 3. 3. 3. 3. 1. 2. 3. 3. 3. 1. 3. 3. 3. 1. 3. 3. 3. 1.\n",
      " 1. 2. 2. 3. 3. 1. 3. 3. 3. 3. 3. 3. 3. 1. 3. 3. 3. 3. 3. 3. 2. 1. 3. 2.\n",
      " 3. 2. 2. 1. 3. 3. 3. 3. 3. 3. 3. 3. 2. 2. 2. 1. 1. 3. 1. 3. 3. 3. 3. 2.\n",
      " 2. 3. 3. 2. 2. 2. 1. 3. 3. 3. 1. 3. 3. 3. 3. 3. 2. 3. 3. 3. 3. 1. 3. 1.\n",
      " 3. 1. 3. 3. 3. 1. 3. 3. 1. 2. 3. 3. 2. 3. 2. 3. 1. 3. 1. 3. 3. 2. 2. 3.\n",
      " 2. 1. 1. 3. 3. 3. 2. 3. 3. 3. 3. 3. 3. 3. 3. 3. 1. 3. 2. 3. 2. 3. 1. 3.\n",
      " 2. 1. 2. 3. 2. 3. 3. 1. 3. 2. 3. 2. 3. 1. 3. 2. 3. 2. 3. 2. 2. 2. 2. 3.\n",
      " 3. 2. 3. 3. 1. 3. 2. 1. 2. 3. 3. 1. 3. 3. 3. 1. 1. 1. 2. 3. 3. 1. 1. 3.\n",
      " 2. 3. 3. 1. 1. 1. 3. 2. 1. 3. 1. 3. 2. 3. 3. 3. 3. 3. 3. 1. 3. 3. 3. 2.\n",
      " 3. 1. 1. 2. 3. 3. 1. 3. 1. 1. 1. 3. 3. 3. 2. 3. 1. 1. 1. 2. 1. 1. 1. 2.\n",
      " 3. 2. 3. 2. 2. 1. 1. 3. 3. 2. 2. 3. 1. 3. 2. 3. 1. 3. 1. 1. 3. 1. 3. 1.\n",
      " 1. 3. 1. 2. 1. 2. 2. 2. 2. 2. 3. 3. 3. 3. 1. 3. 3. 3. 3. 1. 2. 3. 3. 3.\n",
      " 2. 3. 3. 3. 3. 1. 3. 3. 1. 1. 3. 3. 1. 3. 1. 3. 1. 3. 3. 1. 3. 3. 1. 3.\n",
      " 2. 3. 2. 3. 2. 1. 3. 3. 1. 3. 3. 3. 2. 2. 2. 3. 3. 3. 3. 3. 2. 3. 2. 3.\n",
      " 3. 3. 3. 1. 2. 3. 3. 2. 2. 2. 3. 3. 3. 3. 3. 3. 3. 2. 2. 3. 3. 1. 3. 2.\n",
      " 3. 1. 1. 3. 2. 1. 2. 2. 3. 3. 2. 3. 1. 2. 1. 3. 1. 2. 3. 1. 1. 3. 3. 1.\n",
      " 1. 2. 3. 1. 3. 1. 2. 3. 3. 2. 1. 3. 3. 3. 3. 2. 2. 3. 1. 2. 3. 3. 3. 3.\n",
      " 2. 3. 3. 1. 3. 1. 1. 3. 3. 3. 3. 1. 1. 3. 3. 1. 3. 1. 3. 3. 3. 3. 3. 1.\n",
      " 1. 2. 1. 3. 3. 3. 3. 1. 1. 3. 1. 2. 3. 2. 3. 1. 3. 3. 1. 3. 3. 2. 1. 3.\n",
      " 2. 2. 3. 3. 3. 3. 2. 1. 1. 3. 1. 1. 3. 3. 2. 1. 1. 2. 2. 3. 2. 1. 2. 3.\n",
      " 3. 3. 1. 1. 1. 1. 3. 3. 3. 2. 3. 3. 3. 3. 3. 3. 3. 2. 1. 1. 3. 3. 3. 2.\n",
      " 1. 3. 3. 2. 1. 2. 1. 3. 1. 2. 1. 3. 3. 3. 1. 3. 3. 2. 3. 2. 3. 3. 1. 2.\n",
      " 3. 1. 3. 1. 3. 3. 1. 2. 1. 3. 3. 3. 3. 3. 2. 3. 3. 2. 2. 3. 1. 3. 3. 3.\n",
      " 1. 2. 1. 3. 3. 1. 3. 1. 1. 3. 2. 3. 2. 3. 3. 3. 1. 3. 3. 3. 1. 3. 1. 3.\n",
      " 3. 3. 2. 3. 3. 3. 2. 3. 3. 2. 1. 1. 3. 1. 3. 3. 2. 2. 3. 3. 1. 2. 1. 2.\n",
      " 2. 2. 3. 3. 3. 3. 1. 3. 1. 3. 3. 2. 2. 3. 3. 3. 1. 1. 3. 3. 3. 1. 2. 3.\n",
      " 3. 1. 3. 1. 1. 3. 3. 3. 2. 1. 3. 2. 3. 3. 3. 3.].\n",
      "Reshape your data either using array.reshape(-1, 1) if your data has a single feature or array.reshape(1, -1) if it contains a single sample.\n",
      "\n",
      "  FitFailedWarning)\n"
     ]
    },
    {
     "data": {
      "text/plain": [
       "nan"
      ]
     },
     "execution_count": 35,
     "metadata": {},
     "output_type": "execute_result"
    }
   ],
   "source": [
    "from sklearn.model_selection import cross_val_score\n",
    "cross_val_score(logreg,X,y,cv=5,scoring='accuracy').mean()"
   ]
  },
  {
   "cell_type": "markdown",
   "metadata": {},
   "source": [
    "## Encode categorical features"
   ]
  },
  {
   "cell_type": "code",
   "execution_count": 36,
   "metadata": {},
   "outputs": [
    {
     "data": {
      "text/html": [
       "<div>\n",
       "<style scoped>\n",
       "    .dataframe tbody tr th:only-of-type {\n",
       "        vertical-align: middle;\n",
       "    }\n",
       "\n",
       "    .dataframe tbody tr th {\n",
       "        vertical-align: top;\n",
       "    }\n",
       "\n",
       "    .dataframe thead th {\n",
       "        text-align: right;\n",
       "    }\n",
       "</style>\n",
       "<table border=\"1\" class=\"dataframe\">\n",
       "  <thead>\n",
       "    <tr style=\"text-align: right;\">\n",
       "      <th></th>\n",
       "      <th>Survived</th>\n",
       "      <th>Pclass</th>\n",
       "      <th>Sex</th>\n",
       "      <th>Embarked</th>\n",
       "    </tr>\n",
       "    <tr>\n",
       "      <th>PassengerId</th>\n",
       "      <th></th>\n",
       "      <th></th>\n",
       "      <th></th>\n",
       "      <th></th>\n",
       "    </tr>\n",
       "  </thead>\n",
       "  <tbody>\n",
       "    <tr>\n",
       "      <th>1</th>\n",
       "      <td>0</td>\n",
       "      <td>3</td>\n",
       "      <td>male</td>\n",
       "      <td>S</td>\n",
       "    </tr>\n",
       "    <tr>\n",
       "      <th>2</th>\n",
       "      <td>1</td>\n",
       "      <td>1</td>\n",
       "      <td>female</td>\n",
       "      <td>C</td>\n",
       "    </tr>\n",
       "    <tr>\n",
       "      <th>3</th>\n",
       "      <td>1</td>\n",
       "      <td>3</td>\n",
       "      <td>female</td>\n",
       "      <td>S</td>\n",
       "    </tr>\n",
       "    <tr>\n",
       "      <th>4</th>\n",
       "      <td>1</td>\n",
       "      <td>1</td>\n",
       "      <td>female</td>\n",
       "      <td>S</td>\n",
       "    </tr>\n",
       "    <tr>\n",
       "      <th>5</th>\n",
       "      <td>0</td>\n",
       "      <td>3</td>\n",
       "      <td>male</td>\n",
       "      <td>S</td>\n",
       "    </tr>\n",
       "  </tbody>\n",
       "</table>\n",
       "</div>"
      ],
      "text/plain": [
       "             Survived  Pclass     Sex Embarked\n",
       "PassengerId                                   \n",
       "1                   0       3    male        S\n",
       "2                   1       1  female        C\n",
       "3                   1       3  female        S\n",
       "4                   1       1  female        S\n",
       "5                   0       3    male        S"
      ]
     },
     "execution_count": 36,
     "metadata": {},
     "output_type": "execute_result"
    }
   ],
   "source": [
    "titanic.head()"
   ]
  },
  {
   "cell_type": "code",
   "execution_count": 42,
   "metadata": {},
   "outputs": [],
   "source": [
    "# dummy encoding of categorical features\n",
    "from sklearn.preprocessing import OneHotEncoder\n",
    "ohe = OneHotEncoder(sparse=False)"
   ]
  },
  {
   "cell_type": "code",
   "execution_count": 43,
   "metadata": {},
   "outputs": [
    {
     "data": {
      "text/plain": [
       "array([[0., 1.],\n",
       "       [1., 0.],\n",
       "       [1., 0.],\n",
       "       ...,\n",
       "       [1., 0.],\n",
       "       [0., 1.],\n",
       "       [0., 1.]])"
      ]
     },
     "execution_count": 43,
     "metadata": {},
     "output_type": "execute_result"
    }
   ],
   "source": [
    "ohe.fit_transform(titanic[['Sex']])"
   ]
  },
  {
   "cell_type": "code",
   "execution_count": 44,
   "metadata": {},
   "outputs": [
    {
     "data": {
      "text/plain": [
       "[array(['female', 'male'], dtype=object)]"
      ]
     },
     "execution_count": 44,
     "metadata": {},
     "output_type": "execute_result"
    }
   ],
   "source": [
    "ohe.categories_"
   ]
  },
  {
   "cell_type": "code",
   "execution_count": 46,
   "metadata": {},
   "outputs": [
    {
     "data": {
      "text/plain": [
       "array([[0., 0., 1.],\n",
       "       [1., 0., 0.],\n",
       "       [0., 0., 1.],\n",
       "       ...,\n",
       "       [0., 0., 1.],\n",
       "       [1., 0., 0.],\n",
       "       [0., 1., 0.]])"
      ]
     },
     "execution_count": 46,
     "metadata": {},
     "output_type": "execute_result"
    }
   ],
   "source": [
    "ohe.fit_transform(titanic[['Embarked']])"
   ]
  },
  {
   "cell_type": "code",
   "execution_count": 48,
   "metadata": {},
   "outputs": [
    {
     "data": {
      "text/plain": [
       "[array(['C', 'Q', 'S'], dtype=object)]"
      ]
     },
     "execution_count": 48,
     "metadata": {},
     "output_type": "execute_result"
    }
   ],
   "source": [
    "ohe.categories_"
   ]
  },
  {
   "cell_type": "code",
   "execution_count": 51,
   "metadata": {},
   "outputs": [
    {
     "data": {
      "text/plain": [
       "array([[0., 1., 0., 0., 1.],\n",
       "       [1., 0., 1., 0., 0.],\n",
       "       [1., 0., 0., 0., 1.],\n",
       "       ...,\n",
       "       [1., 0., 0., 0., 1.],\n",
       "       [0., 1., 1., 0., 0.],\n",
       "       [0., 1., 0., 1., 0.]])"
      ]
     },
     "execution_count": 51,
     "metadata": {},
     "output_type": "execute_result"
    }
   ],
   "source": [
    "ohe.fit_transform(titanic[['Sex','Embarked']])"
   ]
  },
  {
   "cell_type": "code",
   "execution_count": 52,
   "metadata": {},
   "outputs": [
    {
     "data": {
      "text/plain": [
       "[array(['female', 'male'], dtype=object), array(['C', 'Q', 'S'], dtype=object)]"
      ]
     },
     "execution_count": 52,
     "metadata": {},
     "output_type": "execute_result"
    }
   ],
   "source": [
    "ohe.categories_"
   ]
  },
  {
   "cell_type": "markdown",
   "metadata": {},
   "source": [
    "## Cross-validate a Pipeline with all features"
   ]
  },
  {
   "cell_type": "code",
   "execution_count": 53,
   "metadata": {},
   "outputs": [
    {
     "data": {
      "text/html": [
       "<div>\n",
       "<style scoped>\n",
       "    .dataframe tbody tr th:only-of-type {\n",
       "        vertical-align: middle;\n",
       "    }\n",
       "\n",
       "    .dataframe tbody tr th {\n",
       "        vertical-align: top;\n",
       "    }\n",
       "\n",
       "    .dataframe thead th {\n",
       "        text-align: right;\n",
       "    }\n",
       "</style>\n",
       "<table border=\"1\" class=\"dataframe\">\n",
       "  <thead>\n",
       "    <tr style=\"text-align: right;\">\n",
       "      <th></th>\n",
       "      <th>Pclass</th>\n",
       "      <th>Sex</th>\n",
       "      <th>Embarked</th>\n",
       "    </tr>\n",
       "    <tr>\n",
       "      <th>PassengerId</th>\n",
       "      <th></th>\n",
       "      <th></th>\n",
       "      <th></th>\n",
       "    </tr>\n",
       "  </thead>\n",
       "  <tbody>\n",
       "    <tr>\n",
       "      <th>1</th>\n",
       "      <td>3</td>\n",
       "      <td>male</td>\n",
       "      <td>S</td>\n",
       "    </tr>\n",
       "    <tr>\n",
       "      <th>2</th>\n",
       "      <td>1</td>\n",
       "      <td>female</td>\n",
       "      <td>C</td>\n",
       "    </tr>\n",
       "    <tr>\n",
       "      <th>3</th>\n",
       "      <td>3</td>\n",
       "      <td>female</td>\n",
       "      <td>S</td>\n",
       "    </tr>\n",
       "    <tr>\n",
       "      <th>4</th>\n",
       "      <td>1</td>\n",
       "      <td>female</td>\n",
       "      <td>S</td>\n",
       "    </tr>\n",
       "    <tr>\n",
       "      <th>5</th>\n",
       "      <td>3</td>\n",
       "      <td>male</td>\n",
       "      <td>S</td>\n",
       "    </tr>\n",
       "  </tbody>\n",
       "</table>\n",
       "</div>"
      ],
      "text/plain": [
       "             Pclass     Sex Embarked\n",
       "PassengerId                         \n",
       "1                 3    male        S\n",
       "2                 1  female        C\n",
       "3                 3  female        S\n",
       "4                 1  female        S\n",
       "5                 3    male        S"
      ]
     },
     "execution_count": 53,
     "metadata": {},
     "output_type": "execute_result"
    }
   ],
   "source": [
    "X = titanic.drop('Survived', axis='columns')\n",
    "X.head()"
   ]
  },
  {
   "cell_type": "code",
   "execution_count": 54,
   "metadata": {},
   "outputs": [],
   "source": [
    "# use when different features need different preprocessing\n",
    "from sklearn.compose import make_column_transformer"
   ]
  },
  {
   "cell_type": "code",
   "execution_count": 55,
   "metadata": {},
   "outputs": [],
   "source": [
    "column_trans = make_column_transformer(\n",
    "    (OneHotEncoder(), ['Sex', 'Embarked']),\n",
    "    remainder='passthrough')"
   ]
  },
  {
   "cell_type": "code",
   "execution_count": 56,
   "metadata": {},
   "outputs": [
    {
     "data": {
      "text/plain": [
       "array([[0., 1., 0., 0., 1., 3.],\n",
       "       [1., 0., 1., 0., 0., 1.],\n",
       "       [1., 0., 0., 0., 1., 3.],\n",
       "       ...,\n",
       "       [1., 0., 0., 0., 1., 3.],\n",
       "       [0., 1., 1., 0., 0., 1.],\n",
       "       [0., 1., 0., 1., 0., 3.]])"
      ]
     },
     "execution_count": 56,
     "metadata": {},
     "output_type": "execute_result"
    }
   ],
   "source": [
    "column_trans.fit_transform(X)"
   ]
  },
  {
   "cell_type": "code",
   "execution_count": 58,
   "metadata": {},
   "outputs": [],
   "source": [
    "# chain sequential steps together\n",
    "from sklearn.pipeline import make_pipeline"
   ]
  },
  {
   "cell_type": "code",
   "execution_count": 59,
   "metadata": {},
   "outputs": [],
   "source": [
    "pipe = make_pipeline(column_trans, logreg)"
   ]
  },
  {
   "cell_type": "code",
   "execution_count": 60,
   "metadata": {},
   "outputs": [
    {
     "data": {
      "text/plain": [
       "0.7727924839713071"
      ]
     },
     "execution_count": 60,
     "metadata": {},
     "output_type": "execute_result"
    }
   ],
   "source": [
    "# cross-validate the entire process\n",
    "# thus, preprocessing occurs within each fold of cross-validation\n",
    "cross_val_score(pipe, X, y, cv=5, scoring='accuracy').mean()"
   ]
  },
  {
   "cell_type": "markdown",
   "metadata": {},
   "source": [
    "## Make predictions on new data"
   ]
  },
  {
   "cell_type": "code",
   "execution_count": 61,
   "metadata": {},
   "outputs": [
    {
     "data": {
      "text/html": [
       "<div>\n",
       "<style scoped>\n",
       "    .dataframe tbody tr th:only-of-type {\n",
       "        vertical-align: middle;\n",
       "    }\n",
       "\n",
       "    .dataframe tbody tr th {\n",
       "        vertical-align: top;\n",
       "    }\n",
       "\n",
       "    .dataframe thead th {\n",
       "        text-align: right;\n",
       "    }\n",
       "</style>\n",
       "<table border=\"1\" class=\"dataframe\">\n",
       "  <thead>\n",
       "    <tr style=\"text-align: right;\">\n",
       "      <th></th>\n",
       "      <th>Pclass</th>\n",
       "      <th>Sex</th>\n",
       "      <th>Embarked</th>\n",
       "    </tr>\n",
       "    <tr>\n",
       "      <th>PassengerId</th>\n",
       "      <th></th>\n",
       "      <th></th>\n",
       "      <th></th>\n",
       "    </tr>\n",
       "  </thead>\n",
       "  <tbody>\n",
       "    <tr>\n",
       "      <th>600</th>\n",
       "      <td>1</td>\n",
       "      <td>male</td>\n",
       "      <td>C</td>\n",
       "    </tr>\n",
       "    <tr>\n",
       "      <th>513</th>\n",
       "      <td>1</td>\n",
       "      <td>male</td>\n",
       "      <td>S</td>\n",
       "    </tr>\n",
       "    <tr>\n",
       "      <th>274</th>\n",
       "      <td>1</td>\n",
       "      <td>male</td>\n",
       "      <td>C</td>\n",
       "    </tr>\n",
       "    <tr>\n",
       "      <th>216</th>\n",
       "      <td>1</td>\n",
       "      <td>female</td>\n",
       "      <td>C</td>\n",
       "    </tr>\n",
       "    <tr>\n",
       "      <th>791</th>\n",
       "      <td>3</td>\n",
       "      <td>male</td>\n",
       "      <td>Q</td>\n",
       "    </tr>\n",
       "  </tbody>\n",
       "</table>\n",
       "</div>"
      ],
      "text/plain": [
       "             Pclass     Sex Embarked\n",
       "PassengerId                         \n",
       "600               1    male        C\n",
       "513               1    male        S\n",
       "274               1    male        C\n",
       "216               1  female        C\n",
       "791               3    male        Q"
      ]
     },
     "execution_count": 61,
     "metadata": {},
     "output_type": "execute_result"
    }
   ],
   "source": [
    "X_new = X.sample(5, random_state=99)\n",
    "X_new"
   ]
  },
  {
   "cell_type": "code",
   "execution_count": 62,
   "metadata": {},
   "outputs": [
    {
     "data": {
      "text/plain": [
       "Pipeline(memory=None,\n",
       "         steps=[('columntransformer',\n",
       "                 ColumnTransformer(n_jobs=None, remainder='passthrough',\n",
       "                                   sparse_threshold=0.3,\n",
       "                                   transformer_weights=None,\n",
       "                                   transformers=[('onehotencoder',\n",
       "                                                  OneHotEncoder(categories='auto',\n",
       "                                                                drop=None,\n",
       "                                                                dtype=<class 'numpy.float64'>,\n",
       "                                                                handle_unknown='error',\n",
       "                                                                sparse=True),\n",
       "                                                  ['Sex', 'Embarked'])],\n",
       "                                   verbose=False)),\n",
       "                ('logisticregression',\n",
       "                 LogisticRegression(C=1.0, class_weight=None, dual=False,\n",
       "                                    fit_intercept=True, intercept_scaling=1,\n",
       "                                    l1_ratio=None, max_iter=100,\n",
       "                                    multi_class='auto', n_jobs=None,\n",
       "                                    penalty='l2', random_state=None,\n",
       "                                    solver='lbfgs', tol=0.0001, verbose=0,\n",
       "                                    warm_start=False))],\n",
       "         verbose=False)"
      ]
     },
     "execution_count": 62,
     "metadata": {},
     "output_type": "execute_result"
    }
   ],
   "source": [
    "pipe.fit(X, y)"
   ]
  },
  {
   "cell_type": "code",
   "execution_count": 63,
   "metadata": {},
   "outputs": [
    {
     "data": {
      "text/plain": [
       "array([1, 0, 1, 1, 0], dtype=int64)"
      ]
     },
     "execution_count": 63,
     "metadata": {},
     "output_type": "execute_result"
    }
   ],
   "source": [
    "pipe.predict(X_new)"
   ]
  }
 ],
 "metadata": {
  "kernelspec": {
   "display_name": "Python 3",
   "language": "python",
   "name": "python3"
  },
  "language_info": {
   "codemirror_mode": {
    "name": "ipython",
    "version": 3
   },
   "file_extension": ".py",
   "mimetype": "text/x-python",
   "name": "python",
   "nbconvert_exporter": "python",
   "pygments_lexer": "ipython3",
   "version": "3.7.6"
  }
 },
 "nbformat": 4,
 "nbformat_minor": 4
}
