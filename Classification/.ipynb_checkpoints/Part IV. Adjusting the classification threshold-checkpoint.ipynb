{
 "cells": [
  {
   "cell_type": "code",
   "execution_count": 3,
   "metadata": {},
   "outputs": [],
   "source": [
    "import pandas as pd\n",
    "import numpy as np\n",
    "import matplotlib.pyplot as plt"
   ]
  },
  {
   "cell_type": "markdown",
   "metadata": {},
   "source": [
    "# Classification Algorithms. Part IV"
   ]
  },
  {
   "cell_type": "markdown",
   "metadata": {},
   "source": [
    "# Adjusting the classification threshold"
   ]
  },
  {
   "cell_type": "code",
   "execution_count": 4,
   "metadata": {},
   "outputs": [
    {
     "data": {
      "text/html": [
       "<div>\n",
       "<style scoped>\n",
       "    .dataframe tbody tr th:only-of-type {\n",
       "        vertical-align: middle;\n",
       "    }\n",
       "\n",
       "    .dataframe tbody tr th {\n",
       "        vertical-align: top;\n",
       "    }\n",
       "\n",
       "    .dataframe thead th {\n",
       "        text-align: right;\n",
       "    }\n",
       "</style>\n",
       "<table border=\"1\" class=\"dataframe\">\n",
       "  <thead>\n",
       "    <tr style=\"text-align: right;\">\n",
       "      <th></th>\n",
       "      <th>pregnant</th>\n",
       "      <th>glucose</th>\n",
       "      <th>bp</th>\n",
       "      <th>skin</th>\n",
       "      <th>insulin</th>\n",
       "      <th>bmi</th>\n",
       "      <th>pedigree</th>\n",
       "      <th>age</th>\n",
       "      <th>label</th>\n",
       "    </tr>\n",
       "  </thead>\n",
       "  <tbody>\n",
       "    <tr>\n",
       "      <th>0</th>\n",
       "      <td>6</td>\n",
       "      <td>148</td>\n",
       "      <td>72</td>\n",
       "      <td>35</td>\n",
       "      <td>0</td>\n",
       "      <td>33.6</td>\n",
       "      <td>0.627</td>\n",
       "      <td>50</td>\n",
       "      <td>1</td>\n",
       "    </tr>\n",
       "    <tr>\n",
       "      <th>1</th>\n",
       "      <td>1</td>\n",
       "      <td>85</td>\n",
       "      <td>66</td>\n",
       "      <td>29</td>\n",
       "      <td>0</td>\n",
       "      <td>26.6</td>\n",
       "      <td>0.351</td>\n",
       "      <td>31</td>\n",
       "      <td>0</td>\n",
       "    </tr>\n",
       "    <tr>\n",
       "      <th>2</th>\n",
       "      <td>8</td>\n",
       "      <td>183</td>\n",
       "      <td>64</td>\n",
       "      <td>0</td>\n",
       "      <td>0</td>\n",
       "      <td>23.3</td>\n",
       "      <td>0.672</td>\n",
       "      <td>32</td>\n",
       "      <td>1</td>\n",
       "    </tr>\n",
       "    <tr>\n",
       "      <th>3</th>\n",
       "      <td>1</td>\n",
       "      <td>89</td>\n",
       "      <td>66</td>\n",
       "      <td>23</td>\n",
       "      <td>94</td>\n",
       "      <td>28.1</td>\n",
       "      <td>0.167</td>\n",
       "      <td>21</td>\n",
       "      <td>0</td>\n",
       "    </tr>\n",
       "    <tr>\n",
       "      <th>4</th>\n",
       "      <td>0</td>\n",
       "      <td>137</td>\n",
       "      <td>40</td>\n",
       "      <td>35</td>\n",
       "      <td>168</td>\n",
       "      <td>43.1</td>\n",
       "      <td>2.288</td>\n",
       "      <td>33</td>\n",
       "      <td>1</td>\n",
       "    </tr>\n",
       "  </tbody>\n",
       "</table>\n",
       "</div>"
      ],
      "text/plain": [
       "   pregnant  glucose  bp  skin  insulin   bmi  pedigree  age  label\n",
       "0         6      148  72    35        0  33.6     0.627   50      1\n",
       "1         1       85  66    29        0  26.6     0.351   31      0\n",
       "2         8      183  64     0        0  23.3     0.672   32      1\n",
       "3         1       89  66    23       94  28.1     0.167   21      0\n",
       "4         0      137  40    35      168  43.1     2.288   33      1"
      ]
     },
     "execution_count": 4,
     "metadata": {},
     "output_type": "execute_result"
    }
   ],
   "source": [
    "# load the pima indian dataset\n",
    "url = 'https://raw.githubusercontent.com/um-perez-alvaro/Data-Science-Practice/master/Data/pima.csv'\n",
    "pima = pd.read_csv(url)\n",
    "pima.head()"
   ]
  },
  {
   "cell_type": "code",
   "execution_count": 5,
   "metadata": {},
   "outputs": [
    {
     "data": {
      "text/plain": [
       "KNeighborsClassifier(n_neighbors=17)"
      ]
     },
     "execution_count": 5,
     "metadata": {},
     "output_type": "execute_result"
    }
   ],
   "source": [
    "# import knn\n",
    "from sklearn.neighbors import KNeighborsClassifier\n",
    "# define X and y\n",
    "feature_cols = ['pregnant','glucose','bp','skin','insulin','bmi','age']\n",
    "X = pima[feature_cols]\n",
    "y = pima.label\n",
    "# initialize knn\n",
    "knn_clf = KNeighborsClassifier(n_neighbors=17, weights='uniform')\n",
    "# train the model\n",
    "knn_clf.fit(X,y)"
   ]
  },
  {
   "cell_type": "markdown",
   "metadata": {},
   "source": [
    "Let's look at how the knn classifier makes its prediction. \n",
    "For each patient, knn computes the probability of that patient having diabetes"
   ]
  },
  {
   "cell_type": "code",
   "execution_count": 8,
   "metadata": {},
   "outputs": [
    {
     "data": {
      "text/plain": [
       "array([[0.47058824, 0.52941176],\n",
       "       [0.94117647, 0.05882353],\n",
       "       [0.17647059, 0.82352941],\n",
       "       ...,\n",
       "       [0.76470588, 0.23529412],\n",
       "       [0.35294118, 0.64705882],\n",
       "       [1.        , 0.        ]])"
      ]
     },
     "execution_count": 8,
     "metadata": {},
     "output_type": "execute_result"
    }
   ],
   "source": [
    "# first column is the probability of label=0, second column is the probability of label=1\n",
    "knn_clf.predict_proba(X)"
   ]
  },
  {
   "cell_type": "code",
   "execution_count": 12,
   "metadata": {},
   "outputs": [
    {
     "data": {
      "text/plain": [
       "array([0.52941176, 0.05882353, 0.82352941, 0.05882353, 0.52941176,\n",
       "       0.35294118, 0.05882353, 0.41176471, 0.64705882, 0.23529412,\n",
       "       0.29411765, 0.88235294, 0.52941176, 0.70588235, 0.76470588,\n",
       "       0.17647059, 0.41176471, 0.41176471, 0.17647059, 0.17647059,\n",
       "       0.47058824, 0.29411765, 0.76470588, 0.35294118, 0.76470588,\n",
       "       0.35294118, 0.64705882, 0.11764706, 0.58823529, 0.41176471,\n",
       "       0.58823529, 0.64705882, 0.05882353, 0.05882353, 0.58823529,\n",
       "       0.23529412, 0.41176471, 0.52941176, 0.11764706, 0.47058824,\n",
       "       0.52941176, 0.41176471, 0.35294118, 0.76470588, 0.64705882,\n",
       "       0.94117647, 0.35294118, 0.05882353, 0.23529412, 0.23529412,\n",
       "       0.05882353, 0.05882353, 0.05882353, 0.70588235, 0.52941176,\n",
       "       0.        , 0.70588235, 0.29411765, 0.47058824, 0.17647059,\n",
       "       0.11764706, 0.47058824, 0.        , 0.29411765, 0.58823529,\n",
       "       0.17647059, 0.47058824, 0.29411765, 0.05882353, 0.41176471,\n",
       "       0.05882353, 0.35294118, 0.47058824, 0.23529412, 0.11764706,\n",
       "       0.11764706, 0.        , 0.11764706, 0.64705882, 0.17647059,\n",
       "       0.17647059, 0.11764706, 0.05882353, 0.05882353, 0.47058824,\n",
       "       0.17647059, 0.47058824, 0.11764706, 0.52941176, 0.05882353,\n",
       "       0.        , 0.29411765, 0.05882353, 0.41176471, 0.23529412,\n",
       "       0.47058824, 0.        , 0.05882353, 0.05882353, 0.35294118,\n",
       "       0.82352941, 0.47058824, 0.29411765, 0.        , 0.05882353,\n",
       "       0.29411765, 0.11764706, 0.47058824, 0.05882353, 0.05882353,\n",
       "       0.58823529, 0.64705882, 0.05882353, 0.        , 0.64705882,\n",
       "       0.58823529, 0.58823529, 0.05882353, 0.05882353, 0.05882353,\n",
       "       0.70588235, 0.23529412, 0.23529412, 0.35294118, 0.29411765,\n",
       "       0.17647059, 0.23529412, 0.17647059, 0.41176471, 0.11764706,\n",
       "       0.88235294, 0.47058824, 0.64705882, 0.23529412, 0.05882353,\n",
       "       0.29411765, 0.11764706, 0.05882353, 0.41176471, 0.29411765,\n",
       "       0.35294118, 0.58823529, 0.17647059, 0.52941176, 0.47058824,\n",
       "       0.        , 0.11764706, 0.11764706, 0.47058824, 0.05882353,\n",
       "       0.47058824, 0.41176471, 0.70588235, 0.58823529, 0.88235294,\n",
       "       0.58823529, 0.05882353, 0.05882353, 0.        , 0.70588235,\n",
       "       0.52941176, 0.23529412, 0.23529412, 0.05882353, 0.29411765,\n",
       "       0.47058824, 0.47058824, 0.41176471, 0.23529412, 0.05882353,\n",
       "       0.29411765, 0.41176471, 0.11764706, 0.        , 0.        ,\n",
       "       0.70588235, 0.17647059, 0.47058824, 0.52941176, 0.47058824,\n",
       "       0.11764706, 0.11764706, 0.11764706, 0.        , 0.47058824,\n",
       "       0.94117647, 0.64705882, 0.17647059, 0.29411765, 0.47058824,\n",
       "       0.05882353, 0.29411765, 0.64705882, 0.70588235, 0.11764706,\n",
       "       0.58823529, 0.        , 0.05882353, 0.17647059, 0.47058824,\n",
       "       0.11764706, 0.41176471, 0.17647059, 0.05882353, 0.47058824,\n",
       "       0.17647059, 0.70588235, 0.70588235, 0.11764706, 0.88235294,\n",
       "       0.05882353, 0.41176471, 0.70588235, 0.29411765, 0.47058824,\n",
       "       0.41176471, 0.11764706, 0.35294118, 0.05882353, 0.64705882,\n",
       "       0.58823529, 0.58823529, 0.47058824, 0.64705882, 0.05882353,\n",
       "       0.05882353, 0.35294118, 0.70588235, 0.70588235, 0.23529412,\n",
       "       0.47058824, 0.41176471, 0.05882353, 0.41176471, 0.        ,\n",
       "       0.88235294, 0.88235294, 0.94117647, 0.82352941, 0.23529412,\n",
       "       0.        , 0.11764706, 0.41176471, 0.35294118, 0.52941176,\n",
       "       0.76470588, 0.70588235, 0.70588235, 0.41176471, 0.23529412,\n",
       "       0.52941176, 0.35294118, 0.        , 0.11764706, 0.29411765,\n",
       "       0.11764706, 0.29411765, 0.17647059, 0.47058824, 0.70588235,\n",
       "       0.82352941, 0.70588235, 0.11764706, 0.41176471, 0.52941176,\n",
       "       0.        , 0.70588235, 0.41176471, 0.05882353, 0.70588235,\n",
       "       0.41176471, 0.17647059, 0.41176471, 0.        , 0.41176471,\n",
       "       0.11764706, 0.05882353, 0.        , 0.41176471, 0.29411765,\n",
       "       0.47058824, 0.47058824, 0.64705882, 0.82352941, 0.35294118,\n",
       "       0.64705882, 0.64705882, 0.35294118, 0.05882353, 0.17647059,\n",
       "       0.05882353, 0.17647059, 0.35294118, 0.47058824, 0.52941176,\n",
       "       0.58823529, 0.47058824, 0.29411765, 0.41176471, 0.41176471,\n",
       "       0.76470588, 0.29411765, 0.05882353, 0.47058824, 0.52941176,\n",
       "       0.23529412, 0.70588235, 0.35294118, 0.35294118, 0.17647059,\n",
       "       0.11764706, 0.23529412, 0.47058824, 0.11764706, 0.58823529,\n",
       "       0.11764706, 0.        , 0.88235294, 0.11764706, 0.70588235,\n",
       "       0.35294118, 0.23529412, 0.35294118, 0.52941176, 0.29411765,\n",
       "       0.58823529, 0.23529412, 0.88235294, 0.17647059, 0.11764706,\n",
       "       0.52941176, 0.        , 0.76470588, 0.47058824, 0.05882353,\n",
       "       0.64705882, 0.52941176, 0.58823529, 0.64705882, 0.82352941,\n",
       "       0.05882353, 0.        , 0.11764706, 0.35294118, 0.29411765,\n",
       "       0.52941176, 0.11764706, 0.47058824, 0.05882353, 0.11764706,\n",
       "       0.23529412, 0.35294118, 0.11764706, 0.        , 0.11764706,\n",
       "       0.76470588, 0.41176471, 0.70588235, 0.05882353, 0.82352941,\n",
       "       0.64705882, 0.47058824, 0.52941176, 0.47058824, 0.47058824,\n",
       "       0.11764706, 0.35294118, 0.        , 0.05882353, 0.58823529,\n",
       "       0.58823529, 0.        , 0.        , 0.11764706, 0.29411765,\n",
       "       0.52941176, 0.05882353, 0.17647059, 0.76470588, 0.11764706,\n",
       "       0.23529412, 0.05882353, 0.23529412, 0.        , 0.17647059,\n",
       "       0.05882353, 0.35294118, 0.52941176, 0.41176471, 0.11764706,\n",
       "       0.41176471, 0.82352941, 0.47058824, 0.17647059, 0.76470588,\n",
       "       0.35294118, 0.11764706, 0.29411765, 0.05882353, 0.94117647,\n",
       "       0.17647059, 0.47058824, 0.35294118, 0.11764706, 0.88235294,\n",
       "       0.41176471, 0.47058824, 0.05882353, 0.76470588, 0.64705882,\n",
       "       0.35294118, 0.41176471, 0.35294118, 0.23529412, 0.52941176,\n",
       "       0.58823529, 0.        , 0.52941176, 0.05882353, 0.23529412,\n",
       "       0.47058824, 0.05882353, 0.17647059, 0.23529412, 0.47058824,\n",
       "       0.70588235, 0.11764706, 0.76470588, 0.47058824, 0.41176471,\n",
       "       0.17647059, 0.11764706, 0.        , 0.29411765, 0.11764706,\n",
       "       0.70588235, 0.47058824, 0.41176471, 0.        , 0.17647059,\n",
       "       0.82352941, 0.        , 0.17647059, 0.41176471, 0.23529412,\n",
       "       0.82352941, 0.        , 0.11764706, 0.11764706, 0.17647059,\n",
       "       0.05882353, 0.29411765, 0.35294118, 0.41176471, 0.11764706,\n",
       "       0.94117647, 0.41176471, 0.05882353, 0.70588235, 0.23529412,\n",
       "       0.11764706, 0.        , 0.        , 0.11764706, 0.17647059,\n",
       "       0.05882353, 0.        , 0.17647059, 0.52941176, 0.64705882,\n",
       "       0.41176471, 0.29411765, 0.23529412, 0.47058824, 0.11764706,\n",
       "       0.35294118, 0.35294118, 0.05882353, 0.29411765, 0.41176471,\n",
       "       0.52941176, 0.29411765, 0.        , 0.11764706, 0.70588235,\n",
       "       0.41176471, 0.58823529, 0.70588235, 0.        , 0.64705882,\n",
       "       0.05882353, 0.41176471, 0.17647059, 0.41176471, 0.11764706,\n",
       "       0.58823529, 0.17647059, 0.05882353, 0.82352941, 0.58823529,\n",
       "       0.05882353, 0.11764706, 0.11764706, 0.17647059, 0.29411765,\n",
       "       0.        , 0.52941176, 0.41176471, 0.05882353, 0.35294118,\n",
       "       0.29411765, 0.23529412, 0.11764706, 0.05882353, 0.05882353,\n",
       "       0.70588235, 0.76470588, 0.52941176, 0.05882353, 0.47058824,\n",
       "       0.05882353, 0.23529412, 0.29411765, 0.64705882, 0.47058824,\n",
       "       0.        , 0.05882353, 0.05882353, 0.35294118, 0.17647059,\n",
       "       0.05882353, 0.29411765, 0.11764706, 0.17647059, 0.        ,\n",
       "       0.64705882, 0.29411765, 0.        , 0.29411765, 0.58823529,\n",
       "       0.41176471, 0.23529412, 0.47058824, 0.11764706, 0.11764706,\n",
       "       0.82352941, 0.82352941, 0.41176471, 0.41176471, 0.70588235,\n",
       "       0.11764706, 0.05882353, 0.17647059, 0.        , 0.        ,\n",
       "       0.29411765, 0.11764706, 0.35294118, 0.47058824, 0.05882353,\n",
       "       0.47058824, 0.70588235, 0.17647059, 0.05882353, 0.17647059,\n",
       "       0.05882353, 0.11764706, 0.11764706, 0.58823529, 0.41176471,\n",
       "       0.05882353, 0.29411765, 0.11764706, 0.        , 0.47058824,\n",
       "       0.11764706, 0.05882353, 0.29411765, 0.47058824, 0.88235294,\n",
       "       0.47058824, 0.05882353, 0.17647059, 0.47058824, 0.64705882,\n",
       "       0.        , 0.47058824, 0.23529412, 0.88235294, 0.05882353,\n",
       "       0.52941176, 0.29411765, 0.47058824, 0.05882353, 0.47058824,\n",
       "       0.82352941, 0.        , 0.        , 0.88235294, 0.        ,\n",
       "       0.11764706, 0.17647059, 0.35294118, 0.64705882, 0.82352941,\n",
       "       0.17647059, 0.64705882, 0.        , 0.41176471, 0.23529412,\n",
       "       0.29411765, 0.76470588, 0.64705882, 0.29411765, 0.64705882,\n",
       "       0.17647059, 0.23529412, 0.        , 0.52941176, 0.52941176,\n",
       "       0.41176471, 0.05882353, 0.82352941, 0.05882353, 0.23529412,\n",
       "       0.11764706, 0.23529412, 0.41176471, 0.52941176, 0.        ,\n",
       "       0.47058824, 0.17647059, 0.11764706, 0.29411765, 0.11764706,\n",
       "       0.47058824, 0.47058824, 0.        , 0.17647059, 0.05882353,\n",
       "       0.17647059, 0.35294118, 0.52941176, 0.17647059, 0.29411765,\n",
       "       0.58823529, 0.64705882, 0.70588235, 0.64705882, 0.05882353,\n",
       "       0.11764706, 0.11764706, 0.29411765, 0.29411765, 0.05882353,\n",
       "       0.64705882, 0.11764706, 0.47058824, 0.35294118, 0.05882353,\n",
       "       0.64705882, 0.94117647, 0.70588235, 0.52941176, 0.47058824,\n",
       "       0.17647059, 0.47058824, 0.58823529, 0.41176471, 0.58823529,\n",
       "       0.76470588, 0.        , 0.11764706, 0.47058824, 0.11764706,\n",
       "       0.82352941, 0.52941176, 0.05882353, 0.29411765, 0.23529412,\n",
       "       0.        , 0.64705882, 0.11764706, 0.52941176, 0.29411765,\n",
       "       0.35294118, 0.29411765, 0.11764706, 0.35294118, 0.58823529,\n",
       "       0.29411765, 0.70588235, 0.11764706, 0.52941176, 0.05882353,\n",
       "       0.58823529, 0.76470588, 0.17647059, 0.47058824, 0.47058824,\n",
       "       0.29411765, 0.41176471, 0.82352941, 0.70588235, 0.11764706,\n",
       "       0.11764706, 0.23529412, 0.29411765, 0.82352941, 0.23529412,\n",
       "       0.47058824, 0.58823529, 0.41176471, 0.23529412, 0.35294118,\n",
       "       0.52941176, 0.76470588, 0.23529412, 0.41176471, 0.47058824,\n",
       "       0.05882353, 0.23529412, 0.58823529, 0.23529412, 0.23529412,\n",
       "       0.52941176, 0.35294118, 0.41176471, 0.82352941, 0.05882353,\n",
       "       0.17647059, 0.35294118, 0.58823529, 0.29411765, 0.29411765,\n",
       "       0.17647059, 0.23529412, 0.11764706, 0.23529412, 0.58823529,\n",
       "       0.64705882, 0.05882353, 0.05882353, 0.47058824, 0.70588235,\n",
       "       0.23529412, 0.52941176, 0.05882353, 0.82352941, 0.64705882,\n",
       "       0.29411765, 0.29411765, 0.05882353, 0.64705882, 0.52941176,\n",
       "       0.41176471, 0.47058824, 0.70588235, 0.29411765, 0.70588235,\n",
       "       0.        , 0.88235294, 0.05882353, 0.47058824, 0.35294118,\n",
       "       0.23529412, 0.64705882, 0.        ])"
      ]
     },
     "execution_count": 12,
     "metadata": {},
     "output_type": "execute_result"
    }
   ],
   "source": [
    "# probability of label = 1 (diabetes)\n",
    "knn_clf.predict_proba(X)[:,1]"
   ]
  },
  {
   "cell_type": "markdown",
   "metadata": {},
   "source": [
    "If the probability is larger than 0.5, knn predicts label = 1, otherwise it predicts label = 0"
   ]
  },
  {
   "cell_type": "markdown",
   "metadata": {},
   "source": [
    "## 1 Precision/Recall Trade-off"
   ]
  },
  {
   "cell_type": "code",
   "execution_count": 14,
   "metadata": {},
   "outputs": [],
   "source": [
    "from sklearn.model_selection import cross_val_predict\n",
    "y_prob = cross_val_predict(knn_clf,X,y,cv=10,method='predict_proba')"
   ]
  },
  {
   "cell_type": "code",
   "execution_count": 15,
   "metadata": {},
   "outputs": [
    {
     "data": {
      "text/plain": [
       "array([[0.47058824, 0.52941176],\n",
       "       [0.94117647, 0.05882353],\n",
       "       [0.11764706, 0.88235294],\n",
       "       ...,\n",
       "       [0.70588235, 0.29411765],\n",
       "       [0.35294118, 0.64705882],\n",
       "       [0.94117647, 0.05882353]])"
      ]
     },
     "execution_count": 15,
     "metadata": {},
     "output_type": "execute_result"
    }
   ],
   "source": [
    "y_prob "
   ]
  },
  {
   "cell_type": "code",
   "execution_count": 16,
   "metadata": {},
   "outputs": [],
   "source": [
    "# probability of label 1\n",
    "y_prob = y_prob[:,1]"
   ]
  },
  {
   "cell_type": "code",
   "execution_count": 17,
   "metadata": {},
   "outputs": [],
   "source": [
    "from sklearn.metrics import precision_recall_curve"
   ]
  },
  {
   "cell_type": "code",
   "execution_count": 35,
   "metadata": {},
   "outputs": [],
   "source": [
    "precisions, recalls, thresholds = precision_recall_curve(y, y_prob)\n",
    "thresholds = np.r_[thresholds,1]"
   ]
  },
  {
   "cell_type": "code",
   "execution_count": 36,
   "metadata": {},
   "outputs": [
    {
     "data": {
      "text/plain": [
       "Text(0.5, 1.0, 'Precision and Recall Curves')"
      ]
     },
     "execution_count": 36,
     "metadata": {},
     "output_type": "execute_result"
    },
    {
     "data": {
      "image/png": "[encoded data removed]",
      "text/plain": [
       "<Figure size 864x360 with 1 Axes>"
      ]
     },
     "metadata": {
      "needs_background": "light"
     },
     "output_type": "display_data"
    }
   ],
   "source": [
    "plt.figure(figsize=(12,5))\n",
    "plt.plot(thresholds,precisions,'b--',label='Precision')\n",
    "plt.plot(thresholds,recalls,'g-', label='Recall')\n",
    "plt.legend(loc=\"center right\", fontsize=16) \n",
    "plt.xlabel(\"Threshold\", fontsize=16)        \n",
    "plt.grid(True)                             \n",
    "plt.axis([thresholds.min(),thresholds.max(),0,1.1])  \n",
    "plt.title('Precision and Recall Curves',fontsize=20)"
   ]
  },
  {
   "cell_type": "code",
   "execution_count": 48,
   "metadata": {},
   "outputs": [],
   "source": [
    "# making predictions with the new threshold (scikit-learn does not let you set the threshold directly)\n",
    "threshold = 0.2"
   ]
  },
  {
   "cell_type": "code",
   "execution_count": 49,
   "metadata": {},
   "outputs": [],
   "source": [
    "y_pred = np.zeros(y.shape) \n",
    "y_pred[y_prob > threshold]=1"
   ]
  },
  {
   "cell_type": "code",
   "execution_count": 50,
   "metadata": {},
   "outputs": [],
   "source": [
    "from sklearn.metrics import confusion_matrix, recall_score"
   ]
  },
  {
   "cell_type": "code",
   "execution_count": 51,
   "metadata": {},
   "outputs": [
    {
     "data": {
      "text/plain": [
       "0.8955223880597015"
      ]
     },
     "execution_count": 51,
     "metadata": {},
     "output_type": "execute_result"
    }
   ],
   "source": [
    "recall_score(y,y_pred)"
   ]
  },
  {
   "cell_type": "code",
   "execution_count": 52,
   "metadata": {},
   "outputs": [
    {
     "data": {
      "text/plain": [
       "array([[258, 242],\n",
       "       [ 28, 240]], dtype=int64)"
      ]
     },
     "execution_count": 52,
     "metadata": {},
     "output_type": "execute_result"
    }
   ],
   "source": [
    "confusion_matrix(y,y_pred)"
   ]
  },
  {
   "cell_type": "code",
   "execution_count": null,
   "metadata": {},
   "outputs": [],
   "source": []
  }
 ],
 "metadata": {
  "kernelspec": {
   "display_name": "Python 3",
   "language": "python",
   "name": "python3"
  },
  "language_info": {
   "codemirror_mode": {
    "name": "ipython",
    "version": 3
   },
   "file_extension": ".py",
   "mimetype": "text/x-python",
   "name": "python",
   "nbconvert_exporter": "python",
   "pygments_lexer": "ipython3",
   "version": "3.7.6"
  }
 },
 "nbformat": 4,
 "nbformat_minor": 4
}
