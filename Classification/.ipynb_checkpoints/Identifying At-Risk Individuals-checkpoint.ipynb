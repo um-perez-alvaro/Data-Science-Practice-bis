{
 "cells": [
  {
   "cell_type": "code",
   "execution_count": 22,
   "metadata": {},
   "outputs": [],
   "source": [
    "import pandas as pd\n",
    "import matplotlib.pyplot as plt\n",
    "import numpy as np"
   ]
  },
  {
   "cell_type": "markdown",
   "metadata": {},
   "source": [
    "# Diabetes in America"
   ]
  },
  {
   "cell_type": "markdown",
   "metadata": {},
   "source": [
    "Diabetes is an enormous public health problem as it probably affects more than 9% of U.S. adults"
   ]
  },
  {
   "cell_type": "markdown",
   "metadata": {},
   "source": [
    "The goal of this project is to build a machine learning model that estimates the risk of having diabetes based of a few simple variables (income, education, age, bmi, etc)."
   ]
  },
  {
   "cell_type": "markdown",
   "metadata": {},
   "source": [
    "## The BRFSS survey"
   ]
  },
  {
   "cell_type": "markdown",
   "metadata": {},
   "source": [
    "The Behavioral Risk Factor Surveillance System (BRFSS) survey asks the participants a number of questions regarding health and health-related behaviours.\n",
    "Of the many questions asked of the participants, one asks whether the respondent has diabetes."
   ]
  },
  {
   "cell_type": "markdown",
   "metadata": {},
   "source": [
    "Navigate to the [Behavioral Risk Factor Surveillance System data portal](https://www.cdc.gov/brfss/annual_data/annual_Data.htm), and download the 2019 BRFSS Survey [Data](https://www.cdc.gov/brfss/annual_data/2019/files/LLCP2019ASC.zip).\n",
    "Unzip the file LLCP2019.ASC, and place it in your data folder."
   ]
  },
  {
   "cell_type": "markdown",
   "metadata": {},
   "source": [
    "The following cell will display the first row of the data file:"
   ]
  },
  {
   "cell_type": "code",
   "execution_count": 1,
   "metadata": {},
   "outputs": [
    {
     "name": "stdout",
     "output_type": "stream",
     "text": [
      "01              0101182019     11002019000001                 11 121 0120001              2         31588881121112112222 222223  1121207                                    232        12127880301540502 22212213 073888      2                2101025553022012033152      412      213                                                                                                 134 42           22221131111                                                                                                                                                                                                                                                                           1001                                                                                                                                                                                                                                                                                                                                                                                                                                                                                                                                                                                                                                                                                                                                                      11     101101146.9849076                           0.523.4924538     02                                                                                                                                                                                                                 1 0.5617998190.819282                                                 135.30408                                                                                                                                          13192122113112                                                        0202  2222221328060621570698528173211231200010000012      0176600303                            023330                              4233213200000200000700140043005000110002000001141111002121\n",
      "\n"
     ]
    }
   ],
   "source": [
    "path = r'Data\\LLCP2019.ASC'\n",
    "with open(path) as file:\n",
    "    first_line = file.readline()\n",
    "    print(first_line)"
   ]
  },
  {
   "cell_type": "markdown",
   "metadata": {},
   "source": [
    "Each record in the BRFSS file is a string without delimiters to identify variables (i.e., the file format is *fixed-width*).\n",
    "Variables are located at established positions in the string.\n",
    "The [codebook](https://www.cdc.gov/brfss/annual_data/2019/pdf/codebook19_llcp-v2-508.HTML) describes the variables and field positions."
   ]
  },
  {
   "cell_type": "markdown",
   "metadata": {},
   "source": [
    "The following table contains the positions for several variables"
   ]
  },
  {
   "cell_type": "markdown",
   "metadata": {},
   "source": [
    "| Variable | Start | End |\n",
    "| :- | :-: | :-: |\n",
    "| Diabetes | 127 | 127\n",
    "| General Health | 101 | 101\n",
    "| Education Level | 174 | 174\n",
    "| Employment Status | 188 | 188\n",
    "| Income Level | 191 | 192\n",
    "| Weight (in Pounds) | 193 | 196\n",
    "| Height in (ft/inches) | 197 | 200\n",
    "| Frequency of  Smoking | 209 | 209\n",
    "| Alcohol Consumption | 217 | 218\n",
    "| Body Mass Index (BMI) | 1998 | 2001"
   ]
  },
  {
   "cell_type": "markdown",
   "metadata": {},
   "source": [
    "Don't forget that Python uses zero-indexing to reference characters in a string, so you will have to adjust the values in the table accordingly."
   ]
  },
  {
   "cell_type": "markdown",
   "metadata": {},
   "source": [
    "# Step 1: Create a Dataframe"
   ]
  }
 ],
 "metadata": {
  "kernelspec": {
   "display_name": "Python 3",
   "language": "python",
   "name": "python3"
  },
  "language_info": {
   "codemirror_mode": {
    "name": "ipython",
    "version": 3
   },
   "file_extension": ".py",
   "mimetype": "text/x-python",
   "name": "python",
   "nbconvert_exporter": "python",
   "pygments_lexer": "ipython3",
   "version": "3.7.6"
  }
 },
 "nbformat": 4,
 "nbformat_minor": 4
}
