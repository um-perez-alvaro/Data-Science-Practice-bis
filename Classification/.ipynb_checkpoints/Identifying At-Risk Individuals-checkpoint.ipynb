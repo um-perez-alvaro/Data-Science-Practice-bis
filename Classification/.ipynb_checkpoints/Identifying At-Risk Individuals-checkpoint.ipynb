{
 "cells": [
  {
   "cell_type": "code",
   "execution_count": null,
   "metadata": {},
   "outputs": [],
   "source": [
    "import pandas as pd\n",
    "import matplotlib.pyplot as plt\n",
    "import numpy as np"
   ]
  },
  {
   "cell_type": "markdown",
   "metadata": {},
   "source": [
    "# Diabetes in America"
   ]
  },
  {
   "cell_type": "markdown",
   "metadata": {},
   "source": [
    "Diabetes is an enormous public health problem as it probably affects more than 9% of U.S. adults"
   ]
  },
  {
   "cell_type": "markdown",
   "metadata": {},
   "source": [
    "The goal of this project is to build a machine learning model that estimates the risk of having diabetes based of a few simple variables (income, education, age, bmi, etc)."
   ]
  },
  {
   "cell_type": "markdown",
   "metadata": {},
   "source": [
    "## The BRFSS survey"
   ]
  },
  {
   "cell_type": "markdown",
   "metadata": {},
   "source": [
    "The Behavioral Risk Factor Surveillance System (BRFSS) survey asks the participants a number of questions regarding health and health-related behaviours.\n",
    "Of the many questions asked of the participants, one asks whether the respondent has diabetes."
   ]
  },
  {
   "cell_type": "markdown",
   "metadata": {},
   "source": [
    "Navigate to the [Behavioral Risk Factor Surveillance System data portal](https://www.cdc.gov/brfss/annual_data/annual_Data.htm), and download the 2019 BRFSS Survey [Data](https://www.cdc.gov/brfss/annual_data/2019/files/LLCP2019ASC.zip).\n",
    "Unzip the file LLCP2019.ASC, and place it in your data folder."
   ]
  },
  {
   "cell_type": "markdown",
   "metadata": {},
   "source": [
    "The following cell will display the first row of the data file:"
   ]
  },
  {
   "cell_type": "code",
   "execution_count": null,
   "metadata": {},
   "outputs": [],
   "source": [
    "path = r'Data\\LLCP2019.ASC'\n",
    "with open(path) as file:\n",
    "    first_line = file.readline()\n",
    "    print(first_line)"
   ]
  },
  {
   "cell_type": "markdown",
   "metadata": {},
   "source": [
    "Each record in the BRFSS file is a string without delimiters to identify variables (i.e., the file format is *fixed-width*).\n",
    "Variables are located at established positions in the string.\n",
    "The [codebook](https://www.cdc.gov/brfss/annual_data/2019/pdf/codebook19_llcp-v2-508.HTML) describes the variables and field positions."
   ]
  },
  {
   "cell_type": "markdown",
   "metadata": {},
   "source": [
    "The following table contains the positions for several variables"
   ]
  },
  {
   "cell_type": "markdown",
   "metadata": {},
   "source": [
    "| Variable | Start | End |\n",
    "| :- | :-: | :-: |\n",
    "| Diabetes | 127 | 127\n",
    "| General health | 101 | 101\n",
    "| Education level | 174 | 174\n",
    "| Employment status | 188 | 188\n",
    "| Income level | 191 | 192\n",
    "| Weight (in Pounds) | 193 | 196\n",
    "| Height in (ft/inches) | 197 | 200\n",
    "| Smoking Status | 2007 | 2007\n",
    "| Alcohol consumption (drinks per week) | 2014 | 2018\n",
    "| Heavy drinkers | 2019 | 2019\n",
    "| Physical activity | 2101 | 2101\n",
    "| Physical activities to Strengthen your muscles | 240 | 242\n",
    "| Body Mass Index (BMI) | 1998 | 2001\n",
    "| Reported age (in five-year age categories) | 1981 | 1982\n",
    "| Sex | 1980 | 1980\n",
    "| Number of children in household | 2004 | 2004\n",
    "| Race | 1979 | 1979\n",
    "| Metropolitan Status | 1402 | 1402"
   ]
  },
  {
   "cell_type": "markdown",
   "metadata": {},
   "source": [
    "Don't forget that Python uses zero-indexing to reference characters in a string, so you will have to adjust the values in the table accordingly."
   ]
  },
  {
   "cell_type": "markdown",
   "metadata": {},
   "source": [
    "# Step 1: Create a Dataframe"
   ]
  },
  {
   "cell_type": "code",
   "execution_count": null,
   "metadata": {},
   "outputs": [],
   "source": [
    "'diabetes dictionary'\n",
    "diabetes_dict = {}\n",
    "with open(path) as file:\n",
    "    for counter,line in enumerate(file): #(0, line 1), (1, line 2), (2, line 3),....\n",
    "        # education (ordinal)\n",
    "        education = line[173]\n",
    "        if education in ['9',' ']:\n",
    "            education = np.nan\n",
    "        else:\n",
    "            education = int(education)\n",
    "        # income level (ordinal)\n",
    "        income = line[190:192]\n",
    "        if income in ['77','99','  ']:\n",
    "            income = np.nan\n",
    "        else:\n",
    "            income = int(income)\n",
    "        # Reported age (ordinal)\n",
    "        age = line[1980:1982]\n",
    "        if age == '14':\n",
    "            age = np.nan\n",
    "        else:\n",
    "            age = int(age)\n",
    "        # Computed body mass index (numerical)\n",
    "        bmi = line[1997:2001]\n",
    "        if bmi == '    ': # 4 blanck spaces\n",
    "            bmi = np.nan\n",
    "        else:\n",
    "            bmi = float(bmi)/100 #  2 implied decimal places\n",
    "        # diabetes\n",
    "        diabetes = line[126]\n",
    "        if diabetes == '1':\n",
    "            diabetes = 1 # yes\n",
    "        elif diabetes in ['2','3','4']:\n",
    "            diabetes = 0 # no\n",
    "        else:\n",
    "            diabetes = np.nan\n",
    "        diabetes_dict[counter] = {\n",
    "                             'education' : education,\n",
    "                             'employment' : employment,\n",
    "                             'income' : income,\n",
    "                             'age': age,\n",
    "                             'bmi' : bmi,\n",
    "                             'diabetes' : diabetes}"
   ]
  },
  {
   "cell_type": "code",
   "execution_count": null,
   "metadata": {},
   "outputs": [],
   "source": [
    "# put data into a dataframe\n",
    "diabetes = pd.DataFrame.from_dict(diabetes_dict, orient='index')\n",
    "diabetes.head(20)"
   ]
  },
  {
   "cell_type": "code",
   "execution_count": null,
   "metadata": {},
   "outputs": [],
   "source": [
    "# save dataframe\n",
    "diabetes = df.to_csv('Data/diabetes.csv')"
   ]
  },
  {
   "cell_type": "code",
   "execution_count": null,
   "metadata": {},
   "outputs": [],
   "source": [
    "# missing values\n",
    "diabetes.isnull().sum()"
   ]
  },
  {
   "cell_type": "code",
   "execution_count": null,
   "metadata": {},
   "outputs": [],
   "source": [
    "# drop rows which contain missing diabetes values\n",
    "diabetes.dropna(subset=['diabetes'], axis=0, inplace=True)"
   ]
  },
  {
   "cell_type": "markdown",
   "metadata": {},
   "source": [
    "## Step 2: Machine Learning pipeline"
   ]
  },
  {
   "cell_type": "markdown",
   "metadata": {},
   "source": [
    "**goal**: predict whether a person has diabetes"
   ]
  },
  {
   "cell_type": "code",
   "execution_count": null,
   "metadata": {},
   "outputs": [],
   "source": [
    "# pipeline\n",
    "from sklearn.pipeline import Pipeline\n",
    "from sklearn.compose import ColumnTransformer\n",
    "from sklearn.impute import SimpleImputer\n",
    "from sklearn.preprocessing import StandardScaler, MaxAbsScaler, OneHotEncoder\n",
    "from sklearn.preprocessing import PolynomialFeatures\n",
    "\n",
    "# models\n",
    "from sklearn.linear_model import SGDClassifier # classifier for large datasets\n",
    "from sklearn.neighbors import KNeighborsClassifier\n",
    "# evaluation metrics\n",
    "from sklearn.metrics import confusion_matrix,accuracy_score,recall_score,precision_score, precision_score, balanced_accuracy_score, f1_score\n",
    "\n",
    "# cross validation\n",
    "from sklearn.model_selection import cross_val_score, cross_val_predict, train_test_split\n",
    "\n",
    "# grid search \n",
    "from sklearn.model_selection import GridSearchCV\n",
    "\n",
    "#display the pipeline\n",
    "from sklearn import set_config                     \n",
    "set_config(display='diagram')"
   ]
  },
  {
   "cell_type": "code",
   "execution_count": null,
   "metadata": {},
   "outputs": [],
   "source": [
    "# feature matrix target vector \n",
    "y = diabetes.diabetes\n",
    "features = ['education', 'income', 'age', 'bmi']\n",
    "X = diabetes[features]"
   ]
  },
  {
   "cell_type": "code",
   "execution_count": null,
   "metadata": {},
   "outputs": [],
   "source": [
    "# train/test split\n",
    "X_train,X_test,y_train,y_test = train_test_split(X,y)"
   ]
  },
  {
   "cell_type": "code",
   "execution_count": null,
   "metadata": {},
   "outputs": [],
   "source": [
    "# preprocessor for numerical features\n",
    "numeric_features = ['bmi']\n",
    "numeric_processor = Pipeline(steps=[\n",
    "    ('imputer',SimpleImputer(strategy='median')),\n",
    "    ('scaler', StandardScaler())\n",
    "])"
   ]
  },
  {
   "cell_type": "code",
   "execution_count": null,
   "metadata": {},
   "outputs": [],
   "source": [
    "# preprocessor for ordinal features\n",
    "ordinal_features = ['education','income','age']\n",
    "ordinal_processor = Pipeline(steps=[\n",
    "    ('imputer', SimpleImputer(strategy='most_frequent')),\n",
    "    ('scaler', MaxAbsScaler())\n",
    "])"
   ]
  },
  {
   "cell_type": "code",
   "execution_count": null,
   "metadata": {},
   "outputs": [],
   "source": [
    "# preprocessor\n",
    "preprocessor = ColumnTransformer(transformers=[\n",
    "    ('num',numeric_processor,numeric_features),\n",
    "    ('ord',ordinal_processor,ordinal_features)\n",
    "])"
   ]
  },
  {
   "cell_type": "code",
   "execution_count": null,
   "metadata": {},
   "outputs": [],
   "source": [
    "# pipeline = imputer + scaler + ML model\n",
    "pipe = Pipeline(steps= [\n",
    "    ('preprocessor', preprocessor),\n",
    "    ('poly_features', PolynomialFeatures(degree=2)),\n",
    "    ('clf', SGDClassifier(loss='log', alpha=1, n_jobs=-1, class_weight = 'balanced')) # logistic regression\n",
    "])"
   ]
  },
  {
   "cell_type": "markdown",
   "metadata": {},
   "source": [
    "We have an imbalanced dataset (most people in the survey do not have diabetes)"
   ]
  },
  {
   "cell_type": "code",
   "execution_count": null,
   "metadata": {},
   "outputs": [],
   "source": [
    "diabetes.diabetes.value_counts()"
   ]
  },
  {
   "cell_type": "markdown",
   "metadata": {},
   "source": [
    "class_weight = 'balanced' places more emphasis on the minority class"
   ]
  },
  {
   "cell_type": "code",
   "execution_count": null,
   "metadata": {},
   "outputs": [],
   "source": [
    "# train the pipeline\n",
    "pipe.fit(X_train,y_train)"
   ]
  },
  {
   "cell_type": "markdown",
   "metadata": {},
   "source": [
    "## Step 3: assess the accuracy of the model"
   ]
  },
  {
   "cell_type": "code",
   "execution_count": null,
   "metadata": {},
   "outputs": [],
   "source": [
    "# predict\n",
    "y_test_pred = pipe.predict(X_test)"
   ]
  },
  {
   "cell_type": "code",
   "execution_count": null,
   "metadata": {},
   "outputs": [],
   "source": [
    "## accuracy (percentage of correct classifications)\n",
    "accuracy_score(y_test,y_test_pred)"
   ]
  },
  {
   "cell_type": "code",
   "execution_count": null,
   "metadata": {},
   "outputs": [],
   "source": [
    "## recall (if a person has diabets, how often is our prediction correct?)\n",
    "recall_score(y_test,y_test_pred)"
   ]
  },
  {
   "cell_type": "code",
   "execution_count": null,
   "metadata": {},
   "outputs": [],
   "source": [
    "## precision (if we predict that a person has diabetes, how often is the prediction correct?)\n",
    "precision_score(y_test,y_test_pred)"
   ]
  },
  {
   "cell_type": "code",
   "execution_count": null,
   "metadata": {},
   "outputs": [],
   "source": [
    "## confusion matrix\n",
    "confusion_matrix(y_test,y_test_pred)"
   ]
  },
  {
   "cell_type": "markdown",
   "metadata": {},
   "source": [
    "Too many false positives!"
   ]
  },
  {
   "cell_type": "markdown",
   "metadata": {},
   "source": [
    "##  Assignment: Improve the diabetes predictor"
   ]
  },
  {
   "cell_type": "markdown",
   "metadata": {},
   "source": [
    "Ideas:\n",
    "\n",
    "- add more features (employment status, general health, smoking status, alcoholic drinks per week, physical activity, sex, race, etc)\n",
    "- tune in hyperparameter (alpha, degree, etc)\n",
    "- Adjust the classification threshold (see the \"classification threshold\" notebook)"
   ]
  }
 ],
 "metadata": {
  "kernelspec": {
   "display_name": "Python 3",
   "language": "python",
   "name": "python3"
  },
  "language_info": {
   "codemirror_mode": {
    "name": "ipython",
    "version": 3
   },
   "file_extension": ".py",
   "mimetype": "text/x-python",
   "name": "python",
   "nbconvert_exporter": "python",
   "pygments_lexer": "ipython3",
   "version": "3.7.6"
  }
 },
 "nbformat": 4,
 "nbformat_minor": 4
}
